{
 "cells": [
  {
   "cell_type": "code",
   "execution_count": 116,
   "metadata": {},
   "outputs": [],
   "source": [
    "import duckdb\n",
    "import pandas as pd\n",
    "from functools import reduce\n",
    "import numpy as np\n",
    "import os\n",
    "import math\n"
   ]
  },
  {
   "cell_type": "code",
   "execution_count": 104,
   "metadata": {},
   "outputs": [],
   "source": [
    "conn = duckdb.connect('db/db.duckdb', read_only=False)\n"
   ]
  },
  {
   "cell_type": "code",
   "execution_count": 105,
   "metadata": {},
   "outputs": [
    {
     "name": "stdout",
     "output_type": "stream",
     "text": [
      "['end_year_test', 'end_year_train', 'end_year_validation', 'labels_train', 'movielens_ratings_test', 'movielens_ratings_train', 'movielens_ratings_validation', 'num_votes_test', 'num_votes_train', 'num_votes_validation', 'original_title_test', 'original_title_train', 'original_title_validation', 'primary_title_test', 'primary_title_train', 'primary_title_validation', 'runtime_minutes_test', 'runtime_minutes_train', 'runtime_minutes_validation', 'start_year_test', 'start_year_train', 'start_year_validation', 'test_hidden', 'tmbdb_ratings_test', 'tmbdb_ratings_train', 'tmbdb_ratings_validation', 'tmdb_ratings_test', 'tmdb_ratings_train', 'tmdb_ratings_validation', 'train1', 'train2', 'train3', 'train4', 'train5', 'train6', 'train7', 'train8', 'user_ratings_test', 'user_ratings_train', 'user_ratings_validation', 'validation_hidden']\n"
     ]
    }
   ],
   "source": [
    "print(conn.execute('PRAGMA show_tables').fetchdf()['name'].tolist())\n"
   ]
  },
  {
   "cell_type": "code",
   "execution_count": 107,
   "metadata": {},
   "outputs": [
    {
     "name": "stdout",
     "output_type": "stream",
     "text": [
      "         tconst  tmdb_ratings\n",
      "0     tt0010600           7.3\n",
      "1     tt0011841           7.0\n",
      "2     tt0012494           7.5\n",
      "3     tt0015163           7.4\n",
      "4     tt0016220           7.2\n",
      "...         ...           ...\n",
      "7920  tt9625664           5.7\n",
      "7921  tt9741310           5.8\n",
      "7922  tt9742392           5.9\n",
      "7923  tt9850386           8.0\n",
      "7924  tt9911196           8.0\n",
      "\n",
      "[7925 rows x 2 columns]\n",
      "         tconst  tmdb_ratings\n",
      "0     tt0014972           7.5\n",
      "1     tt0015016           6.7\n",
      "2     tt0015174           7.6\n",
      "3     tt0015214           6.8\n",
      "4     tt0015863           7.0\n",
      "...         ...           ...\n",
      "1076  tt9430698           7.9\n",
      "1077  tt9441638           5.3\n",
      "1078  tt9495690           4.8\n",
      "1079  tt9519642           6.8\n",
      "1080  tt9526826           7.6\n",
      "\n",
      "[1081 rows x 2 columns]\n",
      "        tconst  tmdb_ratings\n",
      "0    tt0003740           7.2\n",
      "1    tt0008663           7.1\n",
      "2    tt0010307           7.5\n",
      "3    tt0014429           7.9\n",
      "4    tt0015175           7.7\n",
      "..         ...           ...\n",
      "943  tt9686154           7.3\n",
      "944  tt9690328           7.0\n",
      "945  tt9735790           6.1\n",
      "946  tt9769668           6.9\n",
      "947  tt9812614           6.9\n",
      "\n",
      "[948 rows x 2 columns]\n"
     ]
    }
   ],
   "source": [
    "val = \"tmdb_ratings\"\n",
    "print(conn.execute(f'SELECT * FROM {val}_train').fetchdf())\n",
    "print(conn.execute(f'SELECT * FROM {val}_test').fetchdf())\n",
    "print(conn.execute(f'SELECT * FROM {val}_validation').fetchdf())\n",
    "\n"
   ]
  },
  {
   "cell_type": "code",
   "execution_count": 242,
   "metadata": {},
   "outputs": [],
   "source": [
    "conn.close()"
   ]
  },
  {
   "cell_type": "markdown",
   "metadata": {},
   "source": [
    "## Connect to duckdb and create dataframe"
   ]
  },
  {
   "cell_type": "code",
   "execution_count": 3,
   "metadata": {},
   "outputs": [
    {
     "name": "stdout",
     "output_type": "stream",
     "text": [
      "['end_year_test', 'end_year_train', 'end_year_validation', 'labels_train', 'num_votes_test', 'num_votes_train', 'num_votes_validation', 'original_title_test', 'original_title_train', 'original_title_validation', 'primary_title_test', 'primary_title_train', 'primary_title_validation', 'runtime_minutes_test', 'runtime_minutes_train', 'runtime_minutes_validation', 'start_year_test', 'start_year_train', 'start_year_validation', 'user_ratings_test', 'user_ratings_train', 'user_ratings_validation']\n"
     ]
    }
   ],
   "source": [
    "conn = duckdb.connect('db/db.duckdb', read_only=False)\n",
    "# Create dataframe from all tables in the db\n",
    "print(conn.execute('PRAGMA show_tables').fetchdf()['name'].tolist())\n"
   ]
  },
  {
   "cell_type": "code",
   "execution_count": 222,
   "metadata": {},
   "outputs": [
    {
     "name": "stdout",
     "output_type": "stream",
     "text": [
      "Any NaN values in the df: True\n"
     ]
    }
   ],
   "source": [
    "merged_df = conn.execute('''SELECT end_year_train.tconst, end_year_train.end_year, labels_train.labels, num_votes_train.num_votes, original_title_train.original_title, primary_title_train.primary_title, runtime_minutes_train.runtime_minutes, start_year_train.start_year, user_ratings_train.user_ratings, tmdb_ratings_train.tmdb_ratings  \n",
    "                         FROM end_year_train \n",
    "                         INNER JOIN labels_train ON labels_train.tconst = end_year_train.tconst\n",
    "                         INNER JOIN num_votes_train ON end_year_train.tconst = num_votes_train.tconst\n",
    "                         INNER JOIN original_title_train ON end_year_train.tconst = original_title_train.tconst\n",
    "                         INNER JOIN primary_title_train ON end_year_train.tconst = primary_title_train.tconst\n",
    "                         INNER JOIN runtime_minutes_train ON end_year_train.tconst = runtime_minutes_train.tconst\n",
    "                         INNER JOIN start_year_train ON end_year_train.tconst = start_year_train.tconst\n",
    "                         FULL OUTER JOIN user_ratings_train ON end_year_train.tconst = user_ratings_train.tconst\n",
    "                         FULL OUTER JOIN tmdb_ratings_train ON end_year_train.tconst = tmdb_ratings_train.tconst\n",
    "                         ''').fetchdf()\n",
    "\n",
    "tconst_order = conn.execute('SELECT tconst FROM end_year_train').fetchdf()\n",
    "tconst_order['order'] = range(len(tconst_order))\n",
    "merged_df = merged_df.merge(tconst_order, on='tconst').sort_values(by=['order']).drop('order', axis=1)\n",
    "print(f\"Any NaN values in the df: {merged_df.isnull().values.any()}\")"
   ]
  },
  {
   "cell_type": "code",
   "execution_count": 223,
   "metadata": {},
   "outputs": [
    {
     "name": "stdout",
     "output_type": "stream",
     "text": [
      "         tconst  end_year  labels  num_votes                  original_title  \\\n",
      "934   tt0010600         0    True       1898                       Die Puppe   \n",
      "881   tt0011841         0    True       5376                   Way Down East   \n",
      "0     tt0012494         0    True       5842                    Der mude Tod   \n",
      "1     tt0015163         0    True       9652                   The Navigator   \n",
      "2     tt0016220         0    True      17887        The Phantom of the Opera   \n",
      "...         ...       ...     ...        ...                             ...   \n",
      "7693  tt9625664         0   False      12951                                   \n",
      "7953  tt9741310         0   False       2464                           Slaxx   \n",
      "7694  tt9742392         0   False       1719                         Kindred   \n",
      "7695  tt9850386         0    True       4144                                   \n",
      "7696  tt9911196         0    True       3242  De beentjes van Sint-Hildegard   \n",
      "\n",
      "                                      primary_title  runtime_minutes  \\\n",
      "934                                        The Doll               66   \n",
      "881                                   Way Down East              145   \n",
      "0                                           Destiny               97   \n",
      "1                                     The Navigator               59   \n",
      "2                          The Phantom of the Opera               93   \n",
      "...                                             ...              ...   \n",
      "7693                                  Trauma Center               87   \n",
      "7953                                          Slaxx               77   \n",
      "7694                                        Kindred              101   \n",
      "7695  The Bee Gees: How Can You Mend a Broken Heart              111   \n",
      "7696                            The Marriage Escape              103   \n",
      "\n",
      "      start_year  user_ratings  tmdb_ratings  \n",
      "934         1919           NaN           7.3  \n",
      "881         1920      7.000000           7.0  \n",
      "0           1921      9.000000           7.5  \n",
      "1           1924      8.400000           7.4  \n",
      "2           1925      7.250000           7.2  \n",
      "...          ...           ...           ...  \n",
      "7693        2019      3.375000           5.7  \n",
      "7953        2020           NaN           5.8  \n",
      "7694        2020      6.333333           5.9  \n",
      "7695        2020      8.750000           8.0  \n",
      "7696        2020      8.000000           8.0  \n",
      "\n",
      "[7959 rows x 10 columns]\n"
     ]
    }
   ],
   "source": [
    "print(merged_df)"
   ]
  },
  {
   "cell_type": "markdown",
   "metadata": {},
   "source": [
    "Add value to indicate wether the title has been changed"
   ]
  },
  {
   "cell_type": "code",
   "execution_count": 224,
   "metadata": {},
   "outputs": [],
   "source": [
    "renamed = []\n",
    "for i in range(len(merged_df)):\n",
    "    curr_original = merged_df.iloc[i]['original_title']\n",
    "    curr_primary = merged_df.iloc[i]['primary_title']\n",
    "    if curr_original != \"\" and curr_primary != curr_original:\n",
    "        renamed.append(1)\n",
    "    else:\n",
    "        renamed.append(0)\n",
    "    \n",
    "merged_df['renamed'] = renamed"
   ]
  },
  {
   "cell_type": "code",
   "execution_count": 225,
   "metadata": {},
   "outputs": [
    {
     "name": "stdout",
     "output_type": "stream",
     "text": [
      "2419\n",
      "34\n"
     ]
    }
   ],
   "source": [
    "print(merged_df['user_ratings'].isna().sum())\n",
    "print(merged_df['tmdb_ratings'].isna().sum())"
   ]
  },
  {
   "cell_type": "code",
   "execution_count": 220,
   "metadata": {},
   "outputs": [
    {
     "name": "stdout",
     "output_type": "stream",
     "text": [
      "nan\n",
      "nan\n",
      "nan\n",
      "nan\n",
      "7.5\n",
      "nan\n",
      "6.0\n",
      "nan\n",
      "nan\n",
      "nan\n",
      "nan\n",
      "8.428572\n",
      "nan\n",
      "nan\n",
      "nan\n",
      "nan\n",
      "7.0\n",
      "nan\n",
      "8.0\n",
      "nan\n",
      "nan\n",
      "nan\n",
      "nan\n",
      "nan\n",
      "nan\n",
      "7.8\n",
      "7.571429\n",
      "nan\n",
      "nan\n",
      "nan\n",
      "nan\n",
      "5.7\n",
      "nan\n",
      "nan\n",
      "8.2\n",
      "nan\n",
      "nan\n",
      "nan\n",
      "nan\n",
      "7.5\n",
      "5.133333\n",
      "9.166667\n",
      "7.5\n",
      "7.0\n",
      "nan\n",
      "nan\n",
      "46\n"
     ]
    }
   ],
   "source": [
    "count = 0\n",
    "for i in range(len(merged_df)):\n",
    "    curr = merged_df.iloc[i]\n",
    "    if math.isnan(curr['tmdb_ratings']):\n",
    "#         merged_df.iloc[i]['user_ratings'] = curr['tmdb_ratings']\n",
    "        print(curr['user_ratings'])\n",
    "        merged_df.at[i,'tmdb_ratings'] = curr['user_ratings']\n",
    "        count += 1\n",
    "print(count)\n",
    "# merged_df = merged_df.drop('tmdb_ratings', 1)"
   ]
  },
  {
   "cell_type": "code",
   "execution_count": 221,
   "metadata": {},
   "outputs": [
    {
     "name": "stdout",
     "output_type": "stream",
     "text": [
      "2419\n",
      "66\n"
     ]
    }
   ],
   "source": [
    "print(merged_df['user_ratings'].isna().sum())\n",
    "print(merged_df['tmdb_ratings'].isna().sum())\n"
   ]
  },
  {
   "cell_type": "code",
   "execution_count": 200,
   "metadata": {},
   "outputs": [
    {
     "name": "stdout",
     "output_type": "stream",
     "text": [
      "         tconst  end_year  labels  num_votes                  original_title  \\\n",
      "934   tt0010600         0    True       1898                       Die Puppe   \n",
      "881   tt0011841         0    True       5376                   Way Down East   \n",
      "0     tt0012494         0    True       5842                    Der mude Tod   \n",
      "1     tt0015163         0    True       9652                   The Navigator   \n",
      "2     tt0016220         0    True      17887        The Phantom of the Opera   \n",
      "...         ...       ...     ...        ...                             ...   \n",
      "7693  tt9625664         0   False      12951                                   \n",
      "7953  tt9741310         0   False       2464                           Slaxx   \n",
      "7694  tt9742392         0   False       1719                         Kindred   \n",
      "7695  tt9850386         0    True       4144                                   \n",
      "7696  tt9911196         0    True       3242  De beentjes van Sint-Hildegard   \n",
      "\n",
      "                                      primary_title  runtime_minutes  \\\n",
      "934                                        The Doll               66   \n",
      "881                                   Way Down East              145   \n",
      "0                                           Destiny               97   \n",
      "1                                     The Navigator               59   \n",
      "2                          The Phantom of the Opera               93   \n",
      "...                                             ...              ...   \n",
      "7693                                  Trauma Center               87   \n",
      "7953                                          Slaxx               77   \n",
      "7694                                        Kindred              101   \n",
      "7695  The Bee Gees: How Can You Mend a Broken Heart              111   \n",
      "7696                            The Marriage Escape              103   \n",
      "\n",
      "      start_year  user_ratings  renamed  \n",
      "934         1919           7.3        1  \n",
      "881         1920           7.0        0  \n",
      "0           1921           7.5        1  \n",
      "1           1924           7.4        0  \n",
      "2           1925           7.2        0  \n",
      "...          ...           ...      ...  \n",
      "7693        2019           5.7        0  \n",
      "7953        2020           5.8        0  \n",
      "7694        2020           5.9        0  \n",
      "7695        2020           8.0        0  \n",
      "7696        2020           8.0        1  \n",
      "\n",
      "[7959 rows x 10 columns]\n"
     ]
    },
    {
     "name": "stderr",
     "output_type": "stream",
     "text": [
      "C:\\Users\\casbe\\AppData\\Local\\Temp/ipykernel_16680/143158534.py:2: FutureWarning: In a future version of pandas all arguments of DataFrame.drop except for the argument 'labels' will be keyword-only\n",
      "  merged_df = merged_df.drop('tmdb_ratings', 1)\n"
     ]
    }
   ],
   "source": [
    "merged_df['user_ratings'] = merged_df['tmdb_ratings']\n",
    "merged_df = merged_df.drop('tmdb_ratings', 1)\n",
    "print(merged_df)"
   ]
  },
  {
   "cell_type": "markdown",
   "metadata": {},
   "source": [
    "## Transform dataframe to ML suited data"
   ]
  },
  {
   "cell_type": "markdown",
   "metadata": {},
   "source": [
    "Transform dataframe to array"
   ]
  },
  {
   "cell_type": "code",
   "execution_count": 201,
   "metadata": {},
   "outputs": [
    {
     "name": "stdout",
     "output_type": "stream",
     "text": [
      "tconst              object\n",
      "end_year             int32\n",
      "labels                bool\n",
      "num_votes            int32\n",
      "original_title      object\n",
      "primary_title       object\n",
      "runtime_minutes      int32\n",
      "start_year           int32\n",
      "user_ratings       float32\n",
      "renamed              int64\n",
      "dtype: object\n"
     ]
    },
    {
     "name": "stderr",
     "output_type": "stream",
     "text": [
      "C:\\Users\\casbe\\AppData\\Local\\Temp/ipykernel_16680/798717796.py:2: FutureWarning: In a future version of pandas all arguments of DataFrame.drop except for the argument 'labels' will be keyword-only\n",
      "  merged_df = merged_df.drop('original_title', 1)\n",
      "C:\\Users\\casbe\\AppData\\Local\\Temp/ipykernel_16680/798717796.py:3: FutureWarning: In a future version of pandas all arguments of DataFrame.drop except for the argument 'labels' will be keyword-only\n",
      "  merged_df = merged_df.drop('primary_title', 1)\n",
      "C:\\Users\\casbe\\AppData\\Local\\Temp/ipykernel_16680/798717796.py:4: FutureWarning: In a future version of pandas all arguments of DataFrame.drop except for the argument 'labels' will be keyword-only\n",
      "  merged_df = merged_df.drop('tconst', 1)\n"
     ]
    }
   ],
   "source": [
    "print(merged_df.dtypes)\n",
    "merged_df = merged_df.drop('original_title', 1)\n",
    "merged_df = merged_df.drop('primary_title', 1)\n",
    "merged_df = merged_df.drop('tconst', 1)"
   ]
  },
  {
   "cell_type": "code",
   "execution_count": 202,
   "metadata": {},
   "outputs": [
    {
     "name": "stdout",
     "output_type": "stream",
     "text": [
      "      end_year  labels  num_votes  runtime_minutes  start_year  user_ratings  \\\n",
      "934          0    True       1898               66        1919           7.3   \n",
      "881          0    True       5376              145        1920           7.0   \n",
      "0            0    True       5842               97        1921           7.5   \n",
      "1            0    True       9652               59        1924           7.4   \n",
      "2            0    True      17887               93        1925           7.2   \n",
      "...        ...     ...        ...              ...         ...           ...   \n",
      "7693         0   False      12951               87        2019           5.7   \n",
      "7953         0   False       2464               77        2020           5.8   \n",
      "7694         0   False       1719              101        2020           5.9   \n",
      "7695         0    True       4144              111        2020           8.0   \n",
      "7696         0    True       3242              103        2020           8.0   \n",
      "\n",
      "      renamed  \n",
      "934         1  \n",
      "881         0  \n",
      "0           1  \n",
      "1           0  \n",
      "2           0  \n",
      "...       ...  \n",
      "7693        0  \n",
      "7953        0  \n",
      "7694        0  \n",
      "7695        0  \n",
      "7696        1  \n",
      "\n",
      "[7959 rows x 7 columns]\n"
     ]
    }
   ],
   "source": [
    "print(merged_df)"
   ]
  },
  {
   "cell_type": "code",
   "execution_count": 203,
   "metadata": {},
   "outputs": [
    {
     "name": "stderr",
     "output_type": "stream",
     "text": [
      "C:\\Users\\casbe\\AppData\\Local\\Temp/ipykernel_16680/1788728139.py:1: FutureWarning: In a future version of pandas all arguments of DataFrame.drop except for the argument 'labels' will be keyword-only\n",
      "  merged_df_without_ratings = merged_df.drop('user_ratings', 1)\n"
     ]
    }
   ],
   "source": [
    "merged_df_without_ratings = merged_df.drop('user_ratings', 1)\n",
    "merged_df_with_ratings = merged_df.dropna()"
   ]
  },
  {
   "cell_type": "code",
   "execution_count": 204,
   "metadata": {},
   "outputs": [
    {
     "name": "stderr",
     "output_type": "stream",
     "text": [
      "C:\\Users\\casbe\\AppData\\Local\\Temp/ipykernel_16680/908182688.py:3: FutureWarning: In a future version of pandas all arguments of DataFrame.drop except for the argument 'labels' will be keyword-only\n",
      "  merged_df_without_ratings = merged_df_without_ratings.drop('labels', 1)\n"
     ]
    }
   ],
   "source": [
    "labels_without_ratings = merged_df_without_ratings['labels']\n",
    "labels_without_ratings = np.array(labels_without_ratings.astype('int').tolist())\n",
    "merged_df_without_ratings = merged_df_without_ratings.drop('labels', 1)"
   ]
  },
  {
   "cell_type": "code",
   "execution_count": 205,
   "metadata": {},
   "outputs": [
    {
     "name": "stderr",
     "output_type": "stream",
     "text": [
      "C:\\Users\\casbe\\AppData\\Local\\Temp/ipykernel_16680/2110107514.py:3: FutureWarning: In a future version of pandas all arguments of DataFrame.drop except for the argument 'labels' will be keyword-only\n",
      "  merged_df_with_ratings = merged_df_with_ratings.drop('labels', 1)\n"
     ]
    }
   ],
   "source": [
    "labels_with_ratings = merged_df_with_ratings['labels']\n",
    "labels_with_ratings = np.array(labels_with_ratings.astype('int').tolist())\n",
    "merged_df_with_ratings = merged_df_with_ratings.drop('labels', 1)"
   ]
  },
  {
   "cell_type": "code",
   "execution_count": 206,
   "metadata": {},
   "outputs": [
    {
     "name": "stdout",
     "output_type": "stream",
     "text": [
      "7959\n",
      "7959\n",
      "7925\n",
      "7925\n"
     ]
    }
   ],
   "source": [
    "print(len(merged_df_without_ratings))\n",
    "print(len(labels_without_ratings))\n",
    "print(len(merged_df_with_ratings))\n",
    "print(len(labels_with_ratings))"
   ]
  },
  {
   "cell_type": "code",
   "execution_count": 207,
   "metadata": {},
   "outputs": [],
   "source": [
    "full_array_without_ratings = merged_df_without_ratings.to_numpy()\n",
    "full_array_with_ratings = merged_df_with_ratings.to_numpy()"
   ]
  },
  {
   "cell_type": "code",
   "execution_count": 208,
   "metadata": {},
   "outputs": [
    {
     "name": "stdout",
     "output_type": "stream",
     "text": [
      "7959\n",
      "7925\n"
     ]
    }
   ],
   "source": [
    "print(len(full_array_without_ratings))\n",
    "print(len(full_array_with_ratings))\n"
   ]
  },
  {
   "cell_type": "markdown",
   "metadata": {},
   "source": [
    "Train / test split"
   ]
  },
  {
   "cell_type": "code",
   "execution_count": 209,
   "metadata": {},
   "outputs": [
    {
     "name": "stdout",
     "output_type": "stream",
     "text": [
      "(6367, 5)\n",
      "(6367,)\n",
      "(1592, 5)\n",
      "(1592,)\n"
     ]
    }
   ],
   "source": [
    "from sklearn.preprocessing import StandardScaler\n",
    "standardizer = StandardScaler()\n",
    "full_array_without_ratings = standardizer.fit_transform(full_array_without_ratings)\n",
    "\n",
    "split = int(len(full_array_without_ratings) * 0.8)\n",
    "\n",
    "X_train_without_ratings = full_array_without_ratings[:split]\n",
    "y_train_without_ratings = labels_without_ratings[:split]\n",
    "\n",
    "X_test_without_ratings = full_array_without_ratings[split:]\n",
    "y_test_without_ratings = labels_without_ratings[split:]\n",
    "\n",
    "print(X_train_without_ratings.shape)\n",
    "print(y_train_without_ratings.shape)\n",
    "print(X_test_without_ratings.shape)\n",
    "print(y_test_without_ratings.shape)\n",
    "\n"
   ]
  },
  {
   "cell_type": "code",
   "execution_count": 210,
   "metadata": {},
   "outputs": [
    {
     "name": "stdout",
     "output_type": "stream",
     "text": [
      "(6340, 6)\n",
      "(6340,)\n",
      "(1585, 6)\n",
      "(1585,)\n"
     ]
    }
   ],
   "source": [
    "full_array_with_ratings = standardizer.fit_transform(full_array_with_ratings)\n",
    "\n",
    "split = int(len(full_array_with_ratings) * 0.8)\n",
    "\n",
    "X_train_with_ratings = full_array_with_ratings[:split]\n",
    "y_train_with_ratings = labels_with_ratings[:split]\n",
    "\n",
    "X_test_with_ratings = full_array_with_ratings[split:]\n",
    "y_test_with_ratings = labels_with_ratings[split:]\n",
    "\n",
    "print(X_train_with_ratings.shape)\n",
    "print(y_train_with_ratings.shape)\n",
    "print(X_test_with_ratings.shape)\n",
    "print(y_test_with_ratings.shape)"
   ]
  },
  {
   "cell_type": "code",
   "execution_count": 211,
   "metadata": {},
   "outputs": [
    {
     "name": "stdout",
     "output_type": "stream",
     "text": [
      "[[-0.33132149 -0.22709497 -1.54257308  0.19892365  0.86680574  2.60477874]\n",
      " [-0.33132149 -0.19524328  1.53868015  0.20059905  0.63952151 -0.38390977]\n",
      " [-0.33132149 -0.19097564 -0.33347372  0.20227445  1.01832833  2.60477874]\n",
      " ...\n",
      " [-0.33132149 -0.23398182 -1.19154424  0.33295556  0.48799892 -0.38390977]\n",
      " [-0.33132149  0.32807492  0.01755513  0.33965715 -0.04233084 -0.38390977]\n",
      " [ 3.0199649  -0.24447694 -0.13845769 -3.01616677  0.7152828   2.60477874]]\n"
     ]
    }
   ],
   "source": [
    "print(X_train_with_ratings)"
   ]
  },
  {
   "cell_type": "markdown",
   "metadata": {},
   "source": [
    "## Machine Learning"
   ]
  },
  {
   "cell_type": "markdown",
   "metadata": {
    "heading_collapsed": true
   },
   "source": [
    "### Logistic Regression"
   ]
  },
  {
   "cell_type": "code",
   "execution_count": 212,
   "metadata": {
    "hidden": true
   },
   "outputs": [
    {
     "ename": "NameError",
     "evalue": "name 'X_train' is not defined",
     "output_type": "error",
     "traceback": [
      "\u001b[1;31m---------------------------------------------------------------------------\u001b[0m",
      "\u001b[1;31mNameError\u001b[0m                                 Traceback (most recent call last)",
      "Input \u001b[1;32mIn [212]\u001b[0m, in \u001b[0;36m<module>\u001b[1;34m\u001b[0m\n\u001b[0;32m      1\u001b[0m \u001b[38;5;28;01mfrom\u001b[39;00m \u001b[38;5;21;01msklearn\u001b[39;00m\u001b[38;5;21;01m.\u001b[39;00m\u001b[38;5;21;01mlinear_model\u001b[39;00m \u001b[38;5;28;01mimport\u001b[39;00m LogisticRegression\n\u001b[0;32m      2\u001b[0m model \u001b[38;5;241m=\u001b[39m LogisticRegression()\n\u001b[1;32m----> 3\u001b[0m model\u001b[38;5;241m.\u001b[39mfit(\u001b[43mX_train\u001b[49m, y_train)\n\u001b[0;32m      5\u001b[0m predictions \u001b[38;5;241m=\u001b[39m model\u001b[38;5;241m.\u001b[39mpredict(X_test)\n",
      "\u001b[1;31mNameError\u001b[0m: name 'X_train' is not defined"
     ]
    }
   ],
   "source": [
    "from sklearn.linear_model import LogisticRegression\n",
    "model = LogisticRegression()\n",
    "model.fit(X_train, y_train)\n",
    "\n",
    "predictions = model.predict(X_test)"
   ]
  },
  {
   "cell_type": "code",
   "execution_count": 12,
   "metadata": {
    "hidden": true
   },
   "outputs": [
    {
     "name": "stdout",
     "output_type": "stream",
     "text": [
      "True Positive(TP)  =  483\n",
      "False Positive(FP) =  82\n",
      "True Negative(TN)  =  492\n",
      "False Negative(FN) =  53\n",
      "Accuracy of the binary classification = 0.878\n"
     ]
    }
   ],
   "source": [
    "from sklearn.metrics import confusion_matrix\n",
    "\n",
    "cm = confusion_matrix(y_test, predictions)\n",
    "\n",
    "TN, FP, FN, TP = confusion_matrix(y_test, predictions).ravel()\n",
    "\n",
    "print('True Positive(TP)  = ', TP)\n",
    "print('False Positive(FP) = ', FP)\n",
    "print('True Negative(TN)  = ', TN)\n",
    "print('False Negative(FN) = ', FN)\n",
    "\n",
    "accuracy =  (TP+TN) /(TP+FP+TN+FN)\n",
    "\n",
    "print('Accuracy of the binary classification = {:0.3f}'.format(accuracy))"
   ]
  },
  {
   "cell_type": "code",
   "execution_count": null,
   "metadata": {
    "hidden": true
   },
   "outputs": [],
   "source": []
  },
  {
   "cell_type": "markdown",
   "metadata": {
    "heading_collapsed": true
   },
   "source": [
    "### Keras"
   ]
  },
  {
   "cell_type": "code",
   "execution_count": 36,
   "metadata": {
    "hidden": true
   },
   "outputs": [],
   "source": [
    "import keras\n",
    "from keras.models import Sequential   # importing Sequential model\n",
    "from keras.layers import Dense        # importing Dense layers\n",
    "import keras.optimizers\n",
    "import tensorflow as tf"
   ]
  },
  {
   "cell_type": "code",
   "execution_count": 40,
   "metadata": {
    "hidden": true
   },
   "outputs": [],
   "source": [
    "basic_model = Sequential()\n",
    "# Adding layers to the model\n",
    "# First layers: 16 neurons/perceptrons that takes the input and uses 'sigmoid' activation function.\n",
    "basic_model.add(Dense(units = 16 , activation = 'sigmoid', input_shape = (6,))) \n",
    "# Second layer: 1 neuron/perceptron that takes the input from the 1st layers and gives output as 0 or 1.Activation used is 'Hard Sigmoid'\n",
    "basic_model.add(Dense(1, activation = 'hard_sigmoid'))\n",
    "\n",
    "\n"
   ]
  },
  {
   "cell_type": "code",
   "execution_count": 41,
   "metadata": {
    "hidden": true
   },
   "outputs": [],
   "source": [
    "sgd = tf.keras.optimizers.SGD(learning_rate=0.5, momentum=0.9, nesterov=True)\n",
    "basic_model.compile(loss = 'binary_crossentropy', optimizer = 'sgd', metrics = ['accuracy'])"
   ]
  },
  {
   "cell_type": "code",
   "execution_count": 42,
   "metadata": {
    "hidden": true
   },
   "outputs": [
    {
     "name": "stdout",
     "output_type": "stream",
     "text": [
      "Epoch 1/50\n",
      "139/139 [==============================] - 0s 856us/step - loss: 0.6814 - accuracy: 0.4497\n",
      "Epoch 2/50\n",
      "139/139 [==============================] - 0s 679us/step - loss: 0.6559 - accuracy: 0.4876\n",
      "Epoch 3/50\n",
      "139/139 [==============================] - 0s 664us/step - loss: 0.6310 - accuracy: 0.5851\n",
      "Epoch 4/50\n",
      "139/139 [==============================] - 0s 643us/step - loss: 0.6114 - accuracy: 0.7014\n",
      "Epoch 5/50\n",
      "139/139 [==============================] - 0s 653us/step - loss: 0.5963 - accuracy: 0.7614\n",
      "Epoch 6/50\n",
      "139/139 [==============================] - 0s 713us/step - loss: 0.5868 - accuracy: 0.7941\n",
      "Epoch 7/50\n",
      "139/139 [==============================] - 0s 767us/step - loss: 0.5803 - accuracy: 0.8167\n",
      "Epoch 8/50\n",
      "139/139 [==============================] - 0s 820us/step - loss: 0.5754 - accuracy: 0.8266\n",
      "Epoch 9/50\n",
      "139/139 [==============================] - 0s 677us/step - loss: 0.5715 - accuracy: 0.8372\n",
      "Epoch 10/50\n",
      "139/139 [==============================] - 0s 642us/step - loss: 0.5684 - accuracy: 0.8429\n",
      "Epoch 11/50\n",
      "139/139 [==============================] - 0s 665us/step - loss: 0.5659 - accuracy: 0.8470\n",
      "Epoch 12/50\n",
      "139/139 [==============================] - 0s 679us/step - loss: 0.5640 - accuracy: 0.8510\n",
      "Epoch 13/50\n",
      "139/139 [==============================] - 0s 711us/step - loss: 0.5623 - accuracy: 0.8517\n",
      "Epoch 14/50\n",
      "139/139 [==============================] - 0s 673us/step - loss: 0.5609 - accuracy: 0.8551\n",
      "Epoch 15/50\n",
      "139/139 [==============================] - 0s 700us/step - loss: 0.5597 - accuracy: 0.8571\n",
      "Epoch 16/50\n",
      "139/139 [==============================] - 0s 754us/step - loss: 0.5586 - accuracy: 0.8596\n",
      "Epoch 17/50\n",
      "139/139 [==============================] - 0s 757us/step - loss: 0.5576 - accuracy: 0.8619\n",
      "Epoch 18/50\n",
      "139/139 [==============================] - 0s 698us/step - loss: 0.5567 - accuracy: 0.8632\n",
      "Epoch 19/50\n",
      "139/139 [==============================] - 0s 659us/step - loss: 0.5559 - accuracy: 0.8652\n",
      "Epoch 20/50\n",
      "139/139 [==============================] - 0s 642us/step - loss: 0.5552 - accuracy: 0.8682\n",
      "Epoch 21/50\n",
      "139/139 [==============================] - 0s 659us/step - loss: 0.5546 - accuracy: 0.8693\n",
      "Epoch 22/50\n",
      "139/139 [==============================] - 0s 641us/step - loss: 0.5541 - accuracy: 0.8686\n",
      "Epoch 23/50\n",
      "139/139 [==============================] - 0s 654us/step - loss: 0.5535 - accuracy: 0.8688\n",
      "Epoch 24/50\n",
      "139/139 [==============================] - 0s 661us/step - loss: 0.5530 - accuracy: 0.8695\n",
      "Epoch 25/50\n",
      "139/139 [==============================] - 0s 679us/step - loss: 0.5527 - accuracy: 0.8704\n",
      "Epoch 26/50\n",
      "139/139 [==============================] - 0s 747us/step - loss: 0.5524 - accuracy: 0.8704\n",
      "Epoch 27/50\n",
      "139/139 [==============================] - 0s 757us/step - loss: 0.5521 - accuracy: 0.8702\n",
      "Epoch 28/50\n",
      "139/139 [==============================] - 0s 707us/step - loss: 0.5518 - accuracy: 0.8707\n",
      "Epoch 29/50\n",
      "139/139 [==============================] - 0s 668us/step - loss: 0.5516 - accuracy: 0.8707\n",
      "Epoch 30/50\n",
      "139/139 [==============================] - 0s 650us/step - loss: 0.5515 - accuracy: 0.8700\n",
      "Epoch 31/50\n",
      "139/139 [==============================] - 0s 648us/step - loss: 0.5513 - accuracy: 0.8704\n",
      "Epoch 32/50\n",
      "139/139 [==============================] - 0s 658us/step - loss: 0.5513 - accuracy: 0.8698\n",
      "Epoch 33/50\n",
      "139/139 [==============================] - 0s 655us/step - loss: 0.5512 - accuracy: 0.8698\n",
      "Epoch 34/50\n",
      "139/139 [==============================] - 0s 685us/step - loss: 0.5511 - accuracy: 0.8700\n",
      "Epoch 35/50\n",
      "139/139 [==============================] - 0s 749us/step - loss: 0.5511 - accuracy: 0.8700\n",
      "Epoch 36/50\n",
      "139/139 [==============================] - 0s 753us/step - loss: 0.5511 - accuracy: 0.8702\n",
      "Epoch 37/50\n",
      "139/139 [==============================] - 0s 728us/step - loss: 0.5511 - accuracy: 0.8700\n",
      "Epoch 38/50\n",
      "139/139 [==============================] - 0s 656us/step - loss: 0.5510 - accuracy: 0.8700\n",
      "Epoch 39/50\n",
      "139/139 [==============================] - 0s 684us/step - loss: 0.5510 - accuracy: 0.8698\n",
      "Epoch 40/50\n",
      "139/139 [==============================] - 0s 649us/step - loss: 0.5510 - accuracy: 0.8700\n",
      "Epoch 41/50\n",
      "139/139 [==============================] - 0s 655us/step - loss: 0.5510 - accuracy: 0.8698\n",
      "Epoch 42/50\n",
      "139/139 [==============================] - 0s 725us/step - loss: 0.5510 - accuracy: 0.8700\n",
      "Epoch 43/50\n",
      "139/139 [==============================] - 0s 764us/step - loss: 0.5510 - accuracy: 0.8700\n",
      "Epoch 44/50\n",
      "139/139 [==============================] - 0s 739us/step - loss: 0.5510 - accuracy: 0.8700\n",
      "Epoch 45/50\n",
      "139/139 [==============================] - 0s 708us/step - loss: 0.5510 - accuracy: 0.8700\n",
      "Epoch 46/50\n",
      "139/139 [==============================] - 0s 725us/step - loss: 0.5510 - accuracy: 0.8700\n",
      "Epoch 47/50\n",
      "139/139 [==============================] - 0s 660us/step - loss: 0.5510 - accuracy: 0.8698\n",
      "Epoch 48/50\n",
      "139/139 [==============================] - 0s 674us/step - loss: 0.5510 - accuracy: 0.8698\n",
      "Epoch 49/50\n",
      "139/139 [==============================] - 0s 717us/step - loss: 0.5510 - accuracy: 0.8698\n",
      "Epoch 50/50\n",
      "139/139 [==============================] - 0s 664us/step - loss: 0.5510 - accuracy: 0.8698\n"
     ]
    },
    {
     "data": {
      "text/plain": [
       "<keras.callbacks.History at 0x7ffb234e7580>"
      ]
     },
     "execution_count": 42,
     "metadata": {},
     "output_type": "execute_result"
    }
   ],
   "source": [
    "basic_model.compile(optimizer='adam',\n",
    "              loss=tf.keras.losses.BinaryCrossentropy(from_logits=True),\n",
    "              metrics=['accuracy'])\n",
    "basic_model.fit(X_train, y_train, epochs=50)"
   ]
  },
  {
   "cell_type": "code",
   "execution_count": 117,
   "metadata": {
    "hidden": true
   },
   "outputs": [
    {
     "name": "stdout",
     "output_type": "stream",
     "text": [
      "52/52 [==============================] - 0s 521us/step - loss: 0.6618 - accuracy: 0.6757\n",
      "Loss =  0.6617915630340576\n",
      "Accuracy =  0.6757082343101501\n"
     ]
    }
   ],
   "source": [
    "# Test, Loss and accuracy\n",
    "loss_and_metrics = basic_model.evaluate(X_test, y_test)\n",
    "print('Loss = ',loss_and_metrics[0])\n",
    "print('Accuracy = ',loss_and_metrics[1])"
   ]
  },
  {
   "cell_type": "code",
   "execution_count": null,
   "metadata": {
    "hidden": true
   },
   "outputs": [],
   "source": []
  },
  {
   "cell_type": "markdown",
   "metadata": {
    "heading_collapsed": true
   },
   "source": [
    "### Keras 2 without ratings"
   ]
  },
  {
   "cell_type": "code",
   "execution_count": 179,
   "metadata": {
    "hidden": true
   },
   "outputs": [],
   "source": [
    "import keras\n",
    "from keras.models import Sequential   # importing Sequential model\n",
    "from keras.layers import Dense        # importing Dense layers\n",
    "import keras.optimizers\n",
    "import tensorflow as tf"
   ]
  },
  {
   "cell_type": "code",
   "execution_count": 180,
   "metadata": {
    "hidden": true
   },
   "outputs": [
    {
     "name": "stdout",
     "output_type": "stream",
     "text": [
      "[[-0.33100304 -0.22659344 -1.53571186  0.19837533  2.61118194]\n",
      " [-0.33100304 -0.19467699  1.53458386  0.20005195 -0.38296834]\n",
      " [-0.33100304 -0.19040066 -0.33091227  0.20172858  2.61118194]\n",
      " ...\n",
      " [-0.33100304 -0.2334943  -1.18593133  0.33250532 -0.38296834]\n",
      " [-0.33100304  0.32970536  0.01886825  0.33921182 -0.38296834]\n",
      " [ 3.0227923  -0.24401076 -0.13658976 -3.01906779  2.61118194]]\n"
     ]
    }
   ],
   "source": [
    "print(X_train_without_ratings)"
   ]
  },
  {
   "cell_type": "code",
   "execution_count": 181,
   "metadata": {
    "hidden": true
   },
   "outputs": [],
   "source": [
    "keras2model_without_ratings = keras.Sequential([\n",
    "    keras.layers.Flatten(input_shape=(5,)),\n",
    "    keras.layers.Dense(16, activation=tf.nn.relu),\n",
    "    keras.layers.Dense(32, activation=tf.nn.relu),\n",
    "    keras.layers.Dense(16, activation=tf.nn.relu),\n",
    "    keras.layers.Dense(1, activation=tf.nn.sigmoid),\n",
    "])"
   ]
  },
  {
   "cell_type": "code",
   "execution_count": 182,
   "metadata": {
    "hidden": true
   },
   "outputs": [
    {
     "name": "stdout",
     "output_type": "stream",
     "text": [
      "Epoch 1/10\n",
      "6367/6367 [==============================] - 4s 591us/step - loss: 0.6067 - accuracy: 0.6776\n",
      "Epoch 2/10\n",
      "6367/6367 [==============================] - 4s 583us/step - loss: 0.5903 - accuracy: 0.6907\n",
      "Epoch 3/10\n",
      "6367/6367 [==============================] - 4s 571us/step - loss: 0.5791 - accuracy: 0.6999\n",
      "Epoch 4/10\n",
      "6367/6367 [==============================] - 4s 565us/step - loss: 0.5678 - accuracy: 0.7173\n",
      "Epoch 5/10\n",
      "6367/6367 [==============================] - 4s 568us/step - loss: 0.5578 - accuracy: 0.7209\n",
      "Epoch 6/10\n",
      "6367/6367 [==============================] - 4s 570us/step - loss: 0.5574 - accuracy: 0.7245\n",
      "Epoch 7/10\n",
      "6367/6367 [==============================] - 4s 571us/step - loss: 0.5522 - accuracy: 0.7244\n",
      "Epoch 8/10\n",
      "6367/6367 [==============================] - 4s 584us/step - loss: 0.5492 - accuracy: 0.7294\n",
      "Epoch 9/10\n",
      "6367/6367 [==============================] - 4s 584us/step - loss: 0.5498 - accuracy: 0.7277\n",
      "Epoch 10/10\n",
      "6367/6367 [==============================] - 4s 577us/step - loss: 0.5473 - accuracy: 0.7237\n"
     ]
    },
    {
     "data": {
      "text/plain": [
       "<keras.callbacks.History at 0x206f79d5450>"
      ]
     },
     "execution_count": 182,
     "metadata": {},
     "output_type": "execute_result"
    }
   ],
   "source": [
    "keras2model_without_ratings.compile(optimizer='adam',\n",
    "              loss='binary_crossentropy',\n",
    "              metrics=['accuracy'])\n",
    "\n",
    "keras2model_without_ratings.fit(X_train_without_ratings, y_train_without_ratings, epochs=10, batch_size=1)"
   ]
  },
  {
   "cell_type": "code",
   "execution_count": 183,
   "metadata": {
    "hidden": true
   },
   "outputs": [
    {
     "name": "stdout",
     "output_type": "stream",
     "text": [
      "50/50 [==============================] - 0s 511us/step - loss: 0.5709 - accuracy: 0.7048\n",
      "Loss without ratings =  0.5709401965141296\n",
      "Accuracy without ratings =  0.7047738432884216\n"
     ]
    }
   ],
   "source": [
    "# Test, Loss and accuracy\n",
    "loss_and_metrics = keras2model_without_ratings.evaluate(X_test_without_ratings, y_test_without_ratings)\n",
    "print('Loss without ratings = ',loss_and_metrics[0])\n",
    "print('Accuracy without ratings = ',loss_and_metrics[1])"
   ]
  },
  {
   "cell_type": "code",
   "execution_count": null,
   "metadata": {
    "hidden": true
   },
   "outputs": [],
   "source": []
  },
  {
   "cell_type": "markdown",
   "metadata": {},
   "source": [
    "### Keras 2 with ratings"
   ]
  },
  {
   "cell_type": "code",
   "execution_count": 213,
   "metadata": {},
   "outputs": [],
   "source": [
    "import keras\n",
    "from keras.models import Sequential   # importing Sequential model\n",
    "from keras.layers import Dense        # importing Dense layers\n",
    "import keras.optimizers\n",
    "import tensorflow as tf"
   ]
  },
  {
   "cell_type": "code",
   "execution_count": 214,
   "metadata": {},
   "outputs": [],
   "source": [
    "keras2model_with_ratings = keras.Sequential([\n",
    "    keras.layers.Flatten(input_shape=(6,)),\n",
    "    keras.layers.Dense(16, activation=tf.nn.relu),\n",
    "    keras.layers.Dense(32, activation=tf.nn.relu),\n",
    "    keras.layers.Dense(16, activation=tf.nn.relu),\n",
    "    keras.layers.Dense(1, activation=tf.nn.sigmoid),\n",
    "])"
   ]
  },
  {
   "cell_type": "code",
   "execution_count": 215,
   "metadata": {},
   "outputs": [
    {
     "name": "stdout",
     "output_type": "stream",
     "text": [
      "Epoch 1/10\n",
      "6340/6340 [==============================] - 4s 575us/step - loss: 0.2396 - accuracy: 0.9243\n",
      "Epoch 2/10\n",
      "6340/6340 [==============================] - 4s 571us/step - loss: 0.1927 - accuracy: 0.9366\n",
      "Epoch 3/10\n",
      "6340/6340 [==============================] - 4s 569us/step - loss: 0.1852 - accuracy: 0.9364\n",
      "Epoch 4/10\n",
      "6340/6340 [==============================] - 4s 572us/step - loss: 0.1832 - accuracy: 0.9374\n",
      "Epoch 5/10\n",
      "6340/6340 [==============================] - 4s 573us/step - loss: 0.1819 - accuracy: 0.9375\n",
      "Epoch 6/10\n",
      "6340/6340 [==============================] - 4s 568us/step - loss: 0.1757 - accuracy: 0.9405\n",
      "Epoch 7/10\n",
      "6340/6340 [==============================] - 4s 573us/step - loss: 0.1779 - accuracy: 0.9396\n",
      "Epoch 8/10\n",
      "6340/6340 [==============================] - 4s 585us/step - loss: 0.1756 - accuracy: 0.9407\n",
      "Epoch 9/10\n",
      "6340/6340 [==============================] - 4s 575us/step - loss: 0.1740 - accuracy: 0.9390\n",
      "Epoch 10/10\n",
      "6340/6340 [==============================] - 4s 575us/step - loss: 0.1742 - accuracy: 0.9405\n"
     ]
    },
    {
     "data": {
      "text/plain": [
       "<keras.callbacks.History at 0x206fbfc1ed0>"
      ]
     },
     "execution_count": 215,
     "metadata": {},
     "output_type": "execute_result"
    }
   ],
   "source": [
    "keras2model_with_ratings.compile(optimizer='adam',\n",
    "              loss='binary_crossentropy',\n",
    "              metrics=['accuracy'])\n",
    "\n",
    "keras2model_with_ratings.fit(X_train_with_ratings, y_train_with_ratings, epochs=10, batch_size=1)"
   ]
  },
  {
   "cell_type": "code",
   "execution_count": 216,
   "metadata": {},
   "outputs": [
    {
     "name": "stdout",
     "output_type": "stream",
     "text": [
      "50/50 [==============================] - 0s 511us/step - loss: 0.2247 - accuracy: 0.9186\n",
      "Loss =  0.2246904969215393\n",
      "Accuracy =  0.918612003326416\n"
     ]
    }
   ],
   "source": [
    "# Test, Loss and accuracy\n",
    "loss_and_metrics = keras2model_with_ratings.evaluate(X_test_with_ratings, y_test_with_ratings)\n",
    "print('Loss = ',loss_and_metrics[0])\n",
    "print('Accuracy = ',loss_and_metrics[1])"
   ]
  },
  {
   "cell_type": "code",
   "execution_count": null,
   "metadata": {},
   "outputs": [],
   "source": []
  },
  {
   "cell_type": "markdown",
   "metadata": {
    "heading_collapsed": true
   },
   "source": [
    "### Random forest classifier"
   ]
  },
  {
   "cell_type": "code",
   "execution_count": 13,
   "metadata": {
    "hidden": true
   },
   "outputs": [],
   "source": [
    "# Import the model we are using\n",
    "from sklearn.ensemble import RandomForestClassifier\n",
    "# Instantiate model with 1000 decision trees\n",
    "rf = RandomForestClassifier(n_estimators = 1000, random_state = 42)\n",
    "# Train the model on training data\n",
    "rf.fit(X_train, y_train);"
   ]
  },
  {
   "cell_type": "code",
   "execution_count": 14,
   "metadata": {
    "hidden": true
   },
   "outputs": [],
   "source": [
    "# Use the forest's predict method on the test data\n",
    "predictions = rf.predict(X_test)\n",
    "# Test, Loss and accuracy\n"
   ]
  },
  {
   "cell_type": "code",
   "execution_count": 15,
   "metadata": {
    "hidden": true
   },
   "outputs": [
    {
     "data": {
      "text/plain": [
       "0.8846846846846846"
      ]
     },
     "execution_count": 15,
     "metadata": {},
     "output_type": "execute_result"
    }
   ],
   "source": [
    "from sklearn.metrics import accuracy_score\n",
    "accuracy_score(y_test, predictions)"
   ]
  },
  {
   "cell_type": "code",
   "execution_count": null,
   "metadata": {
    "hidden": true
   },
   "outputs": [],
   "source": []
  },
  {
   "cell_type": "code",
   "execution_count": null,
   "metadata": {
    "hidden": true
   },
   "outputs": [],
   "source": []
  },
  {
   "cell_type": "markdown",
   "metadata": {},
   "source": [
    "## Predict on test/validation"
   ]
  },
  {
   "cell_type": "code",
   "execution_count": 226,
   "metadata": {},
   "outputs": [],
   "source": [
    "import duckdb\n",
    "import pandas as pd\n",
    "from functools import reduce\n",
    "import numpy as np\n",
    "import os\n",
    "# conn = duckdb.connect('db/db.duckdb', read_only=False)"
   ]
  },
  {
   "cell_type": "code",
   "execution_count": 227,
   "metadata": {},
   "outputs": [],
   "source": [
    "# tables = conn.execute('PRAGMA show_tables').fetchdf()['name'].tolist()\n",
    "# frames = []\n",
    "# for i in tables:\n",
    "#     if i.startswith('test'):\n",
    "#         frames.append(conn.execute(f\"SELECT * FROM {i}\").fetchdf())\n",
    "# test_merged_df = reduce(lambda  left,right: pd.merge(left,right,on=['tconst'], how='outer'), frames)\n",
    "# print(f\"Any NaN values in the df: {test_merged_df.isnull().values.any()}\")\n",
    "# print(test_merged_df.isnull().sum())"
   ]
  },
  {
   "cell_type": "code",
   "execution_count": 228,
   "metadata": {},
   "outputs": [
    {
     "name": "stdout",
     "output_type": "stream",
     "text": [
      "Any NaN values in the df: True\n",
      "tconst               0\n",
      "end_year             0\n",
      "num_votes            0\n",
      "original_title       0\n",
      "primary_title        0\n",
      "runtime_minutes      0\n",
      "start_year           0\n",
      "user_ratings       343\n",
      "dtype: int64\n"
     ]
    }
   ],
   "source": [
    "test_merged_df = conn.execute('''SELECT end_year_test.tconst, end_year_test.end_year, num_votes_test.num_votes, original_title_test.original_title, primary_title_test.primary_title, runtime_minutes_test.runtime_minutes, start_year_test.start_year, user_ratings_test.user_ratings  \n",
    "                         FROM end_year_test \n",
    "                         INNER JOIN num_votes_test ON end_year_test.tconst = num_votes_test.tconst\n",
    "                         INNER JOIN original_title_test ON end_year_test.tconst = original_title_test.tconst\n",
    "                         INNER JOIN primary_title_test ON end_year_test.tconst = primary_title_test.tconst\n",
    "                         INNER JOIN runtime_minutes_test ON end_year_test.tconst = runtime_minutes_test.tconst\n",
    "                         INNER JOIN start_year_test ON end_year_test.tconst = start_year_test.tconst\n",
    "                         FULL OUTER JOIN user_ratings_test ON end_year_test.tconst = user_ratings_test.tconst\n",
    "                         FULL OUTER JOIN tmdb_ratings_test ON end_year_test.tconst = tmdb_ratings_test.tconst\n",
    "                         ''').fetchdf()\n",
    "\n",
    "tconst_order = conn.execute('SELECT tconst FROM end_year_test').fetchdf()\n",
    "tconst_order['order'] = range(len(tconst_order))\n",
    "test_merged_df = test_merged_df.merge(tconst_order, on='tconst').sort_values(by=['order']).drop('order', axis=1)\n",
    "print(f\"Any NaN values in the df: {test_merged_df.isnull().values.any()}\")\n",
    "print(test_merged_df.isnull().sum())"
   ]
  },
  {
   "cell_type": "code",
   "execution_count": 229,
   "metadata": {},
   "outputs": [
    {
     "name": "stderr",
     "output_type": "stream",
     "text": [
      "C:\\Users\\casbe\\AppData\\Local\\Temp/ipykernel_16680/2366577228.py:2: FutureWarning: In a future version of pandas all arguments of DataFrame.drop except for the argument 'labels' will be keyword-only\n",
      "  test_merged_df = merged_df.drop('tmdb_ratings', 1)\n"
     ]
    }
   ],
   "source": [
    "test_merged_df['user_ratings'] = merged_df['tmdb_ratings']\n",
    "test_merged_df = merged_df.drop('tmdb_ratings', 1)"
   ]
  },
  {
   "cell_type": "code",
   "execution_count": 49,
   "metadata": {
    "scrolled": true
   },
   "outputs": [],
   "source": [
    "# tables = conn.execute('PRAGMA show_tables').fetchdf()['name'].tolist()\n",
    "# frames = []\n",
    "# for i in tables:\n",
    "#     if i.startswith('validation'):\n",
    "#         frames.append(conn.execute(f\"SELECT * FROM {i}\").fetchdf())\n",
    "# validation_merged_df = reduce(lambda  left,right: pd.merge(left,right,on=['tconst'], how='outer'), frames)\n",
    "# print(f\"Any NaN values in the df: {validation_merged_df.isnull().values.any()}\")\n",
    "# print(validation_merged_df.isnull().sum())"
   ]
  },
  {
   "cell_type": "code",
   "execution_count": 230,
   "metadata": {},
   "outputs": [
    {
     "name": "stdout",
     "output_type": "stream",
     "text": [
      "Any NaN values in the df: True\n",
      "tconst               0\n",
      "end_year             0\n",
      "num_votes            0\n",
      "original_title       0\n",
      "primary_title        0\n",
      "runtime_minutes      0\n",
      "start_year           0\n",
      "user_ratings       306\n",
      "tmdb_ratings         7\n",
      "dtype: int64\n"
     ]
    }
   ],
   "source": [
    "validation_merged_df = conn.execute('''SELECT end_year_validation.tconst, end_year_validation.end_year, num_votes_validation.num_votes, original_title_validation.original_title, primary_title_validation.primary_title, runtime_minutes_validation.runtime_minutes, start_year_validation.start_year, user_ratings_validation.user_ratings, tmdb_ratings_validation.tmdb_ratings   \n",
    "                         FROM end_year_validation \n",
    "                         INNER JOIN num_votes_validation ON end_year_validation.tconst = num_votes_validation.tconst\n",
    "                         INNER JOIN original_title_validation ON end_year_validation.tconst = original_title_validation.tconst\n",
    "                         INNER JOIN primary_title_validation ON end_year_validation.tconst = primary_title_validation.tconst\n",
    "                         INNER JOIN runtime_minutes_validation ON end_year_validation.tconst = runtime_minutes_validation.tconst\n",
    "                         INNER JOIN start_year_validation ON end_year_validation.tconst = start_year_validation.tconst\n",
    "                         FULL OUTER JOIN user_ratings_validation ON end_year_validation.tconst = user_ratings_validation.tconst\n",
    "                         FULL OUTER JOIN tmdb_ratings_validation ON end_year_validation.tconst = tmdb_ratings_validation.tconst\n",
    "                         ''').fetchdf()\n",
    "\n",
    "tconst_order = conn.execute('SELECT tconst FROM end_year_validation').fetchdf()\n",
    "tconst_order['order'] = range(len(tconst_order))\n",
    "validation_merged_df = validation_merged_df.merge(tconst_order, on='tconst').sort_values(by=['order']).drop('order', axis=1)\n",
    "print(f\"Any NaN values in the df: {validation_merged_df.isnull().values.any()}\")\n",
    "print(validation_merged_df.isnull().sum())"
   ]
  },
  {
   "cell_type": "code",
   "execution_count": 231,
   "metadata": {},
   "outputs": [
    {
     "name": "stderr",
     "output_type": "stream",
     "text": [
      "C:\\Users\\casbe\\AppData\\Local\\Temp/ipykernel_16680/4109351982.py:2: FutureWarning: In a future version of pandas all arguments of DataFrame.drop except for the argument 'labels' will be keyword-only\n",
      "  validation_merged_df = merged_df.drop('tmdb_ratings', 1)\n"
     ]
    }
   ],
   "source": [
    "validation_merged_df['user_ratings'] = merged_df['tmdb_ratings']\n",
    "validation_merged_df = merged_df.drop('tmdb_ratings', 1)"
   ]
  },
  {
   "cell_type": "code",
   "execution_count": 232,
   "metadata": {},
   "outputs": [
    {
     "name": "stdout",
     "output_type": "stream",
     "text": [
      "7959\n",
      "1086\n"
     ]
    }
   ],
   "source": [
    "print(len(test_merged_df))\n",
    "bb = pd.read_csv(os.getcwd() + \"/imdb/test_hidden.csv\")\n",
    "print(len(bb))"
   ]
  },
  {
   "cell_type": "code",
   "execution_count": 233,
   "metadata": {},
   "outputs": [
    {
     "name": "stdout",
     "output_type": "stream",
     "text": [
      "7959\n",
      "955\n"
     ]
    }
   ],
   "source": [
    "print(len(validation_merged_df))\n",
    "dd = pd.read_csv(os.getcwd() + \"/imdb/validation_hidden.csv\")\n",
    "print(len(dd))"
   ]
  },
  {
   "cell_type": "code",
   "execution_count": 234,
   "metadata": {},
   "outputs": [],
   "source": [
    "renamed = []\n",
    "for i in range(len(test_merged_df)):\n",
    "    curr_original = test_merged_df.iloc[i]['original_title']\n",
    "    curr_primary = test_merged_df.iloc[i]['primary_title']\n",
    "    if curr_original != \"\" and curr_primary != curr_original:\n",
    "        renamed.append(1)\n",
    "    else:\n",
    "        renamed.append(0)\n",
    "    \n",
    "test_merged_df['renamed'] = renamed"
   ]
  },
  {
   "cell_type": "code",
   "execution_count": 235,
   "metadata": {},
   "outputs": [],
   "source": [
    "renamed = []\n",
    "for i in range(len(validation_merged_df)):\n",
    "    curr_original = validation_merged_df.iloc[i]['original_title']\n",
    "    curr_primary = validation_merged_df.iloc[i]['primary_title']\n",
    "    if curr_original != \"\" and curr_primary != curr_original:\n",
    "        renamed.append(1)\n",
    "    else:\n",
    "        renamed.append(0)\n",
    "    \n",
    "validation_merged_df['renamed'] = renamed"
   ]
  },
  {
   "cell_type": "code",
   "execution_count": 236,
   "metadata": {},
   "outputs": [
    {
     "name": "stderr",
     "output_type": "stream",
     "text": [
      "C:\\Users\\casbe\\AppData\\Local\\Temp/ipykernel_16680/2573630175.py:1: FutureWarning: In a future version of pandas all arguments of DataFrame.drop except for the argument 'labels' will be keyword-only\n",
      "  test_merged_df = test_merged_df.drop('original_title', 1)\n",
      "C:\\Users\\casbe\\AppData\\Local\\Temp/ipykernel_16680/2573630175.py:2: FutureWarning: In a future version of pandas all arguments of DataFrame.drop except for the argument 'labels' will be keyword-only\n",
      "  test_merged_df = test_merged_df.drop('primary_title', 1)\n",
      "C:\\Users\\casbe\\AppData\\Local\\Temp/ipykernel_16680/2573630175.py:3: FutureWarning: In a future version of pandas all arguments of DataFrame.drop except for the argument 'labels' will be keyword-only\n",
      "  test_merged_df = test_merged_df.drop('tconst', 1)\n"
     ]
    }
   ],
   "source": [
    "test_merged_df = test_merged_df.drop('original_title', 1)\n",
    "test_merged_df = test_merged_df.drop('primary_title', 1)\n",
    "test_merged_df = test_merged_df.drop('tconst', 1)"
   ]
  },
  {
   "cell_type": "code",
   "execution_count": 237,
   "metadata": {},
   "outputs": [
    {
     "name": "stderr",
     "output_type": "stream",
     "text": [
      "C:\\Users\\casbe\\AppData\\Local\\Temp/ipykernel_16680/165287501.py:1: FutureWarning: In a future version of pandas all arguments of DataFrame.drop except for the argument 'labels' will be keyword-only\n",
      "  validation_merged_df = validation_merged_df.drop('original_title', 1)\n",
      "C:\\Users\\casbe\\AppData\\Local\\Temp/ipykernel_16680/165287501.py:2: FutureWarning: In a future version of pandas all arguments of DataFrame.drop except for the argument 'labels' will be keyword-only\n",
      "  validation_merged_df = validation_merged_df.drop('primary_title', 1)\n",
      "C:\\Users\\casbe\\AppData\\Local\\Temp/ipykernel_16680/165287501.py:3: FutureWarning: In a future version of pandas all arguments of DataFrame.drop except for the argument 'labels' will be keyword-only\n",
      "  validation_merged_df = validation_merged_df.drop('tconst', 1)\n"
     ]
    }
   ],
   "source": [
    "validation_merged_df = validation_merged_df.drop('original_title', 1)\n",
    "validation_merged_df = validation_merged_df.drop('primary_title', 1)\n",
    "validation_merged_df = validation_merged_df.drop('tconst', 1)"
   ]
  },
  {
   "cell_type": "code",
   "execution_count": 238,
   "metadata": {},
   "outputs": [
    {
     "name": "stdout",
     "output_type": "stream",
     "text": [
      "5540 + 2419 = 7959\n",
      "5540 + 2419 = 7959\n",
      "5540 + 2419 = 7959\n",
      "5540 + 2419 = 7959\n"
     ]
    },
    {
     "name": "stderr",
     "output_type": "stream",
     "text": [
      "C:\\Users\\casbe\\AppData\\Local\\Temp/ipykernel_16680/978231876.py:13: FutureWarning: In a future version of pandas all arguments of DataFrame.drop except for the argument 'labels' will be keyword-only\n",
      "  test_without_rating = test_without_rating.drop('user_ratings', 1)\n",
      "C:\\Users\\casbe\\AppData\\Local\\Temp/ipykernel_16680/978231876.py:18: FutureWarning: In a future version of pandas all arguments of DataFrame.drop except for the argument 'labels' will be keyword-only\n",
      "  validation_without_rating = validation_without_rating.drop('user_ratings', 1)\n"
     ]
    }
   ],
   "source": [
    "test_with_rating_index = np.where(test_merged_df['user_ratings'].notnull())[0]\n",
    "test_without_rating_index = np.where(test_merged_df['user_ratings'].isnull())[0]\n",
    "\n",
    "validation_with_rating_index = np.where(validation_merged_df['user_ratings'].notnull())[0]\n",
    "validation_without_rating_index = np.where(validation_merged_df['user_ratings'].isnull())[0]\n",
    "\n",
    "print(f\"{len(test_with_rating_index)} + {len(test_without_rating_index)} = {len(test_merged_df)}\")\n",
    "print(f\"{len(validation_with_rating_index)} + {len(validation_without_rating_index)} = {len(validation_merged_df)}\")\n",
    "\n",
    "\n",
    "test_with_rating = test_merged_df.iloc[test_with_rating_index]\n",
    "test_without_rating = test_merged_df.iloc[test_without_rating_index]\n",
    "test_without_rating = test_without_rating.drop('user_ratings', 1)\n",
    "print(f\"{len(test_with_rating)} + {len(test_without_rating)} = {len(test_merged_df)}\")\n",
    "\n",
    "validation_with_rating = validation_merged_df.iloc[validation_with_rating_index]\n",
    "validation_without_rating = validation_merged_df.iloc[validation_without_rating_index]\n",
    "validation_without_rating = validation_without_rating.drop('user_ratings', 1)\n",
    "print(f\"{len(validation_with_rating)} + {len(validation_without_rating)} = {len(validation_merged_df)}\")"
   ]
  },
  {
   "cell_type": "code",
   "execution_count": 239,
   "metadata": {},
   "outputs": [
    {
     "name": "stdout",
     "output_type": "stream",
     "text": [
      "2419\n",
      "5540\n",
      "2419\n",
      "5540\n"
     ]
    }
   ],
   "source": [
    "full_test_array_without_ratings = test_without_rating.to_numpy()\n",
    "full_test_array_with_ratings = test_with_rating.to_numpy()\n",
    "\n",
    "full_validation_array_without_ratings = validation_without_rating.to_numpy()\n",
    "full_validation_array_with_ratings = validation_with_rating.to_numpy()\n",
    "\n",
    "print(len(full_test_array_without_ratings))\n",
    "print(len(full_test_array_with_ratings))\n",
    "print(len(full_validation_array_without_ratings))\n",
    "print(len(full_validation_array_with_ratings))"
   ]
  },
  {
   "cell_type": "code",
   "execution_count": 240,
   "metadata": {},
   "outputs": [],
   "source": [
    "from sklearn.preprocessing import StandardScaler\n",
    "standardizer = StandardScaler()\n",
    "full_test_array_without_ratings = standardizer.fit_transform(full_test_array_without_ratings)\n",
    "full_test_array_with_ratings = standardizer.fit_transform(full_test_array_with_ratings)\n",
    "full_validation_array_without_ratings = standardizer.fit_transform(full_validation_array_without_ratings)\n",
    "full_validation_array_with_ratings = standardizer.fit_transform(full_validation_array_with_ratings)\n"
   ]
  },
  {
   "cell_type": "code",
   "execution_count": 241,
   "metadata": {},
   "outputs": [
    {
     "ename": "ValueError",
     "evalue": "in user code:\n\n    File \"C:\\Users\\casbe\\AppData\\Local\\Programs\\Python\\Python310\\lib\\site-packages\\keras\\engine\\training.py\", line 1801, in predict_function  *\n        return step_function(self, iterator)\n    File \"C:\\Users\\casbe\\AppData\\Local\\Programs\\Python\\Python310\\lib\\site-packages\\keras\\engine\\training.py\", line 1790, in step_function  **\n        outputs = model.distribute_strategy.run(run_step, args=(data,))\n    File \"C:\\Users\\casbe\\AppData\\Local\\Programs\\Python\\Python310\\lib\\site-packages\\keras\\engine\\training.py\", line 1783, in run_step  **\n        outputs = model.predict_step(data)\n    File \"C:\\Users\\casbe\\AppData\\Local\\Programs\\Python\\Python310\\lib\\site-packages\\keras\\engine\\training.py\", line 1751, in predict_step\n        return self(x, training=False)\n    File \"C:\\Users\\casbe\\AppData\\Local\\Programs\\Python\\Python310\\lib\\site-packages\\keras\\utils\\traceback_utils.py\", line 67, in error_handler\n        raise e.with_traceback(filtered_tb) from None\n    File \"C:\\Users\\casbe\\AppData\\Local\\Programs\\Python\\Python310\\lib\\site-packages\\keras\\engine\\input_spec.py\", line 264, in assert_input_compatibility\n        raise ValueError(f'Input {input_index} of layer \"{layer_name}\" is '\n\n    ValueError: Input 0 of layer \"sequential_2\" is incompatible with the layer: expected shape=(None, 5), found shape=(None, 6)\n",
     "output_type": "error",
     "traceback": [
      "\u001b[1;31m---------------------------------------------------------------------------\u001b[0m",
      "\u001b[1;31mValueError\u001b[0m                                Traceback (most recent call last)",
      "Input \u001b[1;32mIn [241]\u001b[0m, in \u001b[0;36m<module>\u001b[1;34m\u001b[0m\n\u001b[1;32m----> 1\u001b[0m test_predictions_without_ratings \u001b[38;5;241m=\u001b[39m \u001b[43mkeras2model_without_ratings\u001b[49m\u001b[38;5;241;43m.\u001b[39;49m\u001b[43mpredict\u001b[49m\u001b[43m(\u001b[49m\u001b[43mfull_test_array_without_ratings\u001b[49m\u001b[43m)\u001b[49m\n\u001b[0;32m      2\u001b[0m test_predictions_without_ratings \u001b[38;5;241m=\u001b[39m \u001b[38;5;28mlist\u001b[39m(\u001b[38;5;28mmap\u001b[39m(\u001b[38;5;28;01mlambda\u001b[39;00m x: \u001b[38;5;28;01mFalse\u001b[39;00m \u001b[38;5;28;01mif\u001b[39;00m x\u001b[38;5;241m<\u001b[39m\u001b[38;5;241m0.5\u001b[39m \u001b[38;5;28;01melse\u001b[39;00m \u001b[38;5;28;01mTrue\u001b[39;00m, test_predictions_without_ratings))\n\u001b[0;32m      4\u001b[0m test_predictions_with_ratings \u001b[38;5;241m=\u001b[39m keras2model_with_ratings\u001b[38;5;241m.\u001b[39mpredict(full_test_array_with_ratings)\n",
      "File \u001b[1;32m~\\AppData\\Local\\Programs\\Python\\Python310\\lib\\site-packages\\keras\\utils\\traceback_utils.py:67\u001b[0m, in \u001b[0;36mfilter_traceback.<locals>.error_handler\u001b[1;34m(*args, **kwargs)\u001b[0m\n\u001b[0;32m     65\u001b[0m \u001b[38;5;28;01mexcept\u001b[39;00m \u001b[38;5;167;01mException\u001b[39;00m \u001b[38;5;28;01mas\u001b[39;00m e:  \u001b[38;5;66;03m# pylint: disable=broad-except\u001b[39;00m\n\u001b[0;32m     66\u001b[0m   filtered_tb \u001b[38;5;241m=\u001b[39m _process_traceback_frames(e\u001b[38;5;241m.\u001b[39m__traceback__)\n\u001b[1;32m---> 67\u001b[0m   \u001b[38;5;28;01mraise\u001b[39;00m e\u001b[38;5;241m.\u001b[39mwith_traceback(filtered_tb) \u001b[38;5;28;01mfrom\u001b[39;00m \u001b[38;5;28mNone\u001b[39m\n\u001b[0;32m     68\u001b[0m \u001b[38;5;28;01mfinally\u001b[39;00m:\n\u001b[0;32m     69\u001b[0m   \u001b[38;5;28;01mdel\u001b[39;00m filtered_tb\n",
      "File \u001b[1;32m~\\AppData\\Local\\Programs\\Python\\Python310\\lib\\site-packages\\tensorflow\\python\\framework\\func_graph.py:1147\u001b[0m, in \u001b[0;36mfunc_graph_from_py_func.<locals>.autograph_handler\u001b[1;34m(*args, **kwargs)\u001b[0m\n\u001b[0;32m   1145\u001b[0m \u001b[38;5;28;01mexcept\u001b[39;00m \u001b[38;5;167;01mException\u001b[39;00m \u001b[38;5;28;01mas\u001b[39;00m e:  \u001b[38;5;66;03m# pylint:disable=broad-except\u001b[39;00m\n\u001b[0;32m   1146\u001b[0m   \u001b[38;5;28;01mif\u001b[39;00m \u001b[38;5;28mhasattr\u001b[39m(e, \u001b[38;5;124m\"\u001b[39m\u001b[38;5;124mag_error_metadata\u001b[39m\u001b[38;5;124m\"\u001b[39m):\n\u001b[1;32m-> 1147\u001b[0m     \u001b[38;5;28;01mraise\u001b[39;00m e\u001b[38;5;241m.\u001b[39mag_error_metadata\u001b[38;5;241m.\u001b[39mto_exception(e)\n\u001b[0;32m   1148\u001b[0m   \u001b[38;5;28;01melse\u001b[39;00m:\n\u001b[0;32m   1149\u001b[0m     \u001b[38;5;28;01mraise\u001b[39;00m\n",
      "\u001b[1;31mValueError\u001b[0m: in user code:\n\n    File \"C:\\Users\\casbe\\AppData\\Local\\Programs\\Python\\Python310\\lib\\site-packages\\keras\\engine\\training.py\", line 1801, in predict_function  *\n        return step_function(self, iterator)\n    File \"C:\\Users\\casbe\\AppData\\Local\\Programs\\Python\\Python310\\lib\\site-packages\\keras\\engine\\training.py\", line 1790, in step_function  **\n        outputs = model.distribute_strategy.run(run_step, args=(data,))\n    File \"C:\\Users\\casbe\\AppData\\Local\\Programs\\Python\\Python310\\lib\\site-packages\\keras\\engine\\training.py\", line 1783, in run_step  **\n        outputs = model.predict_step(data)\n    File \"C:\\Users\\casbe\\AppData\\Local\\Programs\\Python\\Python310\\lib\\site-packages\\keras\\engine\\training.py\", line 1751, in predict_step\n        return self(x, training=False)\n    File \"C:\\Users\\casbe\\AppData\\Local\\Programs\\Python\\Python310\\lib\\site-packages\\keras\\utils\\traceback_utils.py\", line 67, in error_handler\n        raise e.with_traceback(filtered_tb) from None\n    File \"C:\\Users\\casbe\\AppData\\Local\\Programs\\Python\\Python310\\lib\\site-packages\\keras\\engine\\input_spec.py\", line 264, in assert_input_compatibility\n        raise ValueError(f'Input {input_index} of layer \"{layer_name}\" is '\n\n    ValueError: Input 0 of layer \"sequential_2\" is incompatible with the layer: expected shape=(None, 5), found shape=(None, 6)\n"
     ]
    }
   ],
   "source": [
    "test_predictions_without_ratings = keras2model_without_ratings.predict(full_test_array_without_ratings)\n",
    "test_predictions_without_ratings = list(map(lambda x: False if x<0.5 else True, test_predictions_without_ratings))\n",
    "\n",
    "test_predictions_with_ratings = keras2model_with_ratings.predict(full_test_array_with_ratings)\n",
    "test_predictions_with_ratings = list(map(lambda x: False if x<0.5 else True, test_predictions_with_ratings))\n",
    "\n",
    "\n",
    "validation_predictions_without_ratings = keras2model_without_ratings.predict(full_validation_array_without_ratings)\n",
    "validation_predictions_without_ratings = list(map(lambda x: False if x<0.5 else True, validation_predictions_without_ratings))\n",
    "\n",
    "\n",
    "validation_predictions_with_ratings = keras2model_with_ratings.predict(full_validation_array_with_ratings)\n",
    "validation_predictions_with_ratings = list(map(lambda x: False if x<0.5 else True, validation_predictions_with_ratings))\n",
    "\n",
    "\n",
    "print(len(test_predictions_without_ratings))\n",
    "print(len(test_without_rating_index))\n",
    "print(len(test_predictions_with_ratings))\n",
    "print(len(test_with_rating_index))\n",
    "print(len(validation_predictions_without_ratings))\n",
    "print(len(validation_without_rating_index))\n",
    "print(len(validation_predictions_with_ratings))\n",
    "print(len(validation_with_rating_index))\n"
   ]
  },
  {
   "cell_type": "code",
   "execution_count": 61,
   "metadata": {},
   "outputs": [
    {
     "name": "stdout",
     "output_type": "stream",
     "text": [
      "1086\n",
      "955\n"
     ]
    }
   ],
   "source": [
    "test_predictions_without_ratings_df = pd.DataFrame(test_predictions_without_ratings, index=test_without_rating_index)\n",
    "test_predictions_with_ratings_df = pd.DataFrame(test_predictions_with_ratings, index=test_with_rating_index)\n",
    "\n",
    "validation_predictions_without_ratings_df = pd.DataFrame(validation_predictions_without_ratings, index=validation_without_rating_index)\n",
    "validation_predictions_with_ratings_df = pd.DataFrame(validation_predictions_with_ratings, index=validation_with_rating_index)\n",
    "\n",
    "\n",
    "final_test_predictions = pd.concat([test_predictions_without_ratings_df, test_predictions_with_ratings_df], axis=0).sort_index()[0].tolist()\n",
    "final_validation_predictions = pd.concat([validation_predictions_without_ratings_df, validation_predictions_with_ratings_df], axis=0).sort_index()[0].tolist()\n",
    "\n",
    "print(len(final_test_predictions))\n",
    "print(len(final_validation_predictions))\n",
    "\n",
    "\n"
   ]
  },
  {
   "cell_type": "code",
   "execution_count": 62,
   "metadata": {},
   "outputs": [
    {
     "name": "stdout",
     "output_type": "stream",
     "text": [
      "True     491\n",
      "False    464\n",
      "Name: label, dtype: int64\n",
      "False    562\n",
      "True     524\n",
      "Name: label, dtype: int64\n"
     ]
    }
   ],
   "source": [
    "\n",
    "validation_merged_df['label'] = final_validation_predictions\n",
    "print(validation_merged_df['label'].value_counts())\n",
    "\n",
    "test_merged_df['label'] = final_test_predictions\n",
    "print(test_merged_df['label'].value_counts())\n"
   ]
  },
  {
   "cell_type": "code",
   "execution_count": 63,
   "metadata": {},
   "outputs": [],
   "source": [
    "num = 6\n",
    "with open(f'test_predictions{num}.txt', 'w') as f:\n",
    "    for item in final_test_predictions:\n",
    "        f.write(\"%s\\n\" % item)\n",
    "with open(f'validation_predictions{num}.txt', 'w') as f:\n",
    "    for item in final_validation_predictions:\n",
    "        f.write(\"%s\\n\" % item)"
   ]
  },
  {
   "cell_type": "code",
   "execution_count": 62,
   "metadata": {},
   "outputs": [],
   "source": []
  },
  {
   "cell_type": "code",
   "execution_count": null,
   "metadata": {},
   "outputs": [],
   "source": []
  }
 ],
 "metadata": {
  "kernelspec": {
   "display_name": "Python 3 (ipykernel)",
   "language": "python",
   "name": "python3"
  },
  "language_info": {
   "codemirror_mode": {
    "name": "ipython",
    "version": 3
   },
   "file_extension": ".py",
   "mimetype": "text/x-python",
   "name": "python",
   "nbconvert_exporter": "python",
   "pygments_lexer": "ipython3",
   "version": "3.10.1"
  }
 },
 "nbformat": 4,
 "nbformat_minor": 4
}
