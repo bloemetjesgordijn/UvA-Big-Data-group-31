{
 "cells": [
  {
   "cell_type": "code",
   "execution_count": 37,
   "metadata": {},
   "outputs": [
    {
     "name": "stdout",
     "output_type": "stream",
     "text": [
      "Collecting langdetect\n",
      "  Downloading langdetect-1.0.9.tar.gz (981 kB)\n",
      "\u001b[K     |████████████████████████████████| 981 kB 5.9 MB/s eta 0:00:01\n",
      "\u001b[?25hRequirement already satisfied: six in /Users/casbertrams/opt/anaconda3/lib/python3.8/site-packages (from langdetect) (1.15.0)\n",
      "Building wheels for collected packages: langdetect\n",
      "  Building wheel for langdetect (setup.py) ... \u001b[?25ldone\n",
      "\u001b[?25h  Created wheel for langdetect: filename=langdetect-1.0.9-py3-none-any.whl size=993242 sha256=d755e201b825a2b91d5f18e285a402c9e996a669d3d52bb40ea4592fb2443986\n",
      "  Stored in directory: /Users/casbertrams/Library/Caches/pip/wheels/13/c7/b0/79f66658626032e78fc1a83103690ef6797d551cb22e56e734\n",
      "Successfully built langdetect\n",
      "Installing collected packages: langdetect\n",
      "Successfully installed langdetect-1.0.9\n"
     ]
    }
   ],
   "source": [
    "!pip install langdetect"
   ]
  },
  {
   "cell_type": "code",
   "execution_count": 91,
   "metadata": {},
   "outputs": [],
   "source": [
    "import duckdb\n",
    "import pandas as pd\n",
    "from functools import reduce\n",
    "import numpy as np\n"
   ]
  },
  {
   "cell_type": "code",
   "execution_count": 2,
   "metadata": {},
   "outputs": [
    {
     "name": "stdout",
     "output_type": "stream",
     "text": [
      "['end_year', 'labels', 'num_votes', 'original_title', 'primary_title', 'runtime', 'start_year']\n"
     ]
    }
   ],
   "source": [
    "conn = duckdb.connect('db/db.duckdb', read_only=False)\n",
    "print(conn.execute('PRAGMA show_tables').fetchdf()['name'].tolist())\n"
   ]
  },
  {
   "cell_type": "code",
   "execution_count": 7,
   "metadata": {},
   "outputs": [
    {
     "name": "stdout",
     "output_type": "stream",
     "text": [
      "         tconst                  original_title\n",
      "0     tt0010600                       Die Puppe\n",
      "1     tt0011841                   Way Down East\n",
      "2     tt0012494                    Der mude Tod\n",
      "3     tt0015163                   The Navigator\n",
      "4     tt0016220        The Phantom of the Opera\n",
      "...         ...                             ...\n",
      "7954  tt9625664                                \n",
      "7955  tt9741310                           Slaxx\n",
      "7956  tt9742392                         Kindred\n",
      "7957  tt9850386                                \n",
      "7958  tt9911196  De beentjes van Sint-Hildegard\n",
      "\n",
      "[7959 rows x 2 columns]\n"
     ]
    }
   ],
   "source": [
    "print(conn.execute('SELECT * FROM original_title').fetchdf())"
   ]
  },
  {
   "cell_type": "code",
   "execution_count": 92,
   "metadata": {},
   "outputs": [
    {
     "name": "stdout",
     "output_type": "stream",
     "text": [
      "Any NaN values in the df: False\n"
     ]
    }
   ],
   "source": [
    "tables = conn.execute('PRAGMA show_tables').fetchdf()['name'].tolist()\n",
    "frames = []\n",
    "for i in tables:\n",
    "    frames.append(conn.execute(f\"SELECT * FROM {i}\").fetchdf())\n",
    "merged_df = reduce(lambda  left,right: pd.merge(left,right,on=['tconst'], how='outer'), frames)\n",
    "print(f\"Any NaN values in the df: {merged_df.isnull().values.any()}\")\n",
    "\n",
    "labels = merged_df['labels']\n",
    "labels = np.array(labels.astype('int').tolist())\n",
    "merged_df = merged_df.drop('labels', 1)"
   ]
  },
  {
   "cell_type": "markdown",
   "metadata": {},
   "source": [
    "Add value to indicate wether the title has been changed"
   ]
  },
  {
   "cell_type": "code",
   "execution_count": 93,
   "metadata": {},
   "outputs": [],
   "source": [
    "renamed = []\n",
    "for i in range(len(merged_df)):\n",
    "    curr_original = merged_df.iloc[i]['original_title']\n",
    "    curr_primary = merged_df.iloc[i]['primary_title']\n",
    "    if curr_original != \"\" and curr_primary != curr_original:\n",
    "        renamed.append(1)\n",
    "    else:\n",
    "        renamed.append(0)\n",
    "    \n",
    "merged_df['renamed'] = renamed"
   ]
  },
  {
   "cell_type": "markdown",
   "metadata": {},
   "source": [
    "Transform dataframe to array"
   ]
  },
  {
   "cell_type": "code",
   "execution_count": 94,
   "metadata": {},
   "outputs": [
    {
     "name": "stdout",
     "output_type": "stream",
     "text": [
      "tconst             object\n",
      "end_year            int32\n",
      "num_votes           int32\n",
      "original_title     object\n",
      "primary_title      object\n",
      "runtime_minutes     int32\n",
      "start_year          int32\n",
      "renamed             int64\n",
      "dtype: object\n"
     ]
    }
   ],
   "source": [
    "print(merged_df.dtypes)\n",
    "merged_df = merged_df.drop('original_title', 1)\n",
    "merged_df = merged_df.drop('primary_title', 1)\n",
    "merged_df = merged_df.drop('tconst', 1)\n",
    "full_array = merged_df.to_numpy()"
   ]
  },
  {
   "cell_type": "code",
   "execution_count": 95,
   "metadata": {},
   "outputs": [
    {
     "name": "stdout",
     "output_type": "stream",
     "text": [
      "[[   0 1898   66 1919    1]\n",
      " [   0 5376  145 1920    0]\n",
      " [   0 5842   97 1921    1]\n",
      " ...\n",
      " [   0 1719  101 2020    0]\n",
      " [   0 4144  111 2020    0]\n",
      " [   0 3242  103 2020    1]]\n"
     ]
    }
   ],
   "source": [
    "print(full_array)"
   ]
  },
  {
   "cell_type": "markdown",
   "metadata": {},
   "source": [
    "Train / test split"
   ]
  },
  {
   "cell_type": "code",
   "execution_count": 102,
   "metadata": {},
   "outputs": [
    {
     "name": "stdout",
     "output_type": "stream",
     "text": [
      "(6300, 5)\n",
      "(6300,)\n",
      "(1659, 5)\n",
      "(1659,)\n"
     ]
    }
   ],
   "source": [
    "from sklearn.preprocessing import StandardScaler\n",
    "standardizer = StandardScaler()\n",
    "full_array = standardizer.fit_transform(full_array)\n",
    "\n",
    "X_train = full_array[:6300]\n",
    "y_train = labels[:6300]\n",
    "\n",
    "X_test = full_array[6300:]\n",
    "y_test = labels[6300:]\n",
    "\n",
    "print(X_train.shape)\n",
    "print(y_train.shape)\n",
    "print(X_test.shape)\n",
    "print(y_test.shape)\n",
    "\n"
   ]
  },
  {
   "cell_type": "code",
   "execution_count": null,
   "metadata": {},
   "outputs": [],
   "source": []
  },
  {
   "cell_type": "code",
   "execution_count": null,
   "metadata": {},
   "outputs": [],
   "source": []
  },
  {
   "cell_type": "code",
   "execution_count": null,
   "metadata": {},
   "outputs": [],
   "source": []
  },
  {
   "cell_type": "markdown",
   "metadata": {},
   "source": [
    "### Logistic Regression"
   ]
  },
  {
   "cell_type": "code",
   "execution_count": 104,
   "metadata": {},
   "outputs": [
    {
     "data": {
      "text/plain": [
       "LogisticRegression()"
      ]
     },
     "execution_count": 104,
     "metadata": {},
     "output_type": "execute_result"
    }
   ],
   "source": [
    "from sklearn.linear_model import LogisticRegression\n",
    "model = LogisticRegression()\n",
    "model.fit(X_train, y_train)\n",
    "\n",
    "predictions = model.predict(X_test)"
   ]
  },
  {
   "cell_type": "code",
   "execution_count": 106,
   "metadata": {},
   "outputs": [
    {
     "name": "stdout",
     "output_type": "stream",
     "text": [
      "True Positive(TP)  =  465\n",
      "False Positive(FP) =  200\n",
      "True Negative(TN)  =  696\n",
      "False Negative(FN) =  298\n",
      "Accuracy of the binary classification = 0.700\n"
     ]
    }
   ],
   "source": [
    "from sklearn.metrics import confusion_matrix\n",
    "\n",
    "cm = confusion_matrix(y_test, predictions)\n",
    "\n",
    "TN, FP, FN, TP = confusion_matrix(y_test, predictions).ravel()\n",
    "\n",
    "print('True Positive(TP)  = ', TP)\n",
    "print('False Positive(FP) = ', FP)\n",
    "print('True Negative(TN)  = ', TN)\n",
    "print('False Negative(FN) = ', FN)\n",
    "\n",
    "accuracy =  (TP+TN) /(TP+FP+TN+FN)\n",
    "\n",
    "print('Accuracy of the binary classification = {:0.3f}'.format(accuracy))"
   ]
  },
  {
   "cell_type": "code",
   "execution_count": null,
   "metadata": {},
   "outputs": [],
   "source": []
  },
  {
   "cell_type": "markdown",
   "metadata": {},
   "source": [
    "### Keras"
   ]
  },
  {
   "cell_type": "code",
   "execution_count": 108,
   "metadata": {},
   "outputs": [],
   "source": [
    "import keras\n",
    "from keras.models import Sequential   # importing Sequential model\n",
    "from keras.layers import Dense        # importing Dense layers\n",
    "import keras.optimizers\n",
    "import tensorflow as tf"
   ]
  },
  {
   "cell_type": "code",
   "execution_count": 113,
   "metadata": {},
   "outputs": [],
   "source": [
    "basic_model = Sequential()\n",
    "# Adding layers to the model\n",
    "# First layers: 16 neurons/perceptrons that takes the input and uses 'sigmoid' activation function.\n",
    "basic_model.add(Dense(units = 16 , activation = 'sigmoid', input_shape = (5,))) \n",
    "# Second layer: 1 neuron/perceptron that takes the input from the 1st layers and gives output as 0 or 1.Activation used is 'Hard Sigmoid'\n",
    "basic_model.add(Dense(1, activation = 'hard_sigmoid'))\n",
    "\n",
    "\n"
   ]
  },
  {
   "cell_type": "code",
   "execution_count": 114,
   "metadata": {},
   "outputs": [],
   "source": [
    "sgd = tf.keras.optimizers.SGD(learning_rate=0.5, momentum=0.9, nesterov=True)\n",
    "basic_model.compile(loss = 'binary_crossentropy', optimizer = 'sgd', metrics = ['accuracy'])"
   ]
  },
  {
   "cell_type": "code",
   "execution_count": 116,
   "metadata": {},
   "outputs": [
    {
     "name": "stdout",
     "output_type": "stream",
     "text": [
      "Epoch 1/100\n",
      "197/197 [==============================] - 0s 741us/step - loss: 0.6435 - accuracy: 0.6513\n",
      "Epoch 2/100\n",
      "197/197 [==============================] - 0s 694us/step - loss: 0.6427 - accuracy: 0.6554\n",
      "Epoch 3/100\n",
      "197/197 [==============================] - 0s 766us/step - loss: 0.6422 - accuracy: 0.6594\n",
      "Epoch 4/100\n",
      "197/197 [==============================] - 0s 696us/step - loss: 0.6418 - accuracy: 0.6625\n",
      "Epoch 5/100\n",
      "197/197 [==============================] - 0s 760us/step - loss: 0.6415 - accuracy: 0.6627\n",
      "Epoch 6/100\n",
      "197/197 [==============================] - 0s 738us/step - loss: 0.6413 - accuracy: 0.6630\n",
      "Epoch 7/100\n",
      "197/197 [==============================] - 0s 871us/step - loss: 0.6411 - accuracy: 0.6652\n",
      "Epoch 8/100\n",
      "197/197 [==============================] - 0s 896us/step - loss: 0.6410 - accuracy: 0.6662\n",
      "Epoch 9/100\n",
      "197/197 [==============================] - 0s 762us/step - loss: 0.6409 - accuracy: 0.6665\n",
      "Epoch 10/100\n",
      "197/197 [==============================] - 0s 717us/step - loss: 0.6408 - accuracy: 0.6671\n",
      "Epoch 11/100\n",
      "197/197 [==============================] - 0s 826us/step - loss: 0.6407 - accuracy: 0.6671\n",
      "Epoch 12/100\n",
      "197/197 [==============================] - 0s 804us/step - loss: 0.6406 - accuracy: 0.6675\n",
      "Epoch 13/100\n",
      "197/197 [==============================] - 0s 787us/step - loss: 0.6406 - accuracy: 0.6676\n",
      "Epoch 14/100\n",
      "197/197 [==============================] - 0s 770us/step - loss: 0.6405 - accuracy: 0.6678\n",
      "Epoch 15/100\n",
      "197/197 [==============================] - 0s 760us/step - loss: 0.6404 - accuracy: 0.6694\n",
      "Epoch 16/100\n",
      "197/197 [==============================] - 0s 839us/step - loss: 0.6404 - accuracy: 0.6687\n",
      "Epoch 17/100\n",
      "197/197 [==============================] - 0s 779us/step - loss: 0.6404 - accuracy: 0.6686\n",
      "Epoch 18/100\n",
      "197/197 [==============================] - 0s 744us/step - loss: 0.6403 - accuracy: 0.6681\n",
      "Epoch 19/100\n",
      "197/197 [==============================] - 0s 706us/step - loss: 0.6403 - accuracy: 0.6690\n",
      "Epoch 20/100\n",
      "197/197 [==============================] - 0s 751us/step - loss: 0.6402 - accuracy: 0.6686\n",
      "Epoch 21/100\n",
      "197/197 [==============================] - 0s 821us/step - loss: 0.6402 - accuracy: 0.6698\n",
      "Epoch 22/100\n",
      "197/197 [==============================] - 0s 843us/step - loss: 0.6402 - accuracy: 0.6681\n",
      "Epoch 23/100\n",
      "197/197 [==============================] - 0s 782us/step - loss: 0.6402 - accuracy: 0.6687\n",
      "Epoch 24/100\n",
      "197/197 [==============================] - 0s 790us/step - loss: 0.6401 - accuracy: 0.6721\n",
      "Epoch 25/100\n",
      "197/197 [==============================] - 0s 754us/step - loss: 0.6401 - accuracy: 0.6692\n",
      "Epoch 26/100\n",
      "197/197 [==============================] - 0s 852us/step - loss: 0.6400 - accuracy: 0.6686\n",
      "Epoch 27/100\n",
      "197/197 [==============================] - 0s 779us/step - loss: 0.6400 - accuracy: 0.6711\n",
      "Epoch 28/100\n",
      "197/197 [==============================] - 0s 794us/step - loss: 0.6400 - accuracy: 0.6681\n",
      "Epoch 29/100\n",
      "197/197 [==============================] - 0s 875us/step - loss: 0.6400 - accuracy: 0.6698\n",
      "Epoch 30/100\n",
      "197/197 [==============================] - 0s 806us/step - loss: 0.6399 - accuracy: 0.6708\n",
      "Epoch 31/100\n",
      "197/197 [==============================] - 0s 884us/step - loss: 0.6399 - accuracy: 0.6698\n",
      "Epoch 32/100\n",
      "197/197 [==============================] - 0s 820us/step - loss: 0.6399 - accuracy: 0.6706\n",
      "Epoch 33/100\n",
      "197/197 [==============================] - 0s 744us/step - loss: 0.6399 - accuracy: 0.6702\n",
      "Epoch 34/100\n",
      "197/197 [==============================] - 0s 730us/step - loss: 0.6399 - accuracy: 0.6700\n",
      "Epoch 35/100\n",
      "197/197 [==============================] - 0s 724us/step - loss: 0.6399 - accuracy: 0.6716\n",
      "Epoch 36/100\n",
      "197/197 [==============================] - 0s 844us/step - loss: 0.6399 - accuracy: 0.6708\n",
      "Epoch 37/100\n",
      "197/197 [==============================] - 0s 877us/step - loss: 0.6399 - accuracy: 0.6716\n",
      "Epoch 38/100\n",
      "197/197 [==============================] - 0s 873us/step - loss: 0.6399 - accuracy: 0.6713\n",
      "Epoch 39/100\n",
      "197/197 [==============================] - 0s 827us/step - loss: 0.6399 - accuracy: 0.6714\n",
      "Epoch 40/100\n",
      "197/197 [==============================] - 0s 826us/step - loss: 0.6398 - accuracy: 0.6714\n",
      "Epoch 41/100\n",
      "197/197 [==============================] - 0s 839us/step - loss: 0.6398 - accuracy: 0.6717\n",
      "Epoch 42/100\n",
      "197/197 [==============================] - 0s 881us/step - loss: 0.6398 - accuracy: 0.6716\n",
      "Epoch 43/100\n",
      "197/197 [==============================] - 0s 851us/step - loss: 0.6399 - accuracy: 0.6719\n",
      "Epoch 44/100\n",
      "197/197 [==============================] - 0s 768us/step - loss: 0.6398 - accuracy: 0.6717\n",
      "Epoch 45/100\n",
      "197/197 [==============================] - 0s 719us/step - loss: 0.6398 - accuracy: 0.6713\n",
      "Epoch 46/100\n",
      "197/197 [==============================] - 0s 818us/step - loss: 0.6398 - accuracy: 0.6714\n",
      "Epoch 47/100\n",
      "197/197 [==============================] - 0s 861us/step - loss: 0.6398 - accuracy: 0.6717\n",
      "Epoch 48/100\n",
      "197/197 [==============================] - 0s 833us/step - loss: 0.6398 - accuracy: 0.6710\n",
      "Epoch 49/100\n",
      "197/197 [==============================] - 0s 845us/step - loss: 0.6398 - accuracy: 0.6722\n",
      "Epoch 50/100\n",
      "197/197 [==============================] - 0s 847us/step - loss: 0.6397 - accuracy: 0.6721\n",
      "Epoch 51/100\n",
      "197/197 [==============================] - 0s 816us/step - loss: 0.6398 - accuracy: 0.6716\n",
      "Epoch 52/100\n",
      "197/197 [==============================] - 0s 795us/step - loss: 0.6397 - accuracy: 0.6713\n",
      "Epoch 53/100\n",
      "197/197 [==============================] - 0s 856us/step - loss: 0.6397 - accuracy: 0.6721\n",
      "Epoch 54/100\n",
      "197/197 [==============================] - 0s 718us/step - loss: 0.6398 - accuracy: 0.6724\n",
      "Epoch 55/100\n",
      "197/197 [==============================] - 0s 762us/step - loss: 0.6398 - accuracy: 0.6724\n",
      "Epoch 56/100\n",
      "197/197 [==============================] - 0s 818us/step - loss: 0.6397 - accuracy: 0.6717\n",
      "Epoch 57/100\n",
      "197/197 [==============================] - 0s 816us/step - loss: 0.6397 - accuracy: 0.6705\n",
      "Epoch 58/100\n",
      "197/197 [==============================] - 0s 799us/step - loss: 0.6397 - accuracy: 0.6721\n",
      "Epoch 59/100\n",
      "197/197 [==============================] - 0s 698us/step - loss: 0.6398 - accuracy: 0.6719\n",
      "Epoch 60/100\n",
      "197/197 [==============================] - 0s 791us/step - loss: 0.6397 - accuracy: 0.6711\n",
      "Epoch 61/100\n",
      "197/197 [==============================] - 0s 711us/step - loss: 0.6397 - accuracy: 0.6729\n",
      "Epoch 62/100\n",
      "197/197 [==============================] - 0s 922us/step - loss: 0.6397 - accuracy: 0.6719\n",
      "Epoch 63/100\n",
      "197/197 [==============================] - 0s 809us/step - loss: 0.6397 - accuracy: 0.6725\n",
      "Epoch 64/100\n",
      "197/197 [==============================] - 0s 728us/step - loss: 0.6397 - accuracy: 0.6722\n",
      "Epoch 65/100\n",
      "197/197 [==============================] - 0s 748us/step - loss: 0.6397 - accuracy: 0.6724\n",
      "Epoch 66/100\n",
      "197/197 [==============================] - 0s 751us/step - loss: 0.6397 - accuracy: 0.6727\n",
      "Epoch 67/100\n",
      "197/197 [==============================] - 0s 843us/step - loss: 0.6397 - accuracy: 0.6724\n",
      "Epoch 68/100\n",
      "197/197 [==============================] - 0s 774us/step - loss: 0.6397 - accuracy: 0.6724\n",
      "Epoch 69/100\n",
      "197/197 [==============================] - 0s 753us/step - loss: 0.6397 - accuracy: 0.6724\n",
      "Epoch 70/100\n",
      "197/197 [==============================] - 0s 714us/step - loss: 0.6397 - accuracy: 0.6719\n",
      "Epoch 71/100\n",
      "197/197 [==============================] - 0s 670us/step - loss: 0.6397 - accuracy: 0.6719\n",
      "Epoch 72/100\n",
      "197/197 [==============================] - 0s 703us/step - loss: 0.6397 - accuracy: 0.6724\n",
      "Epoch 73/100\n",
      "197/197 [==============================] - 0s 689us/step - loss: 0.6396 - accuracy: 0.6724\n",
      "Epoch 74/100\n",
      "197/197 [==============================] - 0s 816us/step - loss: 0.6397 - accuracy: 0.6725\n",
      "Epoch 75/100\n",
      "197/197 [==============================] - 0s 758us/step - loss: 0.6397 - accuracy: 0.6725\n",
      "Epoch 76/100\n",
      "197/197 [==============================] - 0s 660us/step - loss: 0.6397 - accuracy: 0.6719\n",
      "Epoch 77/100\n",
      "197/197 [==============================] - 0s 751us/step - loss: 0.6397 - accuracy: 0.6714\n",
      "Epoch 78/100\n",
      "197/197 [==============================] - 0s 752us/step - loss: 0.6396 - accuracy: 0.6722\n",
      "Epoch 79/100\n"
     ]
    },
    {
     "name": "stdout",
     "output_type": "stream",
     "text": [
      "197/197 [==============================] - 0s 744us/step - loss: 0.6396 - accuracy: 0.6719\n",
      "Epoch 80/100\n",
      "197/197 [==============================] - 0s 731us/step - loss: 0.6396 - accuracy: 0.6719\n",
      "Epoch 81/100\n",
      "197/197 [==============================] - 0s 757us/step - loss: 0.6396 - accuracy: 0.6725\n",
      "Epoch 82/100\n",
      "197/197 [==============================] - 0s 675us/step - loss: 0.6396 - accuracy: 0.6722\n",
      "Epoch 83/100\n",
      "197/197 [==============================] - 0s 645us/step - loss: 0.6396 - accuracy: 0.6722\n",
      "Epoch 84/100\n",
      "197/197 [==============================] - 0s 676us/step - loss: 0.6396 - accuracy: 0.6737\n",
      "Epoch 85/100\n",
      "197/197 [==============================] - 0s 762us/step - loss: 0.6396 - accuracy: 0.6719\n",
      "Epoch 86/100\n",
      "197/197 [==============================] - 0s 720us/step - loss: 0.6396 - accuracy: 0.6722\n",
      "Epoch 87/100\n",
      "197/197 [==============================] - 0s 649us/step - loss: 0.6396 - accuracy: 0.6719\n",
      "Epoch 88/100\n",
      "197/197 [==============================] - 0s 693us/step - loss: 0.6396 - accuracy: 0.6719\n",
      "Epoch 89/100\n",
      "197/197 [==============================] - 0s 727us/step - loss: 0.6396 - accuracy: 0.6725\n",
      "Epoch 90/100\n",
      "197/197 [==============================] - 0s 723us/step - loss: 0.6396 - accuracy: 0.6738\n",
      "Epoch 91/100\n",
      "197/197 [==============================] - 0s 849us/step - loss: 0.6396 - accuracy: 0.6725\n",
      "Epoch 92/100\n",
      "197/197 [==============================] - 0s 746us/step - loss: 0.6396 - accuracy: 0.6721\n",
      "Epoch 93/100\n",
      "197/197 [==============================] - 0s 663us/step - loss: 0.6396 - accuracy: 0.6721\n",
      "Epoch 94/100\n",
      "197/197 [==============================] - 0s 662us/step - loss: 0.6396 - accuracy: 0.6725\n",
      "Epoch 95/100\n",
      "197/197 [==============================] - 0s 719us/step - loss: 0.6396 - accuracy: 0.6725\n",
      "Epoch 96/100\n",
      "197/197 [==============================] - 0s 752us/step - loss: 0.6396 - accuracy: 0.6724\n",
      "Epoch 97/100\n",
      "197/197 [==============================] - 0s 668us/step - loss: 0.6396 - accuracy: 0.6719\n",
      "Epoch 98/100\n",
      "197/197 [==============================] - 0s 732us/step - loss: 0.6396 - accuracy: 0.6714\n",
      "Epoch 99/100\n",
      "197/197 [==============================] - 0s 712us/step - loss: 0.6396 - accuracy: 0.6730\n",
      "Epoch 100/100\n",
      "197/197 [==============================] - 0s 758us/step - loss: 0.6396 - accuracy: 0.6719\n"
     ]
    },
    {
     "data": {
      "text/plain": [
       "<keras.callbacks.History at 0x7f8f81498e20>"
      ]
     },
     "execution_count": 116,
     "metadata": {},
     "output_type": "execute_result"
    }
   ],
   "source": [
    "basic_model.compile(optimizer='adam',\n",
    "              loss=tf.keras.losses.BinaryCrossentropy(from_logits=True),\n",
    "              metrics=['accuracy'])\n",
    "basic_model.fit(X_train, y_train, epochs=100)"
   ]
  },
  {
   "cell_type": "code",
   "execution_count": 117,
   "metadata": {},
   "outputs": [
    {
     "name": "stdout",
     "output_type": "stream",
     "text": [
      "52/52 [==============================] - 0s 521us/step - loss: 0.6618 - accuracy: 0.6757\n",
      "Loss =  0.6617915630340576\n",
      "Accuracy =  0.6757082343101501\n"
     ]
    }
   ],
   "source": [
    "# Test, Loss and accuracy\n",
    "loss_and_metrics = basic_model.evaluate(X_test, y_test)\n",
    "print('Loss = ',loss_and_metrics[0])\n",
    "print('Accuracy = ',loss_and_metrics[1])"
   ]
  },
  {
   "cell_type": "code",
   "execution_count": null,
   "metadata": {},
   "outputs": [],
   "source": []
  },
  {
   "cell_type": "markdown",
   "metadata": {},
   "source": [
    "### Keras 2"
   ]
  },
  {
   "cell_type": "code",
   "execution_count": 119,
   "metadata": {},
   "outputs": [],
   "source": [
    "import keras\n",
    "from keras.models import Sequential   # importing Sequential model\n",
    "from keras.layers import Dense        # importing Dense layers\n",
    "import keras.optimizers\n",
    "import tensorflow as tf"
   ]
  },
  {
   "cell_type": "code",
   "execution_count": 124,
   "metadata": {},
   "outputs": [],
   "source": [
    "model = keras.Sequential([\n",
    "    keras.layers.Flatten(input_shape=(5,)),\n",
    "    keras.layers.Dense(16, activation=tf.nn.relu),\n",
    "    keras.layers.Dense(32, activation=tf.nn.relu),\n",
    "    keras.layers.Dense(16, activation=tf.nn.relu),\n",
    "    keras.layers.Dense(1, activation=tf.nn.sigmoid),\n",
    "])"
   ]
  },
  {
   "cell_type": "code",
   "execution_count": 125,
   "metadata": {},
   "outputs": [
    {
     "name": "stdout",
     "output_type": "stream",
     "text": [
      "Epoch 1/10\n",
      "6300/6300 [==============================] - 4s 630us/step - loss: 0.6069 - accuracy: 0.6749\n",
      "Epoch 2/10\n",
      "6300/6300 [==============================] - 4s 631us/step - loss: 0.5869 - accuracy: 0.6935\n",
      "Epoch 3/10\n",
      "6300/6300 [==============================] - 4s 631us/step - loss: 0.5746 - accuracy: 0.7022\n",
      "Epoch 4/10\n",
      "6300/6300 [==============================] - 4s 634us/step - loss: 0.5677 - accuracy: 0.7151\n",
      "Epoch 5/10\n",
      "6300/6300 [==============================] - 4s 648us/step - loss: 0.5611 - accuracy: 0.7202\n",
      "Epoch 6/10\n",
      "6300/6300 [==============================] - 4s 643us/step - loss: 0.5568 - accuracy: 0.7156\n",
      "Epoch 7/10\n",
      "6300/6300 [==============================] - 4s 672us/step - loss: 0.5540 - accuracy: 0.7241\n",
      "Epoch 8/10\n",
      "6300/6300 [==============================] - 5s 724us/step - loss: 0.5498 - accuracy: 0.7252\n",
      "Epoch 9/10\n",
      "6300/6300 [==============================] - 4s 657us/step - loss: 0.5476 - accuracy: 0.7270\n",
      "Epoch 10/10\n",
      "6300/6300 [==============================] - 4s 671us/step - loss: 0.5454 - accuracy: 0.7263\n"
     ]
    },
    {
     "data": {
      "text/plain": [
       "<keras.callbacks.History at 0x7f8fa188ee80>"
      ]
     },
     "execution_count": 125,
     "metadata": {},
     "output_type": "execute_result"
    }
   ],
   "source": [
    "model.compile(optimizer='adam',\n",
    "              loss='binary_crossentropy',\n",
    "              metrics=['accuracy'])\n",
    "\n",
    "model.fit(X_train, y_train, epochs=10, batch_size=1)"
   ]
  },
  {
   "cell_type": "code",
   "execution_count": 131,
   "metadata": {},
   "outputs": [
    {
     "name": "stdout",
     "output_type": "stream",
     "text": [
      "52/52 [==============================] - 0s 610us/step - loss: 0.5748 - accuracy: 0.7058\n",
      "Loss =  0.5748496055603027\n",
      "Accuracy =  0.705846905708313\n"
     ]
    }
   ],
   "source": [
    "# Test, Loss and accuracy\n",
    "loss_and_metrics = model.evaluate(X_test, y_test)\n",
    "print('Loss = ',loss_and_metrics[0])\n",
    "print('Accuracy = ',loss_and_metrics[1])"
   ]
  },
  {
   "cell_type": "code",
   "execution_count": null,
   "metadata": {},
   "outputs": [],
   "source": []
  },
  {
   "cell_type": "code",
   "execution_count": null,
   "metadata": {},
   "outputs": [],
   "source": []
  },
  {
   "cell_type": "code",
   "execution_count": null,
   "metadata": {},
   "outputs": [],
   "source": []
  },
  {
   "cell_type": "code",
   "execution_count": null,
   "metadata": {},
   "outputs": [],
   "source": []
  },
  {
   "cell_type": "code",
   "execution_count": 133,
   "metadata": {},
   "outputs": [],
   "source": [
    "# Import the model we are using\n",
    "from sklearn.ensemble import RandomForestClassifier\n",
    "# Instantiate model with 1000 decision trees\n",
    "rf = RandomForestClassifier(n_estimators = 1000, random_state = 42)\n",
    "# Train the model on training data\n",
    "rf.fit(X_train, y_train);"
   ]
  },
  {
   "cell_type": "code",
   "execution_count": 134,
   "metadata": {},
   "outputs": [
    {
     "name": "stdout",
     "output_type": "stream",
     "text": [
      "[1 0 0 ... 0 0 0]\n"
     ]
    }
   ],
   "source": [
    "# Use the forest's predict method on the test data\n",
    "predictions = rf.predict(X_test)\n",
    "# Test, Loss and accuracy\n",
    "print(predictions)\n",
    "\n"
   ]
  },
  {
   "cell_type": "code",
   "execution_count": null,
   "metadata": {},
   "outputs": [],
   "source": []
  }
 ],
 "metadata": {
  "kernelspec": {
   "display_name": "Python 3",
   "language": "python",
   "name": "python3"
  },
  "language_info": {
   "codemirror_mode": {
    "name": "ipython",
    "version": 3
   },
   "file_extension": ".py",
   "mimetype": "text/x-python",
   "name": "python",
   "nbconvert_exporter": "python",
   "pygments_lexer": "ipython3",
   "version": "3.8.5"
  }
 },
 "nbformat": 4,
 "nbformat_minor": 4
}
