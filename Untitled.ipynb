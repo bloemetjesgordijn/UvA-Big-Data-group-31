{
 "cells": [
  {
   "cell_type": "code",
   "execution_count": 4,
   "metadata": {
    "scrolled": true
   },
   "outputs": [
    {
     "name": "stdout",
     "output_type": "stream",
     "text": [
      "Requirement already satisfied: unidecode in /Users/casbertrams/opt/anaconda3/lib/python3.8/site-packages (1.3.4)\r\n"
     ]
    }
   ],
   "source": [
    "!pip install unidecode"
   ]
  },
  {
   "cell_type": "code",
   "execution_count": 1,
   "metadata": {},
   "outputs": [],
   "source": [
    "import os\n",
    "import duckdb\n",
    "import charade\n",
    "import math\n",
    "import unidecode\n",
    "import pandas as pd\n"
   ]
  },
  {
   "cell_type": "code",
   "execution_count": 2,
   "metadata": {},
   "outputs": [
    {
     "name": "stdout",
     "output_type": "stream",
     "text": [
      "['test_hidden', 'train1', 'train2', 'train3', 'train4', 'train5', 'train6', 'train7', 'train8', 'validation_hidden']\n"
     ]
    }
   ],
   "source": [
    "conn = duckdb.connect('db/db.duckdb', read_only=False)\n",
    "print(conn.execute('PRAGMA show_tables').fetchdf()['name'].tolist())\n"
   ]
  },
  {
   "cell_type": "markdown",
   "metadata": {
    "heading_collapsed": true
   },
   "source": [
    "## Initialize DuckDB"
   ]
  },
  {
   "cell_type": "code",
   "execution_count": 6,
   "metadata": {
    "hidden": true
   },
   "outputs": [
    {
     "name": "stdout",
     "output_type": "stream",
     "text": [
      "[]\n"
     ]
    }
   ],
   "source": [
    "conn = duckdb.connect('db.duckdb', read_only=False)\n",
    "\n",
    "for i in conn.execute('PRAGMA show_tables').fetchdf()['name'].tolist():\n",
    "    conn.execute(f\"DROP table {i}\")\n",
    "print(conn.execute('PRAGMA show_tables').fetchdf()['name'].tolist())"
   ]
  },
  {
   "cell_type": "code",
   "execution_count": 7,
   "metadata": {
    "hidden": true
   },
   "outputs": [
    {
     "name": "stdout",
     "output_type": "stream",
     "text": [
      "['train1', 'train2', 'train3', 'train4', 'train5', 'train6', 'train7', 'train8']\n"
     ]
    }
   ],
   "source": [
    "# set path for data\n",
    "data_root = 'imdb'\n",
    "train_table_name_list = []\n",
    "for fname in os.listdir(data_root):\n",
    "    if fname.startswith('train'):\n",
    "        # load train csv in pandas df\n",
    "        path = os.path.join(data_root, fname)\n",
    "        df = pd.read_csv(path)\n",
    "\n",
    "        # register and create in duckdb\n",
    "        new_name = ''.join(fname.split('.')[0].split('-'))\n",
    "        train_table_name_list.append(new_name)\n",
    "        conn.register(new_name, df)\n",
    "        \n",
    "print(conn.execute('PRAGMA show_tables').fetchdf()['name'].tolist())"
   ]
  },
  {
   "cell_type": "markdown",
   "metadata": {},
   "source": [
    "## Importing train tables from DuckDB"
   ]
  },
  {
   "cell_type": "code",
   "execution_count": 3,
   "metadata": {},
   "outputs": [
    {
     "name": "stdout",
     "output_type": "stream",
     "text": [
      "(7959, 9)\n",
      "(2041, 8)\n"
     ]
    }
   ],
   "source": [
    "tables = conn.execute('PRAGMA show_tables').fetchdf()['name'].tolist()\n",
    "frames = []\n",
    "test_frames = []\n",
    "for i in tables:\n",
    "    if i.startswith('train'):\n",
    "        frames.append(conn.execute(f\"SELECT * FROM {i}\").fetchdf())\n",
    "    else:\n",
    "        test_frames.append(conn.execute(f\"SELECT * FROM {i}\").fetchdf())\n",
    "full_train_df = pd.concat(frames)\n",
    "full_test_df = pd.concat(test_frames)\n",
    "print(full_train_df.shape)\n",
    "print(full_test_df.shape)"
   ]
  },
  {
   "cell_type": "markdown",
   "metadata": {
    "heading_collapsed": true
   },
   "source": [
    "## Getting data from IMDB"
   ]
  },
  {
   "cell_type": "code",
   "execution_count": 10,
   "metadata": {
    "hidden": true
   },
   "outputs": [
    {
     "ename": "KeyboardInterrupt",
     "evalue": "",
     "output_type": "error",
     "traceback": [
      "\u001b[0;31m---------------------------------------------------------------------------\u001b[0m",
      "\u001b[0;31mKeyboardInterrupt\u001b[0m                         Traceback (most recent call last)",
      "\u001b[0;32m<ipython-input-10-bb5b2b129151>\u001b[0m in \u001b[0;36m<module>\u001b[0;34m\u001b[0m\n\u001b[1;32m      5\u001b[0m \u001b[0mtitle_basics_gz_url\u001b[0m \u001b[0;34m=\u001b[0m \u001b[0;34m'https://datasets.imdbws.com/title.basics.tsv.gz'\u001b[0m\u001b[0;34m\u001b[0m\u001b[0;34m\u001b[0m\u001b[0m\n\u001b[1;32m      6\u001b[0m \u001b[0;32mtry\u001b[0m\u001b[0;34m:\u001b[0m\u001b[0;34m\u001b[0m\u001b[0;34m\u001b[0m\u001b[0m\n\u001b[0;32m----> 7\u001b[0;31m     \u001b[0mresponse\u001b[0m \u001b[0;34m=\u001b[0m \u001b[0mrequests\u001b[0m\u001b[0;34m.\u001b[0m\u001b[0mget\u001b[0m\u001b[0;34m(\u001b[0m\u001b[0mtitle_basics_gz_url\u001b[0m\u001b[0;34m)\u001b[0m\u001b[0;34m\u001b[0m\u001b[0;34m\u001b[0m\u001b[0m\n\u001b[0m\u001b[1;32m      8\u001b[0m     \u001b[0munzipped\u001b[0m \u001b[0;34m=\u001b[0m \u001b[0mgzip\u001b[0m\u001b[0;34m.\u001b[0m\u001b[0mdecompress\u001b[0m\u001b[0;34m(\u001b[0m\u001b[0mresponse\u001b[0m\u001b[0;34m.\u001b[0m\u001b[0mcontent\u001b[0m\u001b[0;34m)\u001b[0m\u001b[0;34m.\u001b[0m\u001b[0mdecode\u001b[0m\u001b[0;34m(\u001b[0m\u001b[0;34m)\u001b[0m\u001b[0;34m\u001b[0m\u001b[0;34m\u001b[0m\u001b[0m\n\u001b[1;32m      9\u001b[0m     \u001b[0mtitle_basics_df\u001b[0m \u001b[0;34m=\u001b[0m \u001b[0mpd\u001b[0m\u001b[0;34m.\u001b[0m\u001b[0mread_csv\u001b[0m\u001b[0;34m(\u001b[0m\u001b[0mStringIO\u001b[0m\u001b[0;34m(\u001b[0m\u001b[0munzipped\u001b[0m\u001b[0;34m)\u001b[0m\u001b[0;34m,\u001b[0m \u001b[0msep\u001b[0m\u001b[0;34m=\u001b[0m\u001b[0;34m'\\t'\u001b[0m\u001b[0;34m,\u001b[0m \u001b[0mheader\u001b[0m\u001b[0;34m=\u001b[0m\u001b[0;32mNone\u001b[0m\u001b[0;34m)\u001b[0m\u001b[0;34m\u001b[0m\u001b[0;34m\u001b[0m\u001b[0m\n",
      "\u001b[0;32m~/opt/anaconda3/lib/python3.8/site-packages/requests/api.py\u001b[0m in \u001b[0;36mget\u001b[0;34m(url, params, **kwargs)\u001b[0m\n\u001b[1;32m     74\u001b[0m \u001b[0;34m\u001b[0m\u001b[0m\n\u001b[1;32m     75\u001b[0m     \u001b[0mkwargs\u001b[0m\u001b[0;34m.\u001b[0m\u001b[0msetdefault\u001b[0m\u001b[0;34m(\u001b[0m\u001b[0;34m'allow_redirects'\u001b[0m\u001b[0;34m,\u001b[0m \u001b[0;32mTrue\u001b[0m\u001b[0;34m)\u001b[0m\u001b[0;34m\u001b[0m\u001b[0;34m\u001b[0m\u001b[0m\n\u001b[0;32m---> 76\u001b[0;31m     \u001b[0;32mreturn\u001b[0m \u001b[0mrequest\u001b[0m\u001b[0;34m(\u001b[0m\u001b[0;34m'get'\u001b[0m\u001b[0;34m,\u001b[0m \u001b[0murl\u001b[0m\u001b[0;34m,\u001b[0m \u001b[0mparams\u001b[0m\u001b[0;34m=\u001b[0m\u001b[0mparams\u001b[0m\u001b[0;34m,\u001b[0m \u001b[0;34m**\u001b[0m\u001b[0mkwargs\u001b[0m\u001b[0;34m)\u001b[0m\u001b[0;34m\u001b[0m\u001b[0;34m\u001b[0m\u001b[0m\n\u001b[0m\u001b[1;32m     77\u001b[0m \u001b[0;34m\u001b[0m\u001b[0m\n\u001b[1;32m     78\u001b[0m \u001b[0;34m\u001b[0m\u001b[0m\n",
      "\u001b[0;32m~/opt/anaconda3/lib/python3.8/site-packages/requests/api.py\u001b[0m in \u001b[0;36mrequest\u001b[0;34m(method, url, **kwargs)\u001b[0m\n\u001b[1;32m     59\u001b[0m     \u001b[0;31m# cases, and look like a memory leak in others.\u001b[0m\u001b[0;34m\u001b[0m\u001b[0;34m\u001b[0m\u001b[0;34m\u001b[0m\u001b[0m\n\u001b[1;32m     60\u001b[0m     \u001b[0;32mwith\u001b[0m \u001b[0msessions\u001b[0m\u001b[0;34m.\u001b[0m\u001b[0mSession\u001b[0m\u001b[0;34m(\u001b[0m\u001b[0;34m)\u001b[0m \u001b[0;32mas\u001b[0m \u001b[0msession\u001b[0m\u001b[0;34m:\u001b[0m\u001b[0;34m\u001b[0m\u001b[0;34m\u001b[0m\u001b[0m\n\u001b[0;32m---> 61\u001b[0;31m         \u001b[0;32mreturn\u001b[0m \u001b[0msession\u001b[0m\u001b[0;34m.\u001b[0m\u001b[0mrequest\u001b[0m\u001b[0;34m(\u001b[0m\u001b[0mmethod\u001b[0m\u001b[0;34m=\u001b[0m\u001b[0mmethod\u001b[0m\u001b[0;34m,\u001b[0m \u001b[0murl\u001b[0m\u001b[0;34m=\u001b[0m\u001b[0murl\u001b[0m\u001b[0;34m,\u001b[0m \u001b[0;34m**\u001b[0m\u001b[0mkwargs\u001b[0m\u001b[0;34m)\u001b[0m\u001b[0;34m\u001b[0m\u001b[0;34m\u001b[0m\u001b[0m\n\u001b[0m\u001b[1;32m     62\u001b[0m \u001b[0;34m\u001b[0m\u001b[0m\n\u001b[1;32m     63\u001b[0m \u001b[0;34m\u001b[0m\u001b[0m\n",
      "\u001b[0;32m~/opt/anaconda3/lib/python3.8/site-packages/requests/sessions.py\u001b[0m in \u001b[0;36mrequest\u001b[0;34m(self, method, url, params, data, headers, cookies, files, auth, timeout, allow_redirects, proxies, hooks, stream, verify, cert, json)\u001b[0m\n\u001b[1;32m    528\u001b[0m         }\n\u001b[1;32m    529\u001b[0m         \u001b[0msend_kwargs\u001b[0m\u001b[0;34m.\u001b[0m\u001b[0mupdate\u001b[0m\u001b[0;34m(\u001b[0m\u001b[0msettings\u001b[0m\u001b[0;34m)\u001b[0m\u001b[0;34m\u001b[0m\u001b[0;34m\u001b[0m\u001b[0m\n\u001b[0;32m--> 530\u001b[0;31m         \u001b[0mresp\u001b[0m \u001b[0;34m=\u001b[0m \u001b[0mself\u001b[0m\u001b[0;34m.\u001b[0m\u001b[0msend\u001b[0m\u001b[0;34m(\u001b[0m\u001b[0mprep\u001b[0m\u001b[0;34m,\u001b[0m \u001b[0;34m**\u001b[0m\u001b[0msend_kwargs\u001b[0m\u001b[0;34m)\u001b[0m\u001b[0;34m\u001b[0m\u001b[0;34m\u001b[0m\u001b[0m\n\u001b[0m\u001b[1;32m    531\u001b[0m \u001b[0;34m\u001b[0m\u001b[0m\n\u001b[1;32m    532\u001b[0m         \u001b[0;32mreturn\u001b[0m \u001b[0mresp\u001b[0m\u001b[0;34m\u001b[0m\u001b[0;34m\u001b[0m\u001b[0m\n",
      "\u001b[0;32m~/opt/anaconda3/lib/python3.8/site-packages/requests/sessions.py\u001b[0m in \u001b[0;36msend\u001b[0;34m(self, request, **kwargs)\u001b[0m\n\u001b[1;32m    683\u001b[0m \u001b[0;34m\u001b[0m\u001b[0m\n\u001b[1;32m    684\u001b[0m         \u001b[0;32mif\u001b[0m \u001b[0;32mnot\u001b[0m \u001b[0mstream\u001b[0m\u001b[0;34m:\u001b[0m\u001b[0;34m\u001b[0m\u001b[0;34m\u001b[0m\u001b[0m\n\u001b[0;32m--> 685\u001b[0;31m             \u001b[0mr\u001b[0m\u001b[0;34m.\u001b[0m\u001b[0mcontent\u001b[0m\u001b[0;34m\u001b[0m\u001b[0;34m\u001b[0m\u001b[0m\n\u001b[0m\u001b[1;32m    686\u001b[0m \u001b[0;34m\u001b[0m\u001b[0m\n\u001b[1;32m    687\u001b[0m         \u001b[0;32mreturn\u001b[0m \u001b[0mr\u001b[0m\u001b[0;34m\u001b[0m\u001b[0;34m\u001b[0m\u001b[0m\n",
      "\u001b[0;32m~/opt/anaconda3/lib/python3.8/site-packages/requests/models.py\u001b[0m in \u001b[0;36mcontent\u001b[0;34m(self)\u001b[0m\n\u001b[1;32m    827\u001b[0m                 \u001b[0mself\u001b[0m\u001b[0;34m.\u001b[0m\u001b[0m_content\u001b[0m \u001b[0;34m=\u001b[0m \u001b[0;32mNone\u001b[0m\u001b[0;34m\u001b[0m\u001b[0;34m\u001b[0m\u001b[0m\n\u001b[1;32m    828\u001b[0m             \u001b[0;32melse\u001b[0m\u001b[0;34m:\u001b[0m\u001b[0;34m\u001b[0m\u001b[0;34m\u001b[0m\u001b[0m\n\u001b[0;32m--> 829\u001b[0;31m                 \u001b[0mself\u001b[0m\u001b[0;34m.\u001b[0m\u001b[0m_content\u001b[0m \u001b[0;34m=\u001b[0m \u001b[0;34mb''\u001b[0m\u001b[0;34m.\u001b[0m\u001b[0mjoin\u001b[0m\u001b[0;34m(\u001b[0m\u001b[0mself\u001b[0m\u001b[0;34m.\u001b[0m\u001b[0miter_content\u001b[0m\u001b[0;34m(\u001b[0m\u001b[0mCONTENT_CHUNK_SIZE\u001b[0m\u001b[0;34m)\u001b[0m\u001b[0;34m)\u001b[0m \u001b[0;32mor\u001b[0m \u001b[0;34mb''\u001b[0m\u001b[0;34m\u001b[0m\u001b[0;34m\u001b[0m\u001b[0m\n\u001b[0m\u001b[1;32m    830\u001b[0m \u001b[0;34m\u001b[0m\u001b[0m\n\u001b[1;32m    831\u001b[0m         \u001b[0mself\u001b[0m\u001b[0;34m.\u001b[0m\u001b[0m_content_consumed\u001b[0m \u001b[0;34m=\u001b[0m \u001b[0;32mTrue\u001b[0m\u001b[0;34m\u001b[0m\u001b[0;34m\u001b[0m\u001b[0m\n",
      "\u001b[0;32m~/opt/anaconda3/lib/python3.8/site-packages/requests/models.py\u001b[0m in \u001b[0;36mgenerate\u001b[0;34m()\u001b[0m\n\u001b[1;32m    749\u001b[0m             \u001b[0;32mif\u001b[0m \u001b[0mhasattr\u001b[0m\u001b[0;34m(\u001b[0m\u001b[0mself\u001b[0m\u001b[0;34m.\u001b[0m\u001b[0mraw\u001b[0m\u001b[0;34m,\u001b[0m \u001b[0;34m'stream'\u001b[0m\u001b[0;34m)\u001b[0m\u001b[0;34m:\u001b[0m\u001b[0;34m\u001b[0m\u001b[0;34m\u001b[0m\u001b[0m\n\u001b[1;32m    750\u001b[0m                 \u001b[0;32mtry\u001b[0m\u001b[0;34m:\u001b[0m\u001b[0;34m\u001b[0m\u001b[0;34m\u001b[0m\u001b[0m\n\u001b[0;32m--> 751\u001b[0;31m                     \u001b[0;32mfor\u001b[0m \u001b[0mchunk\u001b[0m \u001b[0;32min\u001b[0m \u001b[0mself\u001b[0m\u001b[0;34m.\u001b[0m\u001b[0mraw\u001b[0m\u001b[0;34m.\u001b[0m\u001b[0mstream\u001b[0m\u001b[0;34m(\u001b[0m\u001b[0mchunk_size\u001b[0m\u001b[0;34m,\u001b[0m \u001b[0mdecode_content\u001b[0m\u001b[0;34m=\u001b[0m\u001b[0;32mTrue\u001b[0m\u001b[0;34m)\u001b[0m\u001b[0;34m:\u001b[0m\u001b[0;34m\u001b[0m\u001b[0;34m\u001b[0m\u001b[0m\n\u001b[0m\u001b[1;32m    752\u001b[0m                         \u001b[0;32myield\u001b[0m \u001b[0mchunk\u001b[0m\u001b[0;34m\u001b[0m\u001b[0;34m\u001b[0m\u001b[0m\n\u001b[1;32m    753\u001b[0m                 \u001b[0;32mexcept\u001b[0m \u001b[0mProtocolError\u001b[0m \u001b[0;32mas\u001b[0m \u001b[0me\u001b[0m\u001b[0;34m:\u001b[0m\u001b[0;34m\u001b[0m\u001b[0;34m\u001b[0m\u001b[0m\n",
      "\u001b[0;32m~/opt/anaconda3/lib/python3.8/site-packages/urllib3/response.py\u001b[0m in \u001b[0;36mstream\u001b[0;34m(self, amt, decode_content)\u001b[0m\n\u001b[1;32m    573\u001b[0m         \u001b[0;32melse\u001b[0m\u001b[0;34m:\u001b[0m\u001b[0;34m\u001b[0m\u001b[0;34m\u001b[0m\u001b[0m\n\u001b[1;32m    574\u001b[0m             \u001b[0;32mwhile\u001b[0m \u001b[0;32mnot\u001b[0m \u001b[0mis_fp_closed\u001b[0m\u001b[0;34m(\u001b[0m\u001b[0mself\u001b[0m\u001b[0;34m.\u001b[0m\u001b[0m_fp\u001b[0m\u001b[0;34m)\u001b[0m\u001b[0;34m:\u001b[0m\u001b[0;34m\u001b[0m\u001b[0;34m\u001b[0m\u001b[0m\n\u001b[0;32m--> 575\u001b[0;31m                 \u001b[0mdata\u001b[0m \u001b[0;34m=\u001b[0m \u001b[0mself\u001b[0m\u001b[0;34m.\u001b[0m\u001b[0mread\u001b[0m\u001b[0;34m(\u001b[0m\u001b[0mamt\u001b[0m\u001b[0;34m=\u001b[0m\u001b[0mamt\u001b[0m\u001b[0;34m,\u001b[0m \u001b[0mdecode_content\u001b[0m\u001b[0;34m=\u001b[0m\u001b[0mdecode_content\u001b[0m\u001b[0;34m)\u001b[0m\u001b[0;34m\u001b[0m\u001b[0;34m\u001b[0m\u001b[0m\n\u001b[0m\u001b[1;32m    576\u001b[0m \u001b[0;34m\u001b[0m\u001b[0m\n\u001b[1;32m    577\u001b[0m                 \u001b[0;32mif\u001b[0m \u001b[0mdata\u001b[0m\u001b[0;34m:\u001b[0m\u001b[0;34m\u001b[0m\u001b[0;34m\u001b[0m\u001b[0m\n",
      "\u001b[0;32m~/opt/anaconda3/lib/python3.8/site-packages/urllib3/response.py\u001b[0m in \u001b[0;36mread\u001b[0;34m(self, amt, decode_content, cache_content)\u001b[0m\n\u001b[1;32m    516\u001b[0m             \u001b[0;32melse\u001b[0m\u001b[0;34m:\u001b[0m\u001b[0;34m\u001b[0m\u001b[0;34m\u001b[0m\u001b[0m\n\u001b[1;32m    517\u001b[0m                 \u001b[0mcache_content\u001b[0m \u001b[0;34m=\u001b[0m \u001b[0;32mFalse\u001b[0m\u001b[0;34m\u001b[0m\u001b[0;34m\u001b[0m\u001b[0m\n\u001b[0;32m--> 518\u001b[0;31m                 \u001b[0mdata\u001b[0m \u001b[0;34m=\u001b[0m \u001b[0mself\u001b[0m\u001b[0;34m.\u001b[0m\u001b[0m_fp\u001b[0m\u001b[0;34m.\u001b[0m\u001b[0mread\u001b[0m\u001b[0;34m(\u001b[0m\u001b[0mamt\u001b[0m\u001b[0;34m)\u001b[0m \u001b[0;32mif\u001b[0m \u001b[0;32mnot\u001b[0m \u001b[0mfp_closed\u001b[0m \u001b[0;32melse\u001b[0m \u001b[0;34mb\"\"\u001b[0m\u001b[0;34m\u001b[0m\u001b[0;34m\u001b[0m\u001b[0m\n\u001b[0m\u001b[1;32m    519\u001b[0m                 if (\n\u001b[1;32m    520\u001b[0m                     \u001b[0mamt\u001b[0m \u001b[0;34m!=\u001b[0m \u001b[0;36m0\u001b[0m \u001b[0;32mand\u001b[0m \u001b[0;32mnot\u001b[0m \u001b[0mdata\u001b[0m\u001b[0;34m\u001b[0m\u001b[0;34m\u001b[0m\u001b[0m\n",
      "\u001b[0;32m~/opt/anaconda3/lib/python3.8/http/client.py\u001b[0m in \u001b[0;36mread\u001b[0;34m(self, amt)\u001b[0m\n\u001b[1;32m    456\u001b[0m             \u001b[0;31m# Amount is given, implement using readinto\u001b[0m\u001b[0;34m\u001b[0m\u001b[0;34m\u001b[0m\u001b[0;34m\u001b[0m\u001b[0m\n\u001b[1;32m    457\u001b[0m             \u001b[0mb\u001b[0m \u001b[0;34m=\u001b[0m \u001b[0mbytearray\u001b[0m\u001b[0;34m(\u001b[0m\u001b[0mamt\u001b[0m\u001b[0;34m)\u001b[0m\u001b[0;34m\u001b[0m\u001b[0;34m\u001b[0m\u001b[0m\n\u001b[0;32m--> 458\u001b[0;31m             \u001b[0mn\u001b[0m \u001b[0;34m=\u001b[0m \u001b[0mself\u001b[0m\u001b[0;34m.\u001b[0m\u001b[0mreadinto\u001b[0m\u001b[0;34m(\u001b[0m\u001b[0mb\u001b[0m\u001b[0;34m)\u001b[0m\u001b[0;34m\u001b[0m\u001b[0;34m\u001b[0m\u001b[0m\n\u001b[0m\u001b[1;32m    459\u001b[0m             \u001b[0;32mreturn\u001b[0m \u001b[0mmemoryview\u001b[0m\u001b[0;34m(\u001b[0m\u001b[0mb\u001b[0m\u001b[0;34m)\u001b[0m\u001b[0;34m[\u001b[0m\u001b[0;34m:\u001b[0m\u001b[0mn\u001b[0m\u001b[0;34m]\u001b[0m\u001b[0;34m.\u001b[0m\u001b[0mtobytes\u001b[0m\u001b[0;34m(\u001b[0m\u001b[0;34m)\u001b[0m\u001b[0;34m\u001b[0m\u001b[0;34m\u001b[0m\u001b[0m\n\u001b[1;32m    460\u001b[0m         \u001b[0;32melse\u001b[0m\u001b[0;34m:\u001b[0m\u001b[0;34m\u001b[0m\u001b[0;34m\u001b[0m\u001b[0m\n",
      "\u001b[0;32m~/opt/anaconda3/lib/python3.8/http/client.py\u001b[0m in \u001b[0;36mreadinto\u001b[0;34m(self, b)\u001b[0m\n\u001b[1;32m    500\u001b[0m         \u001b[0;31m# connection, and the user is reading more bytes than will be provided\u001b[0m\u001b[0;34m\u001b[0m\u001b[0;34m\u001b[0m\u001b[0;34m\u001b[0m\u001b[0m\n\u001b[1;32m    501\u001b[0m         \u001b[0;31m# (for example, reading in 1k chunks)\u001b[0m\u001b[0;34m\u001b[0m\u001b[0;34m\u001b[0m\u001b[0;34m\u001b[0m\u001b[0m\n\u001b[0;32m--> 502\u001b[0;31m         \u001b[0mn\u001b[0m \u001b[0;34m=\u001b[0m \u001b[0mself\u001b[0m\u001b[0;34m.\u001b[0m\u001b[0mfp\u001b[0m\u001b[0;34m.\u001b[0m\u001b[0mreadinto\u001b[0m\u001b[0;34m(\u001b[0m\u001b[0mb\u001b[0m\u001b[0;34m)\u001b[0m\u001b[0;34m\u001b[0m\u001b[0;34m\u001b[0m\u001b[0m\n\u001b[0m\u001b[1;32m    503\u001b[0m         \u001b[0;32mif\u001b[0m \u001b[0;32mnot\u001b[0m \u001b[0mn\u001b[0m \u001b[0;32mand\u001b[0m \u001b[0mb\u001b[0m\u001b[0;34m:\u001b[0m\u001b[0;34m\u001b[0m\u001b[0;34m\u001b[0m\u001b[0m\n\u001b[1;32m    504\u001b[0m             \u001b[0;31m# Ideally, we would raise IncompleteRead if the content-length\u001b[0m\u001b[0;34m\u001b[0m\u001b[0;34m\u001b[0m\u001b[0;34m\u001b[0m\u001b[0m\n",
      "\u001b[0;32m~/opt/anaconda3/lib/python3.8/socket.py\u001b[0m in \u001b[0;36mreadinto\u001b[0;34m(self, b)\u001b[0m\n\u001b[1;32m    667\u001b[0m         \u001b[0;32mwhile\u001b[0m \u001b[0;32mTrue\u001b[0m\u001b[0;34m:\u001b[0m\u001b[0;34m\u001b[0m\u001b[0;34m\u001b[0m\u001b[0m\n\u001b[1;32m    668\u001b[0m             \u001b[0;32mtry\u001b[0m\u001b[0;34m:\u001b[0m\u001b[0;34m\u001b[0m\u001b[0;34m\u001b[0m\u001b[0m\n\u001b[0;32m--> 669\u001b[0;31m                 \u001b[0;32mreturn\u001b[0m \u001b[0mself\u001b[0m\u001b[0;34m.\u001b[0m\u001b[0m_sock\u001b[0m\u001b[0;34m.\u001b[0m\u001b[0mrecv_into\u001b[0m\u001b[0;34m(\u001b[0m\u001b[0mb\u001b[0m\u001b[0;34m)\u001b[0m\u001b[0;34m\u001b[0m\u001b[0;34m\u001b[0m\u001b[0m\n\u001b[0m\u001b[1;32m    670\u001b[0m             \u001b[0;32mexcept\u001b[0m \u001b[0mtimeout\u001b[0m\u001b[0;34m:\u001b[0m\u001b[0;34m\u001b[0m\u001b[0;34m\u001b[0m\u001b[0m\n\u001b[1;32m    671\u001b[0m                 \u001b[0mself\u001b[0m\u001b[0;34m.\u001b[0m\u001b[0m_timeout_occurred\u001b[0m \u001b[0;34m=\u001b[0m \u001b[0;32mTrue\u001b[0m\u001b[0;34m\u001b[0m\u001b[0;34m\u001b[0m\u001b[0m\n",
      "\u001b[0;32m~/opt/anaconda3/lib/python3.8/ssl.py\u001b[0m in \u001b[0;36mrecv_into\u001b[0;34m(self, buffer, nbytes, flags)\u001b[0m\n\u001b[1;32m   1239\u001b[0m                   \u001b[0;34m\"non-zero flags not allowed in calls to recv_into() on %s\"\u001b[0m \u001b[0;34m%\u001b[0m\u001b[0;34m\u001b[0m\u001b[0;34m\u001b[0m\u001b[0m\n\u001b[1;32m   1240\u001b[0m                   self.__class__)\n\u001b[0;32m-> 1241\u001b[0;31m             \u001b[0;32mreturn\u001b[0m \u001b[0mself\u001b[0m\u001b[0;34m.\u001b[0m\u001b[0mread\u001b[0m\u001b[0;34m(\u001b[0m\u001b[0mnbytes\u001b[0m\u001b[0;34m,\u001b[0m \u001b[0mbuffer\u001b[0m\u001b[0;34m)\u001b[0m\u001b[0;34m\u001b[0m\u001b[0;34m\u001b[0m\u001b[0m\n\u001b[0m\u001b[1;32m   1242\u001b[0m         \u001b[0;32melse\u001b[0m\u001b[0;34m:\u001b[0m\u001b[0;34m\u001b[0m\u001b[0;34m\u001b[0m\u001b[0m\n\u001b[1;32m   1243\u001b[0m             \u001b[0;32mreturn\u001b[0m \u001b[0msuper\u001b[0m\u001b[0;34m(\u001b[0m\u001b[0;34m)\u001b[0m\u001b[0;34m.\u001b[0m\u001b[0mrecv_into\u001b[0m\u001b[0;34m(\u001b[0m\u001b[0mbuffer\u001b[0m\u001b[0;34m,\u001b[0m \u001b[0mnbytes\u001b[0m\u001b[0;34m,\u001b[0m \u001b[0mflags\u001b[0m\u001b[0;34m)\u001b[0m\u001b[0;34m\u001b[0m\u001b[0;34m\u001b[0m\u001b[0m\n",
      "\u001b[0;32m~/opt/anaconda3/lib/python3.8/ssl.py\u001b[0m in \u001b[0;36mread\u001b[0;34m(self, len, buffer)\u001b[0m\n\u001b[1;32m   1097\u001b[0m         \u001b[0;32mtry\u001b[0m\u001b[0;34m:\u001b[0m\u001b[0;34m\u001b[0m\u001b[0;34m\u001b[0m\u001b[0m\n\u001b[1;32m   1098\u001b[0m             \u001b[0;32mif\u001b[0m \u001b[0mbuffer\u001b[0m \u001b[0;32mis\u001b[0m \u001b[0;32mnot\u001b[0m \u001b[0;32mNone\u001b[0m\u001b[0;34m:\u001b[0m\u001b[0;34m\u001b[0m\u001b[0;34m\u001b[0m\u001b[0m\n\u001b[0;32m-> 1099\u001b[0;31m                 \u001b[0;32mreturn\u001b[0m \u001b[0mself\u001b[0m\u001b[0;34m.\u001b[0m\u001b[0m_sslobj\u001b[0m\u001b[0;34m.\u001b[0m\u001b[0mread\u001b[0m\u001b[0;34m(\u001b[0m\u001b[0mlen\u001b[0m\u001b[0;34m,\u001b[0m \u001b[0mbuffer\u001b[0m\u001b[0;34m)\u001b[0m\u001b[0;34m\u001b[0m\u001b[0;34m\u001b[0m\u001b[0m\n\u001b[0m\u001b[1;32m   1100\u001b[0m             \u001b[0;32melse\u001b[0m\u001b[0;34m:\u001b[0m\u001b[0;34m\u001b[0m\u001b[0;34m\u001b[0m\u001b[0m\n\u001b[1;32m   1101\u001b[0m                 \u001b[0;32mreturn\u001b[0m \u001b[0mself\u001b[0m\u001b[0;34m.\u001b[0m\u001b[0m_sslobj\u001b[0m\u001b[0;34m.\u001b[0m\u001b[0mread\u001b[0m\u001b[0;34m(\u001b[0m\u001b[0mlen\u001b[0m\u001b[0;34m)\u001b[0m\u001b[0;34m\u001b[0m\u001b[0;34m\u001b[0m\u001b[0m\n",
      "\u001b[0;31mKeyboardInterrupt\u001b[0m: "
     ]
    }
   ],
   "source": [
    "import requests\n",
    "import gzip\n",
    "from io import StringIO\n",
    "\n",
    "title_basics_gz_url = 'https://datasets.imdbws.com/title.basics.tsv.gz'\n",
    "try:\n",
    "    response = requests.get(title_basics_gz_url)\n",
    "    unzipped = gzip.decompress(response.content).decode()\n",
    "    title_basics_df = pd.read_csv(StringIO(unzipped), sep='\\t', header=None)\n",
    "except Exception as e:\n",
    "    print(f\"Error: {e}\")\n"
   ]
  },
  {
   "cell_type": "code",
   "execution_count": 6,
   "metadata": {
    "hidden": true
   },
   "outputs": [
    {
     "data": {
      "text/html": [
       "<div>\n",
       "<style scoped>\n",
       "    .dataframe tbody tr th:only-of-type {\n",
       "        vertical-align: middle;\n",
       "    }\n",
       "\n",
       "    .dataframe tbody tr th {\n",
       "        vertical-align: top;\n",
       "    }\n",
       "\n",
       "    .dataframe thead th {\n",
       "        text-align: right;\n",
       "    }\n",
       "</style>\n",
       "<table border=\"1\" class=\"dataframe\">\n",
       "  <thead>\n",
       "    <tr style=\"text-align: right;\">\n",
       "      <th></th>\n",
       "      <th>tconst</th>\n",
       "      <th>titleType</th>\n",
       "      <th>primaryTitle</th>\n",
       "      <th>originalTitle</th>\n",
       "      <th>isAdult</th>\n",
       "      <th>startYear</th>\n",
       "      <th>endYear</th>\n",
       "      <th>runtimeMinutes</th>\n",
       "      <th>genres</th>\n",
       "    </tr>\n",
       "  </thead>\n",
       "  <tbody>\n",
       "    <tr>\n",
       "      <th>1</th>\n",
       "      <td>tt0000001</td>\n",
       "      <td>short</td>\n",
       "      <td>Carmencita</td>\n",
       "      <td>Carmencita</td>\n",
       "      <td>0</td>\n",
       "      <td>1894</td>\n",
       "      <td>\\N</td>\n",
       "      <td>1</td>\n",
       "      <td>Documentary,Short</td>\n",
       "    </tr>\n",
       "    <tr>\n",
       "      <th>2</th>\n",
       "      <td>tt0000002</td>\n",
       "      <td>short</td>\n",
       "      <td>Le clown et ses chiens</td>\n",
       "      <td>Le clown et ses chiens</td>\n",
       "      <td>0</td>\n",
       "      <td>1892</td>\n",
       "      <td>\\N</td>\n",
       "      <td>5</td>\n",
       "      <td>Animation,Short</td>\n",
       "    </tr>\n",
       "    <tr>\n",
       "      <th>3</th>\n",
       "      <td>tt0000003</td>\n",
       "      <td>short</td>\n",
       "      <td>Pauvre Pierrot</td>\n",
       "      <td>Pauvre Pierrot</td>\n",
       "      <td>0</td>\n",
       "      <td>1892</td>\n",
       "      <td>\\N</td>\n",
       "      <td>4</td>\n",
       "      <td>Animation,Comedy,Romance</td>\n",
       "    </tr>\n",
       "    <tr>\n",
       "      <th>4</th>\n",
       "      <td>tt0000004</td>\n",
       "      <td>short</td>\n",
       "      <td>Un bon bock</td>\n",
       "      <td>Un bon bock</td>\n",
       "      <td>0</td>\n",
       "      <td>1892</td>\n",
       "      <td>\\N</td>\n",
       "      <td>12</td>\n",
       "      <td>Animation,Short</td>\n",
       "    </tr>\n",
       "    <tr>\n",
       "      <th>5</th>\n",
       "      <td>tt0000005</td>\n",
       "      <td>short</td>\n",
       "      <td>Blacksmith Scene</td>\n",
       "      <td>Blacksmith Scene</td>\n",
       "      <td>0</td>\n",
       "      <td>1893</td>\n",
       "      <td>\\N</td>\n",
       "      <td>1</td>\n",
       "      <td>Comedy,Short</td>\n",
       "    </tr>\n",
       "  </tbody>\n",
       "</table>\n",
       "</div>"
      ],
      "text/plain": [
       "0     tconst titleType            primaryTitle           originalTitle  \\\n",
       "1  tt0000001     short              Carmencita              Carmencita   \n",
       "2  tt0000002     short  Le clown et ses chiens  Le clown et ses chiens   \n",
       "3  tt0000003     short          Pauvre Pierrot          Pauvre Pierrot   \n",
       "4  tt0000004     short             Un bon bock             Un bon bock   \n",
       "5  tt0000005     short        Blacksmith Scene        Blacksmith Scene   \n",
       "\n",
       "0 isAdult startYear endYear runtimeMinutes                    genres  \n",
       "1       0      1894      \\N              1         Documentary,Short  \n",
       "2       0      1892      \\N              5           Animation,Short  \n",
       "3       0      1892      \\N              4  Animation,Comedy,Romance  \n",
       "4       0      1892      \\N             12           Animation,Short  \n",
       "5       0      1893      \\N              1              Comedy,Short  "
      ]
     },
     "execution_count": 6,
     "metadata": {},
     "output_type": "execute_result"
    }
   ],
   "source": [
    "new_header = title_basics_df.iloc[0] \n",
    "title_basics_df = title_basics_df[1:] #take the data less the header row\n",
    "title_basics_df.columns = new_header #set the header row as the df header\n",
    "title_basics_df.head()"
   ]
  },
  {
   "cell_type": "markdown",
   "metadata": {
    "hidden": true
   },
   "source": [
    "### Filter imdb dataset for only the relevant tconsts"
   ]
  },
  {
   "cell_type": "code",
   "execution_count": 11,
   "metadata": {
    "hidden": true
   },
   "outputs": [
    {
     "name": "stdout",
     "output_type": "stream",
     "text": [
      "CPU times: user 379 ms, sys: 2.8 ms, total: 382 ms\n",
      "Wall time: 379 ms\n"
     ]
    }
   ],
   "source": [
    "%%time\n",
    "relevant_tconsts = full_train_df['tconst']\n",
    "mask = title_basics_df['tconst'].isin(relevant_tconsts)\n",
    "relevant_title_basics_df = title_basics_df[mask]"
   ]
  },
  {
   "cell_type": "code",
   "execution_count": 12,
   "metadata": {
    "hidden": true
   },
   "outputs": [
    {
     "name": "stdout",
     "output_type": "stream",
     "text": [
      "0           tconst titleType                                   primaryTitle  \\\n",
      "9238     tt0009369     movie                                         Mickey   \n",
      "10459    tt0010600     movie                                       The Doll   \n",
      "11279    tt0011439     movie                              The Mark of Zorro   \n",
      "11447    tt0011607     movie                             The Parson's Widow   \n",
      "11676    tt0011841     movie                                  Way Down East   \n",
      "...            ...       ...                                            ...   \n",
      "8744873  tt9850344     movie                                    Night Shift   \n",
      "8744892  tt9850386     movie  The Bee Gees: How Can You Mend a Broken Heart   \n",
      "8768128  tt9900782     movie                                         Kaithi   \n",
      "8770015  tt9904802     movie                                    Enemy Lines   \n",
      "8772977  tt9911196     movie                            The Marriage Escape   \n",
      "\n",
      "0                                        originalTitle isAdult startYear  \\\n",
      "9238                                            Mickey       0      1918   \n",
      "10459                                        Die Puppe       0      1919   \n",
      "11279                                The Mark of Zorro       0      1920   \n",
      "11447                                       Prästänkan       0      1920   \n",
      "11676                                    Way Down East       0      1920   \n",
      "...                                                ...     ...       ...   \n",
      "8744873                                         Police       0      2020   \n",
      "8744892  The Bee Gees: How Can You Mend a Broken Heart       0      2020   \n",
      "8768128                                         Kaithi       0      2019   \n",
      "8770015                                    Enemy Lines       0      2020   \n",
      "8772977                 De beentjes van Sint-Hildegard       0      2020   \n",
      "\n",
      "0       endYear runtimeMinutes                       genres  \n",
      "9238         \\N             93                 Comedy,Drama  \n",
      "10459        \\N             66               Comedy,Fantasy  \n",
      "11279        \\N             79    Adventure,Romance,Western  \n",
      "11447        \\N             94          Comedy,Drama,Horror  \n",
      "11676        \\N            145                Drama,Romance  \n",
      "...         ...            ...                          ...  \n",
      "8744873      \\N             98                  Crime,Drama  \n",
      "8744892      \\N            111  Biography,Documentary,Music  \n",
      "8768128      \\N            145        Action,Crime,Thriller  \n",
      "8770015      \\N             92                          War  \n",
      "8772977      \\N            103                 Comedy,Drama  \n",
      "\n",
      "[7959 rows x 9 columns]\n"
     ]
    }
   ],
   "source": [
    "print(relevant_title_basics_df)"
   ]
  },
  {
   "cell_type": "markdown",
   "metadata": {},
   "source": [
    "## Enrich data from other sources"
   ]
  },
  {
   "cell_type": "code",
   "execution_count": 7,
   "metadata": {},
   "outputs": [],
   "source": [
    "with open(os.getcwd() + \"/movietweetings/ratings.dat\", \"r\") as a:\n",
    "    ratings = a.read().splitlines()"
   ]
  },
  {
   "cell_type": "markdown",
   "metadata": {},
   "source": [
    "Filter it for only the relevant tconsts - takes around 2 minutes"
   ]
  },
  {
   "cell_type": "code",
   "execution_count": 45,
   "metadata": {},
   "outputs": [
    {
     "name": "stdout",
     "output_type": "stream",
     "text": [
      "CPU times: user 1min 40s, sys: 891 ms, total: 1min 41s\n",
      "Wall time: 1min 45s\n"
     ]
    }
   ],
   "source": [
    "%%time\n",
    "## This takes 2 minutes.\n",
    "tconst_list = full_train_df['tconst'].tolist()\n",
    "ratings_tconst_list = []\n",
    "ratings_ratings_list = []\n",
    "for i in ratings:\n",
    "    split_item = i.split('::')\n",
    "    tconst = \"tt\" + split_item[1]\n",
    "    if tconst in tconst_list:\n",
    "        rating = split_item[2]\n",
    "        ratings_tconst_list.append(tconst)\n",
    "        ratings_ratings_list.append(int(rating))\n",
    "\n",
    "ratings_df = pd.DataFrame(list(zip(ratings_tconst_list, ratings_ratings_list)), columns =['tconst', 'rating'])\n",
    "mean_ratings_df = ratings_df.groupby(['tconst']).mean()\n"
   ]
  },
  {
   "cell_type": "code",
   "execution_count": null,
   "metadata": {},
   "outputs": [],
   "source": []
  },
  {
   "cell_type": "markdown",
   "metadata": {},
   "source": [
    "## Creating single column dataframes"
   ]
  },
  {
   "cell_type": "code",
   "execution_count": 76,
   "metadata": {},
   "outputs": [],
   "source": [
    "tconst = full_train_df['tconst'].tolist()\n"
   ]
  },
  {
   "cell_type": "code",
   "execution_count": 77,
   "metadata": {},
   "outputs": [],
   "source": [
    "primary_title = []\n",
    "for i in range(len(full_train_df)):\n",
    "    primary_title.append([tconst[i], unidecode.unidecode(full_train_df.iloc[i]['primaryTitle'])])\n"
   ]
  },
  {
   "cell_type": "code",
   "execution_count": 78,
   "metadata": {},
   "outputs": [],
   "source": [
    "original_title = []\n",
    "for i in range(len(full_train_df)):\n",
    "    curr = full_train_df.iloc[i]['originalTitle']\n",
    "    curr_primary_title = full_train_df.iloc[i]['primaryTitle']\n",
    "    if isinstance(curr, str):\n",
    "        original_title.append([tconst[i], unidecode.unidecode(curr)])\n",
    "    else:\n",
    "        original_title.append([tconst[i], ''])\n"
   ]
  },
  {
   "cell_type": "code",
   "execution_count": 79,
   "metadata": {},
   "outputs": [],
   "source": [
    "start_year = []\n",
    "for i in range(len(full_train_df)):\n",
    "    curr = full_train_df.iloc[i]['startYear']\n",
    "    if curr == \"\\\\N\":\n",
    "#         curr_tconst = full_train_df.iloc[i]['tconst']\n",
    "#         imdb_year = int(relevant_title_basics_df[relevant_title_basics_df['tconst'] == curr_tconst]['startYear'].values[0])\n",
    "#         start_year.append(imdb_year)\n",
    "        start_year.append([tconst[i], int()])\n",
    "    else:\n",
    "        start_year.append([tconst[i], int(curr)])\n"
   ]
  },
  {
   "cell_type": "code",
   "execution_count": 80,
   "metadata": {},
   "outputs": [],
   "source": [
    "end_year = []\n",
    "for i in range(len(full_train_df)):\n",
    "    curr = full_train_df.iloc[i]['endYear']\n",
    "    if curr == \"\\\\N\":\n",
    "        end_year.append([tconst[i], int()])\n",
    "    else:\n",
    "        end_year.append([tconst[i], int(curr)])\n"
   ]
  },
  {
   "cell_type": "code",
   "execution_count": 81,
   "metadata": {},
   "outputs": [],
   "source": [
    "runtime_minutes = []\n",
    "for i in range(len(full_train_df)):\n",
    "    curr = full_train_df.iloc[i]['runtimeMinutes']\n",
    "    if curr == \"\\\\N\":\n",
    "#         curr_tconst = full_train_df.iloc[i]['tconst']\n",
    "#         imdb_runtime = relevant_title_basics_df[relevant_title_basics_df['tconst'] == curr_tconst]['runtimeMinutes'].values[0]\n",
    "#         if imdb_runtime == \"\\\\N\":\n",
    "#             runtime_minutes.append(int())\n",
    "#         else:\n",
    "#             runtime_minutes.append(int(imdb_runtime))\n",
    "        runtime_minutes.append([tconst[i], int()])\n",
    "    else:\n",
    "        runtime_minutes.append([tconst[i], int(curr)])\n",
    "    "
   ]
  },
  {
   "cell_type": "code",
   "execution_count": 82,
   "metadata": {},
   "outputs": [],
   "source": [
    "num_votes = []\n",
    "for i in range(len(full_train_df)):\n",
    "    curr = full_train_df.iloc[i]['numVotes']\n",
    "    if curr == 'nan' or curr == \"NaN\" or math.isnan(curr):\n",
    "#         curr_tconst = full_train_df.iloc[i]['tconst']\n",
    "#         imdb_num_votes = relevant_title_basics_df[relevant_title_basics_df['tconst'] == curr_tconst]['runtimeMinutes'].values[0]\n",
    "        num_votes.append([tconst[i], int()])\n",
    "    else:\n",
    "        num_votes.append([tconst[i], int(curr)])\n",
    "\n"
   ]
  },
  {
   "cell_type": "code",
   "execution_count": 83,
   "metadata": {},
   "outputs": [],
   "source": [
    "labels = full_train_df['label'].tolist()\n",
    "label_list = []\n",
    "for i in range(len(labels)):\n",
    "    label_list.append([tconst[i], labels[i]])\n",
    "    "
   ]
  },
  {
   "cell_type": "code",
   "execution_count": 97,
   "metadata": {},
   "outputs": [],
   "source": [
    "# print(mean_ratings_df)\n",
    "mean_ratings_list = mean_ratings_df['rating'].tolist()\n",
    "mean_ratings_tconsts = mean_ratings_df.index.tolist()\n",
    "\n",
    "ratings_list = []\n",
    "for i in range(len(mean_ratings_list)):\n",
    "    ratings_list.append([mean_ratings_tconsts[i], mean_ratings_list[i]])"
   ]
  },
  {
   "cell_type": "code",
   "execution_count": 99,
   "metadata": {},
   "outputs": [
    {
     "name": "stdout",
     "output_type": "stream",
     "text": [
      "[['tt0011439', 7.0], ['tt0011607', 7.0], ['tt0011841', 7.0], ['tt0012349', 8.333333333333334], ['tt0012494', 9.0], ['tt0012532', 6.0], ['tt0013257', 6.888888888888889], ['tt0014142', 6.333333333333333], ['tt0014341', 7.571428571428571], ['tt0014538', 9.0], ['tt0015064', 9.0], ['tt0015163', 8.4], ['tt0015361', 7.8], ['tt0015400', 8.2], ['tt0015864', 8.403846153846153], ['tt0015881', 7.25], ['tt0016220', 7.25], ['tt0016544', 5.5], ['tt0016847', 9.0], ['tt0017350', 7.0], ['tt0017463', 6.0], ['tt0017925', 8.636363636363637], ['tt0018192', 7.5], ['tt0018526', 9.0], ['tt0018528', 7.75], ['tt0018578', 7.8], ['tt0018684', 5.0], ['tt0018742', 9.1], ['tt0018773', 8.38888888888889], ['tt0018806', 7.333333333333333], ['tt0019109', 9.0], ['tt0019412', 9.0], ['tt0019429', 7.666666666666667], ['tt0020122', 7.0], ['tt0020768', 7.333333333333333], ['tt0021409', 7.0], ['tt0021739', 8.0], ['tt0021884', 8.147058823529411], ['tt0022100', 8.340659340659341], ['tt0022125', 9.5], ['tt0022395', 3.0], ['tt0022458', 7.0], ['tt0022599', 7.0], ['tt0022787', 7.5], ['tt0022913', 7.2], ['tt0023293', 6.8], ['tt0023303', 8.0], ['tt0023395', 6.0], ['tt0023622', 8.142857142857142], ['tt0023634', 8.666666666666666], ['tt0023649', 7.333333333333333], ['tt0023686', 9.0], ['tt0023876', 7.0], ['tt0023937', 9.0], ['tt0023969', 7.933333333333334], ['tt0024183', 9.0], ['tt0024184', 7.476190476190476], ['tt0024188', 7.166666666666667], ['tt0024216', 8.583333333333334], ['tt0024264', 6.666666666666667], ['tt0024481', 8.5], ['tt0024844', 7.125], ['tt0024852', 7.333333333333333], ['tt0025164', 8.5], ['tt0025318', 6.5], ['tt0025464', 8.5], ['tt0025913', 7.8], ['tt0026029', 7.607142857142857], ['tt0026529', 5.0], ['tt0027075', 8.0], ['tt0027214', 6.0], ['tt0027438', 7.0], ['tt0027478', 7.0], ['tt0027532', 7.0], ['tt0027652', 8.0], ['tt0027977', 8.718446601941748], ['tt0028021', 6.0], ['tt0028096', 9.666666666666666], ['tt0028141', 3.0], ['tt0028212', 7.769230769230769], ['tt0028333', 7.4], ['tt0028346', 5.5], ['tt0028683', 6.75], ['tt0028772', 8.0], ['tt0028944', 8.0], ['tt0029146', 7.571428571428571], ['tt0029192', 7.8], ['tt0029284', 7.666666666666667], ['tt0029314', 8.333333333333334], ['tt0029442', 8.0], ['tt0029608', 8.5], ['tt0029658', 7.0], ['tt0029747', 8.75], ['tt0029844', 7.333333333333333], ['tt0029850', 7.0], ['tt0029942', 8.0], ['tt0029947', 7.434782608695652], ['tt0029957', 8.0], ['tt0030127', 5.666666666666667], ['tt0030241', 7.857142857142857], ['tt0030341', 7.818181818181818], ['tt0030522', 7.75], ['tt0030637', 8.333333333333334], ['tt0030643', 7.75], ['tt0031022', 6.5], ['tt0031088', 5.0], ['tt0031143', 8.0], ['tt0031210', 6.666666666666667], ['tt0031225', 7.0], ['tt0031235', 7.333333333333333], ['tt0031334', 7.666666666666667], ['tt0031381', 8.686274509803921], ['tt0031385', 7.833333333333333], ['tt0031398', 5.333333333333333], ['tt0031477', 9.5], ['tt0031580', 7.0], ['tt0031647', 9.0], ['tt0031750', 4.0], ['tt0031754', 8.0], ['tt0031762', 7.75], ['tt0031851', 5.0], ['tt0031867', 7.333333333333333], ['tt0031951', 6.666666666666667], ['tt0031971', 7.842105263157895], ['tt0032138', 8.494623655913978], ['tt0032143', 8.75], ['tt0032155', 8.2], ['tt0032156', 7.333333333333333], ['tt0032338', 9.0], ['tt0032339', 9.0], ['tt0032390', 6.5], ['tt0032432', 7.0], ['tt0032484', 7.461538461538462], ['tt0032520', 7.0], ['tt0032701', 5.875], ['tt0032762', 7.0], ['tt0032904', 8.208333333333334], ['tt0032910', 7.428571428571429], ['tt0032943', 6.5], ['tt0032981', 9.0], ['tt0033022', 7.333333333333333], ['tt0033045', 8.391304347826088], ['tt0033152', 8.333333333333334], ['tt0033253', 7.0], ['tt0033317', 9.0], ['tt0033373', 6.75], ['tt0033477', 7.0], ['tt0033533', 9.0], ['tt0033677', 6.5], ['tt0033717', 7.4], ['tt0033723', 6.0], ['tt0033774', 8.5], ['tt0033787', 5.0], ['tt0033836', 7.4], ['tt0033870', 7.9375], ['tt0033873', 7.25], ['tt0033874', 8.5], ['tt0033945', 8.0], ['tt0034224', 5.0], ['tt0034398', 7.461538461538462], ['tt0034478', 7.666666666666667], ['tt0034493', 5.666666666666667], ['tt0034546', 1.0], ['tt0034587', 7.4], ['tt0034694', 7.0], ['tt0034798', 6.333333333333333], ['tt0034862', 6.5], ['tt0034890', 4.5], ['tt0034891', 8.0], ['tt0034946', 8.0], ['tt0035015', 7.583333333333333], ['tt0035017', 8.0], ['tt0035093', 7.333333333333333], ['tt0035140', 8.0], ['tt0035211', 8.0], ['tt0035417', 8.0], ['tt0035429', 7.5], ['tt0035432', 7.25], ['tt0035446', 8.434782608695652], ['tt0035567', 6.5], ['tt0035640', 7.0], ['tt0035753', 7.0], ['tt0035966', 6.5], ['tt0035979', 8.666666666666666], ['tt0036098', 10.0], ['tt0036152', 7.0], ['tt0036260', 7.0], ['tt0036342', 7.6], ['tt0036377', 5.0], ['tt0036430', 6.0], ['tt0036613', 8.4], ['tt0036716', 7.0], ['tt0036775', 8.518867924528301], ['tt0036855', 7.705882352941177], ['tt0037008', 7.935483870967742], ['tt0037017', 7.6923076923076925], ['tt0037055', 6.5], ['tt0037059', 6.333333333333333], ['tt0037075', 6.428571428571429], ['tt0037077', 8.0], ['tt0037101', 7.0], ['tt0037323', 8.0], ['tt0037415', 6.5], ['tt0037469', 8.0], ['tt0037630', 7.0], ['tt0037671', 10.0], ['tt0037913', 7.928571428571429], ['tt0038057', 8.666666666666666], ['tt0038238', 8.0], ['tt0038348', 8.727272727272727], ['tt0038355', 8.0], ['tt0038387', 5.0], ['tt0038559', 7.611111111111111], ['tt0038577', 8.666666666666666], ['tt0038589', 8.0], ['tt0038733', 9.25], ['tt0038762', 8.153846153846153], ['tt0038787', 8.033898305084746], ['tt0038823', 7.2], ['tt0038854', 8.0], ['tt0038890', 8.470588235294118], ['tt0038913', 7.571428571428571], ['tt0038965', 7.333333333333333], ['tt0038975', 8.333333333333334], ['tt0038991', 7.076923076923077], ['tt0039208', 5.0], ['tt0039224', 7.666666666666667], ['tt0039286', 5.5], ['tt0039302', 6.5], ['tt0039305', 6.5], ['tt0039416', 7.714285714285714], ['tt0039420', 7.666666666666667], ['tt0039502', 9.5], ['tt0039536', 7.333333333333333], ['tt0039566', 8.0], ['tt0039631', 8.0], ['tt0039651', 8.0], ['tt0039661', 8.0], ['tt0039676', 7.5], ['tt0039677', 8.1], ['tt0039768', 7.5], ['tt0039822', 8.11111111111111], ['tt0039895', 7.0], ['tt0040068', 8.0], ['tt0040308', 7.166666666666667], ['tt0040338', 8.4], ['tt0040427', 7.333333333333333], ['tt0040506', 7.125], ['tt0040522', 8.672268907563025], ['tt0040525', 7.4375], ['tt0040536', 7.764705882352941], ['tt0040626', 8.0], ['tt0040662', 7.0], ['tt0040705', 8.5], ['tt0040724', 7.9], ['tt0040725', 8.666666666666666], ['tt0040737', 9.0], ['tt0040795', 10.0], ['tt0040843', 6.0], ['tt0040866', 8.0], ['tt0040872', 7.5], ['tt0040897', 7.9655172413793105], ['tt0040970', 8.0], ['tt0041088', 5.5], ['tt0041113', 9.333333333333334], ['tt0041268', 6.0], ['tt0041386', 8.2], ['tt0041473', 8.0], ['tt0041487', 7.0], ['tt0041507', 6.0], ['tt0041546', 8.5], ['tt0041699', 8.0], ['tt0041786', 6.5], ['tt0041841', 8.333333333333334], ['tt0041954', 7.0], ['tt0042046', 8.0], ['tt0042192', 8.678571428571429], ['tt0042235', 8.0], ['tt0042369', 7.166666666666667], ['tt0042436', 9.0], ['tt0042451', 7.5], ['tt0042648', 7.0], ['tt0042742', 9.0], ['tt0042788', 7.875], ['tt0042792', 7.0], ['tt0042876', 8.529411764705882], ['tt0042906', 8.2], ['tt0042958', 7.75], ['tt0042994', 7.6], ['tt0043014', 8.655844155844155], ['tt0043041', 10.0], ['tt0043137', 7.333333333333333], ['tt0043278', 7.133333333333334], ['tt0043286', 10.0], ['tt0043332', 9.0], ['tt0043338', 7.419354838709677], ['tt0043379', 7.0], ['tt0043435', 7.0], ['tt0043614', 8.0], ['tt0043769', 7.0], ['tt0043879', 6.666666666666667], ['tt0043918', 8.5], ['tt0043927', 7.0], ['tt0044008', 8.714285714285714], ['tt0044314', 6.75], ['tt0044533', 7.0], ['tt0044602', 6.0], ['tt0044741', 8.866666666666667], ['tt0044926', 8.0], ['tt0044937', 6.5], ['tt0044982', 7.2], ['tt0045009', 7.0], ['tt0045102', 8.0], ['tt0045112', 8.8], ['tt0045161', 7.0], ['tt0045205', 7.75], ['tt0045274', 8.8], ['tt0045465', 7.0], ['tt0045518', 6.0], ['tt0045537', 7.333333333333333], ['tt0045554', 8.0], ['tt0045555', 8.153846153846153], ['tt0045793', 7.588235294117647], ['tt0045826', 5.5], ['tt0045848', 7.5], ['tt0045883', 7.0], ['tt0045897', 6.375], ['tt0046031', 6.0], ['tt0046040', 9.0], ['tt0046183', 7.833333333333333], ['tt0046248', 3.0], ['tt0046446', 7.0], ['tt0046451', 9.0], ['tt0046511', 7.6923076923076925], ['tt0046672', 8.2], ['tt0046816', 7.8], ['tt0046874', 7.0], ['tt0046878', 6.0], ['tt0046912', 8.589147286821705], ['tt0046998', 9.0], ['tt0047094', 8.666666666666666], ['tt0047123', 9.0], ['tt0047296', 8.214953271028037], ['tt0047437', 7.547169811320755], ['tt0047444', 8.0], ['tt0047478', 8.57857142857143], ['tt0047522', 6.8], ['tt0047528', 8.341463414634147], ['tt0047573', 7.125], ['tt0047647', 6.333333333333333], ['tt0047682', 6.0], ['tt0047834', 7.0], ['tt0047849', 8.5], ['tt0047878', 7.833333333333333], ['tt0047892', 8.416666666666666], ['tt0047898', 4.666666666666667], ['tt0047990', 7.0], ['tt0048002', 8.5], ['tt0048021', 8.642857142857142], ['tt0048028', 8.037037037037036], ['tt0048055', 7.25], ['tt0048140', 7.764705882352941], ['tt0048308', 7.2], ['tt0048342', 7.555555555555555], ['tt0048347', 7.428571428571429], ['tt0048380', 8.333333333333334], ['tt0048424', 8.46], ['tt0048473', 8.666666666666666], ['tt0048488', 6.5], ['tt0048499', 7.0], ['tt0048545', 7.606060606060606], ['tt0048613', 7.0], ['tt0048641', 6.0], ['tt0048673', 10.0], ['tt0048752', 10.0], ['tt0048801', 7.666666666666667], ['tt0048947', 7.0], ['tt0048981', 7.0], ['tt0049010', 7.5], ['tt0049012', 8.4], ['tt0049042', 9.0], ['tt0049103', 8.0], ['tt0049223', 8.387096774193548], ['tt0049259', 6.0], ['tt0049261', 7.333333333333333], ['tt0049470', 7.45945945945946], ['tt0049552', 7.0], ['tt0049615', 4.0], ['tt0049665', 8.0], ['tt0049710', 8.5], ['tt0049833', 8.242424242424242], ['tt0049843', 7.0], ['tt0049866', 9.0], ['tt0049871', 7.0], ['tt0049902', 7.8076923076923075], ['tt0050105', 7.722222222222222], ['tt0050147', 3.0], ['tt0050356', 8.0], ['tt0050371', 9.222222222222221], ['tt0050458', 10.0], ['tt0050490', 9.0], ['tt0050539', 7.166666666666667], ['tt0050665', 8.0], ['tt0050783', 8.777777777777779], ['tt0050858', 5.0], ['tt0050976', 8.363636363636363], ['tt0050986', 8.419753086419753], ['tt0051003', 7.0], ['tt0051087', 10.0], ['tt0051337', 6.5], ['tt0051411', 8.0], ['tt0051720', 8.0], ['tt0051739', 8.0], ['tt0051776', 5.0], ['tt0051792', 8.7], ['tt0051845', 8.0], ['tt0051866', 8.0], ['tt0051899', 6.0], ['tt0051959', 7.0], ['tt0052005', 8.0], ['tt0052017', 8.333333333333334], ['tt0052077', 5.545454545454546], ['tt0052104', 5.0], ['tt0052151', 7.0], ['tt0052188', 4.0], ['tt0052216', 8.333333333333334], ['tt0052218', 6.5], ['tt0052286', 1.0], ['tt0052311', 7.982142857142857], ['tt0052357', 8.439114391143912], ['tt0052394', 2.0], ['tt0052561', 8.42], ['tt0052572', 8.8], ['tt0052600', 8.0], ['tt0052646', 5.0], ['tt0052654', 7.0], ['tt0052708', 7.0], ['tt0052888', 3.0], ['tt0052918', 8.090909090909092], ['tt0052969', 3.0], ['tt0052997', 7.0], ['tt0053121', 7.5], ['tt0053133', 7.666666666666667], ['tt0053137', 6.9], ['tt0053183', 8.0], ['tt0053198', 8.208791208791208], ['tt0053241', 5.0], ['tt0053242', 7.0], ['tt0053250', 2.6666666666666665], ['tt0053285', 7.814814814814815], ['tt0053337', 6.0], ['tt0053390', 8.375], ['tt0053403', 8.0], ['tt0053434', 6.0], ['tt0053472', 8.162162162162161], ['tt0053611', 5.0], ['tt0053636', 9.0], ['tt0053746', 8.0], ['tt0053765', 7.0], ['tt0053779', 8.307692307692308], ['tt0053796', 8.0], ['tt0053849', 10.0], ['tt0053967', 7.5], ['tt0053976', 8.0], ['tt0053987', 8.285714285714286], ['tt0054042', 8.8], ['tt0054047', 7.782608695652174], ['tt0054067', 7.538461538461538], ['tt0054189', 7.6], ['tt0054195', 8.5], ['tt0054198', 5.5], ['tt0054248', 7.9411764705882355], ['tt0054279', 6.75], ['tt0054292', 8.333333333333334], ['tt0054333', 3.0], ['tt0054357', 7.75], ['tt0054387', 8.2], ['tt0054412', 6.0], ['tt0054476', 8.333333333333334], ['tt0054599', 8.76923076923077], ['tt0054687', 7.333333333333333], ['tt0054731', 9.0], ['tt0054743', 7.642857142857143], ['tt0054749', 7.454545454545454], ['tt0054847', 8.25], ['tt0054949', 8.0], ['tt0054997', 8.108108108108109], ['tt0055018', 7.583333333333333], ['tt0055031', 8.948717948717949], ['tt0055032', 7.909090909090909], ['tt0055153', 7.5], ['tt0055184', 6.8], ['tt0055233', 9.666666666666666], ['tt0055254', 7.787878787878788], ['tt0055256', 8.285714285714286], ['tt0055257', 8.75], ['tt0055277', 7.0], ['tt0055304', 6.4], ['tt0055499', 8.428571428571429], ['tt0055539', 9.0], ['tt0055597', 8.75], ['tt0055614', 7.472222222222222], ['tt0055618', 8.0], ['tt0055630', 8.28], ['tt0055724', 10.0], ['tt0055796', 7.5], ['tt0055805', 7.0], ['tt0055824', 7.285714285714286], ['tt0055830', 7.105263157894737], ['tt0055872', 8.0], ['tt0055884', 7.0], ['tt0055913', 7.642857142857143], ['tt0055946', 2.0], ['tt0055972', 7.0], ['tt0055981', 8.666666666666666], ['tt0055998', 8.0], ['tt0056048', 6.75], ['tt0056049', 8.428571428571429], ['tt0056058', 8.794117647058824], ['tt0056059', 7.666666666666667], ['tt0056127', 4.0], ['tt0056134', 6.0], ['tt0056142', 6.285714285714286], ['tt0056196', 9.0], ['tt0056197', 7.916666666666667], ['tt0056215', 7.25], ['tt0056217', 8.179487179487179], ['tt0056262', 8.0], ['tt0056264', 7.75], ['tt0056291', 8.2], ['tt0056327', 10.0], ['tt0056412', 7.8], ['tt0056444', 8.272727272727273], ['tt0056537', 7.0], ['tt0056592', 8.522012578616351], ['tt0056663', 8.258620689655173], ['tt0056732', 8.35], ['tt0056868', 7.5], ['tt0056945', 8.0], ['tt0056983', 7.5], ['tt0057012', 8.362068965517242], ['tt0057083', 6.5], ['tt0057163', 7.9], ['tt0057180', 7.0], ['tt0057336', 8.25], ['tt0057427', 8.071428571428571], ['tt0057490', 8.875], ['tt0057503', 6.5], ['tt0057569', 4.0], ['tt0057578', 8.0], ['tt0057654', 7.0], ['tt0057714', 5.0], ['tt0057715', 7.0], ['tt0057869', 8.3], ['tt0057919', 1.5], ['tt0057935', 8.666666666666666], ['tt0057967', 7.666666666666667], ['tt0058006', 5.0], ['tt0058092', 7.0], ['tt0058138', 8.25], ['tt0058213', 8.0], ['tt0058263', 6.0], ['tt0058331', 8.443037974683545], ['tt0058382', 7.0], ['tt0058390', 9.0], ['tt0058404', 8.0], ['tt0058458', 8.5], ['tt0058564', 6.4], ['tt0058576', 8.166666666666666], ['tt0058586', 7.1875], ['tt0058604', 9.75], ['tt0058642', 7.25], ['tt0058777', 8.238095238095237], ['tt0058863', 9.0], ['tt0058888', 9.444444444444445], ['tt0058898', 7.631578947368421], ['tt0058962', 9.0], ['tt0058985', 8.0], ['tt0058997', 6.166666666666667], ['tt0059012', 8.0], ['tt0059037', 7.666666666666667], ['tt0059044', 6.0], ['tt0059126', 5.666666666666667], ['tt0059221', 7.0], ['tt0059229', 7.888888888888889], ['tt0059260', 8.0], ['tt0059309', 8.5], ['tt0059464', 2.0], ['tt0059496', 6.0], ['tt0059529', 9.0], ['tt0059573', 9.0], ['tt0059578', 8.517985611510792], ['tt0059646', 7.757575757575758], ['tt0059740', 8.125], ['tt0059855', 10.0], ['tt0059856', 7.5], ['tt0059893', 7.5], ['tt0060074', 2.0], ['tt0060138', 7.904761904761905], ['tt0060177', 7.0], ['tt0060182', 8.666666666666666], ['tt0060186', 6.0], ['tt0060232', 8.454545454545455], ['tt0060380', 6.75], ['tt0060429', 7.0], ['tt0060464', 5.5], ['tt0060474', 8.5], ['tt0060543', 6.0], ['tt0060545', 8.666666666666666], ['tt0060560', 8.25], ['tt0060574', 6.5], ['tt0060584', 8.0], ['tt0060635', 9.0], ['tt0060666', 1.8571428571428572], ['tt0060675', 7.823529411764706], ['tt0060908', 9.5], ['tt0060934', 7.8], ['tt0061132', 6.666666666666667], ['tt0061162', 8.5], ['tt0061189', 5.333333333333333], ['tt0061395', 7.806451612903226], ['tt0061418', 7.858823529411764], ['tt0061452', 4.0], ['tt0061512', 8.472222222222221], ['tt0061550', 10.0], ['tt0061597', 7.0], ['tt0061619', 7.363636363636363], ['tt0061620', 10.0], ['tt0061709', 7.5], ['tt0061758', 5.5], ['tt0061781', 6.5], ['tt0061791', 7.0], ['tt0061796', 5.0], ['tt0061814', 9.0], ['tt0061955', 7.0], ['tt0062078', 4.0], ['tt0062138', 7.714285714285714], ['tt0062229', 8.272727272727273], ['tt0062266', 4.0], ['tt0062277', 8.0], ['tt0062310', 6.0], ['tt0062456', 10.0], ['tt0062467', 8.142857142857142], ['tt0062741', 4.0], ['tt0062759', 10.0], ['tt0062765', 7.878048780487805], ['tt0062776', 6.0], ['tt0062844', 8.0], ['tt0062900', 10.0], ['tt0062952', 7.714285714285714], ['tt0062994', 7.785714285714286], ['tt0063000', 5.0], ['tt0063032', 7.571428571428571], ['tt0063198', 9.0], ['tt0063218', 6.333333333333333], ['tt0063260', 5.5], ['tt0063288', 9.0], ['tt0063374', 8.0], ['tt0063456', 7.0], ['tt0063501', 8.2], ['tt0063518', 9.0], ['tt0063612', 3.0], ['tt0063790', 2.0], ['tt0063845', 10.0], ['tt0063876', 8.0], ['tt0064040', 8.458333333333334], ['tt0064106', 7.333333333333333], ['tt0064107', 6.0], ['tt0064155', 10.0], ['tt0064169', 7.6], ['tt0064208', 7.857142857142857], ['tt0064265', 6.0], ['tt0064276', 7.486111111111111], ['tt0064356', 6.0], ['tt0064451', 9.0], ['tt0064473', 7.0], ['tt0064482', 3.0], ['tt0064612', 8.428571428571429], ['tt0064816', 7.1], ['tt0064839', 7.0], ['tt0064861', 8.666666666666666], ['tt0064866', 10.0], ['tt0064923', 8.5], ['tt0064939', 8.5], ['tt0065125', 5.0], ['tt0065234', 8.411764705882353], ['tt0065416', 8.0], ['tt0065446', 8.0], ['tt0065489', 6.5], ['tt0065528', 7.0], ['tt0065531', 8.142857142857142], ['tt0065597', 8.0], ['tt0065724', 7.5], ['tt0065772', 7.444444444444445], ['tt0065782', 8.25], ['tt0065851', 6.0], ['tt0065955', 7.666666666666667], ['tt0065976', 8.0], ['tt0065988', 8.11111111111111], ['tt0066026', 7.611111111111111], ['tt0066154', 6.0], ['tt0066237', 8.0], ['tt0066319', 7.2], ['tt0066473', 7.5], ['tt0066491', 7.428571428571429], ['tt0066492', 10.0], ['tt0066498', 8.5], ['tt0066516', 6.8], ['tt0066534', 8.0], ['tt0066546', 8.0], ['tt0066580', 8.125], ['tt0066639', 8.0], ['tt0066728', 6.0], ['tt0066740', 8.222222222222221], ['tt0066758', 9.0], ['tt0066765', 7.0], ['tt0066819', 7.818181818181818], ['tt0066827', 5.0], ['tt0066970', 6.0], ['tt0066982', 5.0], ['tt0067093', 8.565217391304348], ['tt0067108', 5.0], ['tt0067116', 7.463917525773196], ['tt0067119', 6.0], ['tt0067128', 8.285714285714286], ['tt0067140', 7.55], ['tt0067164', 9.0], ['tt0067227', 7.0], ['tt0067372', 8.5], ['tt0067402', 8.0], ['tt0067439', 8.0], ['tt0067487', 6.0], ['tt0067515', 1.0], ['tt0067778', 8.0], ['tt0067814', 7.0], ['tt0067927', 7.411764705882353], ['tt0068000', 6.0], ['tt0068154', 9.5], ['tt0068161', 9.0], ['tt0068182', 8.652173913043478], ['tt0068205', 7.923076923076923], ['tt0068240', 7.75], ['tt0068257', 8.5], ['tt0068264', 7.5], ['tt0068278', 6.666666666666667], ['tt0068282', 7.0], ['tt0068326', 8.0], ['tt0068370', 8.0], ['tt0068371', 6.0], ['tt0068421', 9.2], ['tt0068537', 7.5], ['tt0068569', 6.0], ['tt0068611', 7.576923076923077], ['tt0068646', 9.05020920502092], ['tt0068649', 8.0], ['tt0068716', 7.0], ['tt0068727', 6.0], ['tt0068732', 6.5], ['tt0068767', 7.461538461538462], ['tt0068918', 6.0], ['tt0069005', 5.333333333333333], ['tt0069027', 7.5], ['tt0069035', 6.0], ['tt0069090', 10.0], ['tt0069097', 8.0], ['tt0069120', 7.0], ['tt0069281', 8.333333333333334], ['tt0069289', 6.5], ['tt0069303', 10.0], ['tt0069400', 7.333333333333333], ['tt0069449', 5.0], ['tt0069452', 7.0], ['tt0069464', 7.0], ['tt0069530', 6.0], ['tt0069762', 7.698630136986301], ['tt0069810', 6.0], ['tt0069824', 9.0], ['tt0069851', 1.0], ['tt0069865', 8.166666666666666], ['tt0069947', 7.590909090909091], ['tt0069995', 7.40625], ['tt0070040', 8.8], ['tt0070061', 8.0], ['tt0070077', 7.571428571428571], ['tt0070215', 7.777777777777778], ['tt0070217', 7.0], ['tt0070439', 9.0], ['tt0070509', 8.333333333333334], ['tt0070537', 6.0], ['tt0070544', 8.105263157894736], ['tt0070666', 7.859259259259259], ['tt0070694', 8.0], ['tt0070735', 8.792727272727273], ['tt0070842', 7.333333333333333], ['tt0070903', 7.625], ['tt0070917', 7.73469387755102], ['tt0070935', 8.0], ['tt0071159', 8.333333333333334], ['tt0071198', 6.0], ['tt0071222', 7.434782608695652], ['tt0071230', 7.875], ['tt0071359', 6.0], ['tt0071455', 5.866666666666666], ['tt0071464', 4.0], ['tt0071487', 8.833333333333334], ['tt0071508', 7.0], ['tt0071532', 8.0], ['tt0071607', 6.5], ['tt0071853', 7.881818181818182], ['tt0071859', 8.0], ['tt0072030', 7.0], ['tt0072263', 7.666666666666667], ['tt0072317', 6.0], ['tt0072443', 8.714285714285714], ['tt0072750', 6.0], ['tt0072820', 8.166666666666666], ['tt0072869', 7.0], ['tt0072886', 6.0], ['tt0072890', 8.00381679389313], ['tt0072973', 6.75], ['tt0072976', 8.333333333333334], ['tt0072979', 9.0], ['tt0073000', 8.5], ['tt0073042', 3.0], ['tt0073043', 4.666666666666667], ['tt0073152', 8.0], ['tt0073155', 8.0], ['tt0073312', 7.805555555555555], ['tt0073317', 8.0], ['tt0073363', 8.0], ['tt0073424', 8.0], ['tt0073470', 3.0], ['tt0073502', 6.5], ['tt0073582', 7.6], ['tt0073629', 7.825396825396825], ['tt0073650', 5.482758620689655], ['tt0073691', 5.0], ['tt0073817', 8.5], ['tt0074084', 8.090909090909092], ['tt0074157', 5.0], ['tt0074228', 6.0], ['tt0074252', 9.0], ['tt0074279', 6.0], ['tt0074286', 7.0], ['tt0074287', 10.0], ['tt0074291', 8.25], ['tt0074312', 7.5], ['tt0074400', 6.0], ['tt0074412', 5.5], ['tt0074475', 6.0], ['tt0074486', 7.264705882352941], ['tt0074520', 7.0], ['tt0074554', 7.25], ['tt0074569', 8.0], ['tt0074593', 6.25], ['tt0074605', 9.333333333333334], ['tt0074670', 6.333333333333333], ['tt0074695', 8.214285714285714], ['tt0074720', 7.0], ['tt0074740', 7.0], ['tt0074749', 7.857142857142857], ['tt0074751', 5.9411764705882355], ['tt0074860', 7.5625], ['tt0074937', 6.9523809523809526], ['tt0075086', 6.0], ['tt0075119', 10.0], ['tt0075164', 6.0], ['tt0075268', 5.0], ['tt0075323', 8.0], ['tt0075334', 7.0], ['tt0075648', 5.833333333333333], ['tt0075656', 5.5], ['tt0075669', 7.5], ['tt0075686', 8.089285714285714], ['tt0075730', 8.0], ['tt0075783', 2.0], ['tt0075788', 10.0], ['tt0075793', 10.0], ['tt0075888', 7.0], ['tt0075902', 7.0], ['tt0075936', 8.5], ['tt0075984', 7.0], ['tt0076001', 8.0], ['tt0076009', 3.076923076923077], ['tt0076085', 8.333333333333334], ['tt0076100', 6.0], ['tt0076155', 8.0], ['tt0076191', 6.333333333333333], ['tt0076245', 8.4], ['tt0076276', 8.0], ['tt0076295', 6.25], ['tt0076312', 5.0], ['tt0076348', 8.666666666666666], ['tt0076391', 7.0], ['tt0076649', 7.0], ['tt0076709', 4.0], ['tt0076727', 8.0], ['tt0076740', 7.928571428571429], ['tt0076749', 6.0], ['tt0076786', 7.4], ['tt0076855', 7.0], ['tt0076935', 7.5], ['tt0077138', 10.0], ['tt0077199', 5.5], ['tt0077234', 5.0], ['tt0077248', 8.0], ['tt0077288', 7.0], ['tt0077318', 7.0], ['tt0077405', 7.915254237288136], ['tt0077413', 6.75], ['tt0077416', 8.165605095541402], ['tt0077421', 6.0], ['tt0077474', 7.380952380952381], ['tt0077651', 8.10483870967742], ['tt0077660', 5.0], ['tt0077713', 6.555555555555555], ['tt0077729', 9.0], ['tt0077743', 9.0], ['tt0077745', 7.40625], ['tt0077766', 6.368421052631579], ['tt0077834', 4.5], ['tt0077904', 6.5], ['tt0078058', 7.0], ['tt0078087', 6.7], ['tt0078243', 7.555555555555555], ['tt0078252', 9.5], ['tt0078326', 7.0], ['tt0078418', 8.0], ['tt0078718', 7.938461538461539], ['tt0078723', 5.875], ['tt0078740', 4.0], ['tt0078748', 8.41869918699187], ['tt0078754', 7.636363636363637], ['tt0078778', 5.0], ['tt0078784', 10.0], ['tt0078788', 8.484126984126984], ['tt0078836', 5.0], ['tt0078872', 7.333333333333333], ['tt0078875', 7.8], ['tt0078935', 6.3428571428571425], ['tt0079010', 6.0], ['tt0079027', 2.5], ['tt0079117', 7.0], ['tt0079219', 7.0], ['tt0079221', 9.5], ['tt0079261', 8.125], ['tt0079450', 5.333333333333333], ['tt0079522', 8.0], ['tt0079576', 6.0], ['tt0079590', 6.0], ['tt0079596', 10.0], ['tt0079788', 6.0], ['tt0079833', 8.04], ['tt0079871', 8.090909090909092], ['tt0079944', 8.082191780821917], ['tt0080100', 6.0], ['tt0080117', 7.777777777777778], ['tt0080120', 7.819444444444445], ['tt0080149', 6.5], ['tt0080339', 7.915966386554622], ['tt0080346', 2.0], ['tt0080421', 5.5], ['tt0080437', 6.444444444444445], ['tt0080439', 8.333333333333334], ['tt0080455', 8.310344827586206], ['tt0080530', 10.0], ['tt0080610', 7.4], ['tt0080707', 5.6], ['tt0080853', 6.0], ['tt0080934', 3.5], ['tt0080948', 8.5], ['tt0080979', 8.333333333333334], ['tt0081178', 6.25], ['tt0081291', 5.0], ['tt0081353', 6.857142857142857], ['tt0081400', 6.0], ['tt0081554', 7.3076923076923075], ['tt0081677', 5.75], ['tt0081991', 9.0], ['tt0082073', 8.666666666666666], ['tt0082084', 4.666666666666667], ['tt0082094', 4.5], ['tt0082146', 1.0], ['tt0082158', 6.9523809523809526], ['tt0082162', 8.0], ['tt0082222', 8.0], ['tt0082338', 7.0], ['tt0082346', 6.5], ['tt0082348', 5.846153846153846], ['tt0082350', 6.0], ['tt0082427', 4.75], ['tt0082432', 8.375], ['tt0082436', 8.0], ['tt0082511', 7.4], ['tt0082559', 7.5], ['tt0082644', 6.0], ['tt0082694', 7.8807339449541285], ['tt0082696', 6.8], ['tt0082700', 7.111111111111111], ['tt0082714', 9.0], ['tt0082736', 8.5], ['tt0082796', 7.0], ['tt0082801', 1.0], ['tt0082806', 6.142857142857143], ['tt0082812', 5.0], ['tt0082912', 9.0], ['tt0082945', 8.2], ['tt0082979', 7.666666666666667], ['tt0083190', 7.517241379310345], ['tt0083254', 4.0], ['tt0083260', 8.0], ['tt0083271', 6.5], ['tt0083275', 8.0], ['tt0083296', 4.333333333333333], ['tt0083310', 4.0], ['tt0083557', 4.5], ['tt0083590', 6.0], ['tt0083702', 9.0], ['tt0083745', 10.0], ['tt0083801', 8.0], ['tt0083833', 7.714285714285714], ['tt0083888', 10.0], ['tt0083907', 7.461538461538462], ['tt0083922', 8.76923076923077], ['tt0083972', 6.0], ['tt0084028', 7.0], ['tt0084042', 7.0], ['tt0084133', 5.0], ['tt0084237', 8.0], ['tt0084302', 10.0], ['tt0084345', 6.666666666666667], ['tt0084352', 8.0], ['tt0084370', 6.666666666666667], ['tt0084422', 7.0], ['tt0084465', 7.5], ['tt0084477', 3.0], ['tt0084504', 8.5], ['tt0084516', 7.827160493827161], ['tt0084518', 8.0], ['tt0084628', 8.5], ['tt0084667', 9.5], ['tt0084684', 5.0], ['tt0084704', 2.0], ['tt0084726', 7.967213114754099], ['tt0084740', 9.333333333333334], ['tt0084777', 7.357142857142857], ['tt0084809', 7.0], ['tt0084865', 7.75], ['tt0084899', 7.25], ['tt0084934', 8.333333333333334], ['tt0085124', 7.0], ['tt0085180', 7.333333333333333], ['tt0085244', 7.363636363636363], ['tt0085276', 5.5], ['tt0085327', 10.0], ['tt0085356', 5.0], ['tt0085370', 10.0], ['tt0085384', 4.0], ['tt0085387', 6.333333333333333], ['tt0085461', 9.5], ['tt0085478', 7.0], ['tt0085672', 4.0], ['tt0085776', 5.0], ['tt0085780', 7.333333333333333], ['tt0085794', 7.9125], ['tt0085933', 7.333333333333333], ['tt0085937', 5.6], ['tt0085995', 7.943396226415095], ['tt0086005', 8.6], ['tt0086013', 6.0], ['tt0086026', 1.6666666666666667], ['tt0086058', 6.5], ['tt0086066', 7.333333333333333], ['tt0086087', 7.0], ['tt0086112', 7.5], ['tt0086135', 9.0], ['tt0086182', 8.333333333333334], ['tt0086197', 8.08695652173913], ['tt0086199', 6.5], ['tt0086216', 7.9], ['tt0086242', 7.0], ['tt0086250', 8.556768558951966], ['tt0086346', 8.0], ['tt0086349', 8.0], ['tt0086361', 4.0], ['tt0086397', 6.0], ['tt0086423', 7.5], ['tt0086425', 8.116279069767442], ['tt0086465', 7.9113924050632916], ['tt0086494', 5.0], ['tt0086543', 7.0], ['tt0086551', 7.0], ['tt0086567', 7.533333333333333], ['tt0086610', 5.5], ['tt0086637', 8.114285714285714], ['tt0086643', 8.0], ['tt0086655', 7.5], ['tt0086896', 6.5], ['tt0086961', 8.11111111111111], ['tt0086972', 2.0], ['tt0086978', 4.0], ['tt0086981', 8.0], ['tt0086998', 7.142857142857143], ['tt0086999', 7.6], ['tt0087003', 8.0], ['tt0087020', 6.5], ['tt0087032', 5.75], ['tt0087123', 5.0], ['tt0087332', 8.149659863945578], ['tt0087336', 6.666666666666667], ['tt0087349', 8.0], ['tt0087414', 7.0], ['tt0087425', 5.0], ['tt0087469', 7.448], ['tt0087472', 6.5], ['tt0087481', 10.0], ['tt0087606', 8.0], ['tt0087644', 8.714285714285714], ['tt0087650', 10.0], ['tt0087666', 9.0], ['tt0087746', 6.0], ['tt0087798', 1.0], ['tt0087800', 7.731481481481482], ['tt0087803', 7.586956521739131], ['tt0087821', 7.0], ['tt0087843', 8.659574468085106], ['tt0087884', 8.818181818181818], ['tt0087892', 7.75], ['tt0087921', 8.0], ['tt0088015', 10.0], ['tt0088074', 8.5], ['tt0088099', 9.0], ['tt0088146', 8.222222222222221], ['tt0088224', 9.0], ['tt0088241', 8.0], ['tt0088247', 8.350961538461538], ['tt0088286', 7.884615384615385], ['tt0088333', 7.0], ['tt0088380', 5.0], ['tt0088708', 6.833333333333333], ['tt0088757', 7.0], ['tt0088763', 8.910863509749303], ['tt0088782', 8.0], ['tt0088794', 7.2], ['tt0088847', 8.024875621890548], ['tt0088879', 7.0], ['tt0088930', 7.583333333333333], ['tt0088939', 8.28888888888889], ['tt0088961', 5.0], ['tt0088967', 5.0], ['tt0088993', 7.523809523809524], ['tt0089002', 6.0], ['tt0089066', 5.0], ['tt0089108', 8.0], ['tt0089200', 4.5], ['tt0089280', 6.5], ['tt0089308', 6.0], ['tt0089421', 6.6], ['tt0089560', 7.111111111111111], ['tt0089562', 10.0], ['tt0089603', 8.857142857142858], ['tt0089606', 8.5], ['tt0089622', 7.0], ['tt0089686', 5.7073170731707314], ['tt0089695', 7.142857142857143], ['tt0089746', 10.0], ['tt0089748', 7.5], ['tt0089755', 7.461538461538462], ['tt0089798', 5.0], ['tt0089853', 8.205128205128204], ['tt0089893', 5.642857142857143], ['tt0089941', 7.411764705882353], ['tt0089960', 7.333333333333333], ['tt0090057', 5.666666666666667], ['tt0090073', 5.666666666666667], ['tt0090110', 7.0], ['tt0090196', 6.0], ['tt0090246', 5.0], ['tt0090333', 3.0], ['tt0090563', 7.466666666666667], ['tt0090579', 8.0], ['tt0090750', 8.0], ['tt0090753', 5.0], ['tt0090837', 5.7272727272727275], ['tt0090859', 5.485714285714286], ['tt0090888', 8.083333333333334], ['tt0090903', 5.0], ['tt0091019', 6.0], ['tt0091027', 6.0], ['tt0091055', 4.5], ['tt0091064', 7.311475409836065], ['tt0091093', 8.0], ['tt0091149', 7.666666666666667], ['tt0091165', 10.0], ['tt0091166', 5.333333333333333], ['tt0091167', 8.306451612903226], ['tt0091203', 7.093023255813954], ['tt0091209', 7.444444444444445], ['tt0091256', 7.0], ['tt0091276', 5.5], ['tt0091278', 6.333333333333333], ['tt0091306', 7.0], ['tt0091344', 4.0], ['tt0091538', 8.0], ['tt0091560', 7.0], ['tt0091653', 6.666666666666667], ['tt0091658', 10.0], ['tt0091671', 10.0], ['tt0091777', 6.5], ['tt0091778', 5.6875], ['tt0091814', 8.0], ['tt0091818', 7.0], ['tt0091836', 7.0], ['tt0091886', 7.7], ['tt0091902', 7.0], ['tt0091969', 5.6], ['tt0091982', 6.0], ['tt0091990', 2.0], ['tt0092048', 8.153846153846153], ['tt0092112', 6.833333333333333], ['tt0092115', 5.6], ['tt0092133', 5.5], ['tt0092288', 5.0], ['tt0092297', 4.0], ['tt0092501', 9.0], ['tt0092548', 7.0], ['tt0092558', 5.333333333333333], ['tt0092563', 7.511111111111111], ['tt0092618', 7.5], ['tt0092651', 7.6], ['tt0092671', 6.5], ['tt0092695', 8.0], ['tt0092732', 4.0], ['tt0092802', 3.0], ['tt0092910', 2.0], ['tt0092963', 9.0], ['tt0093036', 5.666666666666667], ['tt0093043', 5.0], ['tt0093132', 8.6], ['tt0093142', 1.0], ['tt0093146', 8.5], ['tt0093164', 6.0], ['tt0093175', 7.0], ['tt0093176', 7.166666666666667], ['tt0093191', 8.785714285714286], ['tt0093207', 8.5], ['tt0093223', 7.0], ['tt0093409', 7.887640449438202], ['tt0093412', 7.5], ['tt0093426', 9.0], ['tt0093427', 8.0], ['tt0093477', 7.5], ['tt0093493', 6.181818181818182], ['tt0093596', 10.0], ['tt0093640', 7.894736842105263], ['tt0093713', 8.2], ['tt0093754', 8.5], ['tt0093756', 5.416666666666667], ['tt0093776', 7.75], ['tt0093833', 3.0], ['tt0093870', 8.084415584415584], ['tt0093872', 3.0], ['tt0093990', 5.5], ['tt0093991', 6.0], ['tt0094021', 5.0], ['tt0094027', 8.222222222222221], ['tt0094033', 7.666666666666667], ['tt0094048', 3.0], ['tt0094077', 5.25], ['tt0094118', 4.833333333333333], ['tt0094138', 7.555555555555555], ['tt0094226', 7.853881278538813], ['tt0094291', 7.276923076923077], ['tt0094321', 4.5], ['tt0094336', 8.115384615384615], ['tt0094361', 2.0], ['tt0094590', 8.5], ['tt0094593', 7.0], ['tt0094627', 5.5], ['tt0094642', 5.5], ['tt0094675', 8.4], ['tt0094683', 9.0], ['tt0094701', 6.5], ['tt0094737', 7.892857142857143], ['tt0094799', 7.0], ['tt0094812', 7.538461538461538], ['tt0094824', 9.0], ['tt0094828', 8.0], ['tt0094834', 8.0], ['tt0094846', 4.0], ['tt0094850', 6.0], ['tt0094868', 10.0], ['tt0094889', 6.230769230769231], ['tt0094890', 5.166666666666667], ['tt0095040', 8.0], ['tt0095082', 7.0], ['tt0095179', 5.217391304347826], ['tt0095238', 4.0], ['tt0095262', 7.666666666666667], ['tt0095276', 10.0], ['tt0095296', 5.0], ['tt0095299', 8.5], ['tt0095302', 8.0], ['tt0095312', 8.333333333333334], ['tt0095389', 7.0], ['tt0095403', 7.833333333333333], ['tt0095409', 5.0], ['tt0095452', 10.0], ['tt0095467', 8.285714285714286], ['tt0095468', 8.15], ['tt0095489', 8.555555555555555], ['tt0095497', 7.285714285714286], ['tt0095530', 7.0], ['tt0095665', 7.0], ['tt0095687', 4.5], ['tt0095705', 7.828125], ['tt0095715', 7.166666666666667], ['tt0095800', 7.166666666666667], ['tt0095801', 7.857142857142857], ['tt0095889', 4.888888888888889], ['tt0095895', 3.0], ['tt0095903', 5.0], ['tt0095922', 7.0], ['tt0095924', 7.0], ['tt0095953', 8.358620689655172], ['tt0095956', 6.488888888888889], ['tt0095989', 6.0], ['tt0096018', 8.6], ['tt0096037', 3.0], ['tt0096046', 6.0], ['tt0096073', 5.0], ['tt0096094', 6.0], ['tt0096219', 7.4], ['tt0096223', 7.0], ['tt0096256', 7.172839506172839], ['tt0096344', 5.0], ['tt0096378', 6.333333333333333], ['tt0096523', 6.0], ['tt0096764', 7.142857142857143], ['tt0096786', 3.0], ['tt0096804', 5.0], ['tt0096894', 7.0], ['tt0096908', 8.0], ['tt0097106', 7.5], ['tt0097202', 8.666666666666666], ['tt0097216', 8.0], ['tt0097244', 7.5], ['tt0097257', 7.0], ['tt0097364', 4.0], ['tt0097368', 5.5], ['tt0097372', 8.666666666666666], ['tt0097390', 5.666666666666667], ['tt0097527', 7.75], ['tt0097534', 5.0], ['tt0097539', 6.0], ['tt0097570', 7.5], ['tt0097613', 6.5], ['tt0097636', 8.0], ['tt0097722', 7.75], ['tt0097757', 8.211538461538462], ['tt0097814', 8.082568807339449], ['tt0097815', 7.913043478260869], ['tt0097911', 7.0], ['tt0097937', 8.541871921182265], ['tt0097940', 8.08], ['tt0097942', 6.0], ['tt0098205', 3.0], ['tt0098258', 7.857142857142857], ['tt0098319', 8.4], ['tt0098321', 6.0], ['tt0098327', 7.631578947368421], ['tt0098350', 5.5], ['tt0098360', 6.5], ['tt0098554', 7.666666666666667], ['tt0098649', 4.0], ['tt0098999', 9.0], ['tt0099043', 8.0], ['tt0099073', 10.0], ['tt0099204', 6.333333333333333], ['tt0099266', 9.0], ['tt0099384', 3.5], ['tt0099385', 5.857142857142857], ['tt0099395', 3.0], ['tt0099399', 5.5], ['tt0099487', 8.0546875], ['tt0099654', 2.0], ['tt0099739', 6.333333333333333], ['tt0099785', 8.375], ['tt0099810', 7.8], ['tt0099832', 10.0], ['tt0099991', 4.0], ['tt0100046', 8.6], ['tt0100050', 4.833333333333333], ['tt0100095', 7.0], ['tt0100107', 5.333333333333333], ['tt0100112', 7.666666666666667], ['tt0100156', 5.0], ['tt0100157', 8.044117647058824], ['tt0100211', 8.0], ['tt0100232', 5.5], ['tt0100332', 8.333333333333334], ['tt0100339', 8.0], ['tt0100405', 7.886075949367089], ['tt0100470', 7.5], ['tt0100475', 8.0], ['tt0100502', 6.770833333333333], ['tt0100514', 6.5], ['tt0100611', 7.0], ['tt0100681', 8.285714285714286], ['tt0100814', 7.617021276595745], ['tt0100975', 6.0], ['tt0101256', 4.0], ['tt0101258', 7.636363636363637], ['tt0101309', 4.0], ['tt0101428', 8.083333333333334], ['tt0101453', 6.0], ['tt0101492', 7.2], ['tt0101507', 8.079545454545455], ['tt0101597', 10.0], ['tt0101605', 8.529411764705882], ['tt0101615', 4.0], ['tt0101627', 5.5], ['tt0101649', 8.5], ['tt0101698', 8.571428571428571], ['tt0101701', 5.5], ['tt0101761', 7.8], ['tt0101775', 7.75], ['tt0101921', 8.28], ['tt0101985', 8.777777777777779], ['tt0101988', 9.0], ['tt0102015', 8.636363636363637], ['tt0102095', 9.5], ['tt0102138', 8.556818181818182], ['tt0102343', 5.5], ['tt0102388', 5.0], ['tt0102443', 7.0], ['tt0102469', 6.0], ['tt0102583', 3.0], ['tt0102587', 7.625], ['tt0102721', 9.0], ['tt0102741', 5.0], ['tt0102800', 6.0], ['tt0102848', 5.0], ['tt0102910', 2.0], ['tt0102926', 8.63768115942029], ['tt0102943', 6.6], ['tt0102996', 8.0], ['tt0103010', 9.0], ['tt0103016', 5.0], ['tt0103030', 7.0], ['tt0103077', 6.75], ['tt0103116', 6.5], ['tt0103130', 6.0], ['tt0103186', 7.0], ['tt0103596', 6.5], ['tt0103767', 8.9], ['tt0103773', 4.0], ['tt0103786', 6.111111111111111], ['tt0103791', 9.0], ['tt0103848', 7.0], ['tt0103874', 7.453333333333333], ['tt0103888', 8.0], ['tt0103927', 2.0], ['tt0103939', 7.775862068965517], ['tt0103956', 5.7], ['tt0104014', 6.0], ['tt0104046', 8.0], ['tt0104114', 5.5], ['tt0104187', 6.857142857142857], ['tt0104299', 7.5], ['tt0104409', 5.733333333333333], ['tt0104438', 5.666666666666667], ['tt0104466', 7.318181818181818], ['tt0104652', 7.677966101694915], ['tt0104662', 8.0], ['tt0104740', 5.0], ['tt0104756', 8.166666666666666], ['tt0104759', 5.0], ['tt0104782', 7.0], ['tt0104797', 8.473118279569892], ['tt0104870', 6.0], ['tt0105046', 8.10344827586207], ['tt0105089', 9.0], ['tt0105104', 6.157894736842105], ['tt0105179', 4.0], ['tt0105185', 7.0], ['tt0105271', 8.25], ['tt0105395', 2.0], ['tt0105477', 5.714285714285714], ['tt0105488', 7.714285714285714], ['tt0105526', 5.0], ['tt0105597', 2.0], ['tt0105602', 9.0], ['tt0105616', 10.0], ['tt0105631', 3.0], ['tt0105719', 6.5], ['tt0105750', 9.0], ['tt0105764', 9.5], ['tt0105888', 8.0], ['tt0106185', 6.0], ['tt0106341', 8.0], ['tt0106379', 5.0], ['tt0106393', 7.666666666666667], ['tt0106400', 7.166666666666667], ['tt0106438', 10.0], ['tt0106466', 5.0], ['tt0106521', 6.5], ['tt0106557', 3.8], ['tt0106655', 7.0], ['tt0106701', 7.0], ['tt0106761', 5.8], ['tt0106873', 9.5], ['tt0106877', 8.0], ['tt0106881', 7.777777777777778], ['tt0106950', 6.555555555555555], ['tt0107130', 8.0], ['tt0107156', 7.8], ['tt0107207', 8.874149659863946], ['tt0107209', 7.0], ['tt0107282', 9.166666666666666], ['tt0107290', 8.489051094890511], ['tt0107387', 5.875], ['tt0107472', 9.0], ['tt0107507', 7.68], ['tt0107611', 7.5], ['tt0107692', 7.818181818181818], ['tt0107719', 8.0], ['tt0107756', 6.538461538461538], ['tt0107863', 4.0], ['tt0107894', 6.0], ['tt0107930', 9.0], ['tt0107953', 5.8], ['tt0108101', 8.833333333333334], ['tt0108162', 4.666666666666667], ['tt0108186', 6.0], ['tt0108211', 7.428571428571429], ['tt0108255', 6.125], ['tt0108258', 7.666666666666667], ['tt0108339', 7.0], ['tt0108358', 8.035714285714286], ['tt0108504', 6.0], ['tt0108515', 7.25], ['tt0108551', 8.428571428571429], ['tt0109066', 8.6], ['tt0109067', 5.0], ['tt0109117', 9.272727272727273], ['tt0109277', 10.0], ['tt0109348', 7.769230769230769], ['tt0109402', 7.0], ['tt0109415', 4.4], ['tt0109439', 7.0], ['tt0109445', 7.75], ['tt0109447', 9.5], ['tt0109456', 5.2], ['tt0109480', 6.0], ['tt0109506', 8.170212765957446], ['tt0109515', 2.0], ['tt0109517', 2.0], ['tt0109642', 7.846153846153846], ['tt0109676', 6.3], ['tt0109686', 8.0625], ['tt0109688', 8.7], ['tt0109739', 6.0], ['tt0109830', 9.022580645161291], ['tt0109835', 5.0], ['tt0109842', 7.714285714285714], ['tt0109959', 5.0], ['tt0110044', 8.0], ['tt0110052', 7.0], ['tt0110081', 7.923076923076923], ['tt0110116', 7.833333333333333], ['tt0110146', 6.5], ['tt0110200', 8.0], ['tt0110201', 7.0], ['tt0110222', 8.0], ['tt0110251', 10.0], ['tt0110296', 8.0], ['tt0110308', 7.7], ['tt0110322', 8.050359712230216], ['tt0110361', 6.0], ['tt0110367', 7.684210526315789], ['tt0110410', 6.333333333333333], ['tt0110442', 7.2], ['tt0110538', 4.5], ['tt0110613', 6.0], ['tt0110632', 7.282828282828283], ['tt0110649', 8.5], ['tt0110657', 5.416666666666667], ['tt0110668', 5.0], ['tt0110719', 8.0], ['tt0110785', 4.0], ['tt0110857', 3.4285714285714284], ['tt0110877', 8.074074074074074], ['tt0110882', 8.285714285714286], ['tt0110907', 5.0], ['tt0110917', 8.25], ['tt0110989', 6.555555555555555], ['tt0111003', 6.333333333333333], ['tt0111019', 6.0], ['tt0111149', 7.258064516129032], ['tt0111161', 9.388275276125743], ['tt0111190', 4.333333333333333], ['tt0111282', 7.153846153846154], ['tt0111400', 4.5], ['tt0111438', 6.466666666666667], ['tt0111470', 6.0], ['tt0111512', 7.153846153846154], ['tt0111666', 9.0], ['tt0111786', 9.0], ['tt0111797', 7.571428571428571], ['tt0112379', 7.5], ['tt0112438', 4.0], ['tt0112453', 8.0], ['tt0112492', 6.0], ['tt0112499', 6.25], ['tt0112513', 10.0], ['tt0112553', 8.333333333333334], ['tt0112573', 8.897515527950311], ['tt0112602', 7.0], ['tt0112609', 10.0], ['tt0112619', 8.5], ['tt0112625', 6.285714285714286], ['tt0112634', 4.0], ['tt0112682', 7.315789473684211], ['tt0112740', 7.814814814814815], ['tt0112757', 8.125], ['tt0112767', 7.0], ['tt0112851', 7.1], ['tt0112864', 7.821052631578947], ['tt0113074', 2.0], ['tt0113189', 7.375], ['tt0113253', 5.65], ['tt0113277', 8.669527896995708], ['tt0113442', 8.2], ['tt0113492', 6.03030303030303], ['tt0113500', 4.0], ['tt0113540', 7.2105263157894735], ['tt0113552', 6.0], ['tt0113627', 7.770491803278689], ['tt0113674', 3.0], ['tt0113703', 7.833333333333333], ['tt0113725', 8.578947368421053], ['tt0113729', 6.0], ['tt0113749', 7.318181818181818], ['tt0113755', 6.0], ['tt0113808', 8.0], ['tt0113820', 7.454545454545454], ['tt0113824', 8.072916666666666], ['tt0113845', 6.833333333333333], ['tt0113870', 8.352941176470589], ['tt0113986', 6.454545454545454], ['tt0113987', 7.333333333333333], ['tt0114055', 8.0], ['tt0114193', 2.0], ['tt0114306', 6.0], ['tt0114388', 7.754385964912281], ['tt0114432', 6.0], ['tt0114478', 8.133333333333333], ['tt0114489', 10.0], ['tt0114496', 6.25], ['tt0114508', 6.083333333333333], ['tt0114622', 6.0], ['tt0114709', 8.502673796791443], ['tt0114732', 6.0], ['tt0114781', 6.0], ['tt0114787', 8.65], ['tt0114825', 5.0], ['tt0114863', 6.333333333333333], ['tt0115040', 6.0], ['tt0115433', 5.642857142857143], ['tt0115472', 7.0], ['tt0115530', 7.0], ['tt0115610', 5.0], ['tt0115639', 6.882352941176471], ['tt0115658', 7.0], ['tt0115685', 7.2631578947368425], ['tt0115736', 7.75], ['tt0115738', 6.666666666666667], ['tt0115744', 8.0], ['tt0115751', 8.130434782608695], ['tt0115783', 6.222222222222222], ['tt0115836', 10.0], ['tt0115940', 8.0], ['tt0116040', 6.821428571428571], ['tt0116165', 4.333333333333333], ['tt0116209', 8.079545454545455], ['tt0116225', 6.151515151515151], ['tt0116231', 8.52], ['tt0116240', 8.0], ['tt0116247', 8.0], ['tt0116289', 5.666666666666667], ['tt0116308', 7.0], ['tt0116311', 6.0], ['tt0116367', 7.088709677419355], ['tt0116426', 8.333333333333334], ['tt0116514', 6.428571428571429], ['tt0116587', 7.0], ['tt0116695', 7.61864406779661], ['tt0116705', 6.181818181818182], ['tt0116752', 7.285714285714286], ['tt0116756', 5.75], ['tt0116763', 8.0], ['tt0116767', 8.75], ['tt0116851', 8.25], ['tt0116905', 7.714285714285714], ['tt0116922', 7.8604651162790695], ['tt0117002', 6.0], ['tt0117039', 7.533333333333333], ['tt0117056', 7.8], ['tt0117060', 7.27972027972028], ['tt0117070', 5.0], ['tt0117128', 8.5], ['tt0117214', 7.2727272727272725], ['tt0117238', 2.0], ['tt0117260', 10.0], ['tt0117283', 6.0], ['tt0117293', 8.0], ['tt0117315', 7.666666666666667], ['tt0117318', 7.888888888888889], ['tt0117427', 5.0], ['tt0117477', 5.0], ['tt0117500', 7.977777777777778], ['tt0117571', 7.825242718446602], ['tt0117609', 7.0], ['tt0117690', 8.0], ['tt0117723', 5.9375], ['tt0117768', 5.0], ['tt0117802', 7.2], ['tt0117826', 6.2], ['tt0117891', 7.5], ['tt0117894', 6.173913043478261], ['tt0117913', 8.144444444444444], ['tt0117951', 8.03020134228188], ['tt0117958', 6.9], ['tt0118073', 6.0], ['tt0118147', 8.75], ['tt0118540', 6.0], ['tt0118541', 6.0], ['tt0118589', 5.666666666666667], ['tt0118660', 5.0], ['tt0118663', 10.0], ['tt0118665', 1.0], ['tt0118715', 7.926829268292683], ['tt0118749', 8.204081632653061], ['tt0118750', 5.0], ['tt0118751', 8.666666666666666], ['tt0118755', 5.428571428571429], ['tt0118788', 8.0], ['tt0118818', 8.0], ['tt0118819', 6.923076923076923], ['tt0118826', 8.0], ['tt0118843', 8.04], ['tt0118849', 8.595744680851064], ['tt0118852', 7.0], ['tt0118998', 7.4], ['tt0119008', 7.783536585365853], ['tt0119038', 7.78125], ['tt0119086', 5.75], ['tt0119116', 8.029126213592233], ['tt0119137', 6.294117647058823], ['tt0119174', 8.069204152249135], ['tt0119177', 7.892086330935252], ['tt0119215', 6.222222222222222], ['tt0119239', 8.0], ['tt0119250', 7.3076923076923075], ['tt0119282', 7.529411764705882], ['tt0119361', 7.5], ['tt0119375', 8.0], ['tt0119385', 8.0], ['tt0119389', 7.0], ['tt0119432', 7.5], ['tt0119502', 8.0], ['tt0119512', 8.0], ['tt0119522', 6.0], ['tt0119588', 6.0], ['tt0119640', 10.0], ['tt0119642', 6.0], ['tt0119670', 8.333333333333334], ['tt0119707', 3.1666666666666665], ['tt0119792', 7.6], ['tt0119815', 8.0], ['tt0119889', 5.0], ['tt0119910', 10.0], ['tt0119934', 6.5], ['tt0120036', 7.5], ['tt0120112', 6.0], ['tt0120125', 9.0], ['tt0120142', 4.0], ['tt0120176', 7.25], ['tt0120177', 6.043478260869565], ['tt0120207', 7.0], ['tt0120255', 8.027777777777779], ['tt0120321', 7.5], ['tt0120324', 7.6], ['tt0120338', 8.666666666666666], ['tt0120382', 8.531674208144796], ['tt0120456', 8.0], ['tt0120472', 8.25], ['tt0120576', 10.0], ['tt0120577', 5.6], ['tt0120611', 7.410256410256411], ['tt0120619', 4.5], ['tt0120655', 7.565217391304348], ['tt0120670', 7.0], ['tt0120689', 9.016822429906542], ['tt0120696', 6.0], ['tt0120725', 5.5], ['tt0120731', 8.950980392156863], ['tt0120741', 7.0], ['tt0120753', 4.75], ['tt0120768', 8.024691358024691], ['tt0120784', 7.21875], ['tt0120789', 7.823529411764706], ['tt0120802', 8.266666666666667], ['tt0120836', 10.0], ['tt0120855', 8.548387096774194], ['tt0120866', 6.25], ['tt0120891', 5.625], ['tt0120903', 7.318181818181818], ['tt0120910', 7.181818181818182], ['tt0120917', 7.944444444444445], ['tt0122037', 7.5], ['tt0122082', 7.5], ['tt0122529', 8.0], ['tt0123034', 8.0], ['tt0123328', 8.0], ['tt0123335', 7.0], ['tt0124207', 8.75], ['tt0124770', 7.0], ['tt0125510', 5.0], ['tt0125664', 7.6], ['tt0126029', 8.545454545454545], ['tt0126859', 5.0], ['tt0126886', 7.219512195121951], ['tt0128442', 7.722222222222222], ['tt0128445', 7.867256637168142], ['tt0129167', 8.352112676056338], ['tt0129387', 7.569444444444445], ['tt0129908', 4.0], ['tt0130121', 6.0], ['tt0130444', 10.0], ['tt0131436', 6.0], ['tt0131479', 9.0], ['tt0132245', 5.833333333333333], ['tt0133093', 8.590116279069768], ['tt0133189', 8.4], ['tt0133363', 8.0], ['tt0134084', 6.2894736842105265], ['tt0134614', 7.0], ['tt0135024', 5.5], ['tt0137523', 8.796319018404908], ['tt0138097', 7.837209302325581], ['tt0139239', 7.541666666666667], ['tt0139809', 6.962962962962963], ['tt0139872', 7.0], ['tt0140090', 7.0], ['tt0140448', 7.0], ['tt0140825', 8.5], ['tt0141098', 6.25], ['tt0141716', 9.0], ['tt0142236', 7.666666666666667], ['tt0142243', 9.0], ['tt0143338', 7.0], ['tt0143861', 7.0], ['tt0144020', 8.333333333333334], ['tt0144117', 7.67816091954023], ['tt0144120', 6.833333333333333], ['tt0144201', 8.26086956521739], ['tt0144555', 2.0], ['tt0145033', 6.0], ['tt0145503', 7.666666666666667], ['tt0145547', 7.25], ['tt0145653', 8.0], ['tt0146316', 6.108108108108108], ['tt0146336', 6.136363636363637], ['tt0147612', 7.884615384615385], ['tt0147800', 7.6521739130434785], ['tt0149261', 6.717948717948718], ['tt0149568', 4.0], ['tt0149601', 8.5], ['tt0150176', 2.0], ['tt0150230', 9.0], ['tt0150915', 8.125], ['tt0151035', 7.0], ['tt0151572', 8.0], ['tt0151691', 6.8], ['tt0152015', 7.0], ['tt0155388', 7.0], ['tt0155722', 8.4], ['tt0156096', 10.0], ['tt0156323', 6.0], ['tt0156701', 9.0], ['tt0156849', 7.5], ['tt0156901', 7.8], ['tt0157075', 5.0], ['tt0157122', 6.666666666666667], ['tt0157472', 6.25], ['tt0158714', 8.333333333333334], ['tt0159097', 7.576271186440678], ['tt0160127', 5.793103448275862], ['tt0160236', 4.0], ['tt0160298', 7.0], ['tt0160484', 3.5], ['tt0162211', 7.5], ['tt0162866', 7.0], ['tt0162973', 6.333333333333333], ['tt0162983', 5.5], ['tt0163025', 6.081632653061225], ['tt0163579', 4.0], ['tt0163676', 10.0], ['tt0163983', 4.0], ['tt0164114', 7.0], ['tt0164221', 7.0], ['tt0164756', 8.0], ['tt0164982', 6.0], ['tt0164983', 6.0], ['tt0165078', 8.7], ['tt0165623', 6.142857142857143], ['tt0165831', 4.666666666666667], ['tt0165832', 8.0], ['tt0166110', 4.75], ['tt0166195', 3.0], ['tt0166370', 9.0], ['tt0166476', 7.0], ['tt0166653', 4.0], ['tt0166813', 8.210526315789474], ['tt0167203', 7.0], ['tt0167260', 9.346938775510203], ['tt0167400', 9.5], ['tt0167456', 5.142857142857143], ['tt0167825', 3.0], ['tt0168043', 4.0], ['tt0168446', 7.0], ['tt0168629', 8.541176470588235], ['tt0169145', 9.0], ['tt0169828', 8.5], ['tt0171356', 8.0], ['tt0171685', 7.555555555555555], ['tt0172396', 7.9], ['tt0172493', 7.6938775510204085], ['tt0172627', 5.0], ['tt0173772', 9.0], ['tt0174852', 8.0], ['tt0174856', 8.11965811965812], ['tt0175526', 5.8], ['tt0175536', 7.0], ['tt0175880', 8.248648648648649], ['tt0176269', 4.857142857142857], ['tt0176326', 4.0], ['tt0176426', 8.0], ['tt0177226', 4.0], ['tt0177789', 8.0], ['tt0178642', 6.0], ['tt0179183', 5.5], ['tt0180052', 3.0], ['tt0180274', 4.0], ['tt0181151', 4.0], ['tt0181530', 8.0], ['tt0181627', 8.6], ['tt0181865', 7.527777777777778], ['tt0182000', 5.0], ['tt0183306', 8.0], ['tt0184756', 9.142857142857142], ['tt0185183', 2.3529411764705883], ['tt0185431', 5.461538461538462], ['tt0185481', 8.0], ['tt0185584', 7.0], ['tt0186045', 8.0], ['tt0186725', 8.0], ['tt0187318', 8.0], ['tt0188030', 8.333333333333334], ['tt0188766', 9.0], ['tt0190332', 8.119402985074627], ['tt0190374', 3.0], ['tt0190590', 7.8497109826589595], ['tt0192255', 9.5], ['tt0192614', 8.571428571428571], ['tt0192701', 4.0], ['tt0192718', 8.692307692307692], ['tt0192731', 3.8], ['tt0193560', 4.0], ['tt0193741', 7.0], ['tt0196069', 7.666666666666667], ['tt0196223', 4.0], ['tt0197384', 2.0], ['tt0198386', 7.0], ['tt0199290', 4.0], ['tt0199354', 7.0], ['tt0199753', 5.764705882352941], ['tt0200087', 8.5], ['tt0200309', 6.0], ['tt0200472', 7.0], ['tt0201290', 1.0], ['tt0202623', 7.0], ['tt0202641', 9.0], ['tt0203009', 8.181818181818182], ['tt0203019', 7.953125], ['tt0203166', 7.666666666666667], ['tt0203230', 7.714285714285714], ['tt0203632', 7.4], ['tt0204626', 5.5], ['tt0205177', 7.384615384615385], ['tt0205271', 4.333333333333333], ['tt0205461', 8.0], ['tt0206013', 6.1], ['tt0207341', 5.0], ['tt0208032', 8.0], ['tt0208196', 8.666666666666666], ['tt0209144', 8.494768310911809], ['tt0209189', 9.5], ['tt0209463', 8.2], ['tt0210299', 6.0], ['tt0210916', 8.0], ['tt0211181', 6.75], ['tt0211443', 4.368421052631579], ['tt0211915', 8.52112676056338], ['tt0211938', 4.5], ['tt0212712', 8.043478260869565], ['tt0212720', 7.434343434343434], ['tt0212742', 6.0], ['tt0212815', 8.0], ['tt0213790', 4.0], ['tt0214871', 2.0], ['tt0215517', 8.0], ['tt0216625', 7.7], ['tt0216787', 8.25], ['tt0216800', 8.0], ['tt0217630', 6.076923076923077], ['tt0217756', 6.5], ['tt0218043', 7.8], ['tt0218625', 5.0], ['tt0218864', 5.5], ['tt0219653', 5.75], ['tt0220506', 3.5], ['tt0221073', 6.9375], ['tt0221889', 6.0], ['tt0227277', 7.0], ['tt0230600', 7.910344827586207], ['tt0233234', 9.125], ['tt0233469', 5.653846153846154], ['tt0233600', 7.0], ['tt0233656', 4.0], ['tt0233841', 8.0], ['tt0234837', 6.5], ['tt0235060', 8.25], ['tt0235154', 7.0], ['tt0235737', 6.285714285714286], ['tt0236126', 2.0], ['tt0238380', 7.135593220338983], ['tt0239395', 6.0], ['tt0240119', 5.0], ['tt0240200', 7.4], ['tt0240419', 7.166666666666667], ['tt0240515', 5.7272727272727275], ['tt0241527', 7.799319727891157], ['tt0241760', 7.181818181818182], ['tt0242508', 3.0], ['tt0242572', 8.0], ['tt0243133', 7.897435897435898], ['tt0243876', 5.0], ['tt0245429', 8.550228310502282], ['tt0245573', 5.0], ['tt0245712', 8.28], ['tt0245803', 4.7], ['tt0245929', 10.0], ['tt0246989', 6.0], ['tt0247586', 8.066666666666666], ['tt0247745', 6.944444444444445], ['tt0247911', 10.0], ['tt0248126', 8.45], ['tt0248617', 10.0], ['tt0248661', 6.5], ['tt0248845', 7.9411764705882355], ['tt0249188', 8.0], ['tt0250258', 7.45], ['tt0251160', 7.783333333333333], ['tt0252028', 5.666666666666667], ['tt0252277', 7.0], ['tt0252360', 7.0], ['tt0252468', 7.0], ['tt0252487', 9.5], ['tt0252489', 8.0], ['tt0252490', 8.0], ['tt0252589', 7.0], ['tt0252985', 7.0], ['tt0253143', 8.0], ['tt0253420', 7.0], ['tt0253474', 8.475077881619939], ['tt0253622', 8.0], ['tt0253623', 7.0], ['tt0253828', 9.0], ['tt0253867', 5.416666666666667], ['tt0253997', 9.5], ['tt0254686', 7.677966101694915], ['tt0255477', 4.0], ['tt0256858', 8.0], ['tt0257360', 7.582278481012659], ['tt0258463', 7.859903381642512], ['tt0258470', 5.0], ['tt0259182', 8.0], ['tt0259324', 5.595238095238095], ['tt0259484', 6.714285714285714], ['tt0260332', 8.0], ['tt0260991', 8.208333333333334], ['tt0261289', 5.0], ['tt0262240', 8.5], ['tt0262432', 8.333333333333334], ['tt0263265', 6.5], ['tt0264051', 7.666666666666667], ['tt0264150', 5.25], ['tt0264476', 9.0], ['tt0265029', 6.5], ['tt0265086', 7.950617283950617], ['tt0265087', 5.5], ['tt0265144', 8.0], ['tt0265343', 8.0], ['tt0265808', 4.5], ['tt0266437', 8.0], ['tt0266543', 8.472049689440993], ['tt0266987', 7.465753424657534], ['tt0267363', 8.0], ['tt0267804', 6.2105263157894735], ['tt0267891', 5.5], ['tt0267913', 6.391304347826087], ['tt0268126', 7.732673267326732], ['tt0268579', 2.0], ['tt0268978', 8.932253313696613], ['tt0269356', 2.0], ['tt0270560', 7.0], ['tt0270846', 4.4], ['tt0270919', 8.0], ['tt0272207', 7.3], ['tt0272338', 7.450980392156863], ['tt0272736', 7.0], ['tt0273517', 4.5], ['tt0273718', 9.0], ['tt0273799', 5.5], ['tt0274117', 7.769230769230769], ['tt0274497', 7.8], ['tt0275277', 9.133333333333333], ['tt0275491', 7.888888888888889], ['tt0276033', 10.0], ['tt0276744', 3.0], ['tt0277027', 8.651515151515152], ['tt0278435', 7.0], ['tt0278504', 7.465020576131687], ['tt0279781', 6.5], ['tt0279889', 5.0], ['tt0280381', 7.0], ['tt0280460', 7.666666666666667], ['tt0280590', 5.7272727272727275], ['tt0280653', 6.777777777777778], ['tt0280674', 4.0], ['tt0280696', 7.0], ['tt0280707', 7.72972972972973], ['tt0280969', 4.0], ['tt0281373', 7.0], ['tt0281718', 7.8], ['tt0282209', 5.25], ['tt0282552', 6.5], ['tt0282589', 4.0], ['tt0282599', 7.0], ['tt0282687', 6.444444444444445], ['tt0283015', 5.0], ['tt0283026', 5.0], ['tt0283054', 4.5], ['tt0283283', 7.0], ['tt0283453', 8.0], ['tt0283632', 5.833333333333333], ['tt0284494', 7.0], ['tt0284655', 5.5], ['tt0284929', 6.333333333333333], ['tt0285665', 9.0], ['tt0285728', 5.25], ['tt0286112', 7.0], ['tt0286244', 7.818181818181818], ['tt0286716', 5.333333333333333], ['tt0287467', 8.135593220338983], ['tt0287803', 7.0], ['tt0288861', 8.0], ['tt0289879', 8.04026845637584], ['tt0289992', 8.15748031496063], ['tt0290212', 2.0], ['tt0290332', 6.333333333333333], ['tt0291003', 7.0], ['tt0291032', 10.0], ['tt0291131', 8.0], ['tt0291376', 8.0], ['tt0291579', 7.0], ['tt0292490', 8.5], ['tt0292542', 8.166666666666666], ['tt0292610', 6.333333333333333], ['tt0292963', 7.3584905660377355], ['tt0293007', 7.777777777777778], ['tt0294594', 8.5], ['tt0294725', 5.0], ['tt0295427', 1.0], ['tt0295721', 5.5], ['tt0298203', 8.315068493150685], ['tt0298814', 5.8], ['tt0298845', 7.947368421052632], ['tt0299213', 7.333333333333333], ['tt0299658', 8.05813953488372], ['tt0300140', 8.084745762711865], ['tt0300902', 4.0], ['tt0301470', 6.6], ['tt0301555', 8.0], ['tt0302297', 7.5], ['tt0302886', 7.227848101265823], ['tt0303243', 8.0], ['tt0303816', 5.363636363636363], ['tt0303933', 6.666666666666667], ['tt0303970', 4.0], ['tt0304120', 6.0], ['tt0304669', 5.769230769230769], ['tt0304711', 5.666666666666667], ['tt0304722', 2.0], ['tt0305206', 7.285714285714286], ['tt0305669', 5.777777777777778], ['tt0306047', 5.8], ['tt0306734', 5.6], ['tt0306841', 7.666666666666667], ['tt0306846', 6.5], ['tt0306909', 7.333333333333333], ['tt0307076', 6.0], ['tt0307197', 4.0], ['tt0307692', 1.0], ['tt0308208', 3.8], ['tt0308280', 7.0], ['tt0308644', 8.228260869565217], ['tt0309291', 6.0], ['tt0310149', 8.0], ['tt0310254', 5.0], ['tt0310281', 7.714285714285714], ['tt0311110', 6.666666666666667], ['tt0311361', 10.0], ['tt0311519', 7.875], ['tt0312528', 6.75], ['tt0312859', 10.0], ['tt0313542', 7.219512195121951], ['tt0314331', 7.878205128205129], ['tt0314412', 7.666666666666667], ['tt0314498', 5.8], ['tt0314589', 5.0], ['tt0314725', 7.0], ['tt0314786', 5.0], ['tt0315543', 7.714285714285714], ['tt0315642', 7.764705882352941], ['tt0315733', 8.11111111111111], ['tt0315983', 7.2727272727272725], ['tt0316356', 7.28], ['tt0316654', 7.547008547008547], ['tt0317226', 8.0], ['tt0317234', 6.5], ['tt0318034', 8.6], ['tt0318462', 8.119047619047619], ['tt0319061', 8.316831683168317], ['tt0320512', 9.0], ['tt0322259', 6.323529411764706], ['tt0323013', 9.2], ['tt0323033', 6.0], ['tt0323872', 7.0], ['tt0325675', 7.0], ['tt0325710', 8.178571428571429], ['tt0326143', 8.0], ['tt0326664', 9.0], ['tt0326856', 4.666666666666667], ['tt0327071', 6.0], ['tt0327162', 6.25], ['tt0327409', 6.0], ['tt0327419', 7.0], ['tt0327437', 6.1875], ['tt0327597', 7.809523809523809], ['tt0328099', 5.777777777777778], ['tt0329083', 7.0], ['tt0329216', 7.0], ['tt0329354', 5.0], ['tt0329575', 8.095238095238095], ['tt0329774', 5.421052631578948], ['tt0331933', 7.0], ['tt0331953', 7.285714285714286], ['tt0332136', 7.0], ['tt0332280', 8.369158878504672], ['tt0332452', 7.86060606060606], ['tt0333780', 5.764705882352941], ['tt0334405', 8.0], ['tt0335266', 7.514044943820225], ['tt0337578', 9.0], ['tt0337579', 6.0], ['tt0337721', 8.0], ['tt0337917', 5.0], ['tt0338135', 7.571428571428571], ['tt0338216', 7.0], ['tt0338325', 7.5], ['tt0338751', 7.761133603238866], ['tt0338763', 3.6666666666666665], ['tt0338949', 2.0], ['tt0339147', 6.0], ['tt0339419', 6.0], ['tt0340110', 8.0], ['tt0340377', 7.42], ['tt0340855', 7.573529411764706], ['tt0341495', 5.0], ['tt0342150', 6.666666666666667], ['tt0342275', 8.5], ['tt0343168', 10.0], ['tt0344273', 7.0], ['tt0345032', 8.0], ['tt0345549', 7.75], ['tt0345950', 7.947368421052632], ['tt0346094', 7.869565217391305], ['tt0346491', 6.037037037037037], ['tt0347149', 8.548387096774194], ['tt0347246', 7.9411764705882355], ['tt0347304', 8.733333333333333], ['tt0347369', 4.0], ['tt0349205', 6.681818181818182], ['tt0349467', 4.4], ['tt0349703', 2.0], ['tt0349825', 7.611111111111111], ['tt0349889', 4.0], ['tt0350232', 3.5], ['tt0350258', 8.178571428571429], ['tt0350774', 7.0], ['tt0353324', 6.5], ['tt0353969', 8.498039215686275], ['tt0356159', 5.5], ['tt0356443', 4.0], ['tt0357277', 4.9523809523809526], ['tt0357282', 10.0], ['tt0357585', 6.0], ['tt0358273', 8.477178423236515], ['tt0358294', 3.0], ['tt0358345', 4.5], ['tt0359013', 5.833333333333333], ['tt0360916', 5.0], ['tt0361467', 6.714285714285714], ['tt0361596', 7.484848484848484], ['tt0361670', 8.0], ['tt0361818', 8.0], ['tt0361841', 6.142857142857143], ['tt0361925', 6.0], ['tt0362165', 2.3333333333333335], ['tt0362227', 8.041666666666666], ['tt0362270', 7.87], ['tt0363143', 5.0], ['tt0363226', 7.684210526315789], ['tt0363589', 7.388888888888889], ['tt0364751', 5.6], ['tt0364930', 7.466666666666667], ['tt0366518', 6.0], ['tt0366721', 8.666666666666666], ['tt0366905', 10.0], ['tt0367085', 4.5], ['tt0367089', 7.435897435897436], ['tt0367631', 7.0], ['tt0367859', 7.333333333333333], ['tt0368296', 5.0], ['tt0368563', 4.8], ['tt0368578', 5.555555555555555], ['tt0368619', 10.0], ['tt0368688', 5.0], ['tt0368913', 8.0], ['tt0368975', 6.75], ['tt0369339', 7.495238095238095], ['tt0369359', 3.5], ['tt0369436', 5.647058823529412], ['tt0369702', 8.365079365079366], ['tt0369735', 5.222222222222222], ['tt0370032', 4.631578947368421], ['tt0370082', 6.0], ['tt0371280', 8.6], ['tt0372237', 6.923076923076923], ['tt0372279', 10.0], ['tt0372873', 1.0], ['tt0373051', 6.821428571428571], ['tt0373416', 6.0], ['tt0373469', 7.442477876106195], ['tt0373747', 9.0], ['tt0373861', 6.666666666666667], ['tt0373889', 7.946601941747573], ['tt0374345', 6.75], ['tt0374536', 4.470588235294118], ['tt0374887', 8.555555555555555], ['tt0375611', 8.568181818181818], ['tt0375782', 4.0], ['tt0375785', 5.333333333333333], ['tt0375878', 8.0], ['tt0376105', 4.666666666666667], ['tt0376541', 7.455284552845528], ['tt0376649', 7.0], ['tt0377713', 4.714285714285714], ['tt0377744', 4.0], ['tt0377752', 7.625], ['tt0377818', 5.909090909090909], ['tt0378194', 8.096296296296297], ['tt0378284', 8.0], ['tt0378848', 6.0], ['tt0379217', 7.526315789473684], ['tt0379370', 6.5], ['tt0380066', 6.5], ['tt0380485', 9.0], ['tt0380615', 5.0], ['tt0381601', 4.5], ['tt0381681', 8.302405498281788], ['tt0381707', 6.962962962962963], ['tt0381849', 7.841628959276018], ['tt0382330', 8.285714285714286], ['tt0382561', 4.0], ['tt0382628', 6.066666666666666], ['tt0383010', 4.878787878787879], ['tt0383060', 3.0], ['tt0383574', 7.817610062893082], ['tt0384488', 5.5], ['tt0384642', 6.0], ['tt0385002', 7.577319587628866], ['tt0385277', 10.0], ['tt0385639', 1.0], ['tt0385677', 6.0], ['tt0386650', 7.5], ['tt0386651', 8.0], ['tt0386751', 8.0], ['tt0387357', 5.0], ['tt0387575', 5.3478260869565215], ['tt0388130', 10.0], ['tt0388183', 6.0], ['tt0388285', 6.0], ['tt0388473', 7.7727272727272725], ['tt0388795', 7.625], ['tt0389557', 7.74468085106383], ['tt0389957', 5.888888888888889], ['tt0390022', 7.846153846153846], ['tt0390109', 6.0], ['tt0390205', 8.0], ['tt0390450', 6.0], ['tt0390531', 5.0], ['tt0391024', 8.0], ['tt0391095', 8.0], ['tt0391728', 6.0], ['tt0393162', 8.018518518518519], ['tt0393685', 6.5], ['tt0393775', 9.0], ['tt0395140', 6.0], ['tt0395461', 9.2], ['tt0396096', 3.0], ['tt0396184', 6.8], ['tt0396857', 5.0], ['tt0397044', 7.0], ['tt0397065', 6.304347826086956], ['tt0397078', 6.066666666666666], ['tt0397401', 5.0], ['tt0397535', 7.305084745762712], ['tt0398808', 7.583333333333333], ['tt0398842', 7.714285714285714], ['tt0399040', 8.0], ['tt0399295', 7.928571428571429], ['tt0400761', 8.0], ['tt0401085', 8.038461538461538], ['tt0401711', 7.5476190476190474], ['tt0401792', 8.089473684210526], ['tt0401815', 9.0], ['tt0402014', 9.0], ['tt0402022', 6.2], ['tt0402158', 5.0], ['tt0402294', 5.0], ['tt0402743', 4.5], ['tt0402906', 8.0], ['tt0403645', 6.0], ['tt0404163', 7.0], ['tt0404203', 7.803571428571429], ['tt0405094', 8.663522012578616], ['tt0405266', 8.666666666666666], ['tt0405977', 2.5], ['tt0407246', 10.0], ['tt0407265', 8.2], ['tt0407708', 3.0], ['tt0407851', 7.0], ['tt0407998', 1.0], ['tt0408236', 7.866141732283465], ['tt0408345', 6.217391304347826], ['tt0408524', 6.142857142857143], ['tt0408664', 8.266666666666667], ['tt0408777', 8.166666666666666], ['tt0409011', 4.4], ['tt0409072', 6.333333333333333], ['tt0409182', 6.228571428571429], ['tt0410097', 7.9], ['tt0411061', 6.153846153846154], ['tt0411195', 7.7], ['tt0411646', 6.0], ['tt0412019', 7.5576923076923075], ['tt0412922', 8.583333333333334], ['tt0413099', 5.666666666666667], ['tt0414387', 8.166666666666666], ['tt0415978', 8.181818181818182], ['tt0416320', 7.471014492753623], ['tt0416991', 6.0], ['tt0417046', 6.0], ['tt0417385', 5.5], ['tt0417397', 7.75], ['tt0417686', 1.0], ['tt0419198', 7.1], ['tt0419946', 4.705882352941177], ['tt0419984', 6.285714285714286], ['tt0420206', 7.0], ['tt0420223', 8.008264462809917], ['tt0420260', 8.25], ['tt0420555', 6.0], ['tt0420757', 7.0], ['tt0421082', 7.303030303030303], ['tt0421625', 7.75], ['tt0421715', 8.761099365750528], ['tt0421729', 6.916666666666667], ['tt0422015', 7.0], ['tt0422093', 3.3333333333333335], ['tt0422320', 8.0], ['tt0422401', 7.461538461538462], ['tt0423470', 8.0], ['tt0423853', 8.0], ['tt0424205', 8.052631578947368], ['tt0424345', 8.15], ['tt0424430', 7.75], ['tt0424434', 7.857142857142857], ['tt0424565', 10.0], ['tt0424774', 8.333333333333334], ['tt0424823', 6.0], ['tt0424993', 5.9411764705882355], ['tt0425112', 7.808333333333334], ['tt0425210', 7.900900900900901], ['tt0425321', 7.625], ['tt0425333', 7.666666666666667], ['tt0425379', 7.833333333333333], ['tt0425637', 7.315789473684211], ['tt0426501', 4.0], ['tt0426578', 7.75], ['tt0426931', 8.0625], ['tt0427152', 6.369565217391305], ['tt0427229', 5.590909090909091], ['tt0427309', 7.769230769230769], ['tt0427582', 6.0], ['tt0427944', 7.617977528089888], ['tt0428251', 4.4], ['tt0428870', 8.476190476190476], ['tt0429573', 4.333333333333333], ['tt0429591', 7.6923076923076925], ['tt0430308', 6.777777777777778], ['tt0430381', 4.5], ['tt0430576', 8.0], ['tt0430651', 7.0], ['tt0430710', 7.0], ['tt0430779', 7.0], ['tt0430912', 4.625], ['tt0432291', 3.2142857142857144], ['tt0433383', 7.846153846153846], ['tt0433386', 5.0], ['tt0433416', 7.647058823529412], ['tt0433442', 5.363636363636363], ['tt0435434', 6.5], ['tt0435761', 8.723076923076922], ['tt0435776', 6.0], ['tt0436613', 7.0], ['tt0436697', 7.956521739130435], ['tt0436971', 8.5], ['tt0437954', 3.6666666666666665], ['tt0438427', 7.0], ['tt0439533', 9.0], ['tt0439615', 2.0], ['tt0439817', 9.0], ['tt0439884', 8.0], ['tt0440963', 8.248587570621469], ['tt0441773', 7.573333333333333], ['tt0442286', 8.0], ['tt0443295', 7.0], ['tt0443431', 4.0], ['tt0443527', 5.666666666666667], ['tt0443584', 3.5], ['tt0443649', 5.466666666666667], ['tt0443708', 8.5], ['tt0443737', 4.0], ['tt0444505', 7.0], ['tt0444840', 4.666666666666667], ['tt0445336', 7.733333333333333], ['tt0445506', 4.0], ['tt0445990', 7.125], ['tt0446055', 10.0], ['tt0446313', 5.0], ['tt0446476', 4.0], ['tt0446719', 6.428571428571429], ['tt0448134', 7.395833333333333], ['tt0449059', 7.9655172413793105], ['tt0449159', 7.0], ['tt0449471', 5.333333333333333], ['tt0449487', 6.344827586206897], ['tt0449994', 7.888888888888889], ['tt0450188', 8.5], ['tt0450259', 8.291907514450868], ['tt0450336', 6.857142857142857], ['tt0450345', 3.259259259259259], ['tt0450405', 6.944444444444445], ['tt0451094', 7.645833333333333], ['tt0451787', 5.0], ['tt0452598', 5.6923076923076925], ['tt0452625', 5.722222222222222], ['tt0452694', 7.1265822784810124], ['tt0453494', 10.0], ['tt0453729', 7.666666666666667], ['tt0454065', 8.5], ['tt0454776', 7.181818181818182], ['tt0455116', 8.0], ['tt0455499', 4.666666666666667], ['tt0455584', 10.0], ['tt0455590', 7.55], ['tt0455612', 7.0], ['tt0455829', 9.0], ['tt0455857', 6.25], ['tt0456014', 1.0], ['tt0456047', 9.0], ['tt0457297', 4.25], ['tt0457430', 8.29940119760479], ['tt0457496', 8.0], ['tt0458425', 9.0], ['tt0460505', 8.0], ['tt0460766', 8.5], ['tt0460791', 8.125], ['tt0460952', 2.5], ['tt0461694', 6.9], ['tt0461703', 6.666666666666667], ['tt0462160', 7.0], ['tt0462229', 5.5], ['tt0462244', 2.0], ['tt0462335', 5.829787234042553], ['tt0462359', 3.0], ['tt0462396', 5.666666666666667], ['tt0462477', 7.0], ['tt0462519', 5.333333333333333], ['tt0463392', 1.0], ['tt0463960', 3.6666666666666665], ['tt0464071', 7.0], ['tt0465142', 4.5], ['tt0466342', 2.6666666666666665], ['tt0466561', 6.0], ['tt0466766', 6.333333333333333], ['tt0467110', 5.25], ['tt0467167', 4.333333333333333], ['tt0468094', 6.5], ['tt0468536', 8.0], ['tt0468565', 7.611111111111111], ['tt0468569', 9.27972972972973], ['tt0469494', 8.460526315789474], ['tt0469623', 7.055555555555555], ['tt0469903', 7.7272727272727275], ['tt0472043', 7.949579831932773], ['tt0473064', 6.0], ['tt0473360', 5.0], ['tt0473705', 7.265060240963855], ['tt0473753', 7.454545454545454], ['tt0475169', 7.833333333333333], ['tt0475228', 5.0], ['tt0475276', 7.828125], ['tt0475289', 6.5], ['tt0475417', 6.0], ['tt0475783', 7.8], ['tt0475944', 5.933333333333334], ['tt0475998', 8.0], ['tt0476550', 3.0], ['tt0476735', 8.11111111111111], ['tt0476884', 6.0], ['tt0476958', 4.333333333333333], ['tt0477139', 7.696969696969697], ['tt0477252', 9.0], ['tt0477585', 9.0], ['tt0478126', 4.5], ['tt0478988', 7.666666666666667], ['tt0479143', 7.421686746987952], ['tt0479354', 7.0], ['tt0479500', 6.8], ['tt0479879', 1.0], ['tt0479968', 4.916666666666667], ['tt0480011', 6.5], ['tt0480249', 7.547872340425532], ['tt0482461', 6.333333333333333], ['tt0482463', 6.0], ['tt0482571', 8.896396396396396], ['tt0482629', 7.777777777777778], ['tt0483577', 5.0], ['tt0483719', 4.0], ['tt0484111', 6.0], ['tt0485241', 8.0], ['tt0485510', 6.0], ['tt0485985', 5.774193548387097], ['tt0486358', 7.5], ['tt0486544', 6.0], ['tt0486655', 7.733333333333333], ['tt0486674', 5.5625], ['tt0486946', 6.578947368421052], ['tt0488414', 10.0], ['tt0488658', 8.2], ['tt0489010', 9.0], ['tt0489282', 5.166666666666667], ['tt0489327', 7.666666666666667], ['tt0490076', 6.03125], ['tt0490196', 3.0], ['tt0490377', 9.0], ['tt0491046', 3.6666666666666665], ['tt0492835', 7.0], ['tt0493393', 9.0], ['tt0493437', 6.0], ['tt0494224', 5.25], ['tt0494864', 8.0], ['tt0495747', 2.0], ['tt0496350', 5.0], ['tt0497116', 7.833333333333333], ['tt0497316', 6.0], ['tt0497915', 10.0], ['tt0498097', 7.583333333333333], ['tt0498380', 8.166666666666666], ['tt0499097', 6.0], ['tt0499101', 8.0], ['tt0499262', 7.0], ['tt0499291', 7.0], ['tt0499375', 8.25], ['tt0499549', 8.206896551724139], ['tt0499570', 8.0], ['tt0756683', 7.982248520710059], ['tt0758742', 8.0], ['tt0758758', 8.34008097165992], ['tt0758771', 6.5], ['tt0758774', 7.235294117647059], ['tt0760187', 6.0], ['tt0762073', 7.277777777777778], ['tt0762110', 7.5], ['tt0762114', 5.777777777777778], ['tt0762138', 6.0], ['tt0763831', 6.186046511627907], ['tt0770802', 8.91304347826087], ['tt0770810', 4.0], ['tt0773318', 2.0], ['tt0774755', 4.0], ['tt0779982', 7.0], ['tt0780485', 5.75], ['tt0780504', 7.773356401384083], ['tt0780521', 7.6976744186046515], ['tt0780524', 9.5], ['tt0780534', 4.25], ['tt0780622', 5.52], ['tt0782042', 10.0], ['tt0782700', 7.5], ['tt0783233', 8.453703703703704], ['tt0783530', 5.0], ['tt0783695', 4.0], ['tt0783767', 5.0], ['tt0784972', 4.5], ['tt0785007', 4.333333333333333], ['tt0787462', 7.0], ['tt0787524', 7.4397590361445785], ['tt0790662', 3.0], ['tt0790706', 7.0], ['tt0794374', 6.0], ['tt0795368', 7.223880597014926], ['tt0795370', 5.0], ['tt0795461', 3.808080808080808], ['tt0796302', 5.545454545454546], ['tt0796307', 6.666666666666667], ['tt0796368', 8.428571428571429], ['tt0800039', 7.340909090909091], ['tt0800069', 6.043478260869565], ['tt0800320', 6.486486486486487], ['tt0800956', 9.0], ['tt0804443', 4.6], ['tt0804452', 10.0], ['tt0804492', 6.333333333333333], ['tt0805564', 7.65625], ['tt0808331', 6.3], ['tt0808357', 7.428571428571429], ['tt0809504', 6.9], ['tt0810772', 3.0], ['tt0810819', 7.1181262729124235], ['tt0811066', 6.333333333333333], ['tt0813547', 7.625], ['tt0814075', 8.666666666666666], ['tt0814255', 6.3076923076923075], ['tt0816442', 7.815834767641997], ['tt0816462', 5.276595744680851], ['tt0816692', 8.846153846153847], ['tt0817177', 7.953488372093023], ['tt0817225', 8.1], ['tt0817538', 6.384615384615385], ['tt0821640', 5.6875], ['tt0822847', 5.612244897959184], ['tt0822868', 5.0], ['tt0824316', 7.75], ['tt0824375', 6.0], ['tt0825283', 3.0], ['tt0827181', 6.0], ['tt0827503', 7.857142857142857], ['tt0827517', 7.666666666666667], ['tt0829176', 2.269230769230769], ['tt0829297', 9.0], ['tt0831887', 5.333333333333333], ['tt0833476', 5.666666666666667], ['tt0834170', 5.75], ['tt0835418', 5.333333333333333], ['tt0836700', 6.0], ['tt0837791', 6.0], ['tt0839811', 9.0], ['tt0840322', 8.25], ['tt0840361', 7.715170278637771], ['tt0841119', 10.0], ['tt0841150', 7.0], ['tt0845439', 8.0], ['tt0847817', 7.2], ['tt0847880', 7.285714285714286], ['tt0848552', 7.0], ['tt0851577', 6.0], ['tt0855729', 8.0], ['tt0857191', 7.67741935483871], ['tt0857355', 7.0], ['tt0860906', 8.153846153846153], ['tt0862748', 5.0], ['tt0865297', 7.428571428571429], ['tt0865554', 6.333333333333333], ['tt0866439', 6.444444444444445], ['tt0870090', 7.857142857142857], ['tt0870111', 8.253968253968255], ['tt0870204', 6.333333333333333], ['tt0870937', 6.0], ['tt0871510', 8.947368421052632], ['tt0872022', 9.0], ['tt0872224', 6.333333333333333], ['tt0875025', 7.666666666666667], ['tt0875034', 6.391304347826087], ['tt0875595', 7.714285714285714], ['tt0878804', 8.277777777777779], ['tt0881320', 6.333333333333333], ['tt0881891', 5.304347826086956], ['tt0884214', 4.666666666666667], ['tt0887719', 4.0], ['tt0887912', 7.741293532338308], ['tt0891592', 3.0], ['tt0892255', 7.678571428571429], ['tt0892767', 6.083333333333333], ['tt0893412', 6.285714285714286], ['tt0893532', 6.333333333333333], ['tt0897347', 7.5], ['tt0897361', 5.0], ['tt0901476', 5.833333333333333], ['tt0902952', 5.5], ['tt0902967', 8.8], ['tt0903624', 7.887012987012987], ['tt0907657', 7.7272727272727275], ['tt0910885', 4.866666666666666], ['tt0912583', 8.0], ['tt0913401', 7.5], ['tt0913425', 7.62962962962963], ['tt0914837', 4.4], ['tt0920458', 7.0], ['tt0920464', 8.0], ['tt0926084', 8.194871794871794], ['tt0929632', 7.526881720430108], ['tt0936471', 3.0], ['tt0937347', 5.0], ['tt0938330', 5.076923076923077], ['tt0938341', 6.333333333333333], ['tt0940657', 5.5], ['tt0948547', 4.0], ['tt0949815', 9.0], ['tt0951216', 6.545454545454546], ['tt0951335', 4.5], ['tt0959306', 4.777777777777778], ['tt0959329', 4.909090909090909], ['tt0959337', 7.681451612903226], ['tt0960066', 4.5], ['tt0961066', 8.090909090909092], ['tt0962736', 7.4772727272727275], ['tt0963794', 5.76], ['tt0964517', 7.932203389830509], ['tt0965649', 10.0], ['tt0972558', 6.5], ['tt0974536', 7.0], ['tt0976060', 7.5], ['tt0976238', 5.071428571428571], ['tt0976247', 7.0], ['tt0977214', 7.0], ['tt0978759', 7.133333333333334], ['tt0978797', 6.0], ['tt0979434', 5.6], ['tt0981224', 7.5], ['tt0983213', 7.2], ['tt0984200', 6.6], ['tt0985025', 5.0], ['tt0985593', 8.0], ['tt0986233', 7.383458646616542], ['tt0986329', 8.5], ['tt0988043', 5.5], ['tt0988045', 7.945812807881773], ['tt0988849', 4.0], ['tt0989000', 7.5], ['tt0990372', 8.0], ['tt0990404', 7.333333333333333], ['tt0990407', 5.461538461538462], ['tt0995740', 6.75], ['tt0995747', 8.333333333333334], ['tt0995829', 7.4], ['tt0995868', 7.88], ['tt0996605', 7.8], ['tt0996934', 7.5], ['tt0997047', 5.0], ['tt0997246', 8.166666666666666], ['tt10003008', 5.71875], ['tt10023024', 4.75], ['tt1002563', 7.125], ['tt10050782', 8.25], ['tt10062614', 5.666666666666667], ['tt10091530', 4.333333333333333], ['tt10096842', 5.0], ['tt1010048', 8.284210526315789], ['tt10121392', 4.304347826086956], ['tt10126434', 7.0], ['tt1014672', 6.5], ['tt1014774', 7.25], ['tt1014775', 7.5], ['tt1014809', 6.333333333333333], ['tt1015971', 8.5], ['tt1016164', 7.2], ['tt1016268', 7.647058823529412], ['tt1016290', 7.0], ['tt10168672', 5.0], ['tt10192566', 2.5], ['tt10199640', 7.75], ['tt1020072', 7.739376770538244], ['tt1020543', 5.75], ['tt1020885', 6.222222222222222], ['tt10214826', 9.333333333333334], ['tt10230404', 2.6666666666666665], ['tt10230422', 7.0], ['tt10230436', 10.0], ['tt1023490', 8.181818181818182], ['tt1025100', 5.040133779264214], ['tt10262380', 8.0], ['tt10272386', 8.487951807228916], ['tt10279362', 7.333333333333333], ['tt1028532', 8.696428571428571], ['tt1028576', 7.666666666666667], ['tt10289996', 8.0], ['tt1029231', 6.363636363636363], ['tt1029360', 5.115606936416185], ['tt10295212', 8.0], ['tt10308928', 4.2], ['tt10309552', 4.666666666666667], ['tt10309906', 7.25], ['tt10322274', 8.0], ['tt10327252', 5.934782608695652], ['tt1032755', 7.445454545454545], ['tt1032815', 6.157894736842105], ['tt1032821', 8.166666666666666], ['tt10329134', 9.666666666666666], ['tt10333426', 5.857142857142857], ['tt1033575', 7.612903225806452], ['tt1034032', 5.808510638297872], ['tt1034320', 5.0], ['tt1034449', 5.5], ['tt10350626', 8.142857142857142], ['tt1035498', 5.0], ['tt10370116', 5.0], ['tt10370380', 8.75], ['tt1037222', 10.0], ['tt1038685', 2.5], ['tt1039989', 4.0], ['tt10431010', 6.666666666666667], ['tt10441806', 8.0], ['tt10452480', 9.0], ['tt1046163', 6.166666666666667], ['tt1046173', 5.728395061728395], ['tt1047007', 8.0], ['tt10472102', 4.615384615384615], ['tt10477558', 7.285714285714286], ['tt1047832', 6.0], ['tt1049400', 6.0], ['tt1050739', 4.0], ['tt10515086', 7.7555555555555555], ['tt10515988', 5.2], ['tt10516086', 6.0], ['tt1052040', 7.5], ['tt10521092', 7.464285714285714], ['tt10530176', 7.371428571428571], ['tt1053859', 4.529411764705882], ['tt1054115', 6.0], ['tt1054631', 3.5], ['tt10549312', 4.6], ['tt10556320', 4.5], ['tt10569922', 7.0], ['tt1057500', 7.978260869565218], ['tt10579952', 8.0], ['tt1058008', 6.0], ['tt1058743', 5.0], ['tt1059836', 6.076923076923077], ['tt10633456', 7.265486725663717], ['tt10635042', 9.0], ['tt1064932', 6.642857142857143], ['tt10665338', 5.828125], ['tt1067920', 8.5], ['tt10682266', 4.0], ['tt1068646', 7.478260869565218], ['tt1068773', 8.5], ['tt1072438', 6.5], ['tt1072748', 5.553846153846154], ['tt10731768', 3.5], ['tt10734864', 6.0], ['tt1075113', 5.0], ['tt1075747', 5.56], ['tt10763618', 7.1], ['tt1078188', 7.538461538461538], ['tt1078940', 6.088235294117647], ['tt1082577', 3.0], ['tt1083452', 7.672597864768683], ['tt10843306', 6.0], ['tt10845262', 8.1], ['tt1085799', 7.0], ['tt1086216', 5.0], ['tt1087853', 9.0], ['tt1087856', 1.0], ['tt10883506', 7.5], ['tt10886166', 3.25], ['tt10887902', 5.0], ['tt10888594', 3.0], ['tt10895576', 8.11111111111111], ['tt10915286', 8.823529411764707], ['tt1091863', 7.0], ['tt1092005', 5.0], ['tt1092019', 7.5], ['tt10930586', 7.0], ['tt10933680', 5.5], ['tt1093842', 8.6], ['tt10941528', 6.333333333333333], ['tt1094275', 7.333333333333333], ['tt1095442', 7.666666666666667], ['tt10954652', 5.7631578947368425], ['tt10962368', 5.125], ['tt1096997', 4.0], ['tt1100051', 5.2], ['tt11012066', 3.4285714285714284], ['tt11023922', 7.5], ['tt1103153', 6.512820512820513], ['tt1103273', 5.666666666666667], ['tt11033952', 10.0], ['tt1103982', 5.777777777777778], ['tt1104006', 3.3333333333333335], ['tt11044122', 7.0], ['tt1105747', 3.0], ['tt1109477', 2.0], ['tt11112526', 1.5], ['tt11127256', 4.0], ['tt1113829', 8.7], ['tt1114677', 7.833333333333333], ['tt11163028', 4.5], ['tt11188624', 7.0], ['tt1119191', 5.333333333333333], ['tt1119646', 7.890965732087228], ['tt1120897', 4.0], ['tt1120985', 7.493212669683258], ['tt11230868', 8.0], ['tt11235772', 6.0], ['tt1125188', 7.0], ['tt1125254', 8.0], ['tt1125849', 7.992753623188406], ['tt11263022', 3.5], ['tt1128075', 8.222222222222221], ['tt1129428', 4.0], ['tt11307724', 4.0], ['tt11307814', 5.25], ['tt1130884', 8.577689243027889], ['tt1130964', 8.0], ['tt1130981', 1.0], ['tt1130988', 7.454545454545454], ['tt1130993', 1.0], ['tt1131724', 6.365079365079365], ['tt1132449', 4.790697674418604], ['tt1132620', 7.873563218390805], ['tt1133935', 7.666666666666667], ['tt1133936', 8.0], ['tt1133995', 7.0], ['tt1134674', 5.666666666666667], ['tt1135095', 4.0], ['tt11357580', 9.0], ['tt11378264', 7.5], ['tt11382384', 7.0], ['tt11388580', 8.426470588235293], ['tt11394168', 7.0], ['tt11394182', 7.0], ['tt11394276', 7.5], ['tt1139797', 7.831578947368421], ['tt11402172', 3.0], ['tt1142433', 6.1], ['tt1142798', 7.8], ['tt1144539', 7.909090909090909], ['tt1144804', 6.0], ['tt1145157', 6.666666666666667], ['tt1146320', 5.5], ['tt11464826', 8.096774193548388], ['tt1147684', 6.8], ['tt1148200', 6.142857142857143], ['tt1148261', 7.0], ['tt1149361', 8.071428571428571], ['tt1150947', 7.333333333333333], ['tt1151309', 7.230769230769231], ['tt1151410', 4.333333333333333], ['tt1151911', 7.0], ['tt1151922', 4.666666666666667], ['tt1152282', 8.0], ['tt1152758', 8.54054054054054], ['tt11527964', 4.6], ['tt1153706', 4.333333333333333], ['tt11542214', 6.1], ['tt1155060', 6.0], ['tt1155652', 8.0], ['tt11576124', 4.0], ['tt1160317', 5.5], ['tt1160368', 5.153846153846154], ['tt1160629', 8.0], ['tt1161404', 6.0], ['tt11614912', 6.333333333333333], ['tt11615290', 8.9375], ['tt1161646', 3.5], ['tt1163752', 10.0], ['tt1164999', 7.671052631578948], ['tt1169809', 4.5], ['tt1170358', 8.145142180094787], ['tt1170404', 6.0], ['tt1171701', 7.5], ['tt1172570', 7.252688172043011], ['tt1172587', 5.333333333333333], ['tt1172963', 7.25], ['tt1173745', 8.0], ['tt1174041', 5.0], ['tt1174730', 7.56], ['tt1176252', 6.166666666666667], ['tt11767722', 8.0], ['tt1176960', 5.0], ['tt11771006', 7.0], ['tt11790780', 9.0], ['tt11792734', 3.0], ['tt1179891', 6.555555555555555], ['tt1179933', 7.188106796116505], ['tt1179947', 8.0], ['tt11809034', 7.857142857142857], ['tt1182921', 6.142857142857143], ['tt1182937', 7.333333333333333], ['tt1185264', 5.5], ['tt1185836', 7.390243902439025], ['tt1186366', 7.5], ['tt1186369', 7.0], ['tt1186803', 6.5], ['tt1186830', 7.383333333333334], ['tt1187043', 8.693965517241379], ['tt1187044', 6.571428571428571], ['tt1189073', 7.915492957746479], ['tt1189076', 5.333333333333333], ['tt1189340', 7.735930735930736], ['tt11905462', 7.583333333333333], ['tt1193507', 6.0], ['tt1194236', 2.5], ['tt1194238', 7.55], ['tt1194612', 7.0], ['tt1194624', 3.0], ['tt11953628', 7.0], ['tt1196134', 6.0], ['tt1198075', 3.5], ['tt1198153', 6.0], ['tt1198385', 6.0], ['tt11989890', 9.5], ['tt12013758', 5.0], ['tt1202222', 4.0], ['tt12027020', 8.0], ['tt1204342', 7.608695652173913], ['tt1205071', 5.5], ['tt1206086', 5.5], ['tt1206881', 2.0], ['tt1210106', 5.166666666666667], ['tt1210166', 7.955844155844156], ['tt1211837', 7.7296908698777855], ['tt1212436', 6.066666666666666], ['tt1212974', 5.4], ['tt1213644', 1.8888888888888888], ['tt12154638', 4.0], ['tt1217565', 8.0], ['tt1217613', 6.193181818181818], ['tt1220213', 6.0], ['tt1220628', 6.0], ['tt1220634', 6.159090909090909], ['tt1222815', 7.5], ['tt1223236', 7.545454545454546], ['tt1226240', 7.48], ['tt1227378', 8.592592592592593], ['tt1228987', 7.4021739130434785], ['tt1229366', 4.0], ['tt1229822', 7.390625], ['tt1230165', 8.5], ['tt1230211', 6.5], ['tt1231287', 4.6], ['tt1232831', 6.0], ['tt1234541', 7.5], ['tt1234542', 5.0], ['tt1235448', 4.222222222222222], ['tt1235830', 7.9], ['tt1235841', 7.916666666666667], ['tt1235842', 7.666666666666667], ['tt12361974', 8.594117647058823], ['tt1236472', 7.866666666666666], ['tt1241017', 4.0], ['tt1241195', 7.5], ['tt1241325', 7.75], ['tt1241329', 4.833333333333333], ['tt1242522', 7.5], ['tt1244666', 8.0], ['tt1244754', 7.866666666666666], ['tt12459520', 8.0], ['tt1247662', 5.5], ['tt1251743', 6.666666666666667], ['tt1252329', 9.0], ['tt12546872', 6.0], ['tt1254696', 7.0], ['tt1255919', 3.730769230769231], ['tt1255951', 5.0], ['tt1255953', 8.76268115942029], ['tt1260365', 6.5], ['tt12607910', 8.0], ['tt1261047', 8.0], ['tt1261862', 7.0], ['tt1263670', 7.78], ['tt1263679', 7.0], ['tt1264115', 5.0], ['tt1264904', 7.833333333333333], ['tt1264914', 9.0], ['tt1266036', 4.0], ['tt1267319', 3.2], ['tt1268204', 8.142857142857142], ['tt1268809', 4.666666666666667], ['tt1270277', 7.0], ['tt1270291', 5.0], ['tt1270761', 5.8125], ['tt1273235', 5.205128205128205], ['tt1273678', 5.0], ['tt1275590', 4.0], ['tt1275861', 7.0], ['tt1276419', 7.958762886597938], ['tt1276962', 7.818181818181818], ['tt1277737', 8.415584415584416], ['tt12789558', 9.5], ['tt12801262', 7.93984962406015], ['tt1280567', 6.5], ['tt1281374', 5.0], ['tt12829958', 7.0], ['tt1284028', 7.333333333333333], ['tt1285009', 5.254901960784314], ['tt1285016', 7.937125748502994], ['tt1285130', 7.0], ['tt1285240', 4.5], ['tt1285241', 8.727272727272727], ['tt1286129', 9.0], ['tt1286537', 7.904761904761905], ['tt1287468', 5.0], ['tt1288637', 6.0], ['tt1290138', 6.333333333333333], ['tt1291150', 6.3189522342064715], ['tt1291547', 5.8], ['tt1291549', 3.0], ['tt1293751', 9.0], ['tt1294970', 5.858823529411764], ['tt1296373', 8.0], ['tt1296899', 4.571428571428571], ['tt12987894', 7.0], ['tt1301990', 5.818181818181818], ['tt1302067', 6.0], ['tt1305591', 6.3125], ['tt1305806', 8.601532567049809], ['tt1305869', 6.0], ['tt13069986', 3.0], ['tt1307873', 6.333333333333333], ['tt1307989', 1.0], ['tt1308729', 5.746268656716418], ['tt13095604', 7.0], ['tt1313092', 7.647058823529412], ['tt1313139', 5.829787234042553], ['tt1314177', 5.8], ['tt1315981', 7.446601941747573], ['tt1316622', 5.666666666666667], ['tt1318514', 7.727520435967302], ['tt1319722', 5.166666666666667], ['tt1320082', 8.0], ['tt1320254', 8.5], ['tt1320261', 4.9523809523809526], ['tt1320291', 5.9411764705882355], ['tt1321509', 6.1], ['tt1322306', 4.5], ['tt1323044', 3.5], ['tt1323594', 7.88], ['tt1324059', 8.571428571428571], ['tt1325723', 5.6], ['tt1326972', 8.0], ['tt1327200', 6.5], ['tt1327628', 6.636363636363637], ['tt1327819', 8.0], ['tt1331025', 7.6], ['tt1331307', 6.0], ['tt1333125', 4.2677824267782425], ['tt1334260', 7.406896551724138], ['tt1337032', 8.5], ['tt1337117', 7.666666666666667], ['tt13372794', 5.333333333333333], ['tt13393728', 7.0], ['tt1340107', 8.1], ['tt1341340', 5.0], ['tt1342402', 8.142857142857142], ['tt1343092', 7.6916322314049586], ['tt1343703', 7.5625], ['tt1343727', 7.2063492063492065], ['tt13446424', 4.0], ['tt1345777', 7.0], ['tt1351177', 4.0], ['tt1351224', 5.5], ['tt1351672', 7.666666666666667], ['tt1351784', 3.6666666666666665], ['tt1352852', 7.333333333333333], ['tt13544716', 7.333333333333333], ['tt1355638', 7.0], ['tt13583144', 5.0], ['tt1359552', 5.0], ['tt1365050', 7.889487870619946], ['tt13651858', 4.0], ['tt1368068', 10.0], ['tt1368440', 3.9375], ['tt1368491', 8.6], ['tt1369706', 5.68], ['tt1370212', 7.0], ['tt1370429', 7.0], ['tt13717980', 5.166666666666667], ['tt1375789', 5.5], ['tt1376213', 6.166666666666667], ['tt1376717', 7.75], ['tt1381512', 3.0], ['tt1382725', 7.615384615384615], ['tt1389072', 5.628865979381444], ['tt1390539', 3.3333333333333335], ['tt1391092', 8.0], ['tt1391137', 5.166666666666667], ['tt1392190', 8.114432989690721], ['tt1392197', 3.75], ['tt1395054', 8.333333333333334], ['tt1396219', 5.0], ['tt1397511', 7.666666666666667], ['tt1397514', 6.354838709677419], ['tt1398426', 8.312592592592592], ['tt1399053', 7.0], ['tt1402488', 6.666666666666667], ['tt1403865', 7.726315789473684], ['tt14039582', 7.5], ['tt1403981', 7.353982300884955], ['tt1403988', 5.0], ['tt1405810', 7.533333333333333], ['tt1407049', 5.888888888888889], ['tt1407052', 7.7], ['tt1407927', 8.5], ['tt1408101', 8.175066312997348], ['tt1409004', 7.5], ['tt1410051', 7.076923076923077], ['tt1414382', 6.428571428571429], ['tt1415290', 8.5], ['tt1416336', 3.0], ['tt1417299', 9.0], ['tt1417592', 8.727272727272727], ['tt1418646', 8.0], ['tt1418712', 5.166666666666667], ['tt1420558', 1.0], ['tt1422032', 7.722222222222222], ['tt1422674', 5.0], ['tt1422675', 5.5], ['tt1422800', 4.0], ['tt1424327', 7.333333333333333], ['tt1424797', 7.627450980392157], ['tt1426374', 7.5], ['tt1428459', 5.0], ['tt1428556', 5.0], ['tt1429392', 5.0], ['tt1430077', 4.666666666666667], ['tt1430607', 7.396551724137931], ['tt1430612', 5.994011976047904], ['tt1431122', 3.0], ['tt14315566', 1.0], ['tt14318430', 6.0], ['tt1433528', 8.0], ['tt1433822', 4.214285714285714], ['tt1434443', 5.666666666666667], ['tt1434447', 7.25], ['tt1436559', 4.75], ['tt14372240', 8.857142857142858], ['tt1438173', 5.741935483870968], ['tt1438216', 7.1], ['tt1438298', 7.636363636363637], ['tt1438461', 5.0], ['tt1440732', 4.857142857142857], ['tt14418234', 7.5], ['tt1441912', 8.236842105263158], ['tt1441953', 7.887640449438202], ['tt1447793', 5.5], ['tt1447972', 6.0], ['tt1448762', 4.5], ['tt1450321', 7.284263959390863], ['tt1452628', 5.076923076923077], ['tt1453245', 4.428571428571429], ['tt14539726', 7.5], ['tt1454029', 8.51657458563536], ['tt1454545', 6.0], ['tt1459040', 8.333333333333334], ['tt1462757', 5.25], ['tt1464174', 6.857142857142857], ['tt1464535', 4.75], ['tt1466054', 7.5], ['tt1467273', 7.0], ['tt1467391', 6.0], ['tt1470023', 5.9411764705882355], ['tt14700948', 6.5], ['tt1473357', 6.0], ['tt1475400', 7.5], ['tt1477076', 6.122448979591836], ['tt1477715', 8.413793103448276], ['tt14781176', 4.333333333333333], ['tt1478800', 4.0], ['tt1480649', 9.0], ['tt1480658', 8.0], ['tt14810692', 7.8], ['tt1484114', 8.333333333333334], ['tt1484521', 5.5], ['tt1485749', 7.375], ['tt1485763', 9.0], ['tt1486185', 5.395833333333333], ['tt14880258', 4.0], ['tt1488163', 6.5], ['tt14888874', 8.333333333333334], ['tt1490017', 7.91597510373444], ['tt1492705', 6.2], ['tt1493157', 4.333333333333333], ['tt1496380', 7.0], ['tt1496422', 6.016949152542373], ['tt1498858', 5.0], ['tt1502396', 8.5], ['tt1502404', 5.215686274509804], ['tt1502417', 5.5], ['tt1504319', 7.5], ['tt1504320', 8.430622009569378], ['tt1506999', 5.527472527472527], ['tt1510906', 8.083333333333334], ['tt1513713', 7.333333333333333], ['tt1515091', 7.826315789473684], ['tt1517225', 8.0], ['tt1519461', 4.1], ['tt15198608', 8.0], ['tt1521877', 10.0], ['tt1523267', 2.8], ['tt1523415', 8.0], ['tt1524131', 5.0], ['tt1526284', 5.0], ['tt1527211', 7.0], ['tt1528734', 7.6875], ['tt1529240', 4.0], ['tt1529252', 8.0], ['tt1532382', 7.0], ['tt1533084', 4.2], ['tt1535020', 6.0], ['tt1535109', 8.293222683264178], ['tt1535612', 4.909090909090909], ['tt1536044', 5.931034482758621], ['tt1536410', 6.157894736842105], ['tt1537401', 4.0], ['tt1537715', 6.0], ['tt1540005', 5.0], ['tt1540128', 5.7439024390243905], ['tt1540741', 5.612903225806452], ['tt1543459', 6.0], ['tt1544578', 6.333333333333333], ['tt1545660', 5.090909090909091], ['tt1545754', 5.2272727272727275], ['tt1549589', 6.0], ['tt1550312', 7.783783783783784], ['tt1554091', 7.2272727272727275], ['tt1554414', 9.0], ['tt1556190', 8.090909090909092], ['tt1558250', 5.857142857142857], ['tt1560978', 2.0], ['tt1562563', 6.5], ['tt1562859', 5.0], ['tt1563719', 3.0], ['tt1565068', 8.0], ['tt1566648', 7.6], ['tt1568150', 7.714285714285714], ['tt1568343', 6.222222222222222], ['tt1568346', 8.026315789473685], ['tt1568929', 5.0], ['tt1569364', 7.0], ['tt1571724', 7.75], ['tt1572311', 2.0], ['tt1576440', 6.0], ['tt1577055', 3.0], ['tt1578882', 4.5], ['tt1579232', 6.333333333333333], ['tt1580426', 5.0], ['tt1582271', 6.235294117647059], ['tt1582507', 5.895424836601308], ['tt1583323', 6.5], ['tt1584016', 7.5], ['tt1584813', 6.666666666666667], ['tt1586753', 7.0], ['tt1588170', 8.114285714285714], ['tt1588878', 5.3076923076923075], ['tt1589427', 6.0], ['tt1590089', 8.318181818181818], ['tt1592292', 5.0], ['tt1592527', 9.5], ['tt1594917', 2.0], ['tt1596343', 7.695364238410596], ['tt1598828', 6.142857142857143], ['tt1600196', 7.010845986984815], ['tt1600701', 5.0], ['tt1601823', 10.0], ['tt1602479', 10.0], ['tt1602613', 5.777537796976242], ['tt1603257', 5.414634146341464], ['tt1606390', 5.0], ['tt1606392', 7.05], ['tt1608516', 8.666666666666666], ['tt1608776', 6.0], ['tt1609168', 8.5], ['tt1611224', 6.059259259259259], ['tt1612774', 6.4], ['tt1612782', 5.0], ['tt1613023', 8.666666666666666], ['tt1613062', 8.333333333333334], ['tt1613092', 7.733333333333333], ['tt1613750', 7.5625], ['tt1617145', 4.0], ['tt1617620', 4.833333333333333], ['tt1617661', 5.664197530864198], ['tt1618448', 8.4], ['tt1620449', 7.0], ['tt1620680', 5.197183098591549], ['tt1620933', 7.714285714285714], ['tt1620981', 6.285714285714286], ['tt1621039', 6.142857142857143], ['tt1621642', 7.0], ['tt1622991', 3.0], ['tt1623757', 7.0], ['tt1623777', 7.0], ['tt1625150', 7.166666666666667], ['tt1629242', 6.083333333333333], ['tt1630564', 3.0], ['tt1631867', 7.9032463399108845], ['tt1638002', 7.419928825622776], ['tt1640218', 5.4], ['tt1640486', 4.4], ['tt1640711', 5.9375], ['tt1645916', 4.5], ['tt1646973', 7.5], ['tt1646975', 7.428571428571429], ['tt1646987', 5.831578947368421], ['tt1648190', 5.649305555555555], ['tt1648201', 10.0], ['tt1649444', 4.771428571428571], ['tt1650048', 8.0], ['tt1650453', 7.916666666666667], ['tt1650536', 6.0], ['tt1651323', 3.0], ['tt1653700', 7.666666666666667], ['tt1653913', 6.0], ['tt1656186', 5.590909090909091], ['tt1657283', 4.0], ['tt1658797', 5.4], ['tt1658820', 5.0], ['tt1659343', 4.833333333333333], ['tt1661099', 5.333333333333333], ['tt1662557', 6.9], ['tt1663202', 8.178814382896016], ['tt1663207', 5.657534246575342], ['tt1663222', 2.0], ['tt1663673', 1.0], ['tt1666186', 4.0], ['tt1666287', 6.310344827586207], ['tt1666335', 5.7272727272727275], ['tt1667076', 5.0], ['tt1667353', 5.318181818181818], ['tt1667354', 7.8], ['tt1668191', 7.571428571428571], ['tt1668200', 7.888888888888889], ['tt1670345', 7.59453781512605], ['tt1674785', 8.142857142857142], ['tt1675161', 5.4], ['tt1675192', 7.712328767123288], ['tt1678051', 4.111111111111111], ['tt1680089', 6.0], ['tt1680099', 6.0], ['tt1682181', 7.8125], ['tt1683876', 7.909090909090909], ['tt1684548', 5.714285714285714], ['tt1684564', 5.5], ['tt1686039', 7.0], ['tt1687247', 7.571428571428571], ['tt1691152', 6.625], ['tt1692928', 9.666666666666666], ['tt1694020', 5.7974683544303796], ['tt1696190', 3.0], ['tt1697800', 5.0], ['tt1698648', 5.769230769230769], ['tt1699135', 9.0], ['tt1699755', 6.863636363636363], ['tt1701976', 8.166666666666666], ['tt1702014', 8.395833333333334], ['tt1702443', 5.285714285714286], ['tt1703049', 7.666666666666667], ['tt1705772', 7.0], ['tt1705786', 7.8], ['tt1705952', 5.375], ['tt1706620', 6.955947136563877], ['tt1707391', 4.75], ['tt1707392', 5.241379310344827], ['tt1708532', 5.0], ['tt1709143', 5.441558441558442], ['tt1710417', 6.190476190476191], ['tt1711525', 5.897590361445783], ['tt1712159', 4.0], ['tt1712578', 6.5], ['tt1714014', 6.0], ['tt1714203', 3.6341463414634148], ['tt1714206', 7.282122905027933], ['tt1714917', 8.181818181818182], ['tt1715210', 8.0], ['tt1715320', 4.5], ['tt1718158', 4.333333333333333], ['tt1718915', 7.0], ['tt1720621', 5.75], ['tt1721677', 7.5], ['tt1722450', 8.0], ['tt1723124', 6.090909090909091], ['tt1724970', 5.56], ['tt1725969', 8.285714285714286], ['tt1727252', 7.0], ['tt1727360', 3.8], ['tt1727388', 7.580406654343808], ['tt1727516', 6.8], ['tt1727523', 5.857142857142857], ['tt1728179', 5.222222222222222], ['tt1728620', 8.25], ['tt1728986', 8.0], ['tt1729637', 6.5], ['tt1730687', 5.916666666666667], ['tt1731697', 5.46067415730337], ['tt1733578', 5.1], ['tt1734477', 8.0], ['tt1735839', 4.333333333333333], ['tt1735907', 5.142857142857143], ['tt1740725', 5.0], ['tt1741243', 5.813953488372093], ['tt1753549', 7.5], ['tt1753584', 4.0], ['tt1753899', 6.0], ['tt1754506', 5.5], ['tt1754656', 8.203252032520325], ['tt1754811', 4.111111111111111], ['tt1754944', 5.0], ['tt1758795', 6.1375], ['tt1764614', 5.0], ['tt1764625', 5.375], ['tt1767319', 4.5], ['tt1767382', 5.277777777777778], ['tt1772250', 7.856209150326797], ['tt1772271', 7.0], ['tt1772872', 5.5], ['tt1774591', 7.4], ['tt1778931', 8.285714285714286], ['tt1780798', 5.828125], ['tt1780967', 6.333333333333333], ['tt1781775', 3.75], ['tt1781812', 4.0], ['tt1784575', 7.8], ['tt1784670', 1.0], ['tt1785669', 3.875], ['tt1787725', 7.0], ['tt1787837', 7.25], ['tt1787988', 7.888888888888889], ['tt1789083', 2.0], ['tt1790867', 8.5], ['tt1791681', 4.0], ['tt1793223', 6.583333333333333], ['tt1794886', 5.666666666666667], ['tt1796652', 7.25], ['tt1798188', 7.763888888888889], ['tt1798243', 7.94], ['tt1800241', 7.507230851633637], ['tt1800351', 6.444444444444445], ['tt1800372', 8.2], ['tt1801071', 8.0], ['tt1801552', 5.357142857142857], ['tt1805263', 8.0], ['tt1806913', 6.285714285714286], ['tt1806954', 8.0], ['tt1806975', 6.0], ['tt1808223', 7.0], ['tt1810697', 5.809523809523809], ['tt1814621', 6.009009009009009], ['tt1815746', 7.0], ['tt1815782', 6.5], ['tt1816608', 3.875], ['tt1817273', 7.390267175572519], ['tt1817676', 5.5], ['tt1817771', 5.769230769230769], ['tt1821480', 8.0], ['tt1823059', 7.111111111111111], ['tt1823202', 8.0], ['tt1825163', 9.0], ['tt1825683', 7.494391716997412], ['tt1826593', 3.0], ['tt1826603', 8.272727272727273], ['tt1827512', 7.551020408163265], ['tt1828232', 7.5], ['tt1828959', 5.6923076923076925], ['tt1830713', 5.423076923076923], ['tt1830786', 4.0], ['tt1830802', 7.0], ['tt1831806', 5.6], ['tt1832382', 8.45945945945946], ['tt1832516', 1.0], ['tt1833879', 2.3333333333333335], ['tt1833888', 5.25], ['tt1836099', 9.0], ['tt1838544', 6.085714285714285], ['tt1839482', 6.0], ['tt1839492', 7.459595959595959], ['tt1839522', 8.166666666666666], ['tt1839591', 5.0], ['tt1841542', 8.0], ['tt1841642', 5.675675675675675], ['tt1843335', 8.0], ['tt1843866', 8.002284408909194], ['tt1844025', 3.25], ['tt1847713', 1.6666666666666667], ['tt1853563', 8.75], ['tt1853728', 8.595392793857059], ['tt1854513', 7.741935483870968], ['tt1854582', 4.5], ['tt1855199', 7.830443159922929], ['tt1855236', 6.0], ['tt1855325', 5.554347826086956], ['tt1855401', 7.0], ['tt1857913', 7.2], ['tt1858481', 5.5], ['tt1859438', 8.4], ['tt1860355', 8.594594594594595], ['tt1861982', 7.285714285714286], ['tt1863203', 4.6], ['tt1865425', 8.555555555555555], ['tt1865505', 8.306930693069306], ['tt1866249', 7.408759124087592], ['tt1867093', 5.75], ['tt1870527', 3.3333333333333335], ['tt1876277', 7.324324324324325], ['tt1877832', 8.325212464589235], ['tt1878942', 6.066666666666666], ['tt1879032', 5.806451612903226], ['tt1881002', 5.585585585585585], ['tt1881060', 5.6], ['tt1884369', 7.125], ['tt1884457', 4.846153846153846], ['tt1886493', 5.15], ['tt1891845', 10.0], ['tt1891884', 4.8], ['tt1891923', 5.666666666666667], ['tt1899285', 1.0], ['tt1900908', 5.5], ['tt1901024', 4.529411764705882], ['tt1906329', 6.1875], ['tt1907779', 4.846153846153846], ['tt1910498', 1.0], ['tt1911662', 5.078125], ['tt1912982', 6.0], ['tt1919174', 7.0], ['tt1920849', 5.295454545454546], ['tt1921149', 7.294871794871795], ['tt1922612', 7.0], ['tt1925421', 7.892857142857143], ['tt1925435', 5.6923076923076925], ['tt1925466', 6.0], ['tt1925479', 5.882352941176471], ['tt1928340', 5.358974358974359], ['tt1930294', 5.108108108108108], ['tt1931551', 2.0], ['tt1932767', 7.588652482269503], ['tt1934452', 2.0], ['tt1934458', 5.5], ['tt1935065', 5.4], ['tt1935089', 7.083333333333333], ['tt1935194', 5.964285714285714], ['tt1935896', 4.533333333333333], ['tt1935897', 4.666666666666667], ['tt1937092', 3.0], ['tt1937133', 5.666666666666667], ['tt1937339', 8.571428571428571], ['tt1945039', 6.333333333333333], ['tt1946298', 6.0], ['tt1946502', 4.285714285714286], ['tt1947998', 4.5], ['tt1949605', 5.0], ['tt1950186', 8.614093959731544], ['tt1950235', 6.0476190476190474], ['tt1954470', 8.214285714285714], ['tt1957938', 5.0], ['tt1959490', 5.82039911308204], ['tt1964624', 7.776785714285714], ['tt1965162', 5.5625], ['tt1966359', 5.296296296296297], ['tt1966385', 5.0], ['tt1971514', 7.0], ['tt1972646', 7.0], ['tt1979283', 7.0], ['tt1979319', 7.448275862068965], ['tt1980219', 7.0], ['tt1981107', 7.51063829787234], ['tt1982882', 4.0], ['tt1985017', 6.25], ['tt1989674', 5.0], ['tt1990352', 8.833333333333334], ['tt1991245', 5.151260504201681], ['tt1992258', 6.64], ['tt1993391', 3.8333333333333335], ['tt1998204', 7.333333333333333], ['tt1999167', 7.0], ['tt1999192', 6.833333333333333], ['tt1999995', 5.991071428571429], ['tt2005363', 7.333333333333333], ['tt2006721', 5.333333333333333], ['tt2006801', 2.6666666666666665], ['tt2007387', 8.0], ['tt2008006', 8.5], ['tt2008513', 6.888888888888889], ['tt2011971', 7.536585365853658], ['tt2014319', 5.0], ['tt2014338', 7.708333333333333], ['tt2015381', 8.190903650508677], ['tt2024544', 8.397970085470085], ['tt2027154', 4.75], ['tt2028530', 8.333333333333334], ['tt2034761', 5.0], ['tt2036416', 7.6], ['tt2039338', 5.4222222222222225], ['tt2040367', 6.0], ['tt2042568', 7.597809076682316], ['tt2043865', 4.0], ['tt2043979', 7.0], ['tt2044774', 9.0], ['tt2048877', 9.0], ['tt2049543', 5.230769230769231], ['tt2053423', 4.25], ['tt2053463', 7.209601873536299], ['tt2055709', 5.9], ['tt2057931', 6.5], ['tt2060525', 7.0], ['tt2061822', 3.8], ['tt2061869', 4.333333333333333], ['tt2062700', 6.285714285714286], ['tt2062996', 7.5], ['tt2063013', 5.0], ['tt2064816', 3.6666666666666665], ['tt2066051', 7.577889447236181], ['tt2069100', 7.75], ['tt2069797', 5.75], ['tt2070649', 8.617647058823529], ['tt2071441', 6.5], ['tt2071491', 3.375], ['tt2072230', 4.7727272727272725], ['tt2072233', 5.803149606299213], ['tt2072933', 5.833333333333333], ['tt2073086', 7.631578947368421], ['tt2076220', 6.8076923076923075], ['tt2077886', 9.4], ['tt2078599', 8.0], ['tt2080374', 7.5], ['tt2081437', 5.5], ['tt2081438', 1.25], ['tt2082180', 7.461538461538462], ['tt2082262', 5.2], ['tt2082496', 8.333333333333334], ['tt2084934', 4.2], ['tt2085752', 6.0], ['tt2088003', 5.291139240506329], ['tt2088012', 8.0], ['tt2091325', 3.6666666666666665], ['tt2091478', 5.333333333333333], ['tt2095649', 5.6438356164383565], ['tt2102496', 4.5], ['tt2103254', 4.987878787878788], ['tt2103281', 7.945205479452055], ['tt2104994', 8.0], ['tt2106361', 6.218181818181818], ['tt2106671', 7.4], ['tt2106675', 1.0], ['tt2107648', 5.333333333333333], ['tt2107814', 6.125], ['tt2107850', 8.0], ['tt2111478', 7.615384615384615], ['tt2112096', 5.208955223880597], ['tt2112277', 6.333333333333333], ['tt2112287', 6.7], ['tt2113007', 8.0], ['tt2113681', 6.954545454545454], ['tt2118775', 6.454545454545454], ['tt2119463', 9.0], ['tt2119474', 4.125], ['tt2120057', 5.0], ['tt2120120', 5.711111111111111], ['tt2120152', 8.214285714285714], ['tt2124787', 5.15], ['tt2125501', 7.875], ['tt2125653', 8.4375], ['tt2125666', 7.2], ['tt2126403', 7.913043478260869], ['tt2140465', 7.636363636363637], ['tt2140629', 5.875], ['tt2142797', 8.5], ['tt2142883', 2.0], ['tt2149190', 8.0], ['tt2150209', 7.8], ['tt2151915', 8.5], ['tt2152896', 8.0], ['tt2165765', 4.6], ['tt2166214', 2.5], ['tt2167202', 5.163120567375887], ['tt2168000', 5.666666666666667], ['tt2170593', 7.643874643874644], ['tt2171454', 3.6666666666666665], ['tt2171847', 3.6666666666666665], ['tt2177843', 7.458333333333333], ['tt2178470', 6.8604651162790695], ['tt2178508', 3.0], ['tt2179087', 4.0], ['tt2179121', 7.678571428571429], ['tt2179239', 7.4], ['tt2179936', 5.0], ['tt2180333', 4.166666666666667], ['tt2180351', 10.0], ['tt2180411', 6.153452685421995], ['tt2180477', 8.0], ['tt2181931', 8.571428571428571], ['tt2184287', 5.0], ['tt2186731', 3.0], ['tt2187115', 7.780487804878049], ['tt2187884', 4.54054054054054], ['tt2190483', 6.0], ['tt2191701', 6.119565217391305], ['tt2191721', 5.0], ['tt2192016', 8.1], ['tt2194599', 6.5], ['tt2194826', 5.166666666666667], ['tt2201251', 5.142857142857143], ['tt2205401', 4.791666666666667], ['tt2207072', 5.75], ['tt2207484', 1.6666666666666667], ['tt2208568', 4.8], ['tt2209400', 8.0], ['tt2210463', 3.4444444444444446], ['tt2210479', 8.608695652173912], ['tt2211173', 4.5], ['tt2212008', 5.295454545454546], ['tt2213054', 8.1875], ['tt2214941', 8.5], ['tt2215151', 8.52], ['tt2215285', 5.375], ['tt2219650', 7.8], ['tt2220408', 4.666666666666667], ['tt2220642', 8.833333333333334], ['tt2221648', 4.0], ['tt2222394', 7.563380281690141], ['tt2224317', 7.105263157894737], ['tt2224902', 5.0], ['tt2226519', 6.3076923076923075], ['tt2229511', 6.0], ['tt2229848', 6.857142857142857], ['tt2231138', 5.0], ['tt2232578', 6.0], ['tt2234543', 7.0], ['tt2237324', 4.25], ['tt2238032', 5.826086956521739], ['tt2240312', 4.5], ['tt2240784', 8.6], ['tt2241750', 5.5], ['tt2242176', 2.0], ['tt2243299', 8.333333333333334], ['tt2243361', 6.0], ['tt2243389', 5.769230769230769], ['tt2243621', 4.0], ['tt2245195', 8.142857142857142], ['tt2245544', 7.5], ['tt2247566', 8.25], ['tt2250282', 4.0], ['tt2250912', 7.460801393728223], ['tt2252552', 3.0], ['tt2257602', 7.5], ['tt2261749', 7.615384615384615], ['tt2265171', 8.327433628318584], ['tt2265179', 9.571428571428571], ['tt2268016', 5.8478260869565215], ['tt2268433', 3.5], ['tt2275794', 5.230769230769231], ['tt2278871', 7.968023255813954], ['tt2280964', 5.0], ['tt2282849', 4.5], ['tt2283748', 8.25], ['tt2288005', 4.75], ['tt2290709', 4.666666666666667], ['tt2290840', 8.166666666666666], ['tt2292955', 7.4], ['tt2292959', 3.9565217391304346], ['tt2293750', 4.25], ['tt2295750', 6.5], ['tt2297063', 5.833333333333333], ['tt2297164', 7.25], ['tt2301592', 8.555555555555555], ['tt2301900', 4.0], ['tt2302966', 7.0], ['tt2304771', 7.690721649484536], ['tt2304915', 7.5], ['tt2304953', 5.63013698630137], ['tt2306745', 8.508771929824562], ['tt2309260', 5.083333333333333], ['tt2310332', 7.6869266055045875], ['tt2312184', 6.0], ['tt2314886', 4.454545454545454], ['tt2315152', 6.785714285714286], ['tt2315226', 7.333333333333333], ['tt2318625', 7.6], ['tt2320073', 3.0], ['tt2320968', 7.25], ['tt2321341', 3.0], ['tt2321405', 8.176470588235293], ['tt2321421', 8.0], ['tt2322441', 4.418390804597701], ['tt2325517', 6.2], ['tt2325518', 3.0], ['tt2326574', 8.4], ['tt2328549', 4.5], ['tt2328922', 6.25], ['tt2334649', 7.807980049875312], ['tt2334733', 5.125], ['tt2334871', 5.271186440677966], ['tt2337841', 6.0], ['tt2338151', 8.584045584045585], ['tt2338454', 6.0], ['tt2339741', 5.5092592592592595], ['tt2343601', 7.555555555555555], ['tt2344678', 5.0], ['tt2345613', 3.764705882352941], ['tt2351177', 8.0], ['tt2352488', 5.375], ['tt2356180', 8.618181818181819], ['tt2357770', 5.0], ['tt2357788', 9.428571428571429], ['tt2358456', 7.5], ['tt2358891', 7.957597173144876], ['tt2358911', 8.882352941176471], ['tt2359024', 7.183098591549296], ['tt2359427', 7.4], ['tt2359810', 7.7727272727272725], ['tt2363047', 5.0], ['tt2364841', 5.58], ['tt2366450', 8.052631578947368], ['tt2366608', 5.641025641025641], ['tt2367066', 8.0], ['tt2368749', 6.551724137931035], ['tt2369154', 3.875], ['tt2370140', 8.75], ['tt2371158', 7.4], ['tt2372776', 7.0], ['tt2374002', 10.0], ['tt2374144', 9.4], ['tt2374196', 4.375], ['tt2374902', 7.266666666666667], ['tt2375605', 8.266666666666667], ['tt2376218', 5.526315789473684], ['tt2378191', 4.285714285714286], ['tt2380307', 8.736276849642005], ['tt2381111', 7.747235387045814], ['tt2381249', 7.661646586345381], ['tt2382298', 8.287878787878787], ['tt2385074', 3.6666666666666665], ['tt2387408', 5.153846153846154], ['tt2387499', 6.0510948905109485], ['tt2392447', 6.666666666666667], ['tt2393827', 5.409090909090909], ['tt2395385', 5.684210526315789], ['tt2395469', 7.846153846153846], ['tt2396436', 1.5], ['tt2396701', 3.2857142857142856], ['tt2400275', 5.0], ['tt2400291', 8.125], ['tt2401223', 8.0], ['tt2401621', 7.903225806451613], ['tt2401878', 7.379518072289157], ['tt2402927', 7.288732394366197], ['tt2402985', 5.166666666666667], ['tt2403558', 6.333333333333333], ['tt2403961', 4.923076923076923], ['tt2404425', 7.375], ['tt2406676', 6.666666666666667], ['tt2409302', 7.125], ['tt2409818', 5.037037037037037], ['tt2411144', 5.75], ['tt2415372', 10.0], ['tt2417154', 10.0], ['tt2417560', 7.0], ['tt2417650', 1.25], ['tt2417712', 6.35], ['tt2418372', 6.75], ['tt2429144', 10.0], ['tt2433040', 4.5], ['tt2436046', 6.0], ['tt2436682', 5.458333333333333], ['tt2438644', 7.655172413793103], ['tt2439946', 3.0], ['tt2440354', 10.0], ['tt2446502', 3.4285714285714284], ['tt2446600', 8.705882352941176], ['tt2449638', 6.0], ['tt2450334', 6.0], ['tt2452042', 7.213675213675214], ['tt2452244', 5.516393442622951], ['tt2460426', 6.5], ['tt2464690', 8.0], ['tt2465140', 5.904761904761905], ['tt2465578', 7.527777777777778], ['tt2466684', 8.25], ['tt2467046', 3.3636363636363638], ['tt2467442', 7.4], ['tt2471640', 6.888888888888889], ['tt2473510', 4.565217391304348], ['tt2474932', 5.5], ['tt2475154', 7.0], ['tt2476214', 6.5], ['tt2481554', 7.0], ['tt2486678', 7.275], ['tt2489734', 7.285714285714286], ['tt2497980', 6.333333333333333], ['tt2499076', 8.566666666666666], ['tt2499414', 3.1666666666666665], ['tt2503954', 4.75], ['tt2504640', 5.0], ['tt2507280', 4.5], ['tt2509922', 8.0], ['tt2510268', 4.8], ['tt2510434', 5.076923076923077], ['tt2510874', 1.3333333333333333], ['tt2511190', 1.0], ['tt2513092', 4.25], ['tt2518788', 8.157894736842104], ['tt2521404', 4.0], ['tt2524674', 6.083333333333333], ['tt2531318', 7.976190476190476], ['tt2531362', 3.0], ['tt2532528', 7.980769230769231], ['tt2536124', 6.0], ['tt2536436', 6.25], ['tt2543164', 7.988724035608309], ['tt2543472', 8.344632768361581], ['tt2543702', 3.0], ['tt2544734', 3.0], ['tt2548738', 8.166666666666666], ['tt2549540', 4.0], ['tt2551378', 6.2], ['tt2552296', 7.909090909090909], ['tt2556308', 8.5625], ['tt2557478', 5.877777777777778], ['tt2558318', 5.0], ['tt2560792', 5.333333333333333], ['tt2562232', 7.761685319289006], ['tt2564144', 7.5], ['tt2567712', 7.542307692307692], ['tt2573372', 6.0], ['tt2576450', 4.142857142857143], ['tt2577990', 7.75], ['tt2578608', 2.0], ['tt2581244', 6.933333333333334], ['tt2582496', 7.814589665653496], ['tt2582502', 7.929133858267717], ['tt2582782', 7.589880159786951], ['tt2582802', 8.620634067705534], ['tt2584384', 7.523858921161826], ['tt2585562', 7.2], ['tt2587914', 4.0], ['tt2597892', 6.666666666666667], ['tt2605480', 8.0], ['tt2608224', 7.564102564102564], ['tt2610768', 4.5], ['tt2611652', 7.142857142857143], ['tt2615584', 4.6], ['tt2620736', 5.818181818181818], ['tt2621000', 7.285714285714286], ['tt2622826', 2.2], ['tt2624412', 5.88], ['tt2624866', 1.0], ['tt2625598', 8.19047619047619], ['tt2637294', 5.112359550561798], ['tt2638144', 6.009433962264151], ['tt2645104', 7.222222222222222], ['tt2667380', 5.363636363636363], ['tt2667960', 7.0], ['tt2673812', 7.142857142857143], ['tt2673882', 8.166666666666666], ['tt2674358', 6.133333333333334], ['tt2675978', 7.2727272727272725], ['tt2679480', 5.0], ['tt2689958', 3.8], ['tt2690160', 3.6666666666666665], ['tt2692904', 7.3314814814814815], ['tt2702920', 4.8], ['tt2707810', 4.5], ['tt2711898', 5.0], ['tt2713180', 7.9023890784982935], ['tt2714380', 4.571428571428571], ['tt2714900', 8.106382978723405], ['tt2716382', 5.636363636363637], ['tt2723176', 5.0], ['tt2724532', 5.857142857142857], ['tt2726552', 4.857142857142857], ['tt2726560', 7.428571428571429], ['tt2751310', 5.0], ['tt2752758', 4.411764705882353], ['tt2756032', 7.34065934065934], ['tt2763304', 7.656028368794326], ['tt2769184', 2.7142857142857144], ['tt2771200', 7.4921383647798745], ['tt2772092', 4.0], ['tt2776344', 7.764705882352941], ['tt2781516', 6.529411764705882], ['tt2783020', 5.714285714285714], ['tt2788716', 5.654545454545454], ['tt2794596', 5.0], ['tt2797106', 8.529411764705882], ['tt2802144', 7.913850231941683], ['tt2814362', 1.0], ['tt2815072', 4.333333333333333], ['tt2820008', 6.0], ['tt2820852', 7.403714565004887], ['tt2822742', 6.0], ['tt2823574', 6.0], ['tt2824852', 1.5], ['tt2825120', 6.5], ['tt2827320', 7.8], ['tt2836166', 4.666666666666667], ['tt2852400', 6.875], ['tt2852406', 7.686567164179104], ['tt2852470', 8.125], ['tt2854894', 4.833333333333333], ['tt2855648', 7.928571428571429], ['tt2861532', 8.25], ['tt2866360', 7.175609756097561], ['tt2869728', 6.013824884792626], ['tt2873214', 5.0], ['tt2876428', 7.857142857142857], ['tt2882328', 8.076923076923077], ['tt2883512', 7.5490430622009566], ['tt2884206', 7.692982456140351], ['tt2885364', 5.321428571428571], ['tt2885628', 6.111111111111111], ['tt2886632', 7.4], ['tt2891174', 7.276190476190476], ['tt2893490', 5.625], ['tt2900624', 4.666666666666667], ['tt2900822', 5.888888888888889], ['tt2901736', 7.388888888888889], ['tt2905082', 6.0], ['tt2909124', 3.0], ['tt2911674', 6.111111111111111], ['tt2914892', 4.0], ['tt2918606', 5.3], ['tt2922382', 8.0], ['tt2923316', 4.933333333333334], ['tt2924392', 2.5], ['tt2924472', 7.0], ['tt2925642', 7.75], ['tt2935390', 7.0], ['tt2938416', 8.0], ['tt2942016', 10.0], ['tt2943352', 8.0], ['tt2948166', 8.0], ['tt2948356', 8.365111561866126], ['tt2948372', 8.370572207084468], ['tt2948566', 4.666666666666667], ['tt2948790', 4.9361702127659575], ['tt2953050', 8.0], ['tt2955096', 5.5], ['tt2960930', 5.483870967741935], ['tt2962726', 4.3125], ['tt2967226', 4.0], ['tt2974050', 10.0], ['tt2976176', 9.0], ['tt2976182', 4.125], ['tt2978426', 5.0], ['tt2980794', 7.365853658536586], ['tt2981768', 7.535714285714286], ['tt2984576', 1.5], ['tt2990126', 6.666666666666667], ['tt2991296', 5.6], ['tt2991516', 6.5], ['tt2997766', 7.7], ['tt3003668', 6.25], ['tt3004746', 3.75], ['tt3010660', 7.75], ['tt3013018', 6.0], ['tt3013528', 3.3125], ['tt3026144', 6.0], ['tt3029476', 5.076923076923077], ['tt3029558', 7.956521739130435], ['tt3033080', 1.5], ['tt3033948', 3.3333333333333335], ['tt3034258', 7.333333333333333], ['tt3036740', 2.2], ['tt3038142', 6.333333333333333], ['tt3038708', 5.25], ['tt3040964', 7.81042654028436], ['tt3042408', 8.398467432950191], ['tt3042926', 8.0], ['tt3043252', 7.2], ['tt3044882', 2.6666666666666665], ['tt3056436', 7.0], ['tt3059638', 4.0], ['tt3059656', 6.5], ['tt3060492', 7.7073170731707314], ['tt3061202', 8.0], ['tt3061836', 5.444444444444445], ['tt3063470', 6.5], ['tt3078242', 7.2], ['tt3089630', 5.090909090909091], ['tt3089778', 7.545454545454546], ['tt3093286', 1.0], ['tt3093522', 3.75], ['tt3094816', 6.0], ['tt3103576', 6.0], ['tt3104304', 2.2], ['tt3105350', 3.0], ['tt3107246', 5.0], ['tt3108244', 5.5], ['tt3121434', 4.0], ['tt3121604', 8.0], ['tt3124456', 7.0], ['tt3125220', 6.666666666666667], ['tt3127698', 5.0], ['tt3128900', 5.0], ['tt3129484', 7.5], ['tt3129564', 7.5], ['tt3138782', 7.473684210526316], ['tt3140100', 7.862068965517241], ['tt3141912', 5.25], ['tt3142764', 10.0], ['tt3148502', 8.176470588235293], ['tt3148952', 8.0], ['tt3149038', 7.260869565217392], ['tt3152098', 4.25], ['tt3152592', 6.607142857142857], ['tt3155242', 5.375], ['tt3155604', 7.235294117647059], ['tt3159564', 10.0], ['tt3165630', 5.875], ['tt3169706', 8.087378640776699], ['tt3170458', 4.0], ['tt3177316', 5.423076923076923], ['tt3178174', 8.142857142857142], ['tt3178292', 10.0], ['tt3181822', 4.796296296296297], ['tt3182596', 7.4], ['tt3182644', 8.0], ['tt3183630', 6.857142857142857], ['tt3183660', 7.540339702760085], ['tt3185772', 8.0], ['tt3187076', 8.5], ['tt3187378', 1.6666666666666667], ['tt3194532', 7.0], ['tt3199456', 6.5], ['tt3201722', 5.5], ['tt3203616', 6.0], ['tt3212232', 6.0227272727272725], ['tt3212568', 7.25], ['tt3213684', 6.444444444444445], ['tt3219268', 7.0], ['tt3220192', 5.166666666666667], ['tt3229488', 6.0], ['tt3236976', 5.0], ['tt3237154', 6.0], ['tt3242756', 4.0], ['tt3244446', 5.0], ['tt3253624', 7.7368421052631575], ['tt3254796', 6.0], ['tt3259474', 6.666666666666667], ['tt3261302', 2.0], ['tt3263946', 8.0], ['tt3263996', 8.5], ['tt3268668', 5.923076923076923], ['tt3268850', 7.75], ['tt3272570', 7.785714285714286], ['tt3274484', 9.0], ['tt3275216', 3.5], ['tt3280262', 5.32], ['tt3280916', 5.9], ['tt3281548', 8.076666666666666], ['tt3289712', 5.176470588235294], ['tt3297792', 3.0], ['tt3301196', 6.0], ['tt3306776', 7.5], ['tt3311176', 5.0], ['tt3315342', 8.411684782608695], ['tt3316960', 7.834244080145719], ['tt3317874', 8.0], ['tt3319508', 7.2], ['tt3320542', 9.0], ['tt3322940', 5.602298850574712], ['tt3323920', 4.0], ['tt3335048', 7.8], ['tt3348730', 6.239316239316239], ['tt3350890', 7.0], ['tt3365778', 7.166666666666667], ['tt3371366', 5.3944636678200695], ['tt3374816', 1.0], ['tt3380264', 4.5], ['tt3382148', 4.0], ['tt3384904', 3.3333333333333335], ['tt3387094', 6.0], ['tt3387542', 5.245098039215686], ['tt3390572', 8.45945945945946], ['tt3395908', 8.5], ['tt3397918', 5.333333333333333], ['tt3398048', 7.0], ['tt3398268', 8.040816326530612], ['tt3399484', 3.0], ['tt3405714', 5.0], ['tt3409392', 7.56], ['tt3410834', 6.037914691943128], ['tt3411432', 5.166666666666667], ['tt3413018', 7.0], ['tt3417422', 8.6], ['tt3424690', 3.4], ['tt3426262', 7.5], ['tt3431016', 5.5], ['tt3439114', 4.0], ['tt3444184', 6.6], ['tt3447364', 8.076923076923077], ['tt3450958', 7.642135642135642], ['tt3461828', 2.5], ['tt3462710', 5.260869565217392], ['tt3465916', 7.5], ['tt3469918', 7.5], ['tt3474602', 7.8], ['tt3475596', 6.666666666666667], ['tt3478232', 4.666666666666667], ['tt3478962', 7.555555555555555], ['tt3481210', 2.0], ['tt3481634', 5.090909090909091], ['tt3482062', 5.666666666666667], ['tt3486626', 6.111111111111111], ['tt3487994', 6.357142857142857], ['tt3488056', 3.8333333333333335], ['tt3488184', 9.0], ['tt3491962', 5.0], ['tt3495000', 7.111111111111111], ['tt3495030', 7.703703703703703], ['tt3496334', 8.0], ['tt3496372', 6.285714285714286], ['tt3498820', 8.246328437917223], ['tt3499048', 7.8], ['tt3499424', 1.5], ['tt3500528', 7.636363636363637], ['tt3501416', 7.294117647058823], ['tt3501590', 5.25], ['tt3503840', 4.0], ['tt3505712', 6.0], ['tt3506970', 7.333333333333333], ['tt3509426', 8.0], ['tt3510372', 7.545454545454546], ['tt3514330', 6.0], ['tt3517192', 8.0], ['tt3518988', 7.0], ['tt3520418', 6.193548387096774], ['tt3521126', 7.7372093023255815], ['tt3521192', 7.666666666666667], ['tt3522806', 5.709677419354839], ['tt3526408', 3.0], ['tt3526810', 10.0], ['tt3532686', 5.0], ['tt3538328', 7.333333333333333], ['tt3538766', 9.107142857142858], ['tt3540136', 6.6], ['tt3541262', 7.930555555555555], ['tt3544082', 7.142857142857143], ['tt3546114', 6.0], ['tt3546370', 8.571428571428571], ['tt3547616', 3.0], ['tt3551042', 4.5], ['tt3551400', 2.4], ['tt3553976', 7.903985507246377], ['tt3560148', 6.0], ['tt3560686', 8.13888888888889], ['tt3561236', 2.2], ['tt3563262', 5.636363636363637], ['tt3564574', 5.0], ['tt3567666', 4.625], ['tt3569356', 5.166666666666667], ['tt3572132', 5.5], ['tt3576084', 7.857142857142857], ['tt3579524', 6.666666666666667], ['tt3584354', 5.666666666666667], ['tt3584496', 6.0], ['tt3606888', 7.78125], ['tt3607812', 7.666666666666667], ['tt3608646', 3.0], ['tt3610746', 6.346938775510204], ['tt3611266', 9.0], ['tt3612126', 4.073170731707317], ['tt3620418', 7.25], ['tt3620762', 6.5], ['tt3622110', 5.538461538461538], ['tt3626742', 5.153846153846154], ['tt3627704', 4.4], ['tt3628584', 6.041666666666667], ['tt3642618', 7.75], ['tt3646944', 6.0], ['tt3646946', 8.666666666666666], ['tt3660770', 7.0], ['tt3662066', 7.166666666666667], ['tt3663040', 4.5], ['tt3668162', 8.0], ['tt3671542', 7.833333333333333], ['tt3674140', 8.847826086956522], ['tt3675748', 5.5], ['tt3678782', 7.44], ['tt3679000', 6.0], ['tt3679060', 5.111111111111111], ['tt3680410', 7.578947368421052], ['tt3681440', 8.5], ['tt3683702', 4.0], ['tt3685622', 3.5], ['tt3685668', 3.6666666666666665], ['tt3686998', 8.125], ['tt3696192', 6.25], ['tt3697626', 8.0], ['tt3698408', 7.410958904109589], ['tt3698558', 6.0], ['tt3700392', 7.625], ['tt3707104', 6.23943661971831], ['tt3711164', 7.0], ['tt3711510', 7.2727272727272725], ['tt3716530', 7.265536723163842], ['tt3717532', 8.0], ['tt3717804', 6.636363636363637], ['tt3719896', 7.444444444444445], ['tt3721954', 7.9245283018867925], ['tt3722062', 5.722222222222222], ['tt3727690', 2.5], ['tt3727824', 2.7142857142857144], ['tt3731580', 3.3333333333333335], ['tt3733778', 5.0588235294117645], ['tt3734354', 4.666666666666667], ['tt3734466', 6.5], ['tt3735554', 4.333333333333333], ['tt3739110', 6.428571428571429], ['tt3741860', 7.666666666666667], ['tt3742378', 7.826086956521739], ['tt3745906', 8.0], ['tt3748440', 5.705882352941177], ['tt3750872', 7.557522123893805], ['tt3752930', 8.0], ['tt3774802', 4.818181818181818], ['tt3779300', 4.285714285714286], ['tt3780208', 5.0], ['tt3781616', 1.0], ['tt3784160', 9.0], ['tt3796936', 2.0], ['tt3799694', 7.367088607594937], ['tt3800028', 5.0], ['tt3801252', 6.5], ['tt3808342', 7.391304347826087], ['tt3810932', 8.0], ['tt3811986', 6.0], ['tt3812366', 8.142857142857142], ['tt3815136', 7.666666666666667], ['tt3816458', 5.125], ['tt3819668', 7.71875], ['tt3822388', 8.0], ['tt3822396', 8.0], ['tt3824458', 7.267857142857143], ['tt3827684', 3.3333333333333335], ['tt3828858', 6.0], ['tt3829266', 5.558282208588957], ['tt3833520', 7.0], ['tt3835080', 6.08], ['tt3835608', 6.0], ['tt3839906', 9.0], ['tt3848888', 4.0], ['tt3848938', 3.0], ['tt3850214', 7.384976525821596], ['tt3851324', 5.333333333333333], ['tt3856408', 8.0], ['tt3859310', 6.444444444444445], ['tt3860294', 6.5], ['tt3863552', 9.015], ['tt3864024', 7.0], ['tt3882074', 7.7272727272727275], ['tt3885736', 7.0], ['tt3893280', 5.7], ['tt3894344', 7.888888888888889], ['tt3896198', 7.817025440313111], ['tt3900796', 3.5], ['tt3901826', 8.035714285714286], ['tt3902698', 7.0], ['tt3904272', 6.0], ['tt3909336', 7.7], ['tt3918584', 7.5], ['tt3919598', 1.0], ['tt3920820', 7.333333333333333], ['tt3949952', 6.0], ['tt3952108', 7.4], ['tt3958072', 7.25], ['tt3958276', 7.333333333333333], ['tt3962210', 1.6666666666666667], ['tt3963816', 5.88135593220339], ['tt3966404', 7.623076923076923], ['tt3966544', 8.5], ['tt3970482', 9.166666666666666], ['tt3970854', 7.2], ['tt3971732', 5.916666666666667], ['tt3975510', 4.0], ['tt3976144', 5.4], ['tt3982774', 5.2], ['tt3983464', 5.0], ['tt4000956', 4.0], ['tt4003070', 7.863636363636363], ['tt4008566', 5.0], ['tt4008652', 8.5], ['tt4008758', 7.5], ['tt4016994', 6.0], ['tt4025514', 7.45], ['tt4041476', 4.0], ['tt4047846', 7.0], ['tt4054654', 3.9166666666666665], ['tt4054952', 9.0], ['tt4058426', 7.75], ['tt4060866', 5.0], ['tt4065414', 7.0], ['tt4065552', 7.857142857142857], ['tt4073790', 6.34375], ['tt4074928', 6.857142857142857], ['tt4075322', 3.5], ['tt4076058', 6.0], ['tt4076756', 8.5], ['tt4076760', 3.9], ['tt4078856', 7.0], ['tt4080598', 7.6], ['tt4080728', 8.28930817610063], ['tt4083572', 3.0], ['tt4084744', 6.96], ['tt4085696', 8.0], ['tt4085944', 6.666666666666667], ['tt4102722', 5.5], ['tt4105584', 4.333333333333333], ['tt4110388', 4.5], ['tt4116284', 7.526813880126183], ['tt4125300', 8.0], ['tt4126304', 7.5423728813559325], ['tt4126394', 6.666666666666667], ['tt4126568', 4.375], ['tt4126694', 6.5], ['tt4129870', 5.384615384615385], ['tt4136456', 5.333333333333333], ['tt4144190', 6.0], ['tt4144504', 7.0], ['tt4145178', 8.617647058823529], ['tt4145304', 6.5], ['tt4148400', 9.882352941176471], ['tt4153828', 3.0], ['tt4154796', 9.046811397557667], ['tt4156700', 7.0], ['tt4158594', 5.0], ['tt4159182', 6.0], ['tt4160708', 7.55592841163311], ['tt4163224', 3.533333333333333], ['tt4164468', 8.0], ['tt4172146', 5.5], ['tt4176556', 7.0], ['tt4180576', 5.8], ['tt4181052', 5.9875], ['tt4184878', 4.142857142857143], ['tt4189494', 6.0], ['tt4190530', 7.670391061452514], ['tt4191054', 8.4], ['tt4192740', 7.517241379310345], ['tt4193072', 6.0], ['tt4195278', 6.333333333333333], ['tt4195368', 8.6], ['tt4209788', 7.632183908045977], ['tt4217392', 4.863636363636363], ['tt4229236', 7.9879518072289155], ['tt4229938', 7.0], ['tt4230700', 6.166666666666667], ['tt4241904', 5.0], ['tt4247144', 5.0], ['tt4255110', 5.857142857142857], ['tt4255196', 4.0], ['tt4258292', 7.5], ['tt4265508', 8.0], ['tt4269118', 6.0], ['tt4276820', 7.444201312910285], ['tt4279116', 3.0], ['tt4281724', 6.6875], ['tt4283358', 8.5], ['tt4284010', 7.945454545454545], ['tt4286666', 7.0], ['tt4290746', 7.0], ['tt4293752', 7.235294117647059], ['tt4298958', 7.3], ['tt4299300', 8.0], ['tt4303202', 8.0], ['tt4307880', 8.0], ['tt4310772', 5.0], ['tt4316236', 6.5], ['tt4323370', 8.5], ['tt4323504', 7.7272727272727275], ['tt4327752', 5.0], ['tt4329242', 5.8], ['tt4331970', 6.583333333333333], ['tt4334636', 10.0], ['tt4334642', 4.0], ['tt4335650', 4.833333333333333], ['tt4337690', 4.75], ['tt4353250', 7.782608695652174], ['tt4353996', 7.3], ['tt4357368', 7.5], ['tt4365566', 6.090909090909091], ['tt4374460', 7.25], ['tt4375438', 6.9523809523809526], ['tt4377952', 8.125], ['tt4381236', 5.25], ['tt4382824', 6.545454545454546], ['tt4382872', 3.56], ['tt4387040', 7.967213114754099], ['tt4393514', 8.5], ['tt4399952', 4.909090909090909], ['tt4414438', 8.0], ['tt4419196', 4.666666666666667], ['tt4426464', 6.0], ['tt4427060', 3.0], ['tt4428762', 6.333333333333333], ['tt4430136', 7.6], ['tt4431208', 7.75], ['tt4432480', 9.5], ['tt4433646', 6.0], ['tt4434004', 7.413793103448276], ['tt4437216', 6.428571428571429], ['tt4441422', 5.0], ['tt4447108', 5.0], ['tt4451458', 8.0], ['tt4459912', 3.5], ['tt4465564', 5.2773722627737225], ['tt4466490', 7.166666666666667], ['tt4467626', 6.0], ['tt4476736', 6.0], ['tt4477536', 5.578947368421052], ['tt4479380', 5.5], ['tt4486986', 5.85], ['tt4489416', 8.08695652173913], ['tt4499228', 5.0], ['tt4510398', 6.333333333333333], ['tt4516352', 3.0], ['tt4518234', 8.0], ['tt4518260', 1.0], ['tt4519400', 1.0], ['tt4519742', 6.0], ['tt4524418', 10.0], ['tt4532038', 5.5], ['tt4536768', 4.6], ['tt4537986', 4.571428571428571], ['tt4550098', 7.8633474576271185], ['tt4555426', 7.915], ['tt4557956', 6.25], ['tt4558376', 4.25], ['tt4559006', 7.209302325581396], ['tt4566758', 6.0215827338129495], ['tt4567486', 6.666666666666667], ['tt4573516', 5.636363636363637], ['tt4575576', 7.606060606060606], ['tt4577344', 4.25], ['tt4593108', 6.8], ['tt4594836', 4.75], ['tt4613254', 7.5], ['tt4616250', 2.0], ['tt4621872', 7.7727272727272725], ['tt4632316', 7.75], ['tt4633662', 3.5], ['tt4638148', 6.0], ['tt4642192', 6.714285714285714], ['tt4643580', 7.5], ['tt4660980', 6.0476190476190474], ['tt4661798', 5.4], ['tt4662420', 5.0], ['tt4679210', 7.5], ['tt4682266', 5.543478260869565], ['tt4685428', 6.5], ['tt4686108', 7.0], ['tt4686862', 5.0], ['tt4687358', 5.5], ['tt4692368', 5.0], ['tt4714568', 7.44], ['tt4725842', 4.0], ['tt4727512', 8.0], ['tt4728582', 5.5], ['tt4729430', 8.596837944664031], ['tt4730986', 7.935897435897436], ['tt4736550', 7.111111111111111], ['tt4738776', 8.5], ['tt4741708', 7.0], ['tt4744086', 7.0], ['tt4765240', 5.5], ['tt4765284', 5.885964912280702], ['tt4769824', 8.461538461538462], ['tt4769836', 6.035294117647059], ['tt4779326', 6.0], ['tt4796254', 7.333333333333333], ['tt4797160', 2.0], ['tt4817256', 7.0], ['tt4819498', 5.0], ['tt4824308', 6.25], ['tt4827558', 6.473684210526316], ['tt4830786', 7.142857142857143], ['tt4831682', 9.0], ['tt4847546', 6.0], ['tt4849176', 4.0], ['tt4864584', 4.0], ['tt4864624', 7.166666666666667], ['tt4867110', 2.25], ['tt4871980', 3.875], ['tt4876952', 3.0], ['tt4877122', 4.840909090909091], ['tt4881578', 9.0], ['tt4882376', 7.314285714285714], ['tt4890452', 8.375], ['tt4897358', 2.0], ['tt4897822', 8.104477611940299], ['tt4899370', 7.541666666666667], ['tt4901304', 7.5], ['tt4901306', 7.870292887029288], ['tt4906984', 6.0], ['tt4907206', 8.0], ['tt4908644', 8.839285714285714], ['tt4909506', 9.0], ['tt4912910', 7.894736842105263], ['tt4915318', 5.75], ['tt4922674', 2.0], ['tt4929720', 5.5], ['tt4934950', 8.323529411764707], ['tt4935446', 8.4], ['tt4936176', 5.777777777777778], ['tt4943218', 6.090909090909091], ['tt4949290', 2.0], ['tt4955566', 6.3], ['tt4956984', 6.0], ['tt4969044', 7.904761904761905], ['tt4971824', 7.666666666666667], ['tt4972582', 7.550164473684211], ['tt4975920', 6.25], ['tt4979082', 4.75], ['tt4985848', 2.0], ['tt4987556', 7.75], ['tt4990516', 7.0], ['tt4991652', 2.0], ['tt4994736', 7.454545454545454], ['tt5004766', 8.333333333333334], ['tt5022680', 2.0], ['tt5027774', 8.229007633587786], ['tt5037912', 8.0], ['tt5044656', 2.0], ['tt5059406', 5.0], ['tt5061162', 6.857142857142857], ['tt5061360', 8.0], ['tt5068650', 3.6666666666666665], ['tt5073620', 6.230769230769231], ['tt5074352', 8.96875], ['tt5076792', 6.142857142857143], ['tt5084198', 9.0], ['tt5085924', 5.05], ['tt5088794', 6.0], ['tt5092484', 3.0], ['tt5098128', 10.0], ['tt5098836', 9.090909090909092], ['tt5105734', 8.0], ['tt5108476', 4.375], ['tt5116410', 8.375], ['tt5117428', 7.714285714285714], ['tt5121000', 8.0], ['tt5128328', 8.0], ['tt5129682', 5.7368421052631575], ['tt5129818', 7.625], ['tt5133308', 7.5], ['tt5157030', 6.0], ['tt5157456', 6.0], ['tt5159414', 3.85], ['tt5160938', 6.066666666666666], ['tt5161502', 7.75], ['tt5165344', 7.4], ['tt5168192', 7.994623655913978], ['tt5173166', 7.0], ['tt5176390', 4.333333333333333], ['tt5179598', 6.0], ['tt5187886', 7.0], ['tt5189828', 6.5], ['tt5200814', 8.0], ['tt5208950', 5.875], ['tt5214394', 8.0], ['tt5215486', 8.0], ['tt5215952', 7.489583333333333], ['tt5216534', 10.0], ['tt5222918', 7.230769230769231], ['tt5238904', 6.428571428571429], ['tt5246700', 4.7592592592592595], ['tt5247042', 2.0], ['tt5254868', 6.6], ['tt5255710', 7.916666666666667], ['tt5259966', 2.5], ['tt5266668', 2.0], ['tt5267472', 4.125], ['tt5271442', 10.0], ['tt5271772', 5.0], ['tt5275830', 7.333333333333333], ['tt5275844', 7.8], ['tt5275892', 8.875], ['tt5278460', 7.25], ['tt5278466', 8.5], ['tt5286444', 8.026315789473685], ['tt5290620', 1.0], ['tt5294198', 6.526315789473684], ['tt5294522', 6.8], ['tt5294966', 7.6923076923076925], ['tt5295358', 4.0], ['tt5309954', 6.583333333333333], ['tt5311546', 8.666666666666666], ['tt5324800', 4.5], ['tt5333612', 7.0], ['tt5338644', 3.0], ['tt5339418', 6.0], ['tt5342950', 4.0], ['tt5362988', 7.86604774535809], ['tt5363618', 7.876470588235295], ['tt5376232', 7.0], ['tt5390504', 7.482954545454546], ['tt5419398', 10.0], ['tt5420210', 5.25], ['tt5427032', 3.357142857142857], ['tt5431890', 7.363636363636363], ['tt5433114', 8.333333333333334], ['tt5434972', 8.333333333333334], ['tt5451118', 7.714285714285714], ['tt5458566', 6.0], ['tt5460276', 7.388888888888889], ['tt5461944', 7.980582524271845], ['tt5463152', 3.5], ['tt5464234', 5.0], ['tt5465370', 5.0], ['tt5466186', 5.555555555555555], ['tt5468014', 10.0], ['tt5470222', 4.5], ['tt5471480', 8.0], ['tt5473090', 7.0], ['tt5476944', 9.5], ['tt5477194', 9.0], ['tt5477402', 7.5], ['tt5478478', 7.372093023255814], ['tt5481404', 5.8], ['tt5488854', 8.5], ['tt5493944', 5.285714285714286], ['tt5497458', 6.0], ['tt5503594', 7.0], ['tt5512872', 9.98583569405099], ['tt5518022', 8.0], ['tt5523010', 5.725], ['tt5526028', 8.666666666666666], ['tt5532370', 6.25], ['tt5534434', 7.857142857142857], ['tt5537140', 3.0], ['tt5539054', 5.166666666666667], ['tt5541848', 8.509803921568627], ['tt5542802', 5.0], ['tt5548032', 7.0], ['tt5556054', 7.0], ['tt5562652', 10.0], ['tt5563324', 4.9], ['tt5565670', 7.0], ['tt5574372', 6.0], ['tt5580266', 8.163934426229508], ['tt5580392', 5.2727272727272725], ['tt5588850', 8.166666666666666], ['tt5591786', 9.0], ['tt5598102', 8.052631578947368], ['tt5598234', 8.0], ['tt5598292', 5.2], ['tt5606664', 7.332225913621262], ['tt5608972', 2.5], ['tt5615904', 4.666666666666667], ['tt5617310', 3.0], ['tt5634960', 6.0], ['tt5638500', 4.0], ['tt5639388', 5.5], ['tt5644050', 8.5], ['tt5648036', 4.333333333333333], ['tt5651338', 5.0], ['tt5657856', 6.568862275449102], ['tt5662932', 6.636363636363637], ['tt5669936', 2.5], ['tt5674842', 2.0], ['tt5680626', 6.714285714285714], ['tt5685006', 4.5], ['tt5686622', 1.5], ['tt5687416', 8.0], ['tt5687814', 4.0], ['tt5688068', 5.666666666666667], ['tt5688868', 6.0], ['tt5690142', 7.875], ['tt5690360', 2.803921568627451], ['tt5691024', 5.0], ['tt5691226', 9.0], ['tt5700176', 6.0], ['tt5700672', 7.850187265917603], ['tt5708172', 2.5], ['tt5716464', 7.3979591836734695], ['tt5716848', 4.666666666666667], ['tt5719700', 5.435897435897436], ['tt5723056', 8.0], ['tt5723272', 7.571428571428571], ['tt5723416', 5.875], ['tt5726086', 5.710280373831775], ['tt5727208', 7.526893523600439], ['tt5729348', 7.269230769230769], ['tt5736696', 5.0], ['tt5737582', 6.6], ['tt5740866', 7.6923076923076925], ['tt5752360', 6.0], ['tt5773402', 8.0], ['tt5777628', 8.833333333333334], ['tt5779372', 4.25], ['tt5790492', 5.0], ['tt5791536', 7.066666666666666], ['tt5795086', 5.285714285714286], ['tt5804314', 10.0], ['tt5805252', 9.0], ['tt5809020', 5.4], ['tt5810122', 1.0], ['tt5813366', 5.133333333333334], ['tt5813916', 9.416666666666666], ['tt5815944', 6.2], ['tt5829040', 6.0], ['tt5834800', 4.0], ['tt5834854', 4.833333333333333], ['tt5838806', 9.0], ['tt5843670', 6.0], ['tt5843838', 5.5], ['tt5843850', 4.0], ['tt5848714', 3.0], ['tt5851014', 4.2], ['tt5857968', 9.0], ['tt5859238', 7.931818181818182], ['tt5862166', 4.823529411764706], ['tt5866930', 5.0], ['tt5867800', 8.5], ['tt5881528', 6.571428571428571], ['tt5883570', 6.625], ['tt5884004', 9.0], ['tt5884784', 4.909090909090909], ['tt5890000', 7.777777777777778], ['tt5894778', 8.5], ['tt5895028', 8.544444444444444], ['tt5902484', 4.0], ['tt5913184', 8.0], ['tt5913798', 4.233333333333333], ['tt5914350', 8.25], ['tt5918074', 7.166666666666667], ['tt5932368', 3.4], ['tt5937296', 8.0], ['tt5941692', 5.266666666666667], ['tt5946128', 8.137931034482758], ['tt5959700', 5.5], ['tt5959952', 7.166666666666667], ['tt5963218', 10.0], ['tt5970844', 6.181818181818182], ['tt5974388', 6.857142857142857], ['tt5982852', 7.666666666666667], ['tt5988370', 2.5], ['tt5990474', 7.604395604395604], ['tt6002232', 7.681818181818182], ['tt6016744', 8.5], ['tt6038042', 5.0], ['tt6042446', 2.5], ['tt6046314', 6.0], ['tt6047030', 7.0], ['tt6053438', 7.392307692307693], ['tt6054290', 7.0], ['tt6068960', 8.166666666666666], ['tt6069126', 6.0], ['tt6076366', 9.0], ['tt6083230', 8.0], ['tt6087426', 6.384615384615385], ['tt6093618', 9.0], ['tt6108090', 7.96], ['tt6110504', 6.5], ['tt6113122', 5.75], ['tt6117702', 7.5], ['tt6118340', 1.0], ['tt6126294', 4.0], ['tt6129302', 10.0], ['tt6131450', 5.25], ['tt6133130', 6.82051282051282], ['tt6135348', 7.7272727272727275], ['tt6138228', 6.75], ['tt6138688', 6.0], ['tt6143782', 5.0], ['tt6146586', 7.404643449419569], ['tt6155374', 2.0], ['tt6156350', 8.0], ['tt6169694', 5.785714285714286], ['tt6182078', 4.333333333333333], ['tt6186910', 7.0], ['tt6197094', 6.333333333333333], ['tt6197494', 2.0], ['tt6198946', 5.45], ['tt6203570', 7.285714285714286], ['tt6206564', 7.0], ['tt6215044', 4.0], ['tt6218010', 3.8333333333333335], ['tt6238896', 9.0], ['tt6243140', 7.0], ['tt6251024', 6.428571428571429], ['tt6262764', 6.333333333333333], ['tt6264938', 7.428571428571429], ['tt6272828', 6.0], ['tt6284256', 6.0], ['tt6284564', 2.0], ['tt6290418', 6.0], ['tt6294822', 7.401477832512315], ['tt6295898', 8.0], ['tt6315524', 7.5], ['tt6328046', 9.166666666666666], ['tt6330052', 6.25], ['tt6332276', 9.0], ['tt6333056', 7.625], ['tt6333060', 8.32258064516129], ['tt6334884', 6.25], ['tt6335734', 6.0], ['tt6340296', 4.5], ['tt6343314', 7.311377245508982], ['tt6344664', 10.0], ['tt6346162', 10.0], ['tt6347150', 5.8], ['tt6348454', 7.0], ['tt6349302', 3.6666666666666665], ['tt6352548', 7.0], ['tt6359956', 5.2727272727272725], ['tt6360332', 9.0], ['tt6366854', 8.666666666666666], ['tt6401004', 6.777777777777778], ['tt6412452', 7.473186119873817], ['tt6421110', 4.923076923076923], ['tt6423362', 5.925], ['tt6433456', 7.25], ['tt6464678', 4.5], ['tt6470762', 7.4], ['tt6471264', 5.5], ['tt6472976', 8.003521126760564], ['tt6473066', 8.555555555555555], ['tt6475714', 5.363636363636363], ['tt6485666', 5.333333333333333], ['tt6494418', 4.153846153846154], ['tt6495094', 8.0], ['tt6498644', 8.25], ['tt6506264', 2.6666666666666665], ['tt6508228', 5.0], ['tt6510332', 8.181818181818182], ['tt6511932', 6.083333333333333], ['tt6515200', 2.0], ['tt6527426', 5.875], ['tt6542108', 6.333333333333333], ['tt6548966', 8.0], ['tt6560164', 6.1], ['tt6565702', 6.113970588235294], ['tt6571548', 7.212765957446808], ['tt6572702', 3.75], ['tt6580564', 7.75], ['tt6588966', 8.416666666666666], ['tt6593054', 4.75], ['tt6598072', 6.0], ['tt6610158', 6.555555555555555], ['tt6613814', 6.0], ['tt6643972', 5.636363636363637], ['tt6654210', 5.225806451612903], ['tt6654316', 6.25], ['tt6659936', 4.0], ['tt6667360', 7.5], ['tt6673612', 6.235294117647059], ['tt6673840', 7.555555555555555], ['tt6684714', 5.157894736842105], ['tt6692354', 7.5], ['tt6708116', 8.333333333333334], ['tt6722976', 7.2727272727272725], ['tt6725014', 7.5], ['tt6739646', 8.2], ['tt6742252', 7.62962962962963], ['tt6747420', 5.25], ['tt6747818', 5.0], ['tt6752848', 7.666666666666667], ['tt6752992', 8.290322580645162], ['tt6768578', 7.327868852459017], ['tt6774212', 6.333333333333333], ['tt6774786', 5.111111111111111], ['tt6781982', 5.721649484536083], ['tt6826438', 7.384615384615385], ['tt6834916', 5.25], ['tt6838918', 5.0], ['tt6842770', 8.0], ['tt6843812', 6.0], ['tt6849786', 7.666666666666667], ['tt6851066', 8.4], ['tt6857040', 7.0], ['tt6863784', 3.0], ['tt6864864', 8.928571428571429], ['tt6883152', 7.0], ['tt6884200', 3.75], ['tt6917210', 6.0], ['tt6923462', 8.5], ['tt6937368', 7.25], ['tt6966692', 8.655597722960152], ['tt6967980', 7.7], ['tt6972140', 7.428571428571429], ['tt6974888', 2.0], ['tt6985200', 6.0], ['tt6996016', 6.0], ['tt7010412', 8.0], ['tt7014110', 2.0], ['tt7019942', 6.5], ['tt7022404', 8.0], ['tt7046974', 9.142857142857142], ['tt7050946', 7.0], ['tt7052244', 1.0], ['tt7054636', 8.75], ['tt7056732', 8.08108108108108], ['tt7057496', 8.14795918367347], ['tt7060460', 7.333333333333333], ['tt7068942', 7.333333333333333], ['tt7073710', 6.0], ['tt7078658', 6.142857142857143], ['tt7087210', 4.333333333333333], ['tt7089878', 7.0], ['tt7098658', 8.105263157894736], ['tt7125774', 7.857142857142857], ['tt7134096', 5.071428571428571], ['tt7137846', 5.769230769230769], ['tt7142506', 7.5], ['tt7149336', 7.0], ['tt7178640', 6.5], ['tt7179784', 7.0], ['tt7180544', 7.666666666666667], ['tt7188978', 6.333333333333333], ['tt7201846', 7.0], ['tt7205316', 6.5], ['tt7207238', 7.666666666666667], ['tt7214470', 8.0], ['tt7214762', 6.166666666666667], ['tt7214842', 7.6923076923076925], ['tt7221896', 1.0], ['tt7230750', 6.0], ['tt7241654', 2.0], ['tt7248248', 6.5], ['tt7253506', 6.5], ['tt7255568', 1.0], ['tt7256866', 5.6], ['tt7262990', 1.3333333333333333], ['tt7279188', 7.222222222222222], ['tt7284202', 5.625], ['tt7284204', 8.0], ['tt7286456', 9.081973159231048], ['tt7288408', 4.0], ['tt7294534', 6.833333333333333], ['tt7295450', 4.5], ['tt7296862', 3.0], ['tt7310916', 7.5], ['tt7315484', 4.283018867924528], ['tt7318202', 7.92], ['tt7321356', 6.5], ['tt7323600', 5.5], ['tt7329810', 7.25], ['tt7339792', 9.23076923076923], ['tt7339826', 7.666666666666667], ['tt7349662', 7.47677261613692], ['tt7357302', 7.666666666666667], ['tt7362036', 8.0], ['tt7364566', 8.0], ['tt7374952', 6.5], ['tt7384848', 7.0], ['tt7391996', 8.0], ['tt7392212', 7.0], ['tt7394674', 6.5], ['tt7399138', 3.8], ['tt7401588', 7.6028708133971294], ['tt7439064', 6.0], ['tt7441032', 4.0], ['tt7455754', 8.130434782608695], ['tt7460806', 5.916666666666667], ['tt7464158', 7.7], ['tt7465992', 8.0], ['tt7472352', 8.666666666666666], ['tt7485508', 7.0], ['tt7504818', 7.0], ['tt7526414', 8.8], ['tt7527538', 4.0], ['tt7531990', 7.0], ['tt7544820', 9.0], ['tt7545266', 5.0212765957446805], ['tt7558302', 5.2], ['tt7559180', 4.0], ['tt7581572', 8.0], ['tt7588752', 7.5], ['tt7628458', 8.214285714285714], ['tt7634968', 6.0606060606060606], ['tt7638556', 8.0], ['tt7639372', 2.0], ['tt7653254', 8.03242147922999], ['tt7668870', 7.673118279569892], ['tt7689924', 9.0], ['tt7689936', 7.0], ['tt7689958', 7.666666666666667], ['tt7689966', 7.615384615384615], ['tt7690638', 7.0], ['tt7691572', 9.4], ['tt7715070', 7.5], ['tt7737640', 7.0], ['tt7784604', 6.921113689095128], ['tt7797658', 8.0], ['tt7838252', 6.333333333333333], ['tt7838536', 3.0], ['tt7841496', 6.363636363636363], ['tt7843946', 7.75], ['tt7851798', 1.0], ['tt7857374', 6.666666666666667], ['tt7858616', 8.333333333333334], ['tt7869070', 4.444444444444445], ['tt7871636', 6.0], ['tt7876510', 9.0], ['tt7886848', 1.0], ['tt7892050', 6.0], ['tt7901798', 7.0], ['tt7903530', 5.4], ['tt7905466', 8.711538461538462], ['tt7917178', 6.0], ['tt7919810', 8.0], ['tt7957694', 5.6923076923076925], ['tt7958736', 5.450980392156863], ['tt7970348', 6.0], ['tt7976208', 3.0], ['tt7979580', 8.24], ['tt7981492', 3.142857142857143], ['tt7984766', 7.435294117647059], ['tt7985648', 7.0], ['tt7986222', 7.5], ['tt8000718', 6.666666666666667], ['tt8000908', 4.333333333333333], ['tt8004664', 5.666666666666667], ['tt8006374', 5.0], ['tt8009938', 4.333333333333333], ['tt8032912', 9.0], ['tt8033592', 6.5], ['tt8042292', 8.0], ['tt8058874', 5.285714285714286], ['tt8074486', 2.6666666666666665], ['tt8075192', 7.970588235294118], ['tt8076344', 7.5], ['tt8092252', 7.466666666666667], ['tt8095860', 7.5], ['tt8102806', 7.5], ['tt8106576', 8.0], ['tt8108164', 5.666666666666667], ['tt8108198', 8.25], ['tt8108202', 7.076923076923077], ['tt8110246', 5.0], ['tt8110330', 8.571428571428571], ['tt8116640', 7.666666666666667], ['tt8130968', 8.285714285714286], ['tt8144778', 7.0], ['tt8144834', 8.166666666666666], ['tt8145202', 5.333333333333333], ['tt8151874', 7.703125], ['tt8160262', 5.285714285714286], ['tt8178486', 6.115384615384615], ['tt8195518', 6.0], ['tt8201170', 6.033333333333333], ['tt8237272', 8.0], ['tt8239736', 8.0], ['tt8246392', 5.4], ['tt8274146', 6.5], ['tt8284860', 5.0], ['tt8291806', 7.648648648648648], ['tt8305806', 5.909090909090909], ['tt8328716', 3.3333333333333335], ['tt8328740', 8.0], ['tt8329290', 7.75], ['tt8332666', 6.0], ['tt8332922', 7.736434108527132], ['tt8350360', 5.81151832460733], ['tt8354344', 5.0], ['tt8359816', 7.666666666666667], ['tt8364418', 6.0], ['tt8368294', 10.0], ['tt8368512', 7.559322033898305], ['tt8370274', 2.0], ['tt8372094', 6.25], ['tt8380776', 3.6666666666666665], ['tt8394314', 6.0], ['tt8396294', 5.0], ['tt8399664', 7.4], ['tt8399720', 8.5], ['tt8404256', 6.2], ['tt8427036', 5.0], ['tt8435002', 4.285714285714286], ['tt8472964', 7.0], ['tt8485772', 4.0], ['tt8497794', 8.0], ['tt8510324', 6.0], ['tt8521876', 5.421052631578948], ['tt8522820', 6.0], ['tt8526872', 7.529411764705882], ['tt8535968', 7.857142857142857], ['tt8562562', 8.0625], ['tt8564902', 10.0], ['tt8579674', 8.61562391980643], ['tt8615136', 8.0], ['tt8615732', 6.0], ['tt8620646', 2.5], ['tt8649186', 6.666666666666667], ['tt8663516', 5.2317073170731705], ['tt8665634', 8.0], ['tt8695030', 5.072916666666667], ['tt8743064', 4.866666666666666], ['tt8760684', 8.6], ['tt8774798', 4.5], ['tt8785426', 4.5], ['tt8819596', 9.0], ['tt8822402', 7.8], ['tt8829128', 7.0], ['tt8829830', 5.7], ['tt8850222', 5.730769230769231], ['tt8879946', 8.0], ['tt8914492', 4.0], ['tt8946378', 8.2], ['tt8956872', 4.0], ['tt8969332', 7.8], ['tt8976576', 6.0], ['tt8983168', 3.6666666666666665], ['tt8983202', 8.0], ['tt8991268', 8.217391304347826], ['tt8995218', 6.0], ['tt8999372', 9.555555555555555], ['tt9005662', 6.0], ['tt9016016', 7.5], ['tt9021140', 7.5], ['tt9024106', 6.2], ['tt9026184', 4.916666666666667], ['tt9067182', 7.75], ['tt9086228', 4.6], ['tt9089294', 8.090909090909092], ['tt9097270', 5.5], ['tt9102084', 5.5], ['tt9107368', 6.25], ['tt9110170', 5.388888888888889], ['tt9110902', 9.0], ['tt9114472', 8.5], ['tt9128686', 8.0], ['tt9135260', 1.0], ['tt9138170', 8.8], ['tt9147456', 6.75], ['tt9151704', 5.25], ['tt9173264', 5.333333333333333], ['tt9173418', 4.333333333333333], ['tt9177882', 8.666666666666666], ['tt9179096', 8.275862068965518], ['tt9196192', 3.75], ['tt9204164', 7.0], ['tt9204204', 6.25], ['tt9206562', 8.352941176470589], ['tt9213244', 7.0], ['tt9224288', 5.0], ['tt9243946', 7.563380281690141], ['tt9252508', 5.52], ['tt9257484', 4.545454545454546], ['tt9260446', 6.0], ['tt9271408', 6.5], ['tt9288776', 7.333333333333333], ['tt9302994', 5.0], ['tt9310280', 10.0], ['tt9347730', 5.75], ['tt9348296', 6.0], ['tt9351980', 7.405405405405405], ['tt9352356', 6.0], ['tt9358052', 7.833333333333333], ['tt9412098', 7.397435897435898], ['tt9418878', 8.0], ['tt9419834', 4.125], ['tt9442842', 8.8], ['tt9472532', 2.0], ['tt9484998', 7.32], ['tt9506474', 7.153846153846154], ['tt9537532', 1.0], ['tt9543062', 4.0], ['tt9562694', 2.0], ['tt9580138', 7.375], ['tt9586294', 8.076923076923077], ['tt9612680', 10.0], ['tt9614090', 8.428571428571429], ['tt9619798', 5.305555555555555], ['tt9624766', 3.5], ['tt9625664', 3.375], ['tt9648672', 5.5], ['tt9652782', 7.25], ['tt9664108', 6.5], ['tt9689696', 3.0], ['tt9691136', 6.0], ['tt9695258', 8.0], ['tt9742392', 6.333333333333333], ['tt9784798', 7.628205128205129], ['tt9820352', 6.5], ['tt9831136', 5.4], ['tt9845110', 8.0], ['tt9849004', 3.0], ['tt9850386', 8.75], ['tt9900782', 7.5], ['tt9904802', 5.5], ['tt9911196', 8.0]]\n"
     ]
    }
   ],
   "source": [
    "print(ratings_list)"
   ]
  },
  {
   "cell_type": "markdown",
   "metadata": {},
   "source": [
    "## Create new tables in duckdb"
   ]
  },
  {
   "cell_type": "code",
   "execution_count": 85,
   "metadata": {},
   "outputs": [],
   "source": [
    "# connect\n",
    "db_path = os.path.join('db', 'db.duckdb')\n",
    "conn = duckdb.connect(db_path, read_only=False)"
   ]
  },
  {
   "cell_type": "markdown",
   "metadata": {},
   "source": [
    "Remove existing tables"
   ]
  },
  {
   "cell_type": "code",
   "execution_count": 87,
   "metadata": {},
   "outputs": [
    {
     "name": "stdout",
     "output_type": "stream",
     "text": [
      "['test_hidden', 'validation_hidden']\n"
     ]
    }
   ],
   "source": [
    "for i in conn.execute('PRAGMA show_tables').fetchdf()['name'].tolist():\n",
    "    if i.startswith('train'):\n",
    "        conn.execute(f\"DROP TABLE {i}\")\n",
    "\n",
    "print(conn.execute('PRAGMA show_tables').fetchdf()['name'].tolist())"
   ]
  },
  {
   "cell_type": "code",
   "execution_count": 88,
   "metadata": {},
   "outputs": [
    {
     "name": "stdout",
     "output_type": "stream",
     "text": [
      "Index(['Unnamed: 0', 'tconst', 'primaryTitle', 'originalTitle', 'startYear',\n",
      "       'endYear', 'runtimeMinutes', 'numVotes', 'label'],\n",
      "      dtype='object')\n",
      "7959\n",
      "7959\n",
      "7959\n",
      "7959\n",
      "7959\n",
      "7959\n",
      "7959\n",
      "[['tt9850386', 'The Bee Gees: How Can You Mend a Broken Heart'], ['tt9911196', 'The Marriage Escape']]\n",
      "[['tt9850386', ''], ['tt9911196', 'De beentjes van Sint-Hildegard']]\n",
      "[['tt9850386', 2020], ['tt9911196', 2020]]\n",
      "[['tt9850386', 0], ['tt9911196', 0]]\n",
      "[['tt9850386', 111], ['tt9911196', 103]]\n",
      "[['tt9850386', 4144], ['tt9911196', 3242]]\n",
      "[['tt9850386', True], ['tt9911196', True]]\n",
      "5540\n",
      "5540\n"
     ]
    }
   ],
   "source": [
    "print(full_train_df.columns)\n",
    "\n",
    "print(len(primary_title))\n",
    "print(len(original_title))\n",
    "print(len(start_year))\n",
    "print(len(end_year))\n",
    "print(len(runtime_minutes))\n",
    "print(len(num_votes))\n",
    "print(len(label_list))\n",
    "\n",
    "print(primary_title[-2:])\n",
    "print(original_title[-2:])\n",
    "print(start_year[-2:])\n",
    "print(end_year[-2:])\n",
    "print(runtime_minutes[-2:])\n",
    "print(num_votes[-2:])\n",
    "print(label_list[-2:])\n",
    "\n",
    "print(len(mean_ratings_list))\n",
    "print(len(mean_ratings_tconsts))"
   ]
  },
  {
   "cell_type": "code",
   "execution_count": 92,
   "metadata": {},
   "outputs": [],
   "source": [
    "train = True"
   ]
  },
  {
   "cell_type": "code",
   "execution_count": 100,
   "metadata": {},
   "outputs": [
    {
     "name": "stdout",
     "output_type": "stream",
     "text": [
      "Creating primary_title table\n",
      "Creating original_title table\n",
      "Creating start_year table\n",
      "Creating end_year table\n",
      "Creating runtime table\n",
      "Creating num_votes table\n",
      "Creating labels table\n",
      "Creating user_ratings table\n"
     ]
    }
   ],
   "source": [
    "# Create new tables based on created single cleaned lists\n",
    "if train:\n",
    "    curr = \"primary_title\"\n",
    "else:\n",
    "    curr = \"test_primary_title\"\n",
    "print(f\"Creating {curr} table\")\n",
    "try:\n",
    "    conn.execute(f'DROP TABLE {curr}')\n",
    "except:\n",
    "    print(f\"   {curr} did not exist\")\n",
    "try:\n",
    "    conn.execute(f\"CREATE TABLE {curr}(tconst VARCHAR PRIMARY KEY, primary_title VARCHAR)\")\n",
    "    conn.executemany(f\"INSERT INTO {curr} VALUES (?, ?)\", primary_title)\n",
    "\n",
    "except Exception as e:\n",
    "    print(f\"   Could not create {curr} with error: {e}\")    \n",
    "\n",
    "if train:\n",
    "    curr = \"original_title\"\n",
    "else:\n",
    "    curr = \"test_original_title\"\n",
    "print(f\"Creating {curr} table\")\n",
    "try:\n",
    "    conn.execute(f'DROP TABLE {curr}')\n",
    "except:\n",
    "    print(f\"   {curr} did not exist\")\n",
    "try:\n",
    "    conn.execute(f'CREATE TABLE {curr}(tconst VARCHAR PRIMARY KEY, original_title VARCHAR)')\n",
    "    conn.executemany(f\"INSERT INTO {curr} VALUES (?, ?)\", original_title)\n",
    "except Exception as e:\n",
    "    print(f\"   Could not create {curr} with error: {e}\")   \n",
    "\n",
    "if train:\n",
    "    curr = \"start_year\"\n",
    "else: \n",
    "    curr = \"test_start_year\"\n",
    "print(f\"Creating {curr} table\")\n",
    "try:\n",
    "    conn.execute(f'DROP TABLE {curr}')\n",
    "except:\n",
    "    print(f\"   {curr} did not exist\")\n",
    "try:\n",
    "    conn.execute(f'CREATE TABLE {curr}(tconst VARCHAR PRIMARY KEY, start_year INTEGER)')\n",
    "    conn.executemany(f\"INSERT INTO {curr} VALUES (?, ?)\", start_year)\n",
    "except Exception as e:\n",
    "    print(f\"   Could not create {curr} with error: {e}\")\n",
    "\n",
    "if train:\n",
    "    curr = \"end_year\"\n",
    "else:\n",
    "    curr = \"test_end_year\"\n",
    "print(f\"Creating {curr} table\")\n",
    "try:\n",
    "    conn.execute(f'DROP TABLE {curr}')\n",
    "except:\n",
    "    print(f\"   {curr} did not exist\")\n",
    "try:\n",
    "    conn.execute(f'CREATE TABLE {curr}(tconst VARCHAR PRIMARY KEY, end_year INTEGER)')\n",
    "    conn.executemany(f\"INSERT INTO {curr} VALUES (?, ?)\", end_year)\n",
    "except Exception as e:\n",
    "    print(f\"   Could not create {curr} with error: {e}\")\n",
    "\n",
    "if train:\n",
    "    curr = \"runtime\"\n",
    "else:\n",
    "    curr = \"test_runtime\"\n",
    "print(f\"Creating {curr} table\")\n",
    "try:\n",
    "    conn.execute(f'DROP TABLE {curr}')\n",
    "except:\n",
    "    print(f\"   {curr} did not exist\")\n",
    "try:\n",
    "    conn.execute(f'CREATE TABLE {curr}(tconst VARCHAR PRIMARY KEY, runtime_minutes INTEGER)')\n",
    "    conn.executemany(f\"INSERT INTO {curr} VALUES (?, ?)\", runtime_minutes)\n",
    "except Exception as e:\n",
    "    print(f\"   Could not create {curr} with error: {e}\")\n",
    "\n",
    "if train:\n",
    "    curr = \"num_votes\"\n",
    "else:\n",
    "    curr = \"test_num_votes\"\n",
    "print(f\"Creating {curr} table\")\n",
    "try:\n",
    "    conn.execute(f'DROP TABLE {curr}')\n",
    "except:\n",
    "    print(f\"   {curr} did not exist\")\n",
    "try:\n",
    "    conn.execute(f'CREATE TABLE {curr}(tconst VARCHAR PRIMARY KEY, num_votes INTEGER)')\n",
    "    conn.executemany(f\"INSERT INTO {curr} VALUES (?, ?)\", num_votes)\n",
    "except Exception as e:\n",
    "    print(f\"   Could not create {curr} with error: {e}\")\n",
    "\n",
    "if train:\n",
    "    curr = \"labels\"\n",
    "    print(f\"Creating {curr} table\")\n",
    "    try:\n",
    "        conn.execute(f'DROP TABLE {curr}')\n",
    "    except:\n",
    "        print(f\"   {curr} did not exist\")\n",
    "    try:\n",
    "        conn.execute(f'CREATE TABLE {curr}(tconst VARCHAR PRIMARY KEY, labels BOOLEAN)')\n",
    "        conn.executemany(f\"INSERT INTO {curr} VALUES (?, ?)\", label_list)\n",
    "    except Exception as e:\n",
    "        print(f\"   Could not create {curr} with error: {e}\")\n",
    "        \n",
    "if train:\n",
    "    curr = \"user_ratings\"\n",
    "    print(f\"Creating {curr} table\")\n",
    "    try:\n",
    "        conn.execute(f'DROP TABLE {curr}')\n",
    "    except:\n",
    "        print(f\"   {curr} did not exist\")\n",
    "    try:\n",
    "        conn.execute(f'CREATE TABLE {curr}(tconst VARCHAR PRIMARY KEY, rating INTEGER)')\n",
    "        conn.executemany(f\"INSERT INTO {curr} VALUES (?, ?)\", ratings_list)\n",
    "    except Exception as e:\n",
    "        print(f\"   Could not create {curr} with error: {e}\")\n",
    "        "
   ]
  },
  {
   "cell_type": "markdown",
   "metadata": {},
   "source": [
    "Check if all exist"
   ]
  },
  {
   "cell_type": "code",
   "execution_count": 101,
   "metadata": {},
   "outputs": [
    {
     "name": "stdout",
     "output_type": "stream",
     "text": [
      "['end_year', 'labels', 'num_votes', 'original_title', 'primary_title', 'runtime', 'start_year', 'test_hidden', 'user_ratings', 'validation_hidden']\n"
     ]
    }
   ],
   "source": [
    "tables = conn.execute('PRAGMA show_tables').fetchdf()['name'].tolist()\n",
    "print(tables)"
   ]
  },
  {
   "cell_type": "code",
   "execution_count": 2,
   "metadata": {},
   "outputs": [
    {
     "ename": "NameError",
     "evalue": "name 'conn' is not defined",
     "output_type": "error",
     "traceback": [
      "\u001b[0;31m---------------------------------------------------------------------------\u001b[0m",
      "\u001b[0;31mNameError\u001b[0m                                 Traceback (most recent call last)",
      "\u001b[0;32m<ipython-input-2-dfbdc1479f7e>\u001b[0m in \u001b[0;36m<module>\u001b[0;34m\u001b[0m\n\u001b[0;32m----> 1\u001b[0;31m \u001b[0mprint\u001b[0m\u001b[0;34m(\u001b[0m\u001b[0mconn\u001b[0m\u001b[0;34m.\u001b[0m\u001b[0mexecute\u001b[0m\u001b[0;34m(\u001b[0m\u001b[0;34m'SELECT * FROM original_title'\u001b[0m\u001b[0;34m)\u001b[0m\u001b[0;34m.\u001b[0m\u001b[0mfetchdf\u001b[0m\u001b[0;34m(\u001b[0m\u001b[0;34m)\u001b[0m\u001b[0;34m)\u001b[0m\u001b[0;34m\u001b[0m\u001b[0;34m\u001b[0m\u001b[0m\n\u001b[0m",
      "\u001b[0;31mNameError\u001b[0m: name 'conn' is not defined"
     ]
    }
   ],
   "source": [
    "print(conn.execute('SELECT * FROM original_title').fetchdf())"
   ]
  },
  {
   "cell_type": "code",
   "execution_count": 1,
   "metadata": {},
   "outputs": [
    {
     "ename": "NameError",
     "evalue": "name 'conn' is not defined",
     "output_type": "error",
     "traceback": [
      "\u001b[0;31m---------------------------------------------------------------------------\u001b[0m",
      "\u001b[0;31mNameError\u001b[0m                                 Traceback (most recent call last)",
      "\u001b[0;32m<ipython-input-1-ff4f7be801cd>\u001b[0m in \u001b[0;36m<module>\u001b[0;34m\u001b[0m\n\u001b[0;32m----> 1\u001b[0;31m \u001b[0mtables\u001b[0m \u001b[0;34m=\u001b[0m \u001b[0mconn\u001b[0m\u001b[0;34m.\u001b[0m\u001b[0mexecute\u001b[0m\u001b[0;34m(\u001b[0m\u001b[0;34m'PRAGMA show_tables'\u001b[0m\u001b[0;34m)\u001b[0m\u001b[0;34m.\u001b[0m\u001b[0mfetchdf\u001b[0m\u001b[0;34m(\u001b[0m\u001b[0;34m)\u001b[0m\u001b[0;34m[\u001b[0m\u001b[0;34m'name'\u001b[0m\u001b[0;34m]\u001b[0m\u001b[0;34m.\u001b[0m\u001b[0mtolist\u001b[0m\u001b[0;34m(\u001b[0m\u001b[0;34m)\u001b[0m\u001b[0;34m\u001b[0m\u001b[0;34m\u001b[0m\u001b[0m\n\u001b[0m\u001b[1;32m      2\u001b[0m \u001b[0mframes\u001b[0m \u001b[0;34m=\u001b[0m \u001b[0;34m[\u001b[0m\u001b[0;34m]\u001b[0m\u001b[0;34m\u001b[0m\u001b[0;34m\u001b[0m\u001b[0m\n\u001b[1;32m      3\u001b[0m \u001b[0;32mfor\u001b[0m \u001b[0mi\u001b[0m \u001b[0;32min\u001b[0m \u001b[0mtables\u001b[0m\u001b[0;34m:\u001b[0m\u001b[0;34m\u001b[0m\u001b[0;34m\u001b[0m\u001b[0m\n\u001b[1;32m      4\u001b[0m     \u001b[0mframes\u001b[0m\u001b[0;34m.\u001b[0m\u001b[0mappend\u001b[0m\u001b[0;34m(\u001b[0m\u001b[0mconn\u001b[0m\u001b[0;34m.\u001b[0m\u001b[0mexecute\u001b[0m\u001b[0;34m(\u001b[0m\u001b[0;34mf\"SELECT * FROM {i}\"\u001b[0m\u001b[0;34m)\u001b[0m\u001b[0;34m.\u001b[0m\u001b[0mfetchdf\u001b[0m\u001b[0;34m(\u001b[0m\u001b[0;34m)\u001b[0m\u001b[0;34m)\u001b[0m\u001b[0;34m\u001b[0m\u001b[0;34m\u001b[0m\u001b[0m\n\u001b[1;32m      5\u001b[0m \u001b[0mfull_train_df\u001b[0m \u001b[0;34m=\u001b[0m \u001b[0mpd\u001b[0m\u001b[0;34m.\u001b[0m\u001b[0mmerge\u001b[0m\u001b[0;34m(\u001b[0m\u001b[0mframes\u001b[0m\u001b[0;34m)\u001b[0m\u001b[0;34m\u001b[0m\u001b[0;34m\u001b[0m\u001b[0m\n",
      "\u001b[0;31mNameError\u001b[0m: name 'conn' is not defined"
     ]
    }
   ],
   "source": [
    "tables = conn.execute('PRAGMA show_tables').fetchdf()['name'].tolist()\n",
    "frames = []\n",
    "for i in tables:\n",
    "    frames.append(conn.execute(f\"SELECT * FROM {i}\").fetchdf())\n",
    "full_train_df = pd.concat(frames)\n",
    " \n",
    "print(full_train_df)"
   ]
  },
  {
   "cell_type": "markdown",
   "metadata": {},
   "source": [
    "## Machine Learning"
   ]
  },
  {
   "cell_type": "code",
   "execution_count": 354,
   "metadata": {},
   "outputs": [
    {
     "name": "stdout",
     "output_type": "stream",
     "text": [
      "0       True\n",
      "1       True\n",
      "2       True\n",
      "3       True\n",
      "4       True\n",
      "       ...  \n",
      "988    False\n",
      "989    False\n",
      "990    False\n",
      "991     True\n",
      "992     True\n",
      "Name: label, Length: 7959, dtype: bool\n"
     ]
    }
   ],
   "source": [
    "print(full_train_df['label'])"
   ]
  },
  {
   "cell_type": "code",
   "execution_count": 355,
   "metadata": {},
   "outputs": [],
   "source": [
    "corr_labels = full_train_df['label'].values.astype('int')\n",
    "labels = pd.DataFrame(corr_labels, index=full_train_df['tconst'], columns=['labels'])\n",
    "# labels = labels.to_numpy()"
   ]
  },
  {
   "cell_type": "code",
   "execution_count": 356,
   "metadata": {},
   "outputs": [
    {
     "name": "stdout",
     "output_type": "stream",
     "text": [
      "           labels\n",
      "tconst           \n",
      "tt0010600       1\n",
      "tt0011841       1\n",
      "tt0012494       1\n",
      "tt0015163       1\n",
      "tt0016220       1\n",
      "...           ...\n",
      "tt9625664       0\n",
      "tt9741310       0\n",
      "tt9742392       0\n",
      "tt9850386       1\n",
      "tt9911196       1\n",
      "\n",
      "[7959 rows x 1 columns]\n"
     ]
    }
   ],
   "source": [
    "print(labels)"
   ]
  },
  {
   "cell_type": "code",
   "execution_count": 357,
   "metadata": {},
   "outputs": [],
   "source": [
    "# merged_df = pd.concat([primary_title_df, original_title_df, start_year_df, end_year_df, runtime_df], axis=1)\n",
    "merged_df = pd.concat([start_year_df, end_year_df, runtime_df,num_votes_df], axis=1)\n",
    "# merged_df = pd.concat([num_votes_df, runtime_df], axis=1)\n"
   ]
  },
  {
   "cell_type": "code",
   "execution_count": 358,
   "metadata": {
    "scrolled": true
   },
   "outputs": [
    {
     "name": "stdout",
     "output_type": "stream",
     "text": [
      "           start_year  end_year  runtime_minutes  num_votes\n",
      "tconst                                                     \n",
      "tt0010600        1919         0               66     1898.0\n",
      "tt0011841        1920         0              145     5376.0\n",
      "tt0012494        1921         0               97     5842.0\n",
      "tt0015163        1924         0               59     9652.0\n",
      "tt0016220        1925         0               93    17887.0\n",
      "...               ...       ...              ...        ...\n",
      "tt9625664        2019         0               87    12951.0\n",
      "tt9741310        2020         0               77     2464.0\n",
      "tt9742392        2020         0              101     1719.0\n",
      "tt9850386        2020         0              111     4144.0\n",
      "tt9911196        2020         0              103     3242.0\n",
      "\n",
      "[7959 rows x 4 columns]\n"
     ]
    }
   ],
   "source": [
    "print(merged_df)\n",
    "# merged_df = merged_df.to_numpy()\n"
   ]
  },
  {
   "cell_type": "code",
   "execution_count": 360,
   "metadata": {},
   "outputs": [
    {
     "data": {
      "text/html": [
       "<div>\n",
       "<style scoped>\n",
       "    .dataframe tbody tr th:only-of-type {\n",
       "        vertical-align: middle;\n",
       "    }\n",
       "\n",
       "    .dataframe tbody tr th {\n",
       "        vertical-align: top;\n",
       "    }\n",
       "\n",
       "    .dataframe thead th {\n",
       "        text-align: right;\n",
       "    }\n",
       "</style>\n",
       "<table border=\"1\" class=\"dataframe\">\n",
       "  <thead>\n",
       "    <tr style=\"text-align: right;\">\n",
       "      <th></th>\n",
       "      <th>start_year</th>\n",
       "      <th>end_year</th>\n",
       "      <th>runtime_minutes</th>\n",
       "      <th>num_votes</th>\n",
       "    </tr>\n",
       "    <tr>\n",
       "      <th>tconst</th>\n",
       "      <th></th>\n",
       "      <th></th>\n",
       "      <th></th>\n",
       "      <th></th>\n",
       "    </tr>\n",
       "  </thead>\n",
       "  <tbody>\n",
       "    <tr>\n",
       "      <th>tt0010600</th>\n",
       "      <td>1919</td>\n",
       "      <td>0</td>\n",
       "      <td>66</td>\n",
       "      <td>1898.0</td>\n",
       "    </tr>\n",
       "    <tr>\n",
       "      <th>tt0011841</th>\n",
       "      <td>1920</td>\n",
       "      <td>0</td>\n",
       "      <td>145</td>\n",
       "      <td>5376.0</td>\n",
       "    </tr>\n",
       "    <tr>\n",
       "      <th>tt0012494</th>\n",
       "      <td>1921</td>\n",
       "      <td>0</td>\n",
       "      <td>97</td>\n",
       "      <td>5842.0</td>\n",
       "    </tr>\n",
       "    <tr>\n",
       "      <th>tt0015163</th>\n",
       "      <td>1924</td>\n",
       "      <td>0</td>\n",
       "      <td>59</td>\n",
       "      <td>9652.0</td>\n",
       "    </tr>\n",
       "    <tr>\n",
       "      <th>tt0016220</th>\n",
       "      <td>1925</td>\n",
       "      <td>0</td>\n",
       "      <td>93</td>\n",
       "      <td>17887.0</td>\n",
       "    </tr>\n",
       "    <tr>\n",
       "      <th>...</th>\n",
       "      <td>...</td>\n",
       "      <td>...</td>\n",
       "      <td>...</td>\n",
       "      <td>...</td>\n",
       "    </tr>\n",
       "    <tr>\n",
       "      <th>tt9625664</th>\n",
       "      <td>2019</td>\n",
       "      <td>0</td>\n",
       "      <td>87</td>\n",
       "      <td>12951.0</td>\n",
       "    </tr>\n",
       "    <tr>\n",
       "      <th>tt9741310</th>\n",
       "      <td>2020</td>\n",
       "      <td>0</td>\n",
       "      <td>77</td>\n",
       "      <td>2464.0</td>\n",
       "    </tr>\n",
       "    <tr>\n",
       "      <th>tt9742392</th>\n",
       "      <td>2020</td>\n",
       "      <td>0</td>\n",
       "      <td>101</td>\n",
       "      <td>1719.0</td>\n",
       "    </tr>\n",
       "    <tr>\n",
       "      <th>tt9850386</th>\n",
       "      <td>2020</td>\n",
       "      <td>0</td>\n",
       "      <td>111</td>\n",
       "      <td>4144.0</td>\n",
       "    </tr>\n",
       "    <tr>\n",
       "      <th>tt9911196</th>\n",
       "      <td>2020</td>\n",
       "      <td>0</td>\n",
       "      <td>103</td>\n",
       "      <td>3242.0</td>\n",
       "    </tr>\n",
       "  </tbody>\n",
       "</table>\n",
       "<p>7959 rows × 4 columns</p>\n",
       "</div>"
      ],
      "text/plain": [
       "           start_year  end_year  runtime_minutes  num_votes\n",
       "tconst                                                     \n",
       "tt0010600        1919         0               66     1898.0\n",
       "tt0011841        1920         0              145     5376.0\n",
       "tt0012494        1921         0               97     5842.0\n",
       "tt0015163        1924         0               59     9652.0\n",
       "tt0016220        1925         0               93    17887.0\n",
       "...               ...       ...              ...        ...\n",
       "tt9625664        2019         0               87    12951.0\n",
       "tt9741310        2020         0               77     2464.0\n",
       "tt9742392        2020         0              101     1719.0\n",
       "tt9850386        2020         0              111     4144.0\n",
       "tt9911196        2020         0              103     3242.0\n",
       "\n",
       "[7959 rows x 4 columns]"
      ]
     },
     "execution_count": 360,
     "metadata": {},
     "output_type": "execute_result"
    }
   ],
   "source": [
    "merged_df.isnull().values.any()\n",
    "merged_df.fillna(0)\n"
   ]
  },
  {
   "cell_type": "code",
   "execution_count": 361,
   "metadata": {},
   "outputs": [
    {
     "name": "stdout",
     "output_type": "stream",
     "text": [
      "X_train: (6367, 4)\n",
      "y_train: (6367, 1)\n",
      "X_test: (1592, 4)\n",
      "y_test: (1592, 1)\n"
     ]
    }
   ],
   "source": [
    "import numpy as np\n",
    "# print(len(merged_df) * 0.8)\n",
    "X_train = merged_df[:6367]\n",
    "X_test = merged_df[6367:]\n",
    "\n",
    "# y_train = labels['labels'][:6367]\n",
    "# y_test = labels['labels'][6367:]\n",
    "y_train = labels[:6367]\n",
    "y_test = labels[6367:]\n",
    "\n",
    "# Check the dimension of the sets\n",
    "print('X_train:',np.shape(X_train))\n",
    "print('y_train:',np.shape(y_train))\n",
    "print('X_test:',np.shape(X_test))\n",
    "print('y_test:',np.shape(y_test))\n",
    "\n"
   ]
  },
  {
   "cell_type": "code",
   "execution_count": 362,
   "metadata": {},
   "outputs": [
    {
     "name": "stdout",
     "output_type": "stream",
     "text": [
      "           start_year  end_year  runtime_minutes  num_votes\n",
      "tconst                                                     \n",
      "tt0010600        1919         0               66     1898.0\n",
      "tt0011841        1920         0              145     5376.0\n",
      "tt0012494        1921         0               97     5842.0\n",
      "tt0015163        1924         0               59     9652.0\n",
      "tt0016220        1925         0               93    17887.0\n",
      "...               ...       ...              ...        ...\n",
      "tt0292542        2001         0              123    15380.0\n",
      "tt0298203        2002         0              110   269808.0\n",
      "tt0301050        1999         0               75     1146.0\n",
      "tt0301470        2003         0              106    62519.0\n",
      "tt0303243        2000      2000              102        NaN\n",
      "\n",
      "[6367 rows x 4 columns]\n",
      "           labels\n",
      "tconst           \n",
      "tt0010600       1\n",
      "tt0011841       1\n",
      "tt0012494       1\n",
      "tt0015163       1\n",
      "tt0016220       1\n",
      "...           ...\n",
      "tt0292542       1\n",
      "tt0298203       1\n",
      "tt0301050       1\n",
      "tt0301470       0\n",
      "tt0303243       1\n",
      "\n",
      "[6367 rows x 1 columns]\n"
     ]
    }
   ],
   "source": [
    "print(X_train)\n",
    "print(y_train)"
   ]
  },
  {
   "cell_type": "code",
   "execution_count": 363,
   "metadata": {},
   "outputs": [],
   "source": [
    "import keras\n",
    "from keras.models import Sequential   # importing Sequential model\n",
    "from keras.layers import Dense        # importing Dense layers\n",
    "import keras.optimizers\n",
    "import tensorflow as tf"
   ]
  },
  {
   "cell_type": "code",
   "execution_count": 364,
   "metadata": {},
   "outputs": [],
   "source": [
    "basic_model = Sequential()\n"
   ]
  },
  {
   "cell_type": "code",
   "execution_count": 365,
   "metadata": {},
   "outputs": [],
   "source": [
    "# Adding layers to the model\n",
    "# First layers: 16 neurons/perceptrons that takes the input and uses 'sigmoid' activation function.\n",
    "basic_model.add(Dense(units = 16 , activation = 'sigmoid', input_shape = (4,))) \n",
    "# Second layer: 1 neuron/perceptron that takes the input from the 1st layers and gives output as 0 or 1.Activation used is 'Hard Sigmoid'\n",
    "basic_model.add(Dense(1, activation = 'hard_sigmoid'))\n"
   ]
  },
  {
   "cell_type": "code",
   "execution_count": 366,
   "metadata": {},
   "outputs": [
    {
     "name": "stdout",
     "output_type": "stream",
     "text": [
      "Model: \"sequential_19\"\n",
      "_________________________________________________________________\n",
      " Layer (type)                Output Shape              Param #   \n",
      "=================================================================\n",
      " dense_68 (Dense)            (None, 16)                80        \n",
      "                                                                 \n",
      " dense_69 (Dense)            (None, 1)                 17        \n",
      "                                                                 \n",
      "=================================================================\n",
      "Total params: 97\n",
      "Trainable params: 97\n",
      "Non-trainable params: 0\n",
      "_________________________________________________________________\n"
     ]
    }
   ],
   "source": [
    "basic_model.summary()"
   ]
  },
  {
   "cell_type": "code",
   "execution_count": 367,
   "metadata": {},
   "outputs": [
    {
     "name": "stderr",
     "output_type": "stream",
     "text": [
      "/Users/casbertrams/opt/anaconda3/lib/python3.8/site-packages/keras/optimizer_v2/gradient_descent.py:102: UserWarning: The `lr` argument is deprecated, use `learning_rate` instead.\n",
      "  super(SGD, self).__init__(name, **kwargs)\n"
     ]
    }
   ],
   "source": [
    "sgd = tf.keras.optimizers.SGD(lr=0.5, momentum=0.9, nesterov=True)\n",
    "basic_model.compile(loss = 'binary_crossentropy', optimizer = 'sgd', metrics = ['accuracy'])"
   ]
  },
  {
   "cell_type": "code",
   "execution_count": 368,
   "metadata": {},
   "outputs": [
    {
     "name": "stdout",
     "output_type": "stream",
     "text": [
      "Epoch 1/10\n",
      "199/199 [==============================] - 0s 925us/step - loss: nan - accuracy: 0.4883\n",
      "Epoch 2/10\n",
      "199/199 [==============================] - 0s 748us/step - loss: nan - accuracy: 0.4878\n",
      "Epoch 3/10\n",
      "199/199 [==============================] - 0s 804us/step - loss: nan - accuracy: 0.4878\n",
      "Epoch 4/10\n",
      "199/199 [==============================] - 0s 927us/step - loss: nan - accuracy: 0.4878\n",
      "Epoch 5/10\n",
      "199/199 [==============================] - 0s 905us/step - loss: nan - accuracy: 0.4878\n",
      "Epoch 6/10\n",
      "199/199 [==============================] - 0s 924us/step - loss: nan - accuracy: 0.4878\n",
      "Epoch 7/10\n",
      "199/199 [==============================] - 0s 898us/step - loss: nan - accuracy: 0.4878\n",
      "Epoch 8/10\n",
      "199/199 [==============================] - 0s 840us/step - loss: nan - accuracy: 0.4878\n",
      "Epoch 9/10\n",
      "199/199 [==============================] - 0s 809us/step - loss: nan - accuracy: 0.4878\n",
      "Epoch 10/10\n",
      "199/199 [==============================] - 0s 884us/step - loss: nan - accuracy: 0.4878\n"
     ]
    },
    {
     "data": {
      "text/plain": [
       "<keras.callbacks.History at 0x7fa38a66d880>"
      ]
     },
     "execution_count": 368,
     "metadata": {},
     "output_type": "execute_result"
    }
   ],
   "source": [
    "basic_model.compile(optimizer='adam',\n",
    "              loss=tf.keras.losses.BinaryCrossentropy(from_logits=True),\n",
    "              metrics=['accuracy'])\n",
    "basic_model.fit(X_train, y_train, epochs=10)\n"
   ]
  },
  {
   "cell_type": "code",
   "execution_count": 331,
   "metadata": {},
   "outputs": [
    {
     "name": "stdout",
     "output_type": "stream",
     "text": [
      "50/50 [==============================] - 0s 652us/step - loss: nan - accuracy: 0.5421\n",
      "Loss =  nan\n",
      "Accuracy =  0.5420854091644287\n"
     ]
    }
   ],
   "source": [
    "# Test, Loss and accuracy\n",
    "loss_and_metrics = basic_model.evaluate(X_test, y_test)\n",
    "print('Loss = ',loss_and_metrics[0])\n",
    "print('Accuracy = ',loss_and_metrics[1])\n"
   ]
  },
  {
   "cell_type": "code",
   "execution_count": null,
   "metadata": {},
   "outputs": [],
   "source": []
  },
  {
   "cell_type": "code",
   "execution_count": null,
   "metadata": {},
   "outputs": [],
   "source": []
  },
  {
   "cell_type": "code",
   "execution_count": null,
   "metadata": {},
   "outputs": [],
   "source": []
  },
  {
   "cell_type": "code",
   "execution_count": null,
   "metadata": {},
   "outputs": [],
   "source": []
  },
  {
   "cell_type": "code",
   "execution_count": null,
   "metadata": {},
   "outputs": [],
   "source": []
  },
  {
   "cell_type": "code",
   "execution_count": null,
   "metadata": {},
   "outputs": [],
   "source": []
  },
  {
   "cell_type": "code",
   "execution_count": null,
   "metadata": {},
   "outputs": [],
   "source": []
  },
  {
   "cell_type": "code",
   "execution_count": 342,
   "metadata": {},
   "outputs": [],
   "source": [
    "model = keras.Sequential([\n",
    "    keras.layers.Flatten(input_shape=(4,)),\n",
    "    keras.layers.Dense(16, activation=tf.nn.relu),\n",
    "    keras.layers.Dense(16, activation=tf.nn.relu),\n",
    "    keras.layers.Dense(1, activation=tf.nn.sigmoid),\n",
    "])"
   ]
  },
  {
   "cell_type": "code",
   "execution_count": 343,
   "metadata": {},
   "outputs": [
    {
     "name": "stdout",
     "output_type": "stream",
     "text": [
      "Model: \"sequential_18\"\n",
      "_________________________________________________________________\n",
      " Layer (type)                Output Shape              Param #   \n",
      "=================================================================\n",
      " flatten_5 (Flatten)         (None, 4)                 0         \n",
      "                                                                 \n",
      " dense_65 (Dense)            (None, 16)                80        \n",
      "                                                                 \n",
      " dense_66 (Dense)            (None, 16)                272       \n",
      "                                                                 \n",
      " dense_67 (Dense)            (None, 1)                 17        \n",
      "                                                                 \n",
      "=================================================================\n",
      "Total params: 369\n",
      "Trainable params: 369\n",
      "Non-trainable params: 0\n",
      "_________________________________________________________________\n"
     ]
    }
   ],
   "source": [
    "model.summary()"
   ]
  },
  {
   "cell_type": "code",
   "execution_count": 344,
   "metadata": {},
   "outputs": [
    {
     "name": "stdout",
     "output_type": "stream",
     "text": [
      "Epoch 1/50\n",
      "6367/6367 [==============================] - 4s 660us/step - loss: nan - accuracy: 0.4878\n",
      "Epoch 2/50\n",
      "5209/6367 [=======================>......] - ETA: 0s - loss: nan - accuracy: 0.4886"
     ]
    },
    {
     "ename": "KeyboardInterrupt",
     "evalue": "",
     "output_type": "error",
     "traceback": [
      "\u001b[0;31m---------------------------------------------------------------------------\u001b[0m",
      "\u001b[0;31mKeyboardInterrupt\u001b[0m                         Traceback (most recent call last)",
      "\u001b[0;32m<ipython-input-344-38dbf41eb931>\u001b[0m in \u001b[0;36m<module>\u001b[0;34m\u001b[0m\n\u001b[1;32m      3\u001b[0m               metrics=['accuracy'])\n\u001b[1;32m      4\u001b[0m \u001b[0;34m\u001b[0m\u001b[0m\n\u001b[0;32m----> 5\u001b[0;31m \u001b[0mmodel\u001b[0m\u001b[0;34m.\u001b[0m\u001b[0mfit\u001b[0m\u001b[0;34m(\u001b[0m\u001b[0mX_train\u001b[0m\u001b[0;34m,\u001b[0m \u001b[0my_train\u001b[0m\u001b[0;34m,\u001b[0m \u001b[0mepochs\u001b[0m\u001b[0;34m=\u001b[0m\u001b[0;36m50\u001b[0m\u001b[0;34m,\u001b[0m \u001b[0mbatch_size\u001b[0m\u001b[0;34m=\u001b[0m\u001b[0;36m1\u001b[0m\u001b[0;34m)\u001b[0m\u001b[0;34m\u001b[0m\u001b[0;34m\u001b[0m\u001b[0m\n\u001b[0m\u001b[1;32m      6\u001b[0m \u001b[0mtest_loss\u001b[0m\u001b[0;34m,\u001b[0m \u001b[0mtest_acc\u001b[0m \u001b[0;34m=\u001b[0m \u001b[0mmodel\u001b[0m\u001b[0;34m.\u001b[0m\u001b[0mevaluate\u001b[0m\u001b[0;34m(\u001b[0m\u001b[0mX_test\u001b[0m\u001b[0;34m,\u001b[0m \u001b[0my_test\u001b[0m\u001b[0;34m)\u001b[0m\u001b[0;34m\u001b[0m\u001b[0;34m\u001b[0m\u001b[0m\n",
      "\u001b[0;32m~/opt/anaconda3/lib/python3.8/site-packages/keras/utils/traceback_utils.py\u001b[0m in \u001b[0;36merror_handler\u001b[0;34m(*args, **kwargs)\u001b[0m\n\u001b[1;32m     62\u001b[0m     \u001b[0mfiltered_tb\u001b[0m \u001b[0;34m=\u001b[0m \u001b[0;32mNone\u001b[0m\u001b[0;34m\u001b[0m\u001b[0;34m\u001b[0m\u001b[0m\n\u001b[1;32m     63\u001b[0m     \u001b[0;32mtry\u001b[0m\u001b[0;34m:\u001b[0m\u001b[0;34m\u001b[0m\u001b[0;34m\u001b[0m\u001b[0m\n\u001b[0;32m---> 64\u001b[0;31m       \u001b[0;32mreturn\u001b[0m \u001b[0mfn\u001b[0m\u001b[0;34m(\u001b[0m\u001b[0;34m*\u001b[0m\u001b[0margs\u001b[0m\u001b[0;34m,\u001b[0m \u001b[0;34m**\u001b[0m\u001b[0mkwargs\u001b[0m\u001b[0;34m)\u001b[0m\u001b[0;34m\u001b[0m\u001b[0;34m\u001b[0m\u001b[0m\n\u001b[0m\u001b[1;32m     65\u001b[0m     \u001b[0;32mexcept\u001b[0m \u001b[0mException\u001b[0m \u001b[0;32mas\u001b[0m \u001b[0me\u001b[0m\u001b[0;34m:\u001b[0m  \u001b[0;31m# pylint: disable=broad-except\u001b[0m\u001b[0;34m\u001b[0m\u001b[0;34m\u001b[0m\u001b[0m\n\u001b[1;32m     66\u001b[0m       \u001b[0mfiltered_tb\u001b[0m \u001b[0;34m=\u001b[0m \u001b[0m_process_traceback_frames\u001b[0m\u001b[0;34m(\u001b[0m\u001b[0me\u001b[0m\u001b[0;34m.\u001b[0m\u001b[0m__traceback__\u001b[0m\u001b[0;34m)\u001b[0m\u001b[0;34m\u001b[0m\u001b[0;34m\u001b[0m\u001b[0m\n",
      "\u001b[0;32m~/opt/anaconda3/lib/python3.8/site-packages/keras/engine/training.py\u001b[0m in \u001b[0;36mfit\u001b[0;34m(self, x, y, batch_size, epochs, verbose, callbacks, validation_split, validation_data, shuffle, class_weight, sample_weight, initial_epoch, steps_per_epoch, validation_steps, validation_batch_size, validation_freq, max_queue_size, workers, use_multiprocessing)\u001b[0m\n\u001b[1;32m   1214\u001b[0m                 _r=1):\n\u001b[1;32m   1215\u001b[0m               \u001b[0mcallbacks\u001b[0m\u001b[0;34m.\u001b[0m\u001b[0mon_train_batch_begin\u001b[0m\u001b[0;34m(\u001b[0m\u001b[0mstep\u001b[0m\u001b[0;34m)\u001b[0m\u001b[0;34m\u001b[0m\u001b[0;34m\u001b[0m\u001b[0m\n\u001b[0;32m-> 1216\u001b[0;31m               \u001b[0mtmp_logs\u001b[0m \u001b[0;34m=\u001b[0m \u001b[0mself\u001b[0m\u001b[0;34m.\u001b[0m\u001b[0mtrain_function\u001b[0m\u001b[0;34m(\u001b[0m\u001b[0miterator\u001b[0m\u001b[0;34m)\u001b[0m\u001b[0;34m\u001b[0m\u001b[0;34m\u001b[0m\u001b[0m\n\u001b[0m\u001b[1;32m   1217\u001b[0m               \u001b[0;32mif\u001b[0m \u001b[0mdata_handler\u001b[0m\u001b[0;34m.\u001b[0m\u001b[0mshould_sync\u001b[0m\u001b[0;34m:\u001b[0m\u001b[0;34m\u001b[0m\u001b[0;34m\u001b[0m\u001b[0m\n\u001b[1;32m   1218\u001b[0m                 \u001b[0mcontext\u001b[0m\u001b[0;34m.\u001b[0m\u001b[0masync_wait\u001b[0m\u001b[0;34m(\u001b[0m\u001b[0;34m)\u001b[0m\u001b[0;34m\u001b[0m\u001b[0;34m\u001b[0m\u001b[0m\n",
      "\u001b[0;32m~/opt/anaconda3/lib/python3.8/site-packages/tensorflow/python/util/traceback_utils.py\u001b[0m in \u001b[0;36merror_handler\u001b[0;34m(*args, **kwargs)\u001b[0m\n\u001b[1;32m    148\u001b[0m     \u001b[0mfiltered_tb\u001b[0m \u001b[0;34m=\u001b[0m \u001b[0;32mNone\u001b[0m\u001b[0;34m\u001b[0m\u001b[0;34m\u001b[0m\u001b[0m\n\u001b[1;32m    149\u001b[0m     \u001b[0;32mtry\u001b[0m\u001b[0;34m:\u001b[0m\u001b[0;34m\u001b[0m\u001b[0;34m\u001b[0m\u001b[0m\n\u001b[0;32m--> 150\u001b[0;31m       \u001b[0;32mreturn\u001b[0m \u001b[0mfn\u001b[0m\u001b[0;34m(\u001b[0m\u001b[0;34m*\u001b[0m\u001b[0margs\u001b[0m\u001b[0;34m,\u001b[0m \u001b[0;34m**\u001b[0m\u001b[0mkwargs\u001b[0m\u001b[0;34m)\u001b[0m\u001b[0;34m\u001b[0m\u001b[0;34m\u001b[0m\u001b[0m\n\u001b[0m\u001b[1;32m    151\u001b[0m     \u001b[0;32mexcept\u001b[0m \u001b[0mException\u001b[0m \u001b[0;32mas\u001b[0m \u001b[0me\u001b[0m\u001b[0;34m:\u001b[0m\u001b[0;34m\u001b[0m\u001b[0;34m\u001b[0m\u001b[0m\n\u001b[1;32m    152\u001b[0m       \u001b[0mfiltered_tb\u001b[0m \u001b[0;34m=\u001b[0m \u001b[0m_process_traceback_frames\u001b[0m\u001b[0;34m(\u001b[0m\u001b[0me\u001b[0m\u001b[0;34m.\u001b[0m\u001b[0m__traceback__\u001b[0m\u001b[0;34m)\u001b[0m\u001b[0;34m\u001b[0m\u001b[0;34m\u001b[0m\u001b[0m\n",
      "\u001b[0;32m~/opt/anaconda3/lib/python3.8/site-packages/tensorflow/python/eager/def_function.py\u001b[0m in \u001b[0;36m__call__\u001b[0;34m(self, *args, **kwds)\u001b[0m\n\u001b[1;32m    908\u001b[0m \u001b[0;34m\u001b[0m\u001b[0m\n\u001b[1;32m    909\u001b[0m       \u001b[0;32mwith\u001b[0m \u001b[0mOptionalXlaContext\u001b[0m\u001b[0;34m(\u001b[0m\u001b[0mself\u001b[0m\u001b[0;34m.\u001b[0m\u001b[0m_jit_compile\u001b[0m\u001b[0;34m)\u001b[0m\u001b[0;34m:\u001b[0m\u001b[0;34m\u001b[0m\u001b[0;34m\u001b[0m\u001b[0m\n\u001b[0;32m--> 910\u001b[0;31m         \u001b[0mresult\u001b[0m \u001b[0;34m=\u001b[0m \u001b[0mself\u001b[0m\u001b[0;34m.\u001b[0m\u001b[0m_call\u001b[0m\u001b[0;34m(\u001b[0m\u001b[0;34m*\u001b[0m\u001b[0margs\u001b[0m\u001b[0;34m,\u001b[0m \u001b[0;34m**\u001b[0m\u001b[0mkwds\u001b[0m\u001b[0;34m)\u001b[0m\u001b[0;34m\u001b[0m\u001b[0;34m\u001b[0m\u001b[0m\n\u001b[0m\u001b[1;32m    911\u001b[0m \u001b[0;34m\u001b[0m\u001b[0m\n\u001b[1;32m    912\u001b[0m       \u001b[0mnew_tracing_count\u001b[0m \u001b[0;34m=\u001b[0m \u001b[0mself\u001b[0m\u001b[0;34m.\u001b[0m\u001b[0mexperimental_get_tracing_count\u001b[0m\u001b[0;34m(\u001b[0m\u001b[0;34m)\u001b[0m\u001b[0;34m\u001b[0m\u001b[0;34m\u001b[0m\u001b[0m\n",
      "\u001b[0;32m~/opt/anaconda3/lib/python3.8/site-packages/tensorflow/python/eager/def_function.py\u001b[0m in \u001b[0;36m_call\u001b[0;34m(self, *args, **kwds)\u001b[0m\n\u001b[1;32m    940\u001b[0m       \u001b[0;31m# In this case we have created variables on the first call, so we run the\u001b[0m\u001b[0;34m\u001b[0m\u001b[0;34m\u001b[0m\u001b[0;34m\u001b[0m\u001b[0m\n\u001b[1;32m    941\u001b[0m       \u001b[0;31m# defunned version which is guaranteed to never create variables.\u001b[0m\u001b[0;34m\u001b[0m\u001b[0;34m\u001b[0m\u001b[0;34m\u001b[0m\u001b[0m\n\u001b[0;32m--> 942\u001b[0;31m       \u001b[0;32mreturn\u001b[0m \u001b[0mself\u001b[0m\u001b[0;34m.\u001b[0m\u001b[0m_stateless_fn\u001b[0m\u001b[0;34m(\u001b[0m\u001b[0;34m*\u001b[0m\u001b[0margs\u001b[0m\u001b[0;34m,\u001b[0m \u001b[0;34m**\u001b[0m\u001b[0mkwds\u001b[0m\u001b[0;34m)\u001b[0m  \u001b[0;31m# pylint: disable=not-callable\u001b[0m\u001b[0;34m\u001b[0m\u001b[0;34m\u001b[0m\u001b[0m\n\u001b[0m\u001b[1;32m    943\u001b[0m     \u001b[0;32melif\u001b[0m \u001b[0mself\u001b[0m\u001b[0;34m.\u001b[0m\u001b[0m_stateful_fn\u001b[0m \u001b[0;32mis\u001b[0m \u001b[0;32mnot\u001b[0m \u001b[0;32mNone\u001b[0m\u001b[0;34m:\u001b[0m\u001b[0;34m\u001b[0m\u001b[0;34m\u001b[0m\u001b[0m\n\u001b[1;32m    944\u001b[0m       \u001b[0;31m# Release the lock early so that multiple threads can perform the call\u001b[0m\u001b[0;34m\u001b[0m\u001b[0;34m\u001b[0m\u001b[0;34m\u001b[0m\u001b[0m\n",
      "\u001b[0;32m~/opt/anaconda3/lib/python3.8/site-packages/tensorflow/python/eager/function.py\u001b[0m in \u001b[0;36m__call__\u001b[0;34m(self, *args, **kwargs)\u001b[0m\n\u001b[1;32m   3128\u001b[0m       (graph_function,\n\u001b[1;32m   3129\u001b[0m        filtered_flat_args) = self._maybe_define_function(args, kwargs)\n\u001b[0;32m-> 3130\u001b[0;31m     return graph_function._call_flat(\n\u001b[0m\u001b[1;32m   3131\u001b[0m         filtered_flat_args, captured_inputs=graph_function.captured_inputs)  # pylint: disable=protected-access\n\u001b[1;32m   3132\u001b[0m \u001b[0;34m\u001b[0m\u001b[0m\n",
      "\u001b[0;32m~/opt/anaconda3/lib/python3.8/site-packages/tensorflow/python/eager/function.py\u001b[0m in \u001b[0;36m_call_flat\u001b[0;34m(self, args, captured_inputs, cancellation_manager)\u001b[0m\n\u001b[1;32m   1957\u001b[0m         and executing_eagerly):\n\u001b[1;32m   1958\u001b[0m       \u001b[0;31m# No tape is watching; skip to running the function.\u001b[0m\u001b[0;34m\u001b[0m\u001b[0;34m\u001b[0m\u001b[0;34m\u001b[0m\u001b[0m\n\u001b[0;32m-> 1959\u001b[0;31m       return self._build_call_outputs(self._inference_function.call(\n\u001b[0m\u001b[1;32m   1960\u001b[0m           ctx, args, cancellation_manager=cancellation_manager))\n\u001b[1;32m   1961\u001b[0m     forward_backward = self._select_forward_and_backward_functions(\n",
      "\u001b[0;32m~/opt/anaconda3/lib/python3.8/site-packages/tensorflow/python/eager/function.py\u001b[0m in \u001b[0;36m_build_call_outputs\u001b[0;34m(self, result)\u001b[0m\n\u001b[1;32m   2321\u001b[0m         \u001b[0moutputs_list\u001b[0m\u001b[0;34m[\u001b[0m\u001b[0mi\u001b[0m\u001b[0;34m]\u001b[0m \u001b[0;34m=\u001b[0m \u001b[0mresult\u001b[0m\u001b[0;34m[\u001b[0m\u001b[0mj\u001b[0m\u001b[0;34m]\u001b[0m\u001b[0;34m\u001b[0m\u001b[0;34m\u001b[0m\u001b[0m\n\u001b[1;32m   2322\u001b[0m         \u001b[0mj\u001b[0m \u001b[0;34m+=\u001b[0m \u001b[0;36m1\u001b[0m\u001b[0;34m\u001b[0m\u001b[0;34m\u001b[0m\u001b[0m\n\u001b[0;32m-> 2323\u001b[0;31m     ret = nest.pack_sequence_as(self._func_graph.structured_outputs,\n\u001b[0m\u001b[1;32m   2324\u001b[0m                                 outputs_list, expand_composites=True)\n\u001b[1;32m   2325\u001b[0m     \u001b[0;32mreturn\u001b[0m \u001b[0mret\u001b[0m\u001b[0;34m\u001b[0m\u001b[0;34m\u001b[0m\u001b[0m\n",
      "\u001b[0;32m~/opt/anaconda3/lib/python3.8/site-packages/tensorflow/python/util/nest.py\u001b[0m in \u001b[0;36mpack_sequence_as\u001b[0;34m(structure, flat_sequence, expand_composites)\u001b[0m\n\u001b[1;32m    755\u001b[0m     \u001b[0mTypeError\u001b[0m\u001b[0;34m:\u001b[0m\u001b[0;31m \u001b[0m\u001b[0;31m`\u001b[0m\u001b[0mstructure\u001b[0m\u001b[0;31m`\u001b[0m \u001b[0;32mis\u001b[0m \u001b[0;32mor\u001b[0m \u001b[0mcontains\u001b[0m \u001b[0ma\u001b[0m \u001b[0mdict\u001b[0m \u001b[0;32mwith\u001b[0m \u001b[0mnon\u001b[0m\u001b[0;34m-\u001b[0m\u001b[0msortable\u001b[0m \u001b[0mkeys\u001b[0m\u001b[0;34m.\u001b[0m\u001b[0;34m\u001b[0m\u001b[0;34m\u001b[0m\u001b[0m\n\u001b[1;32m    756\u001b[0m   \"\"\"\n\u001b[0;32m--> 757\u001b[0;31m   \u001b[0;32mreturn\u001b[0m \u001b[0m_pack_sequence_as\u001b[0m\u001b[0;34m(\u001b[0m\u001b[0mstructure\u001b[0m\u001b[0;34m,\u001b[0m \u001b[0mflat_sequence\u001b[0m\u001b[0;34m,\u001b[0m \u001b[0mexpand_composites\u001b[0m\u001b[0;34m)\u001b[0m\u001b[0;34m\u001b[0m\u001b[0;34m\u001b[0m\u001b[0m\n\u001b[0m\u001b[1;32m    758\u001b[0m \u001b[0;34m\u001b[0m\u001b[0m\n\u001b[1;32m    759\u001b[0m \u001b[0;34m\u001b[0m\u001b[0m\n",
      "\u001b[0;32m~/opt/anaconda3/lib/python3.8/site-packages/tensorflow/python/util/nest.py\u001b[0m in \u001b[0;36m_pack_sequence_as\u001b[0;34m(structure, flat_sequence, expand_composites, sequence_fn)\u001b[0m\n\u001b[1;32m    641\u001b[0m           \u001b[0;34m\"flat_sequence had %d elements.  Structure: %s, flat_sequence: %s.\"\u001b[0m \u001b[0;34m%\u001b[0m\u001b[0;34m\u001b[0m\u001b[0;34m\u001b[0m\u001b[0m\n\u001b[1;32m    642\u001b[0m           (len(flat_structure), len(flat_sequence), structure, flat_sequence))\n\u001b[0;32m--> 643\u001b[0;31m   \u001b[0;32mreturn\u001b[0m \u001b[0msequence_fn\u001b[0m\u001b[0;34m(\u001b[0m\u001b[0mstructure\u001b[0m\u001b[0;34m,\u001b[0m \u001b[0mpacked\u001b[0m\u001b[0;34m)\u001b[0m\u001b[0;34m\u001b[0m\u001b[0;34m\u001b[0m\u001b[0m\n\u001b[0m\u001b[1;32m    644\u001b[0m \u001b[0;34m\u001b[0m\u001b[0m\n\u001b[1;32m    645\u001b[0m \u001b[0;34m\u001b[0m\u001b[0m\n",
      "\u001b[0;32m~/opt/anaconda3/lib/python3.8/site-packages/tensorflow/python/util/nest.py\u001b[0m in \u001b[0;36m_sequence_like\u001b[0;34m(instance, args)\u001b[0m\n\u001b[1;32m    160\u001b[0m     \u001b[0;31m# ordered and plain dicts (e.g., flattening a dict but using a\u001b[0m\u001b[0;34m\u001b[0m\u001b[0;34m\u001b[0m\u001b[0;34m\u001b[0m\u001b[0m\n\u001b[1;32m    161\u001b[0m     \u001b[0;31m# corresponding `OrderedDict` to pack it back).\u001b[0m\u001b[0;34m\u001b[0m\u001b[0;34m\u001b[0m\u001b[0;34m\u001b[0m\u001b[0m\n\u001b[0;32m--> 162\u001b[0;31m     \u001b[0mresult\u001b[0m \u001b[0;34m=\u001b[0m \u001b[0mdict\u001b[0m\u001b[0;34m(\u001b[0m\u001b[0mzip\u001b[0m\u001b[0;34m(\u001b[0m\u001b[0m_sorted\u001b[0m\u001b[0;34m(\u001b[0m\u001b[0minstance\u001b[0m\u001b[0;34m)\u001b[0m\u001b[0;34m,\u001b[0m \u001b[0margs\u001b[0m\u001b[0;34m)\u001b[0m\u001b[0;34m)\u001b[0m\u001b[0;34m\u001b[0m\u001b[0;34m\u001b[0m\u001b[0m\n\u001b[0m\u001b[1;32m    163\u001b[0m     \u001b[0minstance_type\u001b[0m \u001b[0;34m=\u001b[0m \u001b[0mtype\u001b[0m\u001b[0;34m(\u001b[0m\u001b[0minstance\u001b[0m\u001b[0;34m)\u001b[0m\u001b[0;34m\u001b[0m\u001b[0;34m\u001b[0m\u001b[0m\n\u001b[1;32m    164\u001b[0m     \u001b[0;32mif\u001b[0m \u001b[0minstance_type\u001b[0m \u001b[0;34m==\u001b[0m \u001b[0m_collections\u001b[0m\u001b[0;34m.\u001b[0m\u001b[0mdefaultdict\u001b[0m\u001b[0;34m:\u001b[0m\u001b[0;34m\u001b[0m\u001b[0;34m\u001b[0m\u001b[0m\n",
      "\u001b[0;31mKeyboardInterrupt\u001b[0m: "
     ]
    }
   ],
   "source": [
    "model.compile(optimizer='adam',\n",
    "              loss='binary_crossentropy',\n",
    "              metrics=['accuracy'])\n",
    "\n",
    "model.fit(X_train, y_train, epochs=50, batch_size=1)\n",
    "test_loss, test_acc = model.evaluate(X_test, y_test)"
   ]
  },
  {
   "cell_type": "code",
   "execution_count": null,
   "metadata": {},
   "outputs": [],
   "source": []
  },
  {
   "cell_type": "code",
   "execution_count": null,
   "metadata": {},
   "outputs": [],
   "source": []
  },
  {
   "cell_type": "code",
   "execution_count": null,
   "metadata": {},
   "outputs": [],
   "source": []
  },
  {
   "cell_type": "code",
   "execution_count": 369,
   "metadata": {},
   "outputs": [
    {
     "ename": "ValueError",
     "evalue": "Input contains NaN, infinity or a value too large for dtype('float32').",
     "output_type": "error",
     "traceback": [
      "\u001b[0;31m---------------------------------------------------------------------------\u001b[0m",
      "\u001b[0;31mValueError\u001b[0m                                Traceback (most recent call last)",
      "\u001b[0;32m<ipython-input-369-748600aad520>\u001b[0m in \u001b[0;36m<module>\u001b[0;34m\u001b[0m\n\u001b[1;32m      4\u001b[0m \u001b[0mrf\u001b[0m \u001b[0;34m=\u001b[0m \u001b[0mRandomForestRegressor\u001b[0m\u001b[0;34m(\u001b[0m\u001b[0mn_estimators\u001b[0m \u001b[0;34m=\u001b[0m \u001b[0;36m1000\u001b[0m\u001b[0;34m,\u001b[0m \u001b[0mrandom_state\u001b[0m \u001b[0;34m=\u001b[0m \u001b[0;36m42\u001b[0m\u001b[0;34m)\u001b[0m\u001b[0;34m\u001b[0m\u001b[0;34m\u001b[0m\u001b[0m\n\u001b[1;32m      5\u001b[0m \u001b[0;31m# Train the model on training data\u001b[0m\u001b[0;34m\u001b[0m\u001b[0;34m\u001b[0m\u001b[0;34m\u001b[0m\u001b[0m\n\u001b[0;32m----> 6\u001b[0;31m \u001b[0mrf\u001b[0m\u001b[0;34m.\u001b[0m\u001b[0mfit\u001b[0m\u001b[0;34m(\u001b[0m\u001b[0mX_train\u001b[0m\u001b[0;34m,\u001b[0m \u001b[0my_train\u001b[0m\u001b[0;34m)\u001b[0m\u001b[0;34m;\u001b[0m\u001b[0;34m\u001b[0m\u001b[0;34m\u001b[0m\u001b[0m\n\u001b[0m",
      "\u001b[0;32m~/opt/anaconda3/lib/python3.8/site-packages/sklearn/ensemble/_forest.py\u001b[0m in \u001b[0;36mfit\u001b[0;34m(self, X, y, sample_weight)\u001b[0m\n\u001b[1;32m    301\u001b[0m                 \u001b[0;34m\"sparse multilabel-indicator for y is not supported.\"\u001b[0m\u001b[0;34m\u001b[0m\u001b[0;34m\u001b[0m\u001b[0m\n\u001b[1;32m    302\u001b[0m             )\n\u001b[0;32m--> 303\u001b[0;31m         X, y = self._validate_data(X, y, multi_output=True,\n\u001b[0m\u001b[1;32m    304\u001b[0m                                    accept_sparse=\"csc\", dtype=DTYPE)\n\u001b[1;32m    305\u001b[0m         \u001b[0;32mif\u001b[0m \u001b[0msample_weight\u001b[0m \u001b[0;32mis\u001b[0m \u001b[0;32mnot\u001b[0m \u001b[0;32mNone\u001b[0m\u001b[0;34m:\u001b[0m\u001b[0;34m\u001b[0m\u001b[0;34m\u001b[0m\u001b[0m\n",
      "\u001b[0;32m~/opt/anaconda3/lib/python3.8/site-packages/sklearn/base.py\u001b[0m in \u001b[0;36m_validate_data\u001b[0;34m(self, X, y, reset, validate_separately, **check_params)\u001b[0m\n\u001b[1;32m    430\u001b[0m                 \u001b[0my\u001b[0m \u001b[0;34m=\u001b[0m \u001b[0mcheck_array\u001b[0m\u001b[0;34m(\u001b[0m\u001b[0my\u001b[0m\u001b[0;34m,\u001b[0m \u001b[0;34m**\u001b[0m\u001b[0mcheck_y_params\u001b[0m\u001b[0;34m)\u001b[0m\u001b[0;34m\u001b[0m\u001b[0;34m\u001b[0m\u001b[0m\n\u001b[1;32m    431\u001b[0m             \u001b[0;32melse\u001b[0m\u001b[0;34m:\u001b[0m\u001b[0;34m\u001b[0m\u001b[0;34m\u001b[0m\u001b[0m\n\u001b[0;32m--> 432\u001b[0;31m                 \u001b[0mX\u001b[0m\u001b[0;34m,\u001b[0m \u001b[0my\u001b[0m \u001b[0;34m=\u001b[0m \u001b[0mcheck_X_y\u001b[0m\u001b[0;34m(\u001b[0m\u001b[0mX\u001b[0m\u001b[0;34m,\u001b[0m \u001b[0my\u001b[0m\u001b[0;34m,\u001b[0m \u001b[0;34m**\u001b[0m\u001b[0mcheck_params\u001b[0m\u001b[0;34m)\u001b[0m\u001b[0;34m\u001b[0m\u001b[0;34m\u001b[0m\u001b[0m\n\u001b[0m\u001b[1;32m    433\u001b[0m             \u001b[0mout\u001b[0m \u001b[0;34m=\u001b[0m \u001b[0mX\u001b[0m\u001b[0;34m,\u001b[0m \u001b[0my\u001b[0m\u001b[0;34m\u001b[0m\u001b[0;34m\u001b[0m\u001b[0m\n\u001b[1;32m    434\u001b[0m \u001b[0;34m\u001b[0m\u001b[0m\n",
      "\u001b[0;32m~/opt/anaconda3/lib/python3.8/site-packages/sklearn/utils/validation.py\u001b[0m in \u001b[0;36minner_f\u001b[0;34m(*args, **kwargs)\u001b[0m\n\u001b[1;32m     70\u001b[0m                           FutureWarning)\n\u001b[1;32m     71\u001b[0m         \u001b[0mkwargs\u001b[0m\u001b[0;34m.\u001b[0m\u001b[0mupdate\u001b[0m\u001b[0;34m(\u001b[0m\u001b[0;34m{\u001b[0m\u001b[0mk\u001b[0m\u001b[0;34m:\u001b[0m \u001b[0marg\u001b[0m \u001b[0;32mfor\u001b[0m \u001b[0mk\u001b[0m\u001b[0;34m,\u001b[0m \u001b[0marg\u001b[0m \u001b[0;32min\u001b[0m \u001b[0mzip\u001b[0m\u001b[0;34m(\u001b[0m\u001b[0msig\u001b[0m\u001b[0;34m.\u001b[0m\u001b[0mparameters\u001b[0m\u001b[0;34m,\u001b[0m \u001b[0margs\u001b[0m\u001b[0;34m)\u001b[0m\u001b[0;34m}\u001b[0m\u001b[0;34m)\u001b[0m\u001b[0;34m\u001b[0m\u001b[0;34m\u001b[0m\u001b[0m\n\u001b[0;32m---> 72\u001b[0;31m         \u001b[0;32mreturn\u001b[0m \u001b[0mf\u001b[0m\u001b[0;34m(\u001b[0m\u001b[0;34m**\u001b[0m\u001b[0mkwargs\u001b[0m\u001b[0;34m)\u001b[0m\u001b[0;34m\u001b[0m\u001b[0;34m\u001b[0m\u001b[0m\n\u001b[0m\u001b[1;32m     73\u001b[0m     \u001b[0;32mreturn\u001b[0m \u001b[0minner_f\u001b[0m\u001b[0;34m\u001b[0m\u001b[0;34m\u001b[0m\u001b[0m\n\u001b[1;32m     74\u001b[0m \u001b[0;34m\u001b[0m\u001b[0m\n",
      "\u001b[0;32m~/opt/anaconda3/lib/python3.8/site-packages/sklearn/utils/validation.py\u001b[0m in \u001b[0;36mcheck_X_y\u001b[0;34m(X, y, accept_sparse, accept_large_sparse, dtype, order, copy, force_all_finite, ensure_2d, allow_nd, multi_output, ensure_min_samples, ensure_min_features, y_numeric, estimator)\u001b[0m\n\u001b[1;32m    793\u001b[0m         \u001b[0;32mraise\u001b[0m \u001b[0mValueError\u001b[0m\u001b[0;34m(\u001b[0m\u001b[0;34m\"y cannot be None\"\u001b[0m\u001b[0;34m)\u001b[0m\u001b[0;34m\u001b[0m\u001b[0;34m\u001b[0m\u001b[0m\n\u001b[1;32m    794\u001b[0m \u001b[0;34m\u001b[0m\u001b[0m\n\u001b[0;32m--> 795\u001b[0;31m     X = check_array(X, accept_sparse=accept_sparse,\n\u001b[0m\u001b[1;32m    796\u001b[0m                     \u001b[0maccept_large_sparse\u001b[0m\u001b[0;34m=\u001b[0m\u001b[0maccept_large_sparse\u001b[0m\u001b[0;34m,\u001b[0m\u001b[0;34m\u001b[0m\u001b[0;34m\u001b[0m\u001b[0m\n\u001b[1;32m    797\u001b[0m                     \u001b[0mdtype\u001b[0m\u001b[0;34m=\u001b[0m\u001b[0mdtype\u001b[0m\u001b[0;34m,\u001b[0m \u001b[0morder\u001b[0m\u001b[0;34m=\u001b[0m\u001b[0morder\u001b[0m\u001b[0;34m,\u001b[0m \u001b[0mcopy\u001b[0m\u001b[0;34m=\u001b[0m\u001b[0mcopy\u001b[0m\u001b[0;34m,\u001b[0m\u001b[0;34m\u001b[0m\u001b[0;34m\u001b[0m\u001b[0m\n",
      "\u001b[0;32m~/opt/anaconda3/lib/python3.8/site-packages/sklearn/utils/validation.py\u001b[0m in \u001b[0;36minner_f\u001b[0;34m(*args, **kwargs)\u001b[0m\n\u001b[1;32m     70\u001b[0m                           FutureWarning)\n\u001b[1;32m     71\u001b[0m         \u001b[0mkwargs\u001b[0m\u001b[0;34m.\u001b[0m\u001b[0mupdate\u001b[0m\u001b[0;34m(\u001b[0m\u001b[0;34m{\u001b[0m\u001b[0mk\u001b[0m\u001b[0;34m:\u001b[0m \u001b[0marg\u001b[0m \u001b[0;32mfor\u001b[0m \u001b[0mk\u001b[0m\u001b[0;34m,\u001b[0m \u001b[0marg\u001b[0m \u001b[0;32min\u001b[0m \u001b[0mzip\u001b[0m\u001b[0;34m(\u001b[0m\u001b[0msig\u001b[0m\u001b[0;34m.\u001b[0m\u001b[0mparameters\u001b[0m\u001b[0;34m,\u001b[0m \u001b[0margs\u001b[0m\u001b[0;34m)\u001b[0m\u001b[0;34m}\u001b[0m\u001b[0;34m)\u001b[0m\u001b[0;34m\u001b[0m\u001b[0;34m\u001b[0m\u001b[0m\n\u001b[0;32m---> 72\u001b[0;31m         \u001b[0;32mreturn\u001b[0m \u001b[0mf\u001b[0m\u001b[0;34m(\u001b[0m\u001b[0;34m**\u001b[0m\u001b[0mkwargs\u001b[0m\u001b[0;34m)\u001b[0m\u001b[0;34m\u001b[0m\u001b[0;34m\u001b[0m\u001b[0m\n\u001b[0m\u001b[1;32m     73\u001b[0m     \u001b[0;32mreturn\u001b[0m \u001b[0minner_f\u001b[0m\u001b[0;34m\u001b[0m\u001b[0;34m\u001b[0m\u001b[0m\n\u001b[1;32m     74\u001b[0m \u001b[0;34m\u001b[0m\u001b[0m\n",
      "\u001b[0;32m~/opt/anaconda3/lib/python3.8/site-packages/sklearn/utils/validation.py\u001b[0m in \u001b[0;36mcheck_array\u001b[0;34m(array, accept_sparse, accept_large_sparse, dtype, order, copy, force_all_finite, ensure_2d, allow_nd, ensure_min_samples, ensure_min_features, estimator)\u001b[0m\n\u001b[1;32m    642\u001b[0m \u001b[0;34m\u001b[0m\u001b[0m\n\u001b[1;32m    643\u001b[0m         \u001b[0;32mif\u001b[0m \u001b[0mforce_all_finite\u001b[0m\u001b[0;34m:\u001b[0m\u001b[0;34m\u001b[0m\u001b[0;34m\u001b[0m\u001b[0m\n\u001b[0;32m--> 644\u001b[0;31m             _assert_all_finite(array,\n\u001b[0m\u001b[1;32m    645\u001b[0m                                allow_nan=force_all_finite == 'allow-nan')\n\u001b[1;32m    646\u001b[0m \u001b[0;34m\u001b[0m\u001b[0m\n",
      "\u001b[0;32m~/opt/anaconda3/lib/python3.8/site-packages/sklearn/utils/validation.py\u001b[0m in \u001b[0;36m_assert_all_finite\u001b[0;34m(X, allow_nan, msg_dtype)\u001b[0m\n\u001b[1;32m     94\u001b[0m                 not allow_nan and not np.isfinite(X).all()):\n\u001b[1;32m     95\u001b[0m             \u001b[0mtype_err\u001b[0m \u001b[0;34m=\u001b[0m \u001b[0;34m'infinity'\u001b[0m \u001b[0;32mif\u001b[0m \u001b[0mallow_nan\u001b[0m \u001b[0;32melse\u001b[0m \u001b[0;34m'NaN, infinity'\u001b[0m\u001b[0;34m\u001b[0m\u001b[0;34m\u001b[0m\u001b[0m\n\u001b[0;32m---> 96\u001b[0;31m             raise ValueError(\n\u001b[0m\u001b[1;32m     97\u001b[0m                     \u001b[0mmsg_err\u001b[0m\u001b[0;34m.\u001b[0m\u001b[0mformat\u001b[0m\u001b[0;34m\u001b[0m\u001b[0;34m\u001b[0m\u001b[0m\n\u001b[1;32m     98\u001b[0m                     (type_err,\n",
      "\u001b[0;31mValueError\u001b[0m: Input contains NaN, infinity or a value too large for dtype('float32')."
     ]
    }
   ],
   "source": [
    "# Import the model we are using\n",
    "from sklearn.ensemble import RandomForestRegressor\n",
    "# Instantiate model with 1000 decision trees\n",
    "rf = RandomForestRegressor(n_estimators = 1000, random_state = 42)\n",
    "# Train the model on training data\n",
    "rf.fit(X_train, y_train);"
   ]
  },
  {
   "cell_type": "code",
   "execution_count": null,
   "metadata": {},
   "outputs": [],
   "source": []
  },
  {
   "cell_type": "code",
   "execution_count": null,
   "metadata": {},
   "outputs": [],
   "source": []
  },
  {
   "cell_type": "code",
   "execution_count": null,
   "metadata": {},
   "outputs": [],
   "source": []
  },
  {
   "cell_type": "code",
   "execution_count": null,
   "metadata": {},
   "outputs": [],
   "source": []
  },
  {
   "cell_type": "code",
   "execution_count": null,
   "metadata": {},
   "outputs": [],
   "source": []
  }
 ],
 "metadata": {
  "kernelspec": {
   "display_name": "Python 3",
   "language": "python",
   "name": "python3"
  },
  "language_info": {
   "codemirror_mode": {
    "name": "ipython",
    "version": 3
   },
   "file_extension": ".py",
   "mimetype": "text/x-python",
   "name": "python",
   "nbconvert_exporter": "python",
   "pygments_lexer": "ipython3",
   "version": "3.8.5"
  }
 },
 "nbformat": 4,
 "nbformat_minor": 4
}
