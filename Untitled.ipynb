{
 "cells": [
  {
   "cell_type": "code",
   "execution_count": 46,
   "metadata": {
    "scrolled": true
   },
   "outputs": [
    {
     "name": "stdout",
     "output_type": "stream",
     "text": [
      "Collecting unidecode\n",
      "  Downloading Unidecode-1.3.4-py3-none-any.whl (235 kB)\n",
      "\u001b[K     |████████████████████████████████| 235 kB 2.7 MB/s eta 0:00:01\n",
      "\u001b[?25hInstalling collected packages: unidecode\n",
      "Successfully installed unidecode-1.3.4\n"
     ]
    }
   ],
   "source": [
    "!pip install unidecode"
   ]
  },
  {
   "cell_type": "code",
   "execution_count": 1,
   "metadata": {},
   "outputs": [],
   "source": [
    "import os\n",
    "import duckdb\n",
    "import charade\n",
    "import unidecode\n",
    "import pandas as pd\n"
   ]
  },
  {
   "cell_type": "markdown",
   "metadata": {},
   "source": [
    "## Importing train tables from DuckDB"
   ]
  },
  {
   "cell_type": "code",
   "execution_count": 2,
   "metadata": {},
   "outputs": [],
   "source": [
    "# connect\n",
    "db_path = os.path.join('db', 'db.duckdb')\n",
    "conn = duckdb.connect(db_path, read_only=True)"
   ]
  },
  {
   "cell_type": "code",
   "execution_count": 3,
   "metadata": {},
   "outputs": [
    {
     "name": "stdout",
     "output_type": "stream",
     "text": [
      "(963, 9)\n",
      "(993, 9)\n",
      "(951, 9)\n",
      "(1049, 9)\n",
      "(974, 9)\n",
      "(1001, 9)\n",
      "(1035, 9)\n",
      "(993, 9)\n",
      "Index(['Unnamed: 0', 'tconst', 'primaryTitle', 'originalTitle', 'startYear',\n",
      "       'endYear', 'runtimeMinutes', 'numVotes', 'label'],\n",
      "      dtype='object')\n",
      "Index(['Unnamed: 0', 'tconst', 'primaryTitle', 'originalTitle', 'startYear',\n",
      "       'endYear', 'runtimeMinutes', 'numVotes', 'label'],\n",
      "      dtype='object')\n",
      "Index(['Unnamed: 0', 'tconst', 'primaryTitle', 'originalTitle', 'startYear',\n",
      "       'endYear', 'runtimeMinutes', 'numVotes', 'label'],\n",
      "      dtype='object')\n",
      "Index(['Unnamed: 0', 'tconst', 'primaryTitle', 'originalTitle', 'startYear',\n",
      "       'endYear', 'runtimeMinutes', 'numVotes', 'label'],\n",
      "      dtype='object')\n",
      "Index(['Unnamed: 0', 'tconst', 'primaryTitle', 'originalTitle', 'startYear',\n",
      "       'endYear', 'runtimeMinutes', 'numVotes', 'label'],\n",
      "      dtype='object')\n",
      "Index(['Unnamed: 0', 'tconst', 'primaryTitle', 'originalTitle', 'startYear',\n",
      "       'endYear', 'runtimeMinutes', 'numVotes', 'label'],\n",
      "      dtype='object')\n",
      "Index(['Unnamed: 0', 'tconst', 'primaryTitle', 'originalTitle', 'startYear',\n",
      "       'endYear', 'runtimeMinutes', 'numVotes', 'label'],\n",
      "      dtype='object')\n",
      "Index(['Unnamed: 0', 'tconst', 'primaryTitle', 'originalTitle', 'startYear',\n",
      "       'endYear', 'runtimeMinutes', 'numVotes', 'label'],\n",
      "      dtype='object')\n"
     ]
    }
   ],
   "source": [
    "train1_df = conn.execute('SELECT * FROM train1').fetchdf()\n",
    "train2_df = conn.execute('SELECT * FROM train2').fetchdf()\n",
    "train3_df = conn.execute('SELECT * FROM train3').fetchdf()\n",
    "train4_df = conn.execute('SELECT * FROM train4').fetchdf()\n",
    "train5_df = conn.execute('SELECT * FROM train5').fetchdf()\n",
    "train6_df = conn.execute('SELECT * FROM train6').fetchdf()\n",
    "train7_df = conn.execute('SELECT * FROM train7').fetchdf()\n",
    "train8_df = conn.execute('SELECT * FROM train8').fetchdf()\n",
    "\n",
    "print(train1_df.shape)\n",
    "print(train2_df.shape)\n",
    "print(train3_df.shape)\n",
    "print(train4_df.shape)\n",
    "print(train5_df.shape)\n",
    "print(train6_df.shape)\n",
    "print(train7_df.shape)\n",
    "print(train8_df.shape)\n",
    "\n",
    "print(train1_df.columns)\n",
    "print(train2_df.columns)\n",
    "print(train3_df.columns)\n",
    "print(train4_df.columns)\n",
    "print(train5_df.columns)\n",
    "print(train6_df.columns)\n",
    "print(train7_df.columns)\n",
    "print(train8_df.columns)\n",
    "\n",
    "frames = [train1_df,train2_df,train3_df,train4_df,train5_df,train6_df,train7_df,train8_df]\n",
    "\n",
    "full_train_df = pd.concat(frames)\n"
   ]
  },
  {
   "cell_type": "code",
   "execution_count": 4,
   "metadata": {
    "scrolled": false
   },
   "outputs": [
    {
     "name": "stdout",
     "output_type": "stream",
     "text": [
      "     Unnamed: 0     tconst                                   primaryTitle  \\\n",
      "0             4  tt0010600                                       The Doll   \n",
      "1             7  tt0011841                                  Way Down East   \n",
      "2             9  tt0012494                                        Déstiny   \n",
      "3            25  tt0015163                                  The Navigator   \n",
      "4            38  tt0016220                       The Phantom of the Opera   \n",
      "..          ...        ...                                            ...   \n",
      "988        9966  tt9625664                                  Trauma Center   \n",
      "989        9981  tt9741310                                          Slaxx   \n",
      "990        9982  tt9742392                                        Kindred   \n",
      "991        9996  tt9850386  The Bee Gees: How Can You Mend a Broken Heart   \n",
      "992        9999  tt9911196                            The Marriage Escape   \n",
      "\n",
      "                      originalTitle startYear endYear runtimeMinutes  \\\n",
      "0                         Die Puppe      1919      \\N             66   \n",
      "1                     Way Down East      1920      \\N            145   \n",
      "2                      Der müde Tod      1921      \\N             97   \n",
      "3                     The Navigator      1924      \\N             59   \n",
      "4          The Phantom of the Opera      1925      \\N             93   \n",
      "..                              ...       ...     ...            ...   \n",
      "988                             NaN      2019      \\N             87   \n",
      "989                           Slaxx      2020      \\N             77   \n",
      "990                         Kindred      2020      \\N            101   \n",
      "991                             NaN      2020      \\N            111   \n",
      "992  De beentjes van Sint-Hildegard      2020      \\N            103   \n",
      "\n",
      "     numVotes  label  \n",
      "0      1898.0   True  \n",
      "1      5376.0   True  \n",
      "2      5842.0   True  \n",
      "3      9652.0   True  \n",
      "4     17887.0   True  \n",
      "..        ...    ...  \n",
      "988   12951.0  False  \n",
      "989    2464.0  False  \n",
      "990    1719.0  False  \n",
      "991    4144.0   True  \n",
      "992    3242.0   True  \n",
      "\n",
      "[7959 rows x 9 columns]\n"
     ]
    }
   ],
   "source": [
    "print(full_train_df)\n"
   ]
  },
  {
   "cell_type": "markdown",
   "metadata": {
    "heading_collapsed": true
   },
   "source": [
    "## Getting data from IMDB"
   ]
  },
  {
   "cell_type": "code",
   "execution_count": 5,
   "metadata": {
    "hidden": true
   },
   "outputs": [
    {
     "name": "stderr",
     "output_type": "stream",
     "text": [
      "/Users/casbertrams/opt/anaconda3/lib/python3.8/site-packages/IPython/core/interactiveshell.py:3146: DtypeWarning: Columns (4) have mixed types.Specify dtype option on import or set low_memory=False.\n",
      "  has_raised = await self.run_ast_nodes(code_ast.body, cell_name,\n"
     ]
    }
   ],
   "source": [
    "import requests\n",
    "import gzip\n",
    "from io import StringIO\n",
    "\n",
    "title_basics_gz_url = 'https://datasets.imdbws.com/title.basics.tsv.gz'\n",
    "try:\n",
    "    response = requests.get(title_basics_gz_url)\n",
    "    unzipped = gzip.decompress(response.content).decode()\n",
    "    title_basics_df = pd.read_csv(StringIO(unzipped), sep='\\t', header=None)\n",
    "except Exception as e:\n",
    "    print(f\"Error: {e}\")\n"
   ]
  },
  {
   "cell_type": "code",
   "execution_count": 6,
   "metadata": {
    "hidden": true
   },
   "outputs": [
    {
     "data": {
      "text/html": [
       "<div>\n",
       "<style scoped>\n",
       "    .dataframe tbody tr th:only-of-type {\n",
       "        vertical-align: middle;\n",
       "    }\n",
       "\n",
       "    .dataframe tbody tr th {\n",
       "        vertical-align: top;\n",
       "    }\n",
       "\n",
       "    .dataframe thead th {\n",
       "        text-align: right;\n",
       "    }\n",
       "</style>\n",
       "<table border=\"1\" class=\"dataframe\">\n",
       "  <thead>\n",
       "    <tr style=\"text-align: right;\">\n",
       "      <th></th>\n",
       "      <th>tconst</th>\n",
       "      <th>titleType</th>\n",
       "      <th>primaryTitle</th>\n",
       "      <th>originalTitle</th>\n",
       "      <th>isAdult</th>\n",
       "      <th>startYear</th>\n",
       "      <th>endYear</th>\n",
       "      <th>runtimeMinutes</th>\n",
       "      <th>genres</th>\n",
       "    </tr>\n",
       "  </thead>\n",
       "  <tbody>\n",
       "    <tr>\n",
       "      <th>1</th>\n",
       "      <td>tt0000001</td>\n",
       "      <td>short</td>\n",
       "      <td>Carmencita</td>\n",
       "      <td>Carmencita</td>\n",
       "      <td>0</td>\n",
       "      <td>1894</td>\n",
       "      <td>\\N</td>\n",
       "      <td>1</td>\n",
       "      <td>Documentary,Short</td>\n",
       "    </tr>\n",
       "    <tr>\n",
       "      <th>2</th>\n",
       "      <td>tt0000002</td>\n",
       "      <td>short</td>\n",
       "      <td>Le clown et ses chiens</td>\n",
       "      <td>Le clown et ses chiens</td>\n",
       "      <td>0</td>\n",
       "      <td>1892</td>\n",
       "      <td>\\N</td>\n",
       "      <td>5</td>\n",
       "      <td>Animation,Short</td>\n",
       "    </tr>\n",
       "    <tr>\n",
       "      <th>3</th>\n",
       "      <td>tt0000003</td>\n",
       "      <td>short</td>\n",
       "      <td>Pauvre Pierrot</td>\n",
       "      <td>Pauvre Pierrot</td>\n",
       "      <td>0</td>\n",
       "      <td>1892</td>\n",
       "      <td>\\N</td>\n",
       "      <td>4</td>\n",
       "      <td>Animation,Comedy,Romance</td>\n",
       "    </tr>\n",
       "    <tr>\n",
       "      <th>4</th>\n",
       "      <td>tt0000004</td>\n",
       "      <td>short</td>\n",
       "      <td>Un bon bock</td>\n",
       "      <td>Un bon bock</td>\n",
       "      <td>0</td>\n",
       "      <td>1892</td>\n",
       "      <td>\\N</td>\n",
       "      <td>12</td>\n",
       "      <td>Animation,Short</td>\n",
       "    </tr>\n",
       "    <tr>\n",
       "      <th>5</th>\n",
       "      <td>tt0000005</td>\n",
       "      <td>short</td>\n",
       "      <td>Blacksmith Scene</td>\n",
       "      <td>Blacksmith Scene</td>\n",
       "      <td>0</td>\n",
       "      <td>1893</td>\n",
       "      <td>\\N</td>\n",
       "      <td>1</td>\n",
       "      <td>Comedy,Short</td>\n",
       "    </tr>\n",
       "  </tbody>\n",
       "</table>\n",
       "</div>"
      ],
      "text/plain": [
       "0     tconst titleType            primaryTitle           originalTitle  \\\n",
       "1  tt0000001     short              Carmencita              Carmencita   \n",
       "2  tt0000002     short  Le clown et ses chiens  Le clown et ses chiens   \n",
       "3  tt0000003     short          Pauvre Pierrot          Pauvre Pierrot   \n",
       "4  tt0000004     short             Un bon bock             Un bon bock   \n",
       "5  tt0000005     short        Blacksmith Scene        Blacksmith Scene   \n",
       "\n",
       "0 isAdult startYear endYear runtimeMinutes                    genres  \n",
       "1       0      1894      \\N              1         Documentary,Short  \n",
       "2       0      1892      \\N              5           Animation,Short  \n",
       "3       0      1892      \\N              4  Animation,Comedy,Romance  \n",
       "4       0      1892      \\N             12           Animation,Short  \n",
       "5       0      1893      \\N              1              Comedy,Short  "
      ]
     },
     "execution_count": 6,
     "metadata": {},
     "output_type": "execute_result"
    }
   ],
   "source": [
    "new_header = title_basics_df.iloc[0] \n",
    "title_basics_df = title_basics_df[1:] #take the data less the header row\n",
    "title_basics_df.columns = new_header #set the header row as the df header\n",
    "title_basics_df.head()"
   ]
  },
  {
   "cell_type": "markdown",
   "metadata": {
    "hidden": true
   },
   "source": [
    "### Filter imdb dataset for only the relevant tconsts"
   ]
  },
  {
   "cell_type": "code",
   "execution_count": 11,
   "metadata": {
    "hidden": true
   },
   "outputs": [
    {
     "name": "stdout",
     "output_type": "stream",
     "text": [
      "CPU times: user 379 ms, sys: 2.8 ms, total: 382 ms\n",
      "Wall time: 379 ms\n"
     ]
    }
   ],
   "source": [
    "%%time\n",
    "relevant_tconsts = full_train_df['tconst']\n",
    "mask = title_basics_df['tconst'].isin(relevant_tconsts)\n",
    "relevant_title_basics_df = title_basics_df[mask]"
   ]
  },
  {
   "cell_type": "code",
   "execution_count": 12,
   "metadata": {
    "hidden": true
   },
   "outputs": [
    {
     "name": "stdout",
     "output_type": "stream",
     "text": [
      "0           tconst titleType                                   primaryTitle  \\\n",
      "9238     tt0009369     movie                                         Mickey   \n",
      "10459    tt0010600     movie                                       The Doll   \n",
      "11279    tt0011439     movie                              The Mark of Zorro   \n",
      "11447    tt0011607     movie                             The Parson's Widow   \n",
      "11676    tt0011841     movie                                  Way Down East   \n",
      "...            ...       ...                                            ...   \n",
      "8744873  tt9850344     movie                                    Night Shift   \n",
      "8744892  tt9850386     movie  The Bee Gees: How Can You Mend a Broken Heart   \n",
      "8768128  tt9900782     movie                                         Kaithi   \n",
      "8770015  tt9904802     movie                                    Enemy Lines   \n",
      "8772977  tt9911196     movie                            The Marriage Escape   \n",
      "\n",
      "0                                        originalTitle isAdult startYear  \\\n",
      "9238                                            Mickey       0      1918   \n",
      "10459                                        Die Puppe       0      1919   \n",
      "11279                                The Mark of Zorro       0      1920   \n",
      "11447                                       Prästänkan       0      1920   \n",
      "11676                                    Way Down East       0      1920   \n",
      "...                                                ...     ...       ...   \n",
      "8744873                                         Police       0      2020   \n",
      "8744892  The Bee Gees: How Can You Mend a Broken Heart       0      2020   \n",
      "8768128                                         Kaithi       0      2019   \n",
      "8770015                                    Enemy Lines       0      2020   \n",
      "8772977                 De beentjes van Sint-Hildegard       0      2020   \n",
      "\n",
      "0       endYear runtimeMinutes                       genres  \n",
      "9238         \\N             93                 Comedy,Drama  \n",
      "10459        \\N             66               Comedy,Fantasy  \n",
      "11279        \\N             79    Adventure,Romance,Western  \n",
      "11447        \\N             94          Comedy,Drama,Horror  \n",
      "11676        \\N            145                Drama,Romance  \n",
      "...         ...            ...                          ...  \n",
      "8744873      \\N             98                  Crime,Drama  \n",
      "8744892      \\N            111  Biography,Documentary,Music  \n",
      "8768128      \\N            145        Action,Crime,Thriller  \n",
      "8770015      \\N             92                          War  \n",
      "8772977      \\N            103                 Comedy,Drama  \n",
      "\n",
      "[7959 rows x 9 columns]\n"
     ]
    }
   ],
   "source": [
    "print(relevant_title_basics_df)"
   ]
  },
  {
   "cell_type": "markdown",
   "metadata": {},
   "source": [
    "## Creating single column dataframes"
   ]
  },
  {
   "cell_type": "code",
   "execution_count": 75,
   "metadata": {},
   "outputs": [],
   "source": [
    "primary_title = []\n",
    "for i in range(len(full_train_df)):\n",
    "    primary_title.append(unidecode.unidecode(full_train_df.iloc[i]['primaryTitle']))\n",
    "primary_title_df = pd.DataFrame(primary_title, index=full_train_df['tconst'], columns=['primary_title'])\n"
   ]
  },
  {
   "cell_type": "code",
   "execution_count": 77,
   "metadata": {},
   "outputs": [],
   "source": [
    "original_title = []\n",
    "for i in range(len(full_train_df)):\n",
    "    curr = full_train_df.iloc[i]['originalTitle']\n",
    "    curr_primary_title = full_train_df.iloc[i]['primaryTitle']\n",
    "    if isinstance(curr, str):\n",
    "        original_title.append(unidecode.unidecode(curr))\n",
    "    else:\n",
    "        original_title.append('')\n",
    "original_title_df = pd.DataFrame(original_title, index=full_train_df['tconst'], columns=['original_title'])"
   ]
  },
  {
   "cell_type": "code",
   "execution_count": 78,
   "metadata": {},
   "outputs": [],
   "source": [
    "start_year = []\n",
    "for i in range(len(full_train_df)):\n",
    "    curr = full_train_df.iloc[i]['startYear']\n",
    "    if curr == \"\\\\N\":\n",
    "        curr_tconst = full_train_df.iloc[i]['tconst']\n",
    "        imdb_year = int(relevant_title_basics_df[relevant_title_basics_df['tconst'] == curr_tconst]['startYear'].values[0])\n",
    "        start_year.append(imdb_year)\n",
    "    else:\n",
    "        start_year.append(int(curr))\n",
    "start_year_df = pd.DataFrame(start_year, index=full_train_df['tconst'], columns=['start_year'])\n",
    "\n"
   ]
  },
  {
   "cell_type": "code",
   "execution_count": 79,
   "metadata": {},
   "outputs": [],
   "source": [
    "end_year = []\n",
    "for i in range(len(full_train_df)):\n",
    "    curr = full_train_df.iloc[i]['endYear']\n",
    "    if curr == \"\\\\N\":\n",
    "        end_year.append(int())\n",
    "    else:\n",
    "        end_year.append(int(curr))\n",
    "end_year_df = pd.DataFrame(end_year, index=full_train_df['tconst'], columns=['end_year'])\n"
   ]
  },
  {
   "cell_type": "code",
   "execution_count": 80,
   "metadata": {},
   "outputs": [],
   "source": [
    "runtime_minutes = []\n",
    "for i in range(len(full_train_df)):\n",
    "    curr = full_train_df.iloc[i]['runtimeMinutes']\n",
    "    if curr == \"\\\\N\":\n",
    "        curr_tconst = full_train_df.iloc[i]['tconst']\n",
    "        imdb_runtime = relevant_title_basics_df[relevant_title_basics_df['tconst'] == curr_tconst]['runtimeMinutes'].values[0]\n",
    "        if imdb_runtime == \"\\\\N\":\n",
    "            runtime_minutes.append(int())\n",
    "        else:\n",
    "            runtime_minutes.append(int(imdb_runtime))\n",
    "    else:\n",
    "        runtime_minutes.append(int(curr))\n",
    "runtime_df = pd.DataFrame(runtime_minutes, index=full_train_df['tconst'], columns=['runtime_minutes'])\n",
    "        "
   ]
  },
  {
   "cell_type": "code",
   "execution_count": 162,
   "metadata": {},
   "outputs": [
    {
     "name": "stdout",
     "output_type": "stream",
     "text": [
      "           num_votes\n",
      "tconst              \n",
      "tt0010600     1898.0\n",
      "tt0011841     5376.0\n",
      "tt0012494     5842.0\n",
      "tt0015163     9652.0\n",
      "tt0016220    17887.0\n",
      "...              ...\n",
      "tt9625664    12951.0\n",
      "tt9741310     2464.0\n",
      "tt9742392     1719.0\n",
      "tt9850386     4144.0\n",
      "tt9911196     3242.0\n",
      "\n",
      "[7959 rows x 1 columns]\n"
     ]
    }
   ],
   "source": [
    "num_votes = []\n",
    "for i in range(len(full_train_df)):\n",
    "    curr = full_train_df.iloc[i]['numVotes']\n",
    "    if curr == 'nan' or curr == \"NaN\":\n",
    "        curr_tconst = full_train_df.iloc[i]['tconst']\n",
    "#         imdb_num_votes = relevant_title_basics_df[relevant_title_basics_df['tconst'] == curr_tconst]['runtimeMinutes'].values[0]\n",
    "        num_votes.append(0)\n",
    "    else:\n",
    "        num_votes.append(float(curr))\n",
    "\n",
    "num_votes_df = pd.DataFrame(num_votes, index=full_train_df['tconst'], columns=['num_votes'])\n",
    "print(num_votes_df)\n",
    "\n"
   ]
  },
  {
   "cell_type": "code",
   "execution_count": null,
   "metadata": {},
   "outputs": [],
   "source": []
  },
  {
   "cell_type": "markdown",
   "metadata": {},
   "source": [
    "## Machine Learning"
   ]
  },
  {
   "cell_type": "code",
   "execution_count": 97,
   "metadata": {},
   "outputs": [
    {
     "name": "stdout",
     "output_type": "stream",
     "text": [
      "0       True\n",
      "1       True\n",
      "2       True\n",
      "3       True\n",
      "4       True\n",
      "       ...  \n",
      "988    False\n",
      "989    False\n",
      "990    False\n",
      "991     True\n",
      "992     True\n",
      "Name: label, Length: 7959, dtype: bool\n"
     ]
    }
   ],
   "source": [
    "print(full_train_df['label'])"
   ]
  },
  {
   "cell_type": "code",
   "execution_count": 246,
   "metadata": {},
   "outputs": [],
   "source": [
    "corr_labels = full_train_df['label'].values.astype('int')\n",
    "labels = pd.DataFrame(corr_labels, index=full_train_df['tconst'], columns=['labels'])"
   ]
  },
  {
   "cell_type": "code",
   "execution_count": 247,
   "metadata": {},
   "outputs": [
    {
     "name": "stdout",
     "output_type": "stream",
     "text": [
      "tconst\n",
      "tt0010600    1\n",
      "tt0011841    1\n",
      "tt0012494    1\n",
      "tt0015163    1\n",
      "tt0016220    1\n",
      "            ..\n",
      "tt9625664    0\n",
      "tt9741310    0\n",
      "tt9742392    0\n",
      "tt9850386    1\n",
      "tt9911196    1\n",
      "Name: labels, Length: 7959, dtype: int64\n"
     ]
    }
   ],
   "source": [
    "print(labels['labels'])"
   ]
  },
  {
   "cell_type": "code",
   "execution_count": 275,
   "metadata": {},
   "outputs": [],
   "source": [
    "# merged_df = pd.concat([primary_title_df, original_title_df, start_year_df, end_year_df, runtime_df], axis=1)\n",
    "merged_df = pd.concat([start_year_df, end_year_df, runtime_df,num_votes_df], axis=1)\n",
    "# merged_df = pd.concat([num_votes_df, runtime_df], axis=1)\n"
   ]
  },
  {
   "cell_type": "code",
   "execution_count": 276,
   "metadata": {
    "scrolled": true
   },
   "outputs": [
    {
     "name": "stdout",
     "output_type": "stream",
     "text": [
      "           start_year  end_year  runtime_minutes  num_votes\n",
      "tconst                                                     \n",
      "tt0010600        1919         0               66     1898.0\n",
      "tt0011841        1920         0              145     5376.0\n",
      "tt0012494        1921         0               97     5842.0\n",
      "tt0015163        1924         0               59     9652.0\n",
      "tt0016220        1925         0               93    17887.0\n",
      "...               ...       ...              ...        ...\n",
      "tt9625664        2019         0               87    12951.0\n",
      "tt9741310        2020         0               77     2464.0\n",
      "tt9742392        2020         0              101     1719.0\n",
      "tt9850386        2020         0              111     4144.0\n",
      "tt9911196        2020         0              103     3242.0\n",
      "\n",
      "[7959 rows x 4 columns]\n"
     ]
    }
   ],
   "source": [
    "print(merged_df)"
   ]
  },
  {
   "cell_type": "code",
   "execution_count": 277,
   "metadata": {},
   "outputs": [
    {
     "name": "stdout",
     "output_type": "stream",
     "text": [
      "X_train: (6367, 4)\n",
      "y_train: (6367,)\n",
      "X_test: (1592, 4)\n",
      "y_test: (1592,)\n"
     ]
    }
   ],
   "source": [
    "import numpy as np\n",
    "# print(len(merged_df) * 0.8)\n",
    "X_train = merged_df[:6367]\n",
    "X_test = merged_df[6367:]\n",
    "\n",
    "y_train = labels['labels'][:6367]\n",
    "y_test = labels['labels'][6367:]\n",
    "\n",
    "# Check the dimension of the sets\n",
    "print('X_train:',np.shape(X_train))\n",
    "print('y_train:',np.shape(y_train))\n",
    "print('X_test:',np.shape(X_test))\n",
    "print('y_test:',np.shape(y_test))\n",
    "\n"
   ]
  },
  {
   "cell_type": "code",
   "execution_count": 278,
   "metadata": {},
   "outputs": [],
   "source": [
    "import keras\n",
    "from keras.models import Sequential   # importing Sequential model\n",
    "from keras.layers import Dense        # importing Dense layers\n",
    "import keras.optimizers\n",
    "import tensorflow as tf"
   ]
  },
  {
   "cell_type": "code",
   "execution_count": 279,
   "metadata": {},
   "outputs": [],
   "source": [
    "basic_model = Sequential()\n"
   ]
  },
  {
   "cell_type": "code",
   "execution_count": 280,
   "metadata": {},
   "outputs": [],
   "source": [
    "# Adding layers to the model\n",
    "# First layers: 16 neurons/perceptrons that takes the input and uses 'sigmoid' activation function.\n",
    "basic_model.add(Dense(units = 16 , activation = 'sigmoid', input_shape = (2,))) \n",
    "# Second layer: 1 neuron/perceptron that takes the input from the 1st layers and gives output as 0 or 1.Activation used is 'Hard Sigmoid'\n",
    "basic_model.add(Dense(1, activation = 'hard_sigmoid'))\n"
   ]
  },
  {
   "cell_type": "code",
   "execution_count": 281,
   "metadata": {},
   "outputs": [
    {
     "name": "stderr",
     "output_type": "stream",
     "text": [
      "/Users/casbertrams/opt/anaconda3/lib/python3.8/site-packages/keras/optimizer_v2/gradient_descent.py:102: UserWarning: The `lr` argument is deprecated, use `learning_rate` instead.\n",
      "  super(SGD, self).__init__(name, **kwargs)\n"
     ]
    }
   ],
   "source": [
    "sgd = tf.keras.optimizers.SGD(lr=0.5, momentum=0.9, nesterov=True)\n",
    "basic_model.compile(loss = 'binary_crossentropy', optimizer = 'sgd', metrics = ['accuracy'])"
   ]
  },
  {
   "cell_type": "code",
   "execution_count": 282,
   "metadata": {},
   "outputs": [
    {
     "name": "stdout",
     "output_type": "stream",
     "text": [
      "Epoch 1/10\n"
     ]
    },
    {
     "ename": "ValueError",
     "evalue": "in user code:\n\n    File \"/Users/casbertrams/opt/anaconda3/lib/python3.8/site-packages/keras/engine/training.py\", line 878, in train_function  *\n        return step_function(self, iterator)\n    File \"/Users/casbertrams/opt/anaconda3/lib/python3.8/site-packages/keras/engine/training.py\", line 867, in step_function  **\n        outputs = model.distribute_strategy.run(run_step, args=(data,))\n    File \"/Users/casbertrams/opt/anaconda3/lib/python3.8/site-packages/keras/engine/training.py\", line 860, in run_step  **\n        outputs = model.train_step(data)\n    File \"/Users/casbertrams/opt/anaconda3/lib/python3.8/site-packages/keras/engine/training.py\", line 808, in train_step\n        y_pred = self(x, training=True)\n    File \"/Users/casbertrams/opt/anaconda3/lib/python3.8/site-packages/keras/utils/traceback_utils.py\", line 67, in error_handler\n        raise e.with_traceback(filtered_tb) from None\n    File \"/Users/casbertrams/opt/anaconda3/lib/python3.8/site-packages/keras/engine/input_spec.py\", line 263, in assert_input_compatibility\n        raise ValueError(f'Input {input_index} of layer \"{layer_name}\" is '\n\n    ValueError: Input 0 of layer \"sequential_12\" is incompatible with the layer: expected shape=(None, 2), found shape=(None, 4)\n",
     "output_type": "error",
     "traceback": [
      "\u001b[0;31m---------------------------------------------------------------------------\u001b[0m",
      "\u001b[0;31mValueError\u001b[0m                                Traceback (most recent call last)",
      "\u001b[0;32m<ipython-input-282-2d3ffac48f93>\u001b[0m in \u001b[0;36m<module>\u001b[0;34m\u001b[0m\n\u001b[1;32m      2\u001b[0m               \u001b[0mloss\u001b[0m\u001b[0;34m=\u001b[0m\u001b[0mtf\u001b[0m\u001b[0;34m.\u001b[0m\u001b[0mkeras\u001b[0m\u001b[0;34m.\u001b[0m\u001b[0mlosses\u001b[0m\u001b[0;34m.\u001b[0m\u001b[0mBinaryCrossentropy\u001b[0m\u001b[0;34m(\u001b[0m\u001b[0mfrom_logits\u001b[0m\u001b[0;34m=\u001b[0m\u001b[0;32mTrue\u001b[0m\u001b[0;34m)\u001b[0m\u001b[0;34m,\u001b[0m\u001b[0;34m\u001b[0m\u001b[0;34m\u001b[0m\u001b[0m\n\u001b[1;32m      3\u001b[0m               metrics=['accuracy'])\n\u001b[0;32m----> 4\u001b[0;31m \u001b[0mbasic_model\u001b[0m\u001b[0;34m.\u001b[0m\u001b[0mfit\u001b[0m\u001b[0;34m(\u001b[0m\u001b[0mX_train\u001b[0m\u001b[0;34m,\u001b[0m \u001b[0my_train\u001b[0m\u001b[0;34m,\u001b[0m \u001b[0mepochs\u001b[0m\u001b[0;34m=\u001b[0m\u001b[0;36m10\u001b[0m\u001b[0;34m)\u001b[0m\u001b[0;34m\u001b[0m\u001b[0;34m\u001b[0m\u001b[0m\n\u001b[0m",
      "\u001b[0;32m~/opt/anaconda3/lib/python3.8/site-packages/keras/utils/traceback_utils.py\u001b[0m in \u001b[0;36merror_handler\u001b[0;34m(*args, **kwargs)\u001b[0m\n\u001b[1;32m     65\u001b[0m     \u001b[0;32mexcept\u001b[0m \u001b[0mException\u001b[0m \u001b[0;32mas\u001b[0m \u001b[0me\u001b[0m\u001b[0;34m:\u001b[0m  \u001b[0;31m# pylint: disable=broad-except\u001b[0m\u001b[0;34m\u001b[0m\u001b[0;34m\u001b[0m\u001b[0m\n\u001b[1;32m     66\u001b[0m       \u001b[0mfiltered_tb\u001b[0m \u001b[0;34m=\u001b[0m \u001b[0m_process_traceback_frames\u001b[0m\u001b[0;34m(\u001b[0m\u001b[0me\u001b[0m\u001b[0;34m.\u001b[0m\u001b[0m__traceback__\u001b[0m\u001b[0;34m)\u001b[0m\u001b[0;34m\u001b[0m\u001b[0;34m\u001b[0m\u001b[0m\n\u001b[0;32m---> 67\u001b[0;31m       \u001b[0;32mraise\u001b[0m \u001b[0me\u001b[0m\u001b[0;34m.\u001b[0m\u001b[0mwith_traceback\u001b[0m\u001b[0;34m(\u001b[0m\u001b[0mfiltered_tb\u001b[0m\u001b[0;34m)\u001b[0m \u001b[0;32mfrom\u001b[0m \u001b[0;32mNone\u001b[0m\u001b[0;34m\u001b[0m\u001b[0;34m\u001b[0m\u001b[0m\n\u001b[0m\u001b[1;32m     68\u001b[0m     \u001b[0;32mfinally\u001b[0m\u001b[0;34m:\u001b[0m\u001b[0;34m\u001b[0m\u001b[0;34m\u001b[0m\u001b[0m\n\u001b[1;32m     69\u001b[0m       \u001b[0;32mdel\u001b[0m \u001b[0mfiltered_tb\u001b[0m\u001b[0;34m\u001b[0m\u001b[0;34m\u001b[0m\u001b[0m\n",
      "\u001b[0;32m~/opt/anaconda3/lib/python3.8/site-packages/tensorflow/python/framework/func_graph.py\u001b[0m in \u001b[0;36mautograph_handler\u001b[0;34m(*args, **kwargs)\u001b[0m\n\u001b[1;32m   1127\u001b[0m           \u001b[0;32mexcept\u001b[0m \u001b[0mException\u001b[0m \u001b[0;32mas\u001b[0m \u001b[0me\u001b[0m\u001b[0;34m:\u001b[0m  \u001b[0;31m# pylint:disable=broad-except\u001b[0m\u001b[0;34m\u001b[0m\u001b[0;34m\u001b[0m\u001b[0m\n\u001b[1;32m   1128\u001b[0m             \u001b[0;32mif\u001b[0m \u001b[0mhasattr\u001b[0m\u001b[0;34m(\u001b[0m\u001b[0me\u001b[0m\u001b[0;34m,\u001b[0m \u001b[0;34m\"ag_error_metadata\"\u001b[0m\u001b[0;34m)\u001b[0m\u001b[0;34m:\u001b[0m\u001b[0;34m\u001b[0m\u001b[0;34m\u001b[0m\u001b[0m\n\u001b[0;32m-> 1129\u001b[0;31m               \u001b[0;32mraise\u001b[0m \u001b[0me\u001b[0m\u001b[0;34m.\u001b[0m\u001b[0mag_error_metadata\u001b[0m\u001b[0;34m.\u001b[0m\u001b[0mto_exception\u001b[0m\u001b[0;34m(\u001b[0m\u001b[0me\u001b[0m\u001b[0;34m)\u001b[0m\u001b[0;34m\u001b[0m\u001b[0;34m\u001b[0m\u001b[0m\n\u001b[0m\u001b[1;32m   1130\u001b[0m             \u001b[0;32melse\u001b[0m\u001b[0;34m:\u001b[0m\u001b[0;34m\u001b[0m\u001b[0;34m\u001b[0m\u001b[0m\n\u001b[1;32m   1131\u001b[0m               \u001b[0;32mraise\u001b[0m\u001b[0;34m\u001b[0m\u001b[0;34m\u001b[0m\u001b[0m\n",
      "\u001b[0;31mValueError\u001b[0m: in user code:\n\n    File \"/Users/casbertrams/opt/anaconda3/lib/python3.8/site-packages/keras/engine/training.py\", line 878, in train_function  *\n        return step_function(self, iterator)\n    File \"/Users/casbertrams/opt/anaconda3/lib/python3.8/site-packages/keras/engine/training.py\", line 867, in step_function  **\n        outputs = model.distribute_strategy.run(run_step, args=(data,))\n    File \"/Users/casbertrams/opt/anaconda3/lib/python3.8/site-packages/keras/engine/training.py\", line 860, in run_step  **\n        outputs = model.train_step(data)\n    File \"/Users/casbertrams/opt/anaconda3/lib/python3.8/site-packages/keras/engine/training.py\", line 808, in train_step\n        y_pred = self(x, training=True)\n    File \"/Users/casbertrams/opt/anaconda3/lib/python3.8/site-packages/keras/utils/traceback_utils.py\", line 67, in error_handler\n        raise e.with_traceback(filtered_tb) from None\n    File \"/Users/casbertrams/opt/anaconda3/lib/python3.8/site-packages/keras/engine/input_spec.py\", line 263, in assert_input_compatibility\n        raise ValueError(f'Input {input_index} of layer \"{layer_name}\" is '\n\n    ValueError: Input 0 of layer \"sequential_12\" is incompatible with the layer: expected shape=(None, 2), found shape=(None, 4)\n"
     ]
    }
   ],
   "source": [
    "basic_model.compile(optimizer='adam',\n",
    "              loss=tf.keras.losses.BinaryCrossentropy(from_logits=True),\n",
    "              metrics=['accuracy'])\n",
    "basic_model.fit(X_train, y_train, epochs=10)\n"
   ]
  },
  {
   "cell_type": "code",
   "execution_count": 242,
   "metadata": {},
   "outputs": [
    {
     "name": "stdout",
     "output_type": "stream",
     "text": [
      "50/50 [==============================] - 0s 945us/step - loss: nan - accuracy: 0.5421\n",
      "Loss =  nan\n",
      "Accuracy =  0.5420854091644287\n"
     ]
    }
   ],
   "source": [
    "# Test, Loss and accuracy\n",
    "loss_and_metrics = basic_model.evaluate(X_test, y_test)\n",
    "print('Loss = ',loss_and_metrics[0])\n",
    "print('Accuracy = ',loss_and_metrics[1])\n"
   ]
  },
  {
   "cell_type": "code",
   "execution_count": null,
   "metadata": {},
   "outputs": [],
   "source": []
  },
  {
   "cell_type": "code",
   "execution_count": null,
   "metadata": {},
   "outputs": [],
   "source": []
  },
  {
   "cell_type": "code",
   "execution_count": null,
   "metadata": {},
   "outputs": [],
   "source": []
  },
  {
   "cell_type": "code",
   "execution_count": null,
   "metadata": {},
   "outputs": [],
   "source": []
  },
  {
   "cell_type": "code",
   "execution_count": null,
   "metadata": {},
   "outputs": [],
   "source": []
  },
  {
   "cell_type": "code",
   "execution_count": null,
   "metadata": {},
   "outputs": [],
   "source": []
  },
  {
   "cell_type": "code",
   "execution_count": null,
   "metadata": {},
   "outputs": [],
   "source": []
  },
  {
   "cell_type": "code",
   "execution_count": 283,
   "metadata": {},
   "outputs": [],
   "source": [
    "model = keras.Sequential([\n",
    "    keras.layers.Flatten(input_shape=(4,)),\n",
    "    keras.layers.Dense(16, activation=tf.nn.relu),\n",
    "    keras.layers.Dense(16, activation=tf.nn.relu),\n",
    "    keras.layers.Dense(1, activation=tf.nn.sigmoid),\n",
    "])"
   ]
  },
  {
   "cell_type": "code",
   "execution_count": null,
   "metadata": {},
   "outputs": [
    {
     "name": "stdout",
     "output_type": "stream",
     "text": [
      "Epoch 1/50\n",
      "6367/6367 [==============================] - 4s 573us/step - loss: nan - accuracy: 0.4878\n",
      "Epoch 2/50\n",
      "1906/6367 [=======>......................] - ETA: 2s - loss: nan - accuracy: 0.4990"
     ]
    }
   ],
   "source": [
    "model.compile(optimizer='adam',\n",
    "              loss='binary_crossentropy',\n",
    "              metrics=['accuracy'])\n",
    "\n",
    "model.fit(X_train, y_train, epochs=50, batch_size=1)\n",
    "test_loss, test_acc = model.evaluate(X_test, y_test)"
   ]
  },
  {
   "cell_type": "code",
   "execution_count": null,
   "metadata": {},
   "outputs": [],
   "source": []
  },
  {
   "cell_type": "code",
   "execution_count": null,
   "metadata": {},
   "outputs": [],
   "source": []
  },
  {
   "cell_type": "code",
   "execution_count": null,
   "metadata": {},
   "outputs": [],
   "source": []
  },
  {
   "cell_type": "code",
   "execution_count": null,
   "metadata": {},
   "outputs": [],
   "source": []
  },
  {
   "cell_type": "code",
   "execution_count": null,
   "metadata": {},
   "outputs": [],
   "source": []
  },
  {
   "cell_type": "code",
   "execution_count": null,
   "metadata": {},
   "outputs": [],
   "source": []
  },
  {
   "cell_type": "code",
   "execution_count": null,
   "metadata": {},
   "outputs": [],
   "source": []
  },
  {
   "cell_type": "code",
   "execution_count": null,
   "metadata": {},
   "outputs": [],
   "source": []
  },
  {
   "cell_type": "code",
   "execution_count": null,
   "metadata": {},
   "outputs": [],
   "source": []
  }
 ],
 "metadata": {
  "kernelspec": {
   "display_name": "Python 3",
   "language": "python",
   "name": "python3"
  },
  "language_info": {
   "codemirror_mode": {
    "name": "ipython",
    "version": 3
   },
   "file_extension": ".py",
   "mimetype": "text/x-python",
   "name": "python",
   "nbconvert_exporter": "python",
   "pygments_lexer": "ipython3",
   "version": "3.8.5"
  }
 },
 "nbformat": 4,
 "nbformat_minor": 4
}
